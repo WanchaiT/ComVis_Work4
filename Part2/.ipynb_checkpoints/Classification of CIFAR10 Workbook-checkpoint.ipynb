{
 "cells": [
  {
   "cell_type": "markdown",
   "metadata": {},
   "source": [
    "**รายชื่อสมาชิกในกลุ่ม** (ดับเบิลคลิกหรือดับเบิลแท็บเซลล์นี้เพื่อกรอกข้อมูล)\n",
    "1. นายพินิจนันท์ สมบัติพูนผล 07590527\n",
    "2. นายวันชัย เทียนธนะวัฒน์ 07590542\n",
    "3. ???"
   ]
  },
  {
   "cell_type": "markdown",
   "metadata": {},
   "source": [
    "## จุดประสงค์การเรียนรู้\n",
    "ในแบบฝึกหัดนี้ เราจะทดลองใช้ตัวแบบการเรียนรู้เพื่อรู้จำภาพในฐานข้อมูล CIFAR10 และรู้จักกับการรายงานผลการรันออกมาในรูปของกราฟด้วย matplotlib และ plotly ซึ่งจุดเน้นในแบบฝึกหัดนี้จะไม่ใช่การให้ได้มาซึ่งตัวแบบที่ทรงพลัง แต่เป็นการเข้าใจกระบวนการฝึกและทดสอบสมรรถนะขั้นพื้นฐาน\n",
    "\n",
    "สิ่งที่เราสนใจจะทำให้ได้ในแบบฝึกหัดนี้คือ\n",
    "1. สร้างและฝึกตัวแบบการเรียนรู้\n",
    "  * การกำหนดโครงสร้างตัวแบบเชิงลำดับ (sequential) ที่ไม่มีชั้นซ่อนตัว\n",
    "  * การคอมไพล์ตัวแบบพร้อมระบุวิธีการฝึกผ่าน Optimizer\n",
    "  * การทำข้อมูลให้เป็นมาตรฐาน (normalization)\n",
    "  * ตัวแบบที่มีชั้นซ่อนตัวชนิด dense หนึ่งชั้น\n",
    "  * หัดใช้ non-linearlity unit คือ ReLU \n",
    "2. การบันทึกและเรียกใช้ตัวแบบที่ฝึกแล้ว\n",
    "  * การบันทึตัวแบบที่ฝึกแล้ว\n",
    "  * การโหลดตัวแบบที่ฝึกมาแล้ว\n",
    "  * การฝึกตัวแบบหลังจากที่โหลดขึ้นมาใหม่\n",
    "3. การทดสอบสมรรถนะของตัวแบบ\n",
    "  * การใช้ test set เมื่อเรียกฟังก์ชัน fit สำหรับฝึกตัวแบบ\n",
    "  * การพล็อตกราฟผลลัพธ์ด้วย matplotlib\n",
    "  * การนำไปใช้กับตัวอย่างและการนำค่าผลลัพธ์การทาย (prediction) มาใช้"
   ]
  },
  {
   "cell_type": "markdown",
   "metadata": {},
   "source": [
    "## งานที่ 0: งานเดิม ๆ ที่แสนสบาย\n",
    "เราจะเริ่มจากการอิมพอร์ตโมดูลเดิมเข้ามาพร้อมกับโหลดฐานข้อมูล CIFAR10"
   ]
  },
  {
   "cell_type": "code",
   "execution_count": 7,
   "metadata": {},
   "outputs": [
    {
     "name": "stdout",
     "output_type": "stream",
     "text": [
      "1.14.0\n"
     ]
    }
   ],
   "source": [
    "# [Your Work] Import modules here\n",
    "import tensorflow as tf\n",
    "from tensorflow import keras\n",
    "import matplotlib.pyplot as plt\n",
    "print(tf.__version__)\n",
    "\n",
    "# [Your Work] Load CIFAR10 data into tuples\n",
    "cifar10 = keras.datasets.cifar10\n",
    "(train_images, train_labels), (test_images, test_labels) = \\\n",
    "cifar10.load_data()"
   ]
  },
  {
   "cell_type": "markdown",
   "metadata": {},
   "source": [
    "## งานที่ 1: สร้างและฝึกตัวแบบ\n",
    "ในงานนี้ เราจะสร้างและฝึกตัวแบบเชิงลำดับ (Sequential) คือข้อมูลจะเดินหน้ากันอย่างเดียว ไม่มีย้อนกลับวนไปมา นอกจากนี้ตัวแบบจะส่งข้อมูลเดินหน้าไปชั้นที่ติดกันเท่านั้นด้วย แน่นอนว่า เราจะเริ่มจากตัวแบบที่มีชั้นซ่อนตัวเพียงหนึ่งชั้นเพื่อทำความคุ้นเคยกับเฟรมเวิร์คการเรียนรู้เชิงลึก TensorFlow และ Keras\n",
    "\n",
    "### งานที่ 1.1: การกำหนดโครงสร้างตัวแบบเชิงลำดับ (sequential) ที่ไม่มีชั้นซ่อนตัว\n",
    "ในตัวแบบโครงข่ายประสาทเทียม สิ่งที่เราต้องมีแน่ ๆ คือชั้นข้อมูลเข้า (input layer) และชั้นผลลัพธ์ (output layer) ส่วนชั้นซ่อนตัว (hidden layer) นั้นจะมีหรือไม่มีก็ได้ ถ้ามีจะมีกี่ชั้นก็ได้และจำนวนโหนดในชั้นซ่อนตัวเราจะกำหนดให้มีปริมาณเท่าใดก็ได้เช่นกัน (ตราบเท่าที่เครื่องของเรารับไหว)\n",
    "\n",
    "ซึ่งตัวอินพุตเลเยอร์นั้นจะต้องมีขนาดและรูปร่างสอดคล้องกับภาพทุกประการ ซึ่งรวมถึงจำนวนช่องสัญญาณสีด้วย (ในที่นี้คือ CIFAR10 มี 3 สี) ส่วนตัวของเอาต์พุตเลเยอร์นั้นจะมีจำนวนตามประเภท (class) ของสิ่งที่เราต้องการให้เครื่องทาย ซึ่งในที่นี้มีทั้งหมด 10 ประเภท ดังนั้นเอาต์พุตเลเยอร์ของเราจะมี 10 โหนดและโดยปรกติ 10 โหนดนี้จะแทนความน่าจะเป็นเชิงสัมพัทธ์ว่าภาพที่รับเข้ามามีความน่าจะเป็นที่จะอยู่ในแต่ละประเภทเท่าใด\n",
    "\n",
    "### เรื่องสำคัญ 1.1.a: Flatten สำหรับแปลงข้อมูลสองมิติให้เป็นเวคเตอร์ยาว ๆ\n",
    "ในตอนนี้เราต้องการเวคเตอร์คุณลักษณะ (feature vector) ที่เก็บค่าพิกเซลสีไว้ ในขณะที่รูปที่รับเข้ามาเป็นภาพสองมิติ ดังนั้นเราอาจจะต้องปรับขนาดมันให้เป็นเวคเตอร์ด้วย Flatten \n",
    "\n",
    "**หมายเหตุ** ตัว input_shape ของเราที่จริงเป็นสามมิติ เพราะมีเรื่่องของช่องสัญญาณสีมาเกี่ยวข้องด้วย ถ้าเราอยากรู้ว่าตัว input_shape ของเราควรมีค่าเป็นเท่าใด ให้สังเกตจาก train_images.shape ที่เราทำในการบ้านที่แล้ว (อย่าลืมตัดเลข 50,000 ที่แทนจำนวนภาพออกด้วยนะ เพราะโครงข่ายของเราจัดการภาพทีละภาพ ไม่ใช่ทีละ 50,000 ภาพ)\n",
    "\n",
    "### เรื่องสำคัญ 1.1.b: Dense เป็นเลเยอร์แบบพื้นฐาน ซึ่งนิยมใช้ในชั้นข้อมูลเข้า\n",
    "นอกจากนี้ชั้นซ่อนตัวจะเป็น Dense ก็ได้ด้วย แต่ก็ขึ้นอยู่กับวิธีการที่เราสนใจจะใช้ ในสาขาด้านการประมวลผลภาพ เรามักจะพบชั้นซ่อนตัวชนิดอื่นบ่อยกว่าชั้น Dense อย่างไรก็ตามในการบ้านนี้ เราจะใช้ Dense ทั้งในชั้นซ่อนตัวและชั้นผลลัพธ์ ทั้งนี้งานที่ 1.1 ยังไม่มีชั้นซ่อนตัว เราจะเชื่อมชั้นข้อมูลเข้ากับชั้นผลลัพธ์โดยตรง (คือเป็นชั้นสองชั้นที่ติดกัน)\n",
    "\n",
    "### เรื่องสำคัญ 1.1.c: อย่าลืมกำหนด activation function ของชั้นผลลัพธ์ให้เป็นแบบ tf.nn.softmax\n",
    "เนื่องจากงานนี้เป็นการแยกประเภทวัตถุ (classification) การเลือกใช้ activation function เป็นแบบ softmax นับเป็นทางเลือกที่เราควรพิจารณาเป็นทางแรก"
   ]
  },
  {
   "cell_type": "code",
   "execution_count": 8,
   "metadata": {},
   "outputs": [
    {
     "name": "stderr",
     "output_type": "stream",
     "text": [
      "WARNING: Logging before flag parsing goes to stderr.\n",
      "W0729 09:32:19.318462 140599722669888 deprecation.py:506] From /home/wanchai/.local/lib/python3.6/site-packages/tensorflow/python/ops/init_ops.py:1251: calling VarianceScaling.__init__ (from tensorflow.python.ops.init_ops) with dtype is deprecated and will be removed in a future version.\n",
      "Instructions for updating:\n",
      "Call initializer instance with the dtype argument instead of passing it to the constructor\n"
     ]
    }
   ],
   "source": [
    "# [Your Work] Create a model here\n",
    "model = keras.Sequential([\n",
    "    keras.layers.Flatten(input_shape=(32, 32, 3)),\n",
    "    keras.layers.Dense(10, activation=tf.nn.softmax)\n",
    "])"
   ]
  },
  {
   "cell_type": "markdown",
   "metadata": {},
   "source": [
    "### งานที่ 1.2: คอมไพล์โมเดลพร้อมกำหนด Optimizer\n",
    "ในการทำให้โมเดลอยู่ในสภาพร้อมใช้งาน เราจะต้องคอมไพล์มันก่อน ซึ่งในขั้นตอนนี้เราจะต้องกำหนด Optmizer และเป้าหมายในการวัดสมรรถนะ (loss และ metrics) ในที่นี้เราจะใช้ตัวออปทิไมเซอร์แบบ Adam, ค่า loss แบบ sparse categorial crossentropy (อย่าลืมคำว่า sparse) และ metrics ที่เราจะให้เครื่องรายงานมาคือ accuracy\n",
    "\n",
    "นอกจากนี้เพื่อให้แน่ใจว่าโครงสร้างของโครงข่ายที่ได้มาสอดคล้องกับความต้องการของเรา เราจะใช้คำสั่ง summary() ตรวจดูโครงสร้างที่ได้มาด้วย (ถ้าโมเดลเราถูกต้อง จำนวนพารามิเตอร์ทั้งหมด (Total params) ควรจะเป็น 30,730 ตัว)"
   ]
  },
  {
   "cell_type": "code",
   "execution_count": 9,
   "metadata": {},
   "outputs": [
    {
     "name": "stdout",
     "output_type": "stream",
     "text": [
      "Model: \"sequential\"\n",
      "_________________________________________________________________\n",
      "Layer (type)                 Output Shape              Param #   \n",
      "=================================================================\n",
      "flatten (Flatten)            (None, 3072)              0         \n",
      "_________________________________________________________________\n",
      "dense (Dense)                (None, 10)                30730     \n",
      "=================================================================\n",
      "Total params: 30,730\n",
      "Trainable params: 30,730\n",
      "Non-trainable params: 0\n",
      "_________________________________________________________________\n"
     ]
    }
   ],
   "source": [
    "# [Your Work] Compile and config optimizer here\n",
    "model.compile(optimizer=tf.train.AdamOptimizer(), \n",
    "              loss='sparse_categorical_crossentropy',\n",
    "              metrics=['accuracy'])\n",
    "\n",
    "# [Your Work] Do not forget to check your model via summary()\n",
    "model.summary()"
   ]
  },
  {
   "cell_type": "markdown",
   "metadata": {},
   "source": [
    "เอาล่ะ มาลองฝึกโมเดลด้วยคำสั่ง fit กัน โดยให้ส่งเฉพาะ train_images และ train_labels ไปฝึก (ไม่ต้องใช้ validation data) ส่วนจำนวน epochs จัดไปที่ 5 รอบก็พอ"
   ]
  },
  {
   "cell_type": "code",
   "execution_count": 10,
   "metadata": {},
   "outputs": [
    {
     "name": "stdout",
     "output_type": "stream",
     "text": [
      "Epoch 1/5\n",
      "50000/50000 [==============================] - 2s 50us/sample - loss: 96.0087 - acc: 0.2348\n",
      "Epoch 2/5\n",
      "50000/50000 [==============================] - 2s 44us/sample - loss: 84.5337 - acc: 0.2607\n",
      "Epoch 3/5\n",
      "50000/50000 [==============================] - 2s 49us/sample - loss: 87.1720 - acc: 0.2664\n",
      "Epoch 4/5\n",
      "50000/50000 [==============================] - 2s 46us/sample - loss: 88.1673 - acc: 0.2701\n",
      "Epoch 5/5\n",
      "50000/50000 [==============================] - 2s 45us/sample - loss: 82.8665 - acc: 0.2758\n"
     ]
    },
    {
     "data": {
      "text/plain": [
       "<tensorflow.python.keras.callbacks.History at 0x7fdfe0418208>"
      ]
     },
     "execution_count": 10,
     "metadata": {},
     "output_type": "execute_result"
    }
   ],
   "source": [
    "# [Your Work] fit a model with train images and labels for 5 epochs\n",
    "# No need to use test data here. We just need to \n",
    "model.fit(train_images, train_labels, epochs=5)"
   ]
  },
  {
   "cell_type": "markdown",
   "metadata": {},
   "source": [
    "### งานที่ 1.3: ไขปริศนา ทำไมค่า accuracy มันถึงได้แย่นัก? \n",
    "นี่ขนาดเป็นผลลัพธ์จากฅข้อมูลฝึก ไม่ใช่ข้อมูลทดสอบ ความแม่นยำยังได้แค่ประมาณ 10% (ค่า acc) ซึ่งเท่ากับการเดาสุ่มมั่ว แบบนี้ต้องมีอะไรผิดพลาดแน่นอน หรือว่าเป็นเพราะตัวแบบเราง่ายเกินไป? ไม่หรอก ต่อให้ตัวแบบง่ายยังไง มันก็น่าจะได้ผลลัพธ์ที่ดีกว่าเดาสุ่ม เพราะเอาเข้าจริง ๆ จำนวนพารามิเตอร์ที่มีอยู่ในตัวแบบก็ใช่ว่าจะน้อยจนหาประโยชน์อะไรไม่ได้\n",
    "\n",
    "วกกลับไปเนื้อหาที่เราเรียนมาก่อนหน้า จำได้ไหมว่าค่าฟีทเจอร์ต่าง ๆ ควรจะเป็นเลขทิศนิยมอยู่ในช่วง 0 ถึง 1 (หรือ -1 ถึง 1) ซึ่งขั้นตอนนี้เราเรียกว่า feature normalization ยิ่งไปกว่านั้นแท้จริง feature normalization มีหลายชนิดและสามารถทำได้หลายแบบ ไม่เฉพาะการจำกัดค่าในช่วง 0 ถึง 1 แบบนี้เท่านั้น (แต่วิธีนี้ถือว่าง่ายที่สุด)\n",
    "\n",
    "จงทำการ normalize ค่าข้อมูลในชุดฝึกและทดสอบผ่านการหารด้วยเลข 255.0"
   ]
  },
  {
   "cell_type": "code",
   "execution_count": 11,
   "metadata": {},
   "outputs": [],
   "source": [
    "#[Your Work] Divde train and test sets with 255.0\n",
    "train_images = train_images / 255.0\n",
    "test_images = test_images / 255.0"
   ]
  },
  {
   "cell_type": "markdown",
   "metadata": {},
   "source": [
    "### Quick Quiz: ทำไมต้องหารด้วย 255 จงอธิบายเหตุผล\n",
    "ทำไมเราเลือกหารด้วย 255"
   ]
  },
  {
   "cell_type": "markdown",
   "metadata": {},
   "source": [
    "เพื่อให้ pixel อยู่ในช่วง 0-1\n"
   ]
  },
  {
   "cell_type": "markdown",
   "metadata": {},
   "source": [
    "### งานที่ 1.3.2: ลอง fit ตัวแบบกันอีกรอบ\n",
    "ให้นำโค้ดที่เราใช้ตอน fit ตัวแบบมาใส่ไว้ตรงนี้ พร้อมกับลองรันดูอีกรอบ สังเกตด้วยว่าการ normalize data ส่งผลต่อความแม่นยำที่ได้จริง ดังนั้นถ้าความแม่นยำที่ได้ของเรามันดูแปลก ๆ อย่าลืมตรวจด้วยว่าเรา normalize data อย่างถูกต้องแล้วหรือยัง เช่นเดิม ทำเพียง 5 epochs ก็เพียงพอแล้ว"
   ]
  },
  {
   "cell_type": "code",
   "execution_count": 12,
   "metadata": {},
   "outputs": [
    {
     "name": "stdout",
     "output_type": "stream",
     "text": [
      "Epoch 1/5\n",
      "50000/50000 [==============================] - 3s 60us/sample - loss: 2.1421 - acc: 0.3252\n",
      "Epoch 2/5\n",
      "50000/50000 [==============================] - 3s 54us/sample - loss: 1.9952 - acc: 0.3891\n",
      "Epoch 3/5\n",
      "50000/50000 [==============================] - 3s 52us/sample - loss: 1.9187 - acc: 0.3896\n",
      "Epoch 4/5\n",
      "50000/50000 [==============================] - 3s 53us/sample - loss: 1.8550 - acc: 0.3884\n",
      "Epoch 5/5\n",
      "50000/50000 [==============================] - 3s 55us/sample - loss: 1.8071 - acc: 0.3915\n"
     ]
    },
    {
     "data": {
      "text/plain": [
       "<tensorflow.python.keras.callbacks.History at 0x7fdf6016c940>"
      ]
     },
     "execution_count": 12,
     "metadata": {},
     "output_type": "execute_result"
    }
   ],
   "source": [
    "# [Your Work] fit a model with train images and labels for 5 epochs\n",
    "# No need to use test data here. We use only train_images and train_labels.\n",
    "model.fit(train_images, train_labels, epochs=5)"
   ]
  },
  {
   "cell_type": "markdown",
   "metadata": {},
   "source": [
    "## งานที่ 1.4: สร้างชั้นซ่อนตัวแบบ Dense\n",
    "ในตัวแบบที่ผ่านมา เราไม่ได้สร้างชั้นซ่อนตัวขึ้นมาเลย ซึ่งโดยปรกติตัวแบบเชิงลึกจะมีชั้นซ่อนตัวอย่างน้อยสองชั้น แต่ในที่นี้เราต้องการสร้างเพียงชั้นเดียวเพื่อศึกษาประโยชน์ของมันก่อน\n",
    "\n",
    "จงสร้างชั้นซ่อนตัวที่มีโหนดจำนวน 200 โหนด และไม่มีการใช้ activation function ในชั้นซ่อนตัว (ใช้ softmax กับชั้นผลลัพธ์เช่นเดิม)"
   ]
  },
  {
   "cell_type": "code",
   "execution_count": 13,
   "metadata": {},
   "outputs": [],
   "source": [
    "# [Your Work] Add a hidden layer with 200 nodes, 'no activation function.'\n",
    "model = keras.Sequential([\n",
    "    keras.layers.Flatten(input_shape=(32, 32, 3)),\n",
    "    keras.layers.Dense(200, activation=tf.nn.softmax),\n",
    "    keras.layers.Dense(10, activation=tf.nn.softmax)\n",
    "])"
   ]
  },
  {
   "cell_type": "code",
   "execution_count": 14,
   "metadata": {},
   "outputs": [
    {
     "name": "stdout",
     "output_type": "stream",
     "text": [
      "Model: \"sequential_1\"\n",
      "_________________________________________________________________\n",
      "Layer (type)                 Output Shape              Param #   \n",
      "=================================================================\n",
      "flatten_1 (Flatten)          (None, 3072)              0         \n",
      "_________________________________________________________________\n",
      "dense_1 (Dense)              (None, 200)               614600    \n",
      "_________________________________________________________________\n",
      "dense_2 (Dense)              (None, 10)                2010      \n",
      "=================================================================\n",
      "Total params: 616,610\n",
      "Trainable params: 616,610\n",
      "Non-trainable params: 0\n",
      "_________________________________________________________________\n"
     ]
    }
   ],
   "source": [
    "# [Your Work] พื้นที่สำหรับคอมไพล์และสรุปตัวแบบ (ให้ใช้โค้ดเดิมที่อยู่ข้างบนมาแปะใส่ได้เลย)\n",
    "# (ถ้าโมเดลเราถูกต้อง จำนวนพารามิเตอร์ทั้งหมด (Total params) ควรจะเป็น 616,610 ตัว)\n",
    "model.compile(optimizer=tf.train.AdamOptimizer(), \n",
    "              loss='sparse_categorical_crossentropy',\n",
    "              metrics=['accuracy'])\n",
    "\n",
    "# [Your Work] Do not forget to check your model via summary()\n",
    "model.summary()\n",
    "\n",
    "\n"
   ]
  },
  {
   "cell_type": "code",
   "execution_count": 15,
   "metadata": {},
   "outputs": [
    {
     "name": "stdout",
     "output_type": "stream",
     "text": [
      "Epoch 1/5\n",
      "50000/50000 [==============================] - 7s 142us/sample - loss: 2.1626 - acc: 0.1708\n",
      "Epoch 2/5\n",
      "50000/50000 [==============================] - 7s 142us/sample - loss: 2.0957 - acc: 0.1801\n",
      "Epoch 3/5\n",
      "50000/50000 [==============================] - 7s 140us/sample - loss: 2.0862 - acc: 0.1804\n",
      "Epoch 4/5\n",
      "50000/50000 [==============================] - 7s 139us/sample - loss: 2.0666 - acc: 0.1921\n",
      "Epoch 5/5\n",
      "50000/50000 [==============================] - 7s 143us/sample - loss: 2.0388 - acc: 0.2061\n"
     ]
    },
    {
     "data": {
      "text/plain": [
       "<tensorflow.python.keras.callbacks.History at 0x7fdf585700f0>"
      ]
     },
     "execution_count": 15,
     "metadata": {},
     "output_type": "execute_result"
    }
   ],
   "source": [
    "# [Your Work] fit a model with train images and labels for 5 epochs\n",
    "# Like before, no need to use test data here.\n",
    "model.fit(train_images, train_labels, epochs=5)"
   ]
  },
  {
   "cell_type": "markdown",
   "metadata": {},
   "source": [
    "### Quick Quiz1.4 : ความแม่นยำที่ได้จากโมเดลที่มีชั้นซ่อนตัวเพิ่มขึ้นหรือเปลี่ยนแปลงจากเดิมอย่างไร \n",
    "เปลี่ยนแปลงจากเดิมอย่างไร ทำไมจึงเป็นเช่นนั้น จงอภิปรายเหตุผลสนับสนุนข้อสังเกตที่พบ (ซึ่งคุณอาจจะอภิปรายได้ดีหากทำแบบฝึกหัดข้อที่อยู่ถัดไป)"
   ]
  },
  {
   "cell_type": "markdown",
   "metadata": {},
   "source": [
    "ค่า acc น้อยลง เพราะชั้นซ่อนตัวใช้ activation เป็น softmax ซึ่ง softmax เหมาะกับการนำไปใช้ในการจัดประเภทของข้อมูลที่เข้ามา ก็คือชั้น output \n",
    "https://missinglink.ai/guides/neural-network-concepts/7-types-neural-network-activation-functions-right/\n",
    "\n"
   ]
  },
  {
   "cell_type": "markdown",
   "metadata": {},
   "source": [
    "### งานที่ 1.5: ใช้ activation function กับชั้นซ่อนตัว\n",
    "ในแบบเรียนที่ผ่านมา เรามีการใช้ activation function บ่อย ๆ โดยเฉพาะฟังก์ชัน relu ดังนั้นเราจะเปลี่ยนตัวแบบนี้เพียงอย่างเดียวคือใส่ฟังก์ชัน relu ลงไปในชั้นซ่อนตัวด้วย (จากนั้นก็จะคอมไพล์และสรุปตัวแบบเช่นเดิมและฝึกโมเดลอีกครั้ง)"
   ]
  },
  {
   "cell_type": "code",
   "execution_count": 16,
   "metadata": {},
   "outputs": [],
   "source": [
    "# [Your Work] From the previous hidden layer with 200 nodes, \n",
    "#   now add tf.nn.relu as an activation function.\n",
    "model = keras.Sequential([\n",
    "    keras.layers.Flatten(input_shape=(32, 32, 3)),\n",
    "    keras.layers.Dense(200, activation=tf.nn.relu),\n",
    "    keras.layers.Dense(10, activation=tf.nn.softmax)\n",
    "])"
   ]
  },
  {
   "cell_type": "code",
   "execution_count": 17,
   "metadata": {},
   "outputs": [
    {
     "name": "stdout",
     "output_type": "stream",
     "text": [
      "Model: \"sequential_2\"\n",
      "_________________________________________________________________\n",
      "Layer (type)                 Output Shape              Param #   \n",
      "=================================================================\n",
      "flatten_2 (Flatten)          (None, 3072)              0         \n",
      "_________________________________________________________________\n",
      "dense_3 (Dense)              (None, 200)               614600    \n",
      "_________________________________________________________________\n",
      "dense_4 (Dense)              (None, 10)                2010      \n",
      "=================================================================\n",
      "Total params: 616,610\n",
      "Trainable params: 616,610\n",
      "Non-trainable params: 0\n",
      "_________________________________________________________________\n"
     ]
    }
   ],
   "source": [
    "# [Your Work] พื้นที่สำหรับคอมไพล์และสรุปตัวแบบ (ให้ใช้โค้ดเดิมที่อยู่ข้างบนมาแปะใส่ได้เลย)\n",
    "model.compile(optimizer=tf.train.AdamOptimizer(), \n",
    "              loss='sparse_categorical_crossentropy',\n",
    "              metrics=['accuracy'])\n",
    "model.summary()"
   ]
  },
  {
   "cell_type": "markdown",
   "metadata": {},
   "source": [
    "### Quick Quiz 1.5a: เมื่อใช้ relu แล้วจำนวนพารามิเตอร์ในตัวแบบต่างไปจากเดิมหรือไม่\n",
    "จำนวนพารามิเตอร์ของตัวแบบเปลี่ยนไปจากเดิมหรือไม่ ทำไมจึงเป็นเช่นนั้น จงอภิปรายเหตุผลสนับสนุนข้อสังเกตที่พบ"
   ]
  },
  {
   "cell_type": "markdown",
   "metadata": {},
   "source": [
    "ไม่เปลี่ยน เพราะ รูปที่รับเข้ามาหนึ่งรูป มี shape = 32x32x3 = 3072 คือจำนวนโหนด เมื่อนำเข้าชั้นซ่อนตัว param ในชั้นในจะเท่ากับ (3072x200)+200 = 614600\n",
    "และ parem ในชั้น output จะเท่ากับ (200x10)+10 = 2010 เมื่อนำ parem สองชั้นนี้มาบวกกันจะได้ 616610 \n",
    "ที่ไม่เปลี่ยนเพราะว่าเราไม่ได้แก้ไขจำนวนโหนดในสองชั้นนั้น"
   ]
  },
  {
   "cell_type": "code",
   "execution_count": 18,
   "metadata": {},
   "outputs": [
    {
     "name": "stdout",
     "output_type": "stream",
     "text": [
      "Epoch 1/5\n",
      "50000/50000 [==============================] - 7s 140us/sample - loss: 1.8794 - acc: 0.3244\n",
      "Epoch 2/5\n",
      "50000/50000 [==============================] - 7s 138us/sample - loss: 1.7289 - acc: 0.3806\n",
      "Epoch 3/5\n",
      "50000/50000 [==============================] - 7s 137us/sample - loss: 1.6706 - acc: 0.4003\n",
      "Epoch 4/5\n",
      "50000/50000 [==============================] - 7s 140us/sample - loss: 1.6403 - acc: 0.4115\n",
      "Epoch 5/5\n",
      "50000/50000 [==============================] - 7s 137us/sample - loss: 1.6214 - acc: 0.4226\n"
     ]
    },
    {
     "data": {
      "text/plain": [
       "<tensorflow.python.keras.callbacks.History at 0x7fdfe04185f8>"
      ]
     },
     "execution_count": 18,
     "metadata": {},
     "output_type": "execute_result"
    }
   ],
   "source": [
    "# [Your Work] fit a model with train images and labels for 5 epochs\n",
    "# Like before, no need to use test data here.\n",
    "model.fit(train_images, train_labels, epochs=5)"
   ]
  },
  {
   "cell_type": "markdown",
   "metadata": {},
   "source": [
    "### Quick Quiz 1.5b: การใช้ relu ทำให้ความแม่นยำเปลี่ยนไปประมาณกี่เปอร์เซ็นต์"
   ]
  },
  {
   "cell_type": "markdown",
   "metadata": {},
   "source": [
    "50%"
   ]
  },
  {
   "cell_type": "markdown",
   "metadata": {},
   "source": [
    "## งานที่ 2: บันทึกและเรียกใช้ตัวแบบที่ผ่านการฝึกมาแล้ว\n",
    "ในงานที่ 1 เราฝึกโมเดลไปเพียง 5 รอบ และแต่ละรอบมีแนวโน้มว่าจะใช้เวลาไม่มากเพราะปริมาณข้อมูลไม่มากและตัวแบบเราไม่ซับซ้อน แต่ในการประยุกต์ใช้ในระยะหลังทั้งปริมาณข้อมูลและความซับซ้อนของตัวแบบนั้นถือว่าสูงมาก เช่น ImageNet มีภาพกว่า 14 ล้านภาพ และตัวแบบอย่าง ResNet มีชั้นซ่อนตัวหลายสิบหรือเกิน 100 ชั้น ทำให้การฝึกกินระยะเวลานานมาก ในบางงานวิจัยมีรายงานว่าฝึกตัวแบบกับชุดข้อมูล ImageNet กว่า 3 สัปดาห์\n",
    "\n",
    "เมื่อเป็นเช่นนี้ เราจึงจำเป็นที่จะต้องบันทึกตัวแบบไว้เป็นระยะในระหว่างการฝึก เพื่อให้สามารถนำตัวแบบไปฝึกต่อหรือนำตัวแบบไปให้ผู้ใช้โดยไม่ต้องฝึกซ้ำ ซึ่ง Keras สามารถบันทึกตัวแบบที่ฝึกแล้วได้โดยสะดวก โดยจะบันทึกในรูปแบบ HDF5"
   ]
  },
  {
   "cell_type": "markdown",
   "metadata": {},
   "source": [
    "### งานที่ 2.1: การบันทึตัวแบบที่ฝึกแล้ว\n",
    "ตัวแบบทุกตัวของ Keras เป็นวัตถุที่มีฟังก์ชัน save ติดตัว เราสามารถระบุพาธและชื่อไฟล์ที่ต้องการเซฟได้เลย \n",
    "จงเรียกใช้ฟังก์ชัน save ของตัวแบบลงในไฟล์ที่ชื่อว่า trained_model.hdf5 ถ้าคุณสงสัยว่าจะเขียนโปรแกรมอย่างไรให้อ่านข้อมูลเพิ่มเติมได้ที่[ลิงค์นี้](https://keras.io/getting-started/faq/#how-can-i-save-a-keras-model)"
   ]
  },
  {
   "cell_type": "code",
   "execution_count": 19,
   "metadata": {},
   "outputs": [
    {
     "name": "stderr",
     "output_type": "stream",
     "text": [
      "W0729 09:35:07.031454 140599722669888 hdf5_format.py:110] TensorFlow optimizers do not make it possible to access optimizer attributes or optimizer state after instantiation. As a result, we cannot save the optimizer as part of the model save file. You will have to compile your model again after loading it. Prefer using a Keras optimizer instead (see keras.io/optimizers).\n"
     ]
    }
   ],
   "source": [
    "# [Your Work] Save a trained model to file trained_model.hdf5\n",
    "model.save('trained_model.hdf5')"
   ]
  },
  {
   "cell_type": "markdown",
   "metadata": {},
   "source": [
    "#### ข้อความเตือนที่เกิดขึ้น\n",
    "ถ้าหากเราใช้ Optimizer จาก tf.train.AdamOptimizer() แทนที่จะเป็น keras.optimizers.Adam เราจะเจอข้อความเตือนแบบยาวเหยียด ดังนั้นถ้าเป็นไปได้ ให้ใช้ Optimizer ของตัว Keras เองจะดีที่สุด เพราะมันจะมีข้อมูลการฝึกบางอย่างที่หายไปและเราต้องเสียเวลาคอมไพล์ตัวแบบใหม่ อย่างไรก็ตามในกรณีตัวแบบที่แสนเรียบง่ายนี้ เราจะยังไม่ได้รับผลกระทบใด ๆ และเรายังไม่ต้องกังวลกับประเด็นนี้"
   ]
  },
  {
   "cell_type": "markdown",
   "metadata": {},
   "source": [
    "### งานที่ 2.2: การโหลดตัวแบบที่บันทึกไว้ก่อนหน้า\n",
    "เราสามารถโหลดตัวแบบที่บันทึกไว้ได้โดยฟังก์ชัน load_model ซึ่งอยู่ใน keras.models (พูดง่าย ๆ ก็คือ เราจะเขียนโค้ดว่า keras.models.load_model หรืออะไรทำนองนี้) ให้ศึกษาข้อมูลจากลิงค์ที่ให้มาก่อนหน้าและโหลดตัวแบบที่บันทึกไว้ ซึ่งการโหลดนี้ให้โหลดไว้ในตัวแปรที่ชื่อ model2 (อย่าบันทึกทับตัวเดิม)"
   ]
  },
  {
   "cell_type": "code",
   "execution_count": 20,
   "metadata": {},
   "outputs": [
    {
     "name": "stderr",
     "output_type": "stream",
     "text": [
      "W0729 09:35:14.602248 140599722669888 deprecation.py:506] From /home/wanchai/.local/lib/python3.6/site-packages/tensorflow/python/ops/init_ops.py:97: calling GlorotUniform.__init__ (from tensorflow.python.ops.init_ops) with dtype is deprecated and will be removed in a future version.\n",
      "Instructions for updating:\n",
      "Call initializer instance with the dtype argument instead of passing it to the constructor\n",
      "W0729 09:35:14.604219 140599722669888 deprecation.py:506] From /home/wanchai/.local/lib/python3.6/site-packages/tensorflow/python/ops/init_ops.py:97: calling Zeros.__init__ (from tensorflow.python.ops.init_ops) with dtype is deprecated and will be removed in a future version.\n",
      "Instructions for updating:\n",
      "Call initializer instance with the dtype argument instead of passing it to the constructor\n",
      "W0729 09:35:14.756682 140599722669888 hdf5_format.py:221] No training configuration found in save file: the model was *not* compiled. Compile it manually.\n"
     ]
    }
   ],
   "source": [
    "# [Your Work] load a saved model to variable model2\n",
    "load_models = keras.models.load_model('trained_model.hdf5')"
   ]
  },
  {
   "cell_type": "markdown",
   "metadata": {},
   "source": [
    "#### ถ้าพบ WARNING ตอนโหลด\n",
    "หากพบคำเตือนว่า 'WARNING:tensorflow:No training configuration found in save file: the model was *not* compiled. Compile it manually.' แสดงว่าตัวแบบเราใช้ Optimizer จาก tensorflow ไม่ได้มาจาก Keras ในกรณีเช่นนั้เราต้องสั่งคอมไพล์ตัวแบบใหม่อีกรอบ"
   ]
  },
  {
   "cell_type": "markdown",
   "metadata": {},
   "source": [
    "### งานที่ 2.2.extra: คอมไพล์ model2 ซ้ำ (ถ้าจำเป็น)\n",
    "ในกรณีที่คุณได้รับ WARNING ในตอนบันทึกและโหลดตัวแบบ ขอให้ทำการคอมไพล์ตัวแบบด้วยวิธีการเดิมที่ทำมาก่อนหน้าอีกครั้ง และอย่าลืมว่า **เราต้องคอมไพล์ model2 ไม่ใช่ model อันแรก**"
   ]
  },
  {
   "cell_type": "code",
   "execution_count": 21,
   "metadata": {},
   "outputs": [
    {
     "name": "stdout",
     "output_type": "stream",
     "text": [
      "Model: \"sequential_2\"\n",
      "_________________________________________________________________\n",
      "Layer (type)                 Output Shape              Param #   \n",
      "=================================================================\n",
      "flatten_2 (Flatten)          (None, 3072)              0         \n",
      "_________________________________________________________________\n",
      "dense_3 (Dense)              (None, 200)               614600    \n",
      "_________________________________________________________________\n",
      "dense_4 (Dense)              (None, 10)                2010      \n",
      "=================================================================\n",
      "Total params: 616,610\n",
      "Trainable params: 616,610\n",
      "Non-trainable params: 0\n",
      "_________________________________________________________________\n"
     ]
    }
   ],
   "source": [
    "# [ํYour Extra Work] Re-compile model2 with the same settings with the prior model.\n",
    "model2 = model\n",
    "model2.compile(optimizer=tf.train.AdamOptimizer(), \n",
    "              loss='sparse_categorical_crossentropy',\n",
    "              metrics=['accuracy'])\n",
    "\n",
    "# [Your Work] Do not forget to check your model via summary()\n",
    "model2.summary()\n",
    "\n"
   ]
  },
  {
   "cell_type": "markdown",
   "metadata": {},
   "source": [
    "### งานที่ 2.3: การฝึกตัวแบบหลังจากที่โหลดขึ้นมาใหม่\n",
    "ตัวแบบที่เราโหลดขึ้นมาแล้วสามารถนำมาฝึกต่อได้ ซึ่งในที่นี้เราจะรันฟังก์ชัน fit กับ model2 อีก 5 รอบและสังเกตค่าความแม่นยำที่ได้"
   ]
  },
  {
   "cell_type": "code",
   "execution_count": 22,
   "metadata": {},
   "outputs": [
    {
     "name": "stdout",
     "output_type": "stream",
     "text": [
      "Epoch 1/5\n",
      "50000/50000 [==============================] - 7s 140us/sample - loss: 1.6071 - acc: 0.4262\n",
      "Epoch 2/5\n",
      "50000/50000 [==============================] - 7s 140us/sample - loss: 1.5856 - acc: 0.4347\n",
      "Epoch 3/5\n",
      "50000/50000 [==============================] - 7s 141us/sample - loss: 1.5763 - acc: 0.4382\n",
      "Epoch 4/5\n",
      "50000/50000 [==============================] - 7s 143us/sample - loss: 1.5642 - acc: 0.4409\n",
      "Epoch 5/5\n",
      "50000/50000 [==============================] - 7s 139us/sample - loss: 1.5488 - acc: 0.4476\n"
     ]
    },
    {
     "data": {
      "text/plain": [
       "<tensorflow.python.keras.callbacks.History at 0x7fdf69906c18>"
      ]
     },
     "execution_count": 22,
     "metadata": {},
     "output_type": "execute_result"
    }
   ],
   "source": [
    "# [Your Work] ฝึกตัวแบบ model2 อีกห้ารอบ\n",
    "model2.fit(train_images, train_labels, epochs=5)"
   ]
  },
  {
   "cell_type": "markdown",
   "metadata": {},
   "source": [
    "### Quick Quiz: ความแม่นยำของตัวแบบที่นำมาฝึกต่อแตกต่างจากก่อนหน้าหรือไม่\n",
    "ขอให้สังเกตค่าความแม่นยำที่เกิดขึ้นในรอบการฝึกทั้งห้าหลังนำมาฝึกต่อ คุณสังเกตเห็นว่าค่า loss และ accuracy ของการฝึกห้ารอบใน model2 กับการฝึกห้ารอบใน model แรกมีความแตกต่างกันอย่างไร"
   ]
  },
  {
   "cell_type": "markdown",
   "metadata": {},
   "source": [
    "loss น้อยลง \n",
    "acc มากขึ้น"
   ]
  },
  {
   "cell_type": "markdown",
   "metadata": {},
   "source": [
    "## งานที่ 3: การทดสอบสมรรถนะของตัวแบบ\n",
    "เนื่องจากการที่เครื่องเห็นข้อมูลฝึกบ่อย ๆ อาจจะทำให้เกิดเหตุการณ์โอเวอร์ฟิตติ้ง (Overfitting) ซึ่งเปรียบเหมือนกับนักเรียนที่ท่องจำคำตอบของข้อสอบเก่าได้โดยไม่เข้าใจ ดังนั้นการทดสอบที่ดีจะต้องทำด้วยข้อมูลที่เครื่องไม่เคยเห็นมาก่อน ซึ่งในที่นี้ก็คือ test images/labels ที่มีอยู่ในฐานข้อมูล CIFAR10 นี่เอง\n",
    "\n",
    "### งานที่ 3.1: การใช้ test set เมื่อเรียกฟังก์ชัน fit สำหรับฝึกตัวแบบ\n",
    "มีความแตกต่างจากการฝึกแบบที่ทำในข้อก่อนหน้าเพียงอย่างเดียวคือ เราเพียงเพิ่มพารามิเตอร์เข้าไป โดยการส่งชุดข้อมูลทดสอบเข้าไปด้วยตอนฝึกเท่านั้น อย่างไรก็ตามเพื่อให้เก็บผลการฝึกไว้อ้างอิงต่อไปในอนาคตได้ เราจะทำการเก็บผลการฝึกไว้ในตัวแปรชื่อ h ด้วย (พูดง่าย ๆ ก็คือให้เขียนว่า h = model.fit(....) อะไรทำนองนี้)\n",
    "\n",
    "จงทำการฝึกตัวแบบต่อจาก model2 ที่ฝึกไว้ก่อนหน้า โดยฝึกอีก 10 รอบ และมีการใช้ข้อมูลชุดทดสอบเพื่อประเมินผลการฝึกและเก็บประวัติการฝึกไว้ในตัวแปร h ซึ่งโดยปรกติเราส่งไปภายใต้ชื่อพารามิเตอร์ validation_data <br/>\n",
    "**หมายเหตุ** ถ้าเราทำการทดลองไปแล้วจะรันอีก ผลการฝึกมันจะดูเหมือนต่อเนื่องไปเรื่อย ๆ ถ้าอยากกลับมาเริ่มที่จุดเดิม เราสั่งโหลดตัวฝึกขึ้นมาอีกรอบได้ (ในกรณีตัวอย่างนี้ เราบันทึกตัวฝึกไว้หลังจบ 5 รอบ เราก็จะวกกลับไปหลังที่ตัวฝึกถูกฝึกผ่านไปแล้ว 5 รอบ นั่นเอง)"
   ]
  },
  {
   "cell_type": "code",
   "execution_count": 23,
   "metadata": {},
   "outputs": [
    {
     "name": "stdout",
     "output_type": "stream",
     "text": [
      "Train on 50000 samples, validate on 10000 samples\n",
      "Epoch 1/10\n",
      "50000/50000 [==============================] - 8s 152us/sample - loss: 1.5411 - acc: 0.4483 - val_loss: 1.6146 - val_acc: 0.4180\n",
      "Epoch 2/10\n",
      "50000/50000 [==============================] - 9s 185us/sample - loss: 1.5351 - acc: 0.4504 - val_loss: 1.5882 - val_acc: 0.4346\n",
      "Epoch 3/10\n",
      "50000/50000 [==============================] - 8s 151us/sample - loss: 1.5287 - acc: 0.4512 - val_loss: 1.5961 - val_acc: 0.4307\n",
      "Epoch 4/10\n",
      "50000/50000 [==============================] - 8s 157us/sample - loss: 1.5199 - acc: 0.4546 - val_loss: 1.5800 - val_acc: 0.4359\n",
      "Epoch 5/10\n",
      "50000/50000 [==============================] - 8s 151us/sample - loss: 1.5180 - acc: 0.4577 - val_loss: 1.5583 - val_acc: 0.4445\n",
      "Epoch 6/10\n",
      "50000/50000 [==============================] - 8s 151us/sample - loss: 1.5100 - acc: 0.4599 - val_loss: 1.5420 - val_acc: 0.4492\n",
      "Epoch 7/10\n",
      "50000/50000 [==============================] - 8s 151us/sample - loss: 1.5032 - acc: 0.4598 - val_loss: 1.5563 - val_acc: 0.4456\n",
      "Epoch 8/10\n",
      "50000/50000 [==============================] - 8s 154us/sample - loss: 1.4950 - acc: 0.4648 - val_loss: 1.5772 - val_acc: 0.4432\n",
      "Epoch 9/10\n",
      "50000/50000 [==============================] - 8s 151us/sample - loss: 1.4912 - acc: 0.4680 - val_loss: 1.5747 - val_acc: 0.4367\n",
      "Epoch 10/10\n",
      "50000/50000 [==============================] - 8s 156us/sample - loss: 1.4869 - acc: 0.4679 - val_loss: 1.5511 - val_acc: 0.4466\n"
     ]
    }
   ],
   "source": [
    "# [Your Work] ฝึกตัวแบบ model2 อีก '10 รอบ' พร้อมส่งข้อมูลฝึกและบันทึกฝลการฝึกไว้ด้วย\n",
    "h = model2.fit(train_images, train_labels, epochs=10 , validation_data=(test_images,test_labels))"
   ]
  },
  {
   "cell_type": "markdown",
   "metadata": {},
   "source": [
    "### งานที่ 3.2: การพล็อตกราฟผลลัพธ์ด้วย matplotlib\n",
    "ณ เวลานี้ ค่าตัวเลขที่เราต้องคอยสังเกตมีมากขึ้น เชน ค่า loss ของการฝึกและการทดสอบ รวมถึงค่าความแม่นยำของการฝึกและการทดสอบ มองผิวเผินเหมือนกับมีเพียง 4 ค่า แต่ที่จริงมันมีจำนวนที่เพิ่มขึ้นตามรอบการฝึกด้วย อย่างข้างบนนี้เราฝึก 10 รอบ ก็จะมีตัวเลขที่เราต้องคอยติดตามสังเกตการเปลี่ยนแปลงรวมแล้ว 40 ค่า\n",
    "\n",
    "อย่างไรก็ตาม สิ่งที่เราสนใจมากที่สุดก็คือแนวโน้มของการเปลี่ยนแปลงเมื่อฝึกไปแต่ละรอบ และความแตกต่างระหว่างการฝึกกับการทดสอบ เราอาจจะลดความลำบากของการจดจำตัวเลขได้ด้วยการวาดกราฟค่าผลลัพธ์ในแต่ละรอบออกมา โดยวาดทั้งที่เป็นตัวเลขจากการฝึกและการทดสอบคู่กันไป เป็นต้นว่า (1) เราจะวาดเส้นค่า loss ของการฝึกคู่กับค่า loss ของการทดสอบ หรือ (2) เราจะวาดเส้นค่าความแม่นยำของการฝึกคู่กับค่าความแม่นยำของการทดสอบ"
   ]
  },
  {
   "cell_type": "code",
   "execution_count": 24,
   "metadata": {},
   "outputs": [
    {
     "data": {
      "image/png": "[encoded data removed]",
      "text/plain": [
       "<Figure size 432x288 with 1 Axes>"
      ]
     },
     "metadata": {
      "needs_background": "light"
     },
     "output_type": "display_data"
    },
    {
     "data": {
      "image/png": "[encoded data removed]",
      "text/plain": [
       "<Figure size 432x288 with 1 Axes>"
      ]
     },
     "metadata": {
      "needs_background": "light"
     },
     "output_type": "display_data"
    }
   ],
   "source": [
    "# [Your Work] plot accuracy history of both training and test sets.\n",
    "plt.plot(h.history['acc'])\n",
    "plt.plot(h.history['val_acc'])\n",
    "plt.title('model accuracy')\n",
    "plt.ylabel('accuracy')\n",
    "plt.xlabel('epoch')\n",
    "plt.legend(['train', 'test'], loc='upper left')\n",
    "plt.show()\n",
    "# # [Your Work] plot loss history of both training and test sets.\n",
    "plt.plot(h.history['loss'])\n",
    "plt.plot(h.history['val_loss'])\n",
    "plt.title('model loss')\n",
    "plt.ylabel('loss')\n",
    "plt.xlabel('epoch')\n",
    "plt.legend(['train', 'test'], loc='upper left')\n",
    "plt.show()"
   ]
  },
  {
   "cell_type": "markdown",
   "metadata": {},
   "source": [
    "### Quick Quiz 3.2a: จะดีกว่าไหมถ้าเราวาดกราฟทั้ง 4 เส้นลงไปด้วยกันหมด\n",
    "ที่จริงก็เป็นไปได้ที่จะทำอย่างนั้น แต่มันจะมีปัญหาอะไรบางอย่างตามมา ขอให้ผู้เรียนลองทดลองในเซลล์ด้านล่างแล้วอภิปรายว่าปัญหาจากการวาดเส้นทั้ง 4 ลงไปด้วยกันในกราฟเดียวคืออะไร"
   ]
  },
  {
   "cell_type": "code",
   "execution_count": 25,
   "metadata": {},
   "outputs": [
    {
     "data": {
      "image/png": "[encoded data removed]",
      "text/plain": [
       "<Figure size 432x288 with 1 Axes>"
      ]
     },
     "metadata": {
      "needs_background": "light"
     },
     "output_type": "display_data"
    }
   ],
   "source": [
    "# [Your Work] วาดกราฟทั้ง 4 เส้นลงไปด้วยกันเป็นภาพเดียว (สั่ง plot สี่ครั้งต่อการ show ครั้งเดียว)\n",
    "# อย่าลืมเปลี่ยน legend ที่เคยมีแต่ train, test ให้เป็นชื่อ 4 อย่างที่เหมาะสมด้วยนะ พยายามหน่อย\n",
    "\n",
    "\n",
    "plt.plot(h.history['acc'])\n",
    "plt.plot(h.history['val_acc'])\n",
    "plt.plot(h.history['loss'])\n",
    "plt.plot(h.history['val_loss'])\n",
    "\n",
    "\n",
    "plt.xlabel('epoch')\n",
    "plt.legend(['train','test', 'loss','val_loss' ], loc='upper left')\n",
    "plt.show()\n",
    "\n",
    "\n",
    "\n",
    "\n"
   ]
  },
  {
   "cell_type": "markdown",
   "metadata": {},
   "source": [
    "(พื้นที่สำหรับเติมคำอภิปรายปัญหา ขอให้ตอบสิ่งที่เห็นว่าเป็นประเด็นปัญหาที่สำคัญหรือเรารู้สึกไม่พอใจเมื่อเทียบกับแบบแยกออกมาสองชุด)\n",
    "val_loss กับ loss มีค่าสูงกว่า acc และ val_acc ทำให้กราฟมองไม่รู้เรื่อง\n"
   ]
  },
  {
   "cell_type": "markdown",
   "metadata": {},
   "source": [
    "### Tip of Python Life: บรรเทาปัญหา\n",
    "การพล็อตกราฟสองชุดในภาพเดียวกัน มีปัญหาตามที่สังเกตเห็นได้จากข้างบน หากเราจำเป็นต้องวาดทั้ง 4 กราฟด้วยกันจริง เราสามารถบรรเทาอาการด้วยโค้ดข้างล่างนี้\n",
    "[ลิงค์ของโค้ดต้นฉบับที่ผมไปดัดแปลงมา](https://matplotlib.org/gallery/api/two_scales.html)"
   ]
  },
  {
   "cell_type": "code",
   "execution_count": 27,
   "metadata": {},
   "outputs": [
    {
     "data": {
      "image/png": "[encoded data removed]",
      "text/plain": [
       "<Figure size 432x288 with 2 Axes>"
      ]
     },
     "metadata": {
      "needs_background": "light"
     },
     "output_type": "display_data"
    }
   ],
   "source": [
    "fig, ax1 = plt.subplots()\n",
    "\n",
    "color = 'tab:red'\n",
    "ax1.set_xlabel('epoch')\n",
    "ax1.set_ylabel('accuracy', color=color)\n",
    "ax1.plot(h.history['acc'], color='blue')\n",
    "ax1.plot(h.history['val_acc'], color='orange')\n",
    "ax1.tick_params(axis='y', labelcolor=color)\n",
    "plt.legend(['train_acc', 'test_acc'], loc='upper right')\n",
    "\n",
    "ax2 = ax1.twinx()  # instantiate a second axes that shares the same x-axis\n",
    "\n",
    "color = 'tab:blue'\n",
    "ax2.set_ylabel('loss', color=color)  # we already handled the x-label with ax1\n",
    "ax2.plot(h.history['loss'], color='red')\n",
    "ax2.plot(h.history['val_loss'], color='green')\n",
    "ax2.tick_params(axis='y', labelcolor=color)\n",
    "\n",
    "fig.tight_layout()  # otherwise the right y-label is slightly clipped\n",
    "plt.legend(['train_loss', 'test_loss'], loc='upper left')\n",
    "plt.show()"
   ]
  },
  {
   "cell_type": "markdown",
   "metadata": {},
   "source": [
    "### Quick Quiz 3.2b: ภาพรวมของการแก้ปัญหาในการวาดเส้นกราฟ\n",
    "ขอให้ลองสังเกตว่าทำไมกราฟถึงดูดีขึ้น และเราจะอ่านค่ากราฟต่าง ๆ ได้อย่างไร จากนั้นลองสรุปออกมาเป็นคำพูดที่เข้าใจได้ง่ายว่าแนวคิดที่ใช้ในการแก้ปัญหาในการวาดกราฟคืออะไร"
   ]
  },
  {
   "cell_type": "markdown",
   "metadata": {},
   "source": [
    "(พื้นที่สำหรับอธิบายแนวคิดของการแก้ปัญหาการวาดกราฟ)\n",
    "ทำ subplot โดยสร้ากราฟมาสองตัว ตัวที่เป็นกราฟ acc และ กราฟ loss เมื่อทำกราฟเสร็จเอากราฟทั้งสองมามัดรวมกันแล้วแสดงใน fig"
   ]
  },
  {
   "cell_type": "markdown",
   "metadata": {},
   "source": [
    "### งานที่ 3.3: การนำไปใช้กับตัวอย่างและการนำค่าผลลัพธ์การทาย (prediction) มาใช้\n",
    "แม้ว่าเราจะฝึกตัวแบบมาอย่างดี แต่ตัวแบบที่เราฝึกเสร็จแล้วจะทำประโยชน์ให้เราได้หากเราไม่รู้ว่ามันทายผลอะไรมาให้เรา ในงานนี้เราจะต้องผสมสิ่งที่เราเรียนรู้มาจากการบ้านที่แล้วกับสิ่งที่เรียนมาจากโค้ดในชั้นเรียนสัปดาห์ที่สอง (Keras Easy Model) เพื่อแปลงผลการทายจากเครื่องออกมาให้เป็นข้อความที่เข้าใจตามได้ง่าย เช่น frog, cat, dog ไม่ใช่ตัวเลข และจะต้องรู้ให้ได้ว่า เครื่องทายถูกหรือผิด\n",
    "\n",
    "เพื่อที่จะทำให้ผู้เรียนเข้าใจตามได้ง่าย เราจะแบ่งแยกงานออกเป็นส่วนเล็ก ๆ \n",
    "\n",
    "### งานที่ 3.3.1: ใช้ฟังก์ชัน predict กับภาพทั้งชุด\n",
    "จงเรียกใช้ฟังก์ชัน predict จาก model2 เพื่อทายภาพในชุดทดสอบ (test_images) ทั้งหมดและเก็บผลการทำนายไว้ตัวแปรชื่อ p"
   ]
  },
  {
   "cell_type": "code",
   "execution_count": 28,
   "metadata": {},
   "outputs": [],
   "source": [
    "# [Your Work] use a model to predict the entire set of test images, keep results to p\n",
    "p = model2.predict(test_images)"
   ]
  },
  {
   "cell_type": "markdown",
   "metadata": {},
   "source": [
    "### งานที่ 3.3.2: ผลการทายของภาพแรก\n",
    "ผลการทายของภาพแรกแบบอ่านยาก สามารถดูได้จากค่าใน p[0] ลองรันโค้ดข้างล่างนี้เพื่อดูผลลัพธ์"
   ]
  },
  {
   "cell_type": "code",
   "execution_count": 29,
   "metadata": {},
   "outputs": [
    {
     "data": {
      "text/plain": [
       "array([0.02500263, 0.01020018, 0.06614316, 0.25434852, 0.06696153,\n",
       "       0.21397354, 0.08790074, 0.00298593, 0.27044272, 0.00204106],\n",
       "      dtype=float32)"
      ]
     },
     "execution_count": 29,
     "metadata": {},
     "output_type": "execute_result"
    }
   ],
   "source": [
    "p[0]"
   ]
  },
  {
   "cell_type": "markdown",
   "metadata": {},
   "source": [
    "### Quick Quiz 3.3a: จากผลลัพธ์ทางด้านบน เราสรุปได้ว่าเครื่องทายว่าเป็นคลาสไหน และเรารู้ได้อย่างไร\n",
    "จงตอบคำถามนี้ในเซลล์ทางด้านล่างอย่างละเอียด"
   ]
  },
  {
   "cell_type": "markdown",
   "metadata": {},
   "source": [
    "(พื้นที่สำหรับตอบคำถาม)\n",
    "class 6 เพราะมีค่าใน class นั้นมากที่สุด"
   ]
  },
  {
   "cell_type": "markdown",
   "metadata": {},
   "source": [
    "### งานที่ 3.3.3: ผลการทายของภาพแรกแบบใช้เครื่องสกัดออกมา\n",
    "เมื่อสักครู่ เราดูผลการทายจากการอ่านค่าออกมาด้วยตัวเรา แต่เราตัองทำให้เครื่องมันตอบออกมาให้ได้ว่าเป็นช่องอาเรย์หมายเลขเท่าใดที่เป็นคำตอบที่เครื่องทาย ซึ่งทำได้โดยใช้คำสั่ง np.argmax\n",
    "\n",
    "จง import โมดูล numpy เข้ามาในชื่อ np และใช้คำสั่ง argmax เพื่อดูว่าเครื่องทายตัวอย่างแรกว่าเป็นคลาสหมายเลขเท่าใด"
   ]
  },
  {
   "cell_type": "code",
   "execution_count": 30,
   "metadata": {},
   "outputs": [],
   "source": [
    "# [Your Work] import the numpy module\n",
    "import numpy as np"
   ]
  },
  {
   "cell_type": "code",
   "execution_count": 31,
   "metadata": {},
   "outputs": [
    {
     "data": {
      "text/plain": [
       "8"
      ]
     },
     "execution_count": 31,
     "metadata": {},
     "output_type": "execute_result"
    }
   ],
   "source": [
    "# [Your Work] use numpy to extract class prediction\n",
    "np.argmax(p[0])"
   ]
  },
  {
   "cell_type": "markdown",
   "metadata": {},
   "source": [
    "### งานที่ 3.3.4: แปลงผลการทายให้เป็นชื่อคลาสภาษาอังกฤษ\n",
    "ในการบ้านที่แล้ว เรามีการสร้างลิสต์ชื่อ names ที่เก็บชื่อคลาสแบบภาษาอังกฤษไว้ ซึ่งเราสามารถนำเลขคลาสไปใช้เป็นอินเด็กซ์เพื่อให้ได้ชื่อภาษาอังกฤษออกมา เราจะทำแบบเดียวกันนี้เพื่อให้รู้ว่าเครื่องทายภาพว่าเป็นอะไรแบบที่เข้าใจง่าย ๆ"
   ]
  },
  {
   "cell_type": "code",
   "execution_count": 32,
   "metadata": {},
   "outputs": [],
   "source": [
    "# [Your Work] จงสร้างลิสต์ names ที่บรรจุชื่อคลาสของวัตถุที่จะทายออกมา\n",
    "\n",
    "names = ['plane',\n",
    "        'auto',\n",
    "        'bird',\n",
    "        'cat',\n",
    "        'deer',\n",
    "        'dog',\n",
    "        'frog',\n",
    "        'horse',\n",
    "        'ship',\n",
    "        'truck']"
   ]
  },
  {
   "cell_type": "code",
   "execution_count": 33,
   "metadata": {},
   "outputs": [
    {
     "data": {
      "text/plain": [
       "'ship'"
      ]
     },
     "execution_count": 33,
     "metadata": {},
     "output_type": "execute_result"
    }
   ],
   "source": [
    "# [Your Work] use value from p[0] and np.argmax to get predicted class name.\n",
    "names[np.argmax(p[0])]"
   ]
  },
  {
   "cell_type": "markdown",
   "metadata": {},
   "source": [
    "### งานที่ 3.3.5: ผลการทาย 10 ภาพแรก\n",
    "ให้ใช้ลูปพิมพ์ผลการทาย 10 ภาพแรกออกมา"
   ]
  },
  {
   "cell_type": "code",
   "execution_count": 34,
   "metadata": {},
   "outputs": [
    {
     "name": "stdout",
     "output_type": "stream",
     "text": [
      "1 .  ship\n",
      "2 .  truck\n",
      "3 .  plane\n",
      "4 .  plane\n",
      "5 .  deer\n",
      "6 .  frog\n",
      "7 .  cat\n",
      "8 .  frog\n",
      "9 .  deer\n",
      "10 .  auto\n"
     ]
    }
   ],
   "source": [
    "# [Your Work] Use a loop to print out predicted class names of the first 10 images.\n",
    "\n",
    "for i in range(10):\n",
    "    print(i+1 , \". \" , names[np.argmax(p[i])])"
   ]
  },
  {
   "cell_type": "markdown",
   "metadata": {},
   "source": [
    "### งานที่ 3.3.6: คำตอบที่แท้จริงของ 10 ภาพแรก\n",
    "จากการบ้านที่แล้ว เรารู้ว่าคำตอบอยู่ใน labels ซึ่งในที่นี้คือ test_labels\n",
    "จงใช้ลูปเพื่อพิมพ์คำตอบที่แท้จริงของ 10 ภาพแรกออกมา"
   ]
  },
  {
   "cell_type": "code",
   "execution_count": 35,
   "metadata": {},
   "outputs": [
    {
     "name": "stdout",
     "output_type": "stream",
     "text": [
      "1 .  cat\n",
      "2 .  ship\n",
      "3 .  ship\n",
      "4 .  plane\n",
      "5 .  frog\n",
      "6 .  frog\n",
      "7 .  auto\n",
      "8 .  frog\n",
      "9 .  cat\n",
      "10 .  auto\n"
     ]
    }
   ],
   "source": [
    "# [Your Work] Use a loop to print out ground-truth class names of the first 10 images.\n",
    "\n",
    "for i in range(10):\n",
    "    print(i+1 , \". \" , names[test_labels[i][0]])"
   ]
  },
  {
   "cell_type": "markdown",
   "metadata": {},
   "source": [
    "### งานที่ 3.3.7: เขียนโปรแกรมสรุปให้หน่อยว่าเครื่องทายว่าเป็นอะไรและความจริงคืออะไร พร้อมทั้งสรุปด้วยว่าทายถูกกี่ครั้งจาก 10 ภาพแรกนี้\n",
    "ตามนั้น อยากให้เครื่องรายงานในรูปแบบทำนองนี้ <br/>\n",
    "image 1: predict = frog, truth = cat, WRONG <br/>\n",
    "image 2: predict = ship, trugth = ship, CORRECT <br/>\n",
    "... <br/>\n",
    "#correct answers = 4 <br/>\n",
    "\n",
    "**คำแนะนำ** ตอนจะตรวจว่าตอบถูกหรือผิดนั้น เราไม่ต้องเอาสตริงข้อความไปเทียบกันก็ได้ เทียบเฉพาะเลขที่ได้มาจาก argmax และ labels ก็พอ ถ้าจะเทียบสตริง ถึงผลลัพธ์จะไม่เพี้ยน แต่การคำนวณจะใช้เวลามากขึ้น ถ้าเลี่ยงได้ควรเลี่ยง"
   ]
  },
  {
   "cell_type": "code",
   "execution_count": 36,
   "metadata": {},
   "outputs": [
    {
     "name": "stdout",
     "output_type": "stream",
     "text": [
      "image 1 : predict = ship , truth =  cat , WRONG\n",
      "image 2 : predict = truck , truth =  ship , WRONG\n",
      "image 3 : predict = plane , truth =  ship , WRONG\n",
      "image 4 : predict = plane , truth =  plane , CORRECT\n",
      "image 5 : predict = deer , truth =  frog , WRONG\n",
      "image 6 : predict = frog , truth =  frog , CORRECT\n",
      "image 7 : predict = cat , truth =  auto , WRONG\n",
      "image 8 : predict = frog , truth =  frog , CORRECT\n",
      "image 9 : predict = deer , truth =  cat , WRONG\n",
      "image 10 : predict = auto , truth =  auto , CORRECT\n"
     ]
    }
   ],
   "source": [
    "# [Your Work] loop over predictions and labels to check answer\n",
    "\n",
    "for i in range(10):\n",
    "    label = names[test_labels[i][0]]\n",
    "    pred = names[np.argmax(p[i])]\n",
    "    if(label is not pred) :\n",
    "        print('image', i+1,': predict =', pred,', truth = ',label,', WRONG' )\n",
    "    else:\n",
    "        print('image', i+1,': predict =', pred,', truth = ',label,', CORRECT' )\n",
    "\n",
    "\n",
    "\n",
    "\n"
   ]
  },
  {
   "cell_type": "markdown",
   "metadata": {},
   "source": [
    "### งานที่ 3.3.8: แก้ลูปใหม่ ให้มันนับจำนวนคำตอบที่ถูกได้ด้วย\n",
    "อยากให้เครื่องรายงานในรูปแบบคล้ายเดิม แต่มีบรรทัดสรุปจำนวนคำตอบที่ถูกด้วย <br/>\n",
    "image 1: predict = frog, truth = cat, WRONG <br/>\n",
    "image 2: predict = ship, trugth = ship, CORRECT <br/>\n",
    "... <br/>\n",
    "#correct answers = 4 <br/>"
   ]
  },
  {
   "cell_type": "code",
   "execution_count": 37,
   "metadata": {},
   "outputs": [
    {
     "name": "stdout",
     "output_type": "stream",
     "text": [
      "image 1 : predict = ship , truth =  cat , WRONG\n",
      "image 2 : predict = truck , truth =  ship , WRONG\n",
      "image 3 : predict = plane , truth =  ship , WRONG\n",
      "image 4 : predict = plane , truth =  plane , CORRECT\n",
      "image 5 : predict = deer , truth =  frog , WRONG\n",
      "image 6 : predict = frog , truth =  frog , CORRECT\n",
      "image 7 : predict = cat , truth =  auto , WRONG\n",
      "image 8 : predict = frog , truth =  frog , CORRECT\n",
      "image 9 : predict = deer , truth =  cat , WRONG\n",
      "image 10 : predict = auto , truth =  auto , CORRECT\n",
      "#correct answers =  4\n"
     ]
    }
   ],
   "source": [
    "# [Your Work] add a counter for correct answers\n",
    "count_correct = 0\n",
    "\n",
    "for i in range(10):\n",
    "    label = names[test_labels[i][0]]\n",
    "    pred = names[np.argmax(p[i])]\n",
    "    if(label is not pred) :\n",
    "        print('image', i+1,': predict =', pred,', truth = ',label,', WRONG' )\n",
    "    else:\n",
    "        print('image', i+1,': predict =', pred,', truth = ',label,', CORRECT' )\n",
    "        count_correct += 1\n",
    "        \n",
    "print('#correct answers = ',count_correct)"
   ]
  },
  {
   "cell_type": "markdown",
   "metadata": {},
   "source": [
    "--เสร็จแล้ว เย้"
   ]
  }
 ],
 "metadata": {
  "kernelspec": {
   "display_name": "Python 3",
   "language": "python",
   "name": "python3"
  },
  "language_info": {
   "codemirror_mode": {
    "name": "ipython",
    "version": 3
   },
   "file_extension": ".py",
   "mimetype": "text/x-python",
   "name": "python",
   "nbconvert_exporter": "python",
   "pygments_lexer": "ipython3",
   "version": "3.6.8"
  }
 },
 "nbformat": 4,
 "nbformat_minor": 4
}
