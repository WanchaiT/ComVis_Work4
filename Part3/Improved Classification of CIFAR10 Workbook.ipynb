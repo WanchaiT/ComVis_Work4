{
 "cells": [
  {
   "cell_type": "markdown",
   "metadata": {},
   "source": [
    "**รายชื่อสมาชิกในกลุ่ม** (ดับเบิลคลิกหรือดับเบิลแท็บเซลล์นี้เพื่อกรอกข้อมูล)\n",
    "1. นายพินิจนันท์ สมบัติพูนผล 07590527\n",
    "2. นายวันชัย เทียนธนะวัฒน์ 07590542\n",
    "3. ???"
   ]
  },
  {
   "cell_type": "markdown",
   "metadata": {},
   "source": [
    "## จุดประสงค์การเรียนรู้\n",
    "ในแบบฝึกหัดนี้ เราจะต่อยอดจากงานที่เราทำในแบบฝึกหัดที่แล้วในสี่ประเด็นคือ (1) จะทดลองฝึกตัวแบบมากขึ้นให้ไปถึง 50 epochs (ตามมาตรฐานของงานยุคใหม่จะทำที่ประมาณ 200 epochs) แต่ด้วยข้อจำกัดของฮาร์ดแวร์ของนักศึกษาจำนวนมาก เราจะให้การฝึกสิ้นสุดที่ 50 epochs นั่นหมายความว่าความแม่นยำที่ได้จะยังไม่ถึงขีดจำกัดของตัวแบบที่เราใช้ แต่นั่นก็น่าจะเพียงพอที่จะทำให้เราเห็นศักยภาพของตัวแบบแต่ละชนิด นอกจากนี้ เราจะปรับวิธีการแสดงกราฟการฝึกตัวแบบ จากที่เคยใช้ matplotlib มาเป็น plotly เพื่อให้ตัวกราฟเป็นแบบอินเตอร์แอ็คทิฟและการอ่านค่าเพื่อเปรียบเทียบสมรรถนะเป็นไปโดยสะดวกมากขึ้น\n",
    "\n",
    "สำหรับประเด็น (2) เราจะเริ่มใช้โครงข่ายคอนโวลูชันสำหรับการรู้จำรูปภาพใน CIFAR10 ด้วย ส่วนประเด็น (3) เราจะลองหัดใช้ Optimizer แบบอื่น ๆ พร้อมกับทดลองปรับพารามิเตอร์การเรียนรู้ด้วย ซึ่งออปทิไมเซอร์ตัวใหม่ที่เราจะศึกษาในที่นี้คือ SGD ที่มีการใช้ Nesterov Momentum และ adaptive learning rate และประเด็นสุดท้าย (4) เราจะทดลองใช้ batch normalization และ dropout กับตัวแบบต่าง ๆ ที่เราเคยฝึกมาเพื่อปรับปรุงความแม่นยำให้ดีขึ้น\n",
    "\n",
    "ทั้งหมดนี้สามารถสรุปเป็นหัวข้อได้ตามประเด็นดังนี้\n",
    "1. [การสร้างและฝึกตัวแบบให้เพื่อเป็นตัวพื้นฐานสำหรับเปรียบเทียบสมรรถนะ (baseline model)](#p1)\n",
    "  1. [ฝึกตัวแบบพื้นฐานจากการบ้านที่แล้ว](#p1A)\n",
    "  2. [แสดงกราฟสมรรถนะด้วย plotly](#p1B)\n",
    "  3. [ปรับตัวแบบพื้นฐานให้มีจำนวนโหนดในชั้นซ่อนตัวมากขึ้น](#p1C)\n",
    "  4. [เปรียบเทียบสมรรถนะของตัวแบบเดิมและตัวแบบที่มีจำนวนโหนดมากขึ้น](#p1D)\n",
    "2. [การใช้โครงข่ายคอนโวลูชัน](#p2)\n",
    "  1. [การสร้างชั้นคอนโวลูชันแบบพื้นฐาน](#p2A)\n",
    "  2. [สร้างตัวแบบที่มีการย่อรูปและซ้อนชั้นคอนโวลูชัน](#p2B)\n",
    "  3. [จำนวนฟีทเจอร์แม็พและผลกระทบต่อความแม่นยำ](#p2C)\n",
    "  4. [จำนวนตัวอย่างในกลุ่มย่อย (minibatch) กับผลกระทบต่อความแม่นยำและระยะเวลาที่ใช้ในการฝึก](#p2D)\n",
    "3. [การปรับกลุ่มข้อมูลให้เป็นมาตรฐานเดียวกัน (Batch Normalization)](#p3)\n",
    "  1. [การสร้างชั้นปรับกลุ่มให้เป็นมาตรฐาน](#p3A)\n",
    "  2. [สำรวจและวิเคราะห์ผลกระทบจากการใช้ชั้นปรับกลุ่มให้เป็นมาตรฐาน](#p3B)\n",
    "4. [การสุ่มปิดโหนดข้อมูล (Dropout)](#p4)\n",
    "  1. [ทดลองใช้ Dropout กับตัวแบบ 9](#p4A)\n",
    "  2. [ใช้ Dropout ดึงศักยภาพของตัวแบบที่มีปัญหาโอเวอร์ฟิตติงรุนแรง](#p4B)\n",
    "  3. [วิเคราะห์ผลลัพธ์ที่ได้เพื่อศึกษาผลกระทบต่อการใช้ Dropout ในรูปแบบต่าง ๆ](#p4C)\n",
    "5. การปรับแต่ง Optimizer (หัวข้อขั้นสูง ที่จริงสำคัญมากกับการทำให้ตัวแบบมีความสามารถในการแข่งขัน ยังไม่บรรจุเข้าเป็นแบบฝึกหัดในปีการศึกษานี้ เดี๋ยวผู้เรียนจะอาเจียนออกมาเป็นโลหิต)\n",
    "  1. ออปทิไมเซอร์แบบ built-in ของ keras\n",
    "  2. พารามิเตอร์ของ Adam\n",
    "  3. อัตราการเรียนรู้ (learning rate), การลดอัตราการเรียนรู้ (decay) และอัตราการเรียนรู้แบบปรับตัวได้ (adaptive learning rate)\n",
    "  4. การใช้ SGD และ Nesterov Momentum"
   ]
  },
  {
   "cell_type": "markdown",
   "metadata": {},
   "source": [
    "## <a id='p0'/> งานที่ 0: งานเดิม ๆ ที่แสนสบาย\n",
    "เราจะเริ่มจากการอิมพอร์ตโมดูลเดิมเข้ามาพร้อมกับโหลดฐานข้อมูล CIFAR10 ซึ่งในรอบนี้ **ขอให้อิมพอร์ต numpy มาด้วย** และ **ให้ normalize ข้อมูลด้วยการหาร 255.0 ไปพร้อมกันเลย**"
   ]
  },
  {
   "cell_type": "code",
   "execution_count": 3,
   "metadata": {},
   "outputs": [
    {
     "name": "stdout",
     "output_type": "stream",
     "text": [
      "1.14.0\n"
     ]
    }
   ],
   "source": [
    "# [Your Work] Import modules here\n",
    "import tensorflow as tf\n",
    "from tensorflow import keras\n",
    "import matplotlib.pyplot as plt\n",
    "import numpy as np\n",
    "print(tf.__version__)\n",
    "# [Your Work] Load CIFAR10 data into tuples\n",
    "cifar10 = keras.datasets.cifar10\n",
    "(train_images, train_labels), (test_images, test_labels) = \\\n",
    "cifar10.load_data()\n",
    "\n",
    "train_images = train_images / 255.0\n",
    "test_images = test_images / 255.0"
   ]
  },
  {
   "cell_type": "markdown",
   "metadata": {},
   "source": [
    "## <a id='p1'/> งานที่ 1: การสร้างและฝึกตัวแบบให้เพื่อเป็นตัวพื้นฐานสำหรับเปรียบเทียบสมรรถนะ (baseline model)\n",
    "ในงานนี้ เราจะสร้างและฝึกตัวแบบเชิงลำดับ (Sequential) ที่ใช้เป็นฐานในการทดสอบศักยภาพของวิธีการต่าง ๆ  ขั้นตอนการสร้างและฝึกตัวแบบเช่นนี้จำเป็นในงานวิจัย เพราะเราจะต้องตอบคำถามให้ได้ว่าตัวแบบที่เราสนใจนั้นดีหรือแย่กว่าตัวแบบอื่น ๆ อย่างไร และมันจะทำให้เราประมาณความยากง่ายของปัญหาที่เราต้องการแก้ไขได้ด้วย เป็นต้นว่า ถ้าหากตัวแบบพื้นฐานมีสมรรถนะดีกว่าหรือใกล้เคียงกับตัวแบบที่เราสนใจ (ซึ่งมักจะซับซ้อนกว่าตัวแบบพื้นฐาน) และความแม่นยำที่ได้ยังไม่ดีนัก เราอาจจะประมาณได้ว่า ปัญหาที่เราจัดการอยู่ เป็นปัญหาที่ยากทำให้ความพยายามในการปรับปรุงตัวแบบไม่ได้เพิ่มความแม่นยำใด ๆ ให้\n",
    "\n",
    "ในงานนี้เราจะใช้ตัวแบบจากครั้งที่แล้วมาฝึกเพื่อใช้เป็นพื้นฐานสำหรับการเปรียบเทียบ ซึ่งเราจะเรียกตัวแบบที่เราใช้เป็นฐานการเปรียบเทียบว่า baseline model นอกจากนี้ เราจะใช้ตัวออปทิไมเซอร์แบบ built-in ภายใน keras เท่านั้นเพื่อทำให้การบันทึกตัวแบบที่ฝึกแล้วลงในไฟล์เป็นไปโดยสะดวกมากขึ้น"
   ]
  },
  {
   "cell_type": "markdown",
   "metadata": {},
   "source": [
    "### <a id='p1A'/>  งานที่ 1.A: นำตัวแบบจากงาน 1.5 ในการบ้านที่แล้วมาใช้\n",
    "เราเริ่มจากการนำตัวแบบที่เรามีอยู่แล้วมาลองฝึกใหม่ให้หนักขึ้น เพื่อทึ่จะได้เห็นแนวโน้มของสมรรถนะและปัญหาต่าง ๆ ของตัวแบบแต่ละอันที่เรานำมาทำการทดลอง\n",
    "\n",
    "#### <a id='p1A1'/> งานที่ 1.A.1: สั่งสร้างตัวแบบ\n",
    "จงนำตัวแบบอันสุดท้ายจากการบ้านที่แล้ว (มีชั้นซ่อนตัว 1 ชั้นและมีโหนด 200 โหนด)"
   ]
  },
  {
   "cell_type": "code",
   "execution_count": 4,
   "metadata": {},
   "outputs": [
    {
     "name": "stderr",
     "output_type": "stream",
     "text": [
      "WARNING: Logging before flag parsing goes to stderr.\n",
      "W0729 11:21:23.214360 139973579855680 deprecation.py:506] From /home/wanchai/.local/lib/python3.6/site-packages/tensorflow/python/ops/init_ops.py:1251: calling VarianceScaling.__init__ (from tensorflow.python.ops.init_ops) with dtype is deprecated and will be removed in a future version.\n",
      "Instructions for updating:\n",
      "Call initializer instance with the dtype argument instead of passing it to the constructor\n"
     ]
    }
   ],
   "source": [
    "# [Your Work] Create a model here\n",
    "model = keras.Sequential([\n",
    "    keras.layers.Flatten(input_shape=(32, 32, 3)),\n",
    "    keras.layers.Dense(200, activation=tf.nn.relu),\n",
    "    keras.layers.Dense(10, activation=tf.nn.softmax)\n",
    "])"
   ]
  },
  {
   "cell_type": "markdown",
   "metadata": {},
   "source": [
    "#### <a id='p1A2'/> งานที่ 1.A.2: สั่งคอมไพล์และพิมพ์สรุปโครงสร้างตัวแบบ\n",
    "จงนำตัวแบบอันสุดท้ายจากการบ้านที่แล้ว (มีชั้นซ่อนตัว 1 ชั้นและมีโหนด 200 โหนด)"
   ]
  },
  {
   "cell_type": "code",
   "execution_count": 5,
   "metadata": {},
   "outputs": [
    {
     "name": "stdout",
     "output_type": "stream",
     "text": [
      "Model: \"sequential\"\n",
      "_________________________________________________________________\n",
      "Layer (type)                 Output Shape              Param #   \n",
      "=================================================================\n",
      "flatten (Flatten)            (None, 3072)              0         \n",
      "_________________________________________________________________\n",
      "dense (Dense)                (None, 200)               614600    \n",
      "_________________________________________________________________\n",
      "dense_1 (Dense)              (None, 10)                2010      \n",
      "=================================================================\n",
      "Total params: 616,610\n",
      "Trainable params: 616,610\n",
      "Non-trainable params: 0\n",
      "_________________________________________________________________\n"
     ]
    }
   ],
   "source": [
    "model.compile(optimizer=keras.optimizers.Adam(), \n",
    "              loss='sparse_categorical_crossentropy',\n",
    "              metrics=['accuracy'])\n",
    "model.summary()"
   ]
  },
  {
   "cell_type": "markdown",
   "metadata": {},
   "source": [
    "#### <a id='p1A3'/> งานที่ 1.A.3: ฝึกตัวแบบด้วย batch_size ที่เรากำหนดเองและบันทึกประวัติการฝึกลงตัวแปร\n",
    "ก่อนหน้านี้เราฝีกตัวแบบโดยไม่กำหนดจำนวนตัวอย่างในแต่ละรอบย่อย (batch size) นั่นคือเราใช้ batch_size เป็น 32 ตัวอย่าง ซึ่งอาจจะมีปัญหา 2 ประการแล้วแต่กรณีดังนี้ (1) ถ้าตัวแบบเราซับซ้อนและใช้หน่วยความจำมาก ตัวอย่างทั้ง 32 จะใช้หน่วยความจำรวมมากเกินกว่าที่ GPU จะรับไหว ทำให้ฝึกไม่สำเร็จ (2) ถ้าตัวแบบเราค่อนข้างเรียบง่าย เราอาจจะใส่ตัวอย่างลงในรอบย่อยน้อยเกินไป ทำให้การฝึกล่าช้ากว่าที่ควรเป็น\n",
    "\n",
    "ในที่นี้เราจะกำหนดจำนวนตัวอย่างลงไปอย่างชัดแจ้งในแต่ละรอบย่อยให้เป็น 32 ด้วยการเพิ่มพารามิเตอร์ batch_size=32 ตอนเรียกฟังก์ชัน fit ทั้งนี้ขอให้เก็บประวัติการฝึกไว้ในตัวแปรชื่อ h1\n",
    "\n",
    "**หมายเหตุ** ถ้าหากเครื่องของผู้เรียนมี GPU ที่ดี มันสามารถทำงานได้กับตัวอย่างจำนวน 256 หรือมากกว่านั้นก็ได้ แต่ขอให้ใช้ค่าที่กำหนดไว้ตามแบบฝึกหัด เนื่องจากเราต้องการศึกษาผลกระทบของจำนวนตัวอย่างในกลุ่มย่อย (minibatch) กับความแม่นยำของตัวแบบที่ได้และความเร็วในการฝึกตัวแบบ"
   ]
  },
  {
   "cell_type": "code",
   "execution_count": null,
   "metadata": {},
   "outputs": [
    {
     "name": "stdout",
     "output_type": "stream",
     "text": [
      "Train on 50000 samples, validate on 10000 samples\n",
      "Epoch 1/50\n",
      "50000/50000 [==============================] - 8s 161us/sample - loss: 1.9041 - acc: 0.3181 - val_loss: 1.7923 - val_acc: 0.3619\n",
      "Epoch 2/50\n",
      "50000/50000 [==============================] - 7s 143us/sample - loss: 1.7422 - acc: 0.3788 - val_loss: 1.6847 - val_acc: 0.4008\n",
      "Epoch 3/50\n",
      "50000/50000 [==============================] - 8s 151us/sample - loss: 1.6827 - acc: 0.3993 - val_loss: 1.6595 - val_acc: 0.4081\n",
      "Epoch 4/50\n",
      "50000/50000 [==============================] - 7s 140us/sample - loss: 1.6445 - acc: 0.4149 - val_loss: 1.6548 - val_acc: 0.3994\n",
      "Epoch 5/50\n",
      "50000/50000 [==============================] - 7s 140us/sample - loss: 1.6112 - acc: 0.4261 - val_loss: 1.6225 - val_acc: 0.4233\n",
      "Epoch 6/50\n",
      "50000/50000 [==============================] - 7s 139us/sample - loss: 1.5878 - acc: 0.4371 - val_loss: 1.5991 - val_acc: 0.4232\n",
      "Epoch 7/50\n",
      "50000/50000 [==============================] - 8s 160us/sample - loss: 1.5673 - acc: 0.4441 - val_loss: 1.5812 - val_acc: 0.4270\n",
      "Epoch 8/50\n",
      "50000/50000 [==============================] - 7s 140us/sample - loss: 1.5516 - acc: 0.4506 - val_loss: 1.5706 - val_acc: 0.4380\n",
      "Epoch 9/50\n",
      "50000/50000 [==============================] - 7s 140us/sample - loss: 1.5362 - acc: 0.4560 - val_loss: 1.5348 - val_acc: 0.4546\n",
      "Epoch 10/50\n",
      "50000/50000 [==============================] - 7s 140us/sample - loss: 1.5278 - acc: 0.4586 - val_loss: 1.5661 - val_acc: 0.4464\n",
      "Epoch 11/50\n",
      "50000/50000 [==============================] - 7s 140us/sample - loss: 1.5131 - acc: 0.4616 - val_loss: 1.5291 - val_acc: 0.4515\n",
      "Epoch 12/50\n",
      "50000/50000 [==============================] - 7s 139us/sample - loss: 1.5012 - acc: 0.4680 - val_loss: 1.5353 - val_acc: 0.4541\n",
      "Epoch 13/50\n",
      "50000/50000 [==============================] - 8s 155us/sample - loss: 1.4889 - acc: 0.4706 - val_loss: 1.5766 - val_acc: 0.4404\n",
      "Epoch 14/50\n",
      "50000/50000 [==============================] - 8s 153us/sample - loss: 1.4840 - acc: 0.4757 - val_loss: 1.5153 - val_acc: 0.4669\n",
      "Epoch 15/50\n",
      "50000/50000 [==============================] - 8s 156us/sample - loss: 1.4750 - acc: 0.4763 - val_loss: 1.5393 - val_acc: 0.4594\n",
      "Epoch 16/50\n",
      "50000/50000 [==============================] - 8s 151us/sample - loss: 1.4633 - acc: 0.4819 - val_loss: 1.5327 - val_acc: 0.4545\n",
      "Epoch 17/50\n",
      "50000/50000 [==============================] - 8s 166us/sample - loss: 1.4612 - acc: 0.4806 - val_loss: 1.5043 - val_acc: 0.4678\n",
      "Epoch 18/50\n",
      "50000/50000 [==============================] - 8s 153us/sample - loss: 1.4506 - acc: 0.4870 - val_loss: 1.5306 - val_acc: 0.4562\n",
      "Epoch 19/50\n",
      "50000/50000 [==============================] - 7s 142us/sample - loss: 1.4486 - acc: 0.4876 - val_loss: 1.5456 - val_acc: 0.4506\n",
      "Epoch 20/50\n",
      "50000/50000 [==============================] - 8s 165us/sample - loss: 1.4426 - acc: 0.4890 - val_loss: 1.5540 - val_acc: 0.4502\n",
      "Epoch 21/50\n",
      "50000/50000 [==============================] - 8s 160us/sample - loss: 1.4410 - acc: 0.4887 - val_loss: 1.5097 - val_acc: 0.4676\n",
      "Epoch 22/50\n",
      "50000/50000 [==============================] - 8s 164us/sample - loss: 1.4321 - acc: 0.4916 - val_loss: 1.5056 - val_acc: 0.4724\n",
      "Epoch 23/50\n",
      "50000/50000 [==============================] - 8s 168us/sample - loss: 1.4266 - acc: 0.4943 - val_loss: 1.5221 - val_acc: 0.4584\n",
      "Epoch 24/50\n",
      "50000/50000 [==============================] - 8s 162us/sample - loss: 1.4223 - acc: 0.4957 - val_loss: 1.5336 - val_acc: 0.4579\n",
      "Epoch 25/50\n",
      "50000/50000 [==============================] - 8s 169us/sample - loss: 1.4210 - acc: 0.4952 - val_loss: 1.5373 - val_acc: 0.4603\n",
      "Epoch 26/50\n",
      "50000/50000 [==============================] - 9s 180us/sample - loss: 1.4142 - acc: 0.5000 - val_loss: 1.5218 - val_acc: 0.4747\n",
      "Epoch 27/50\n",
      "50000/50000 [==============================] - 9s 179us/sample - loss: 1.4109 - acc: 0.5019 - val_loss: 1.5430 - val_acc: 0.4580\n",
      "Epoch 28/50\n",
      "27360/50000 [===============>..............] - ETA: 3s - loss: 1.4061 - acc: 0.4991"
     ]
    }
   ],
   "source": [
    "# [Your Work] ฝึกตัวแบบเดิม โดยที่ให้ระบุพารามิเตอร์ batch_size=32 ไปด้วย\n",
    "h1 = model.fit(train_images, train_labels, epochs=50 , validation_data=(test_images,test_labels), batch_size=32)"
   ]
  },
  {
   "cell_type": "markdown",
   "metadata": {},
   "source": [
    "#### <a id='p1A4'/> งานที่ 1.A.4: บันทึกตัวแบบลงในไฟล์\n",
    "จงบันทึกตัวแบบลงในไฟล์ชื่อ 'trained_model_hw3-1_1.hdf5' (เปลี่ยนโฟลเดอร์ได้ตามต้องการ แต่ขอให้ใช้โฟลเดอร์นั้นไปตลอดในการบ้านไม่ว่าจะเป็นการบันทึกตัวแบบอื่น ๆ ในข้อที่ตามมา)"
   ]
  },
  {
   "cell_type": "code",
   "execution_count": 6,
   "metadata": {},
   "outputs": [],
   "source": [
    "# [Your Work]\n",
    "model.save('trained_model_hw3-1_1.hdf5')"
   ]
  },
  {
   "cell_type": "markdown",
   "metadata": {},
   "source": [
    "### <a id='p1B'/> งานที่ 1.B: แสดงกราฟสมรรถนะด้วย plotly\n",
    "ตัว plotly นั้นมีความสามารถในการวาดกราฟแบบอินเตอร์แอ็คทิฟ ทำให้เราสามารถเลื่อนเมาส์ไปบนกราฟเพื่ออ่านค่าบนกราฟได้ ที่สำคัญเราสามารถหดหรือขยายการแสดงผลเพื่อให้ได้มุมมองที่ตรงกับความต้องการของเรามากขึ้นด้วย\n",
    "\n",
    "แต่ก่อนที่จะใช้ plotly เราจะเริ่มจากการวาดกราฟด้วย matplotlib อีกครั้งเพื่อที่จะทำให้เราเห็นความแตกต่างของการวาดกราฟทั้งสองแบบได้ง่ายขึ้น\n",
    "\n",
    "#### <a id='p1B1'/> งานที่ 1.B.1: วาดกราฟด้วย matplotlib\n",
    "จงวาดกราฟเพื่อเปรียบเทียบค่าความแม่นยำจากชุดข้อมูลฝึกและชุดข้อมูลทดสอบ (acc และ val_acc) ด้วย matplotlib"
   ]
  },
  {
   "cell_type": "code",
   "execution_count": 7,
   "metadata": {},
   "outputs": [
    {
     "data": {
      "image/png": "[encoded data removed]",
      "text/plain": [
       "<Figure size 432x288 with 1 Axes>"
      ]
     },
     "metadata": {
      "needs_background": "light"
     },
     "output_type": "display_data"
    }
   ],
   "source": [
    "# [Your Work] plot accuracy history of both training and test sets.\n",
    "plt.plot(h1.history['acc'])\n",
    "plt.plot(h1.history['val_acc'])\n",
    "plt.title('model accuracy')\n",
    "plt.ylabel('accuracy')\n",
    "plt.xlabel('epoch')\n",
    "plt.legend(['train', 'test'], loc='upper left')\n",
    "plt.show()"
   ]
  },
  {
   "cell_type": "markdown",
   "metadata": {},
   "source": [
    "#### <a id='p1B2'/> งานที่ 1.B.2: อิมพอร์ต plotly พร้อมแสดงเลขเวอร์ชัน\n",
    "จงรันเซลล์ด้านล่างนี้ สังเกต และจดจำคำสั่งที่ใช้อิมพอร์ต plotly ที่สามารถแสดงผลแบบออฟไลน์ได้ (คือไม่ต้องอาศัยบัญชี plotly และจะไม่เก็บผลลัพธ์ลงบนคลาวด์)"
   ]
  },
  {
   "cell_type": "code",
   "execution_count": 8,
   "metadata": {},
   "outputs": [
    {
     "ename": "ModuleNotFoundError",
     "evalue": "No module named 'plotly'",
     "output_type": "error",
     "traceback": [
      "\u001b[0;31m---------------------------------------------------------------------------\u001b[0m",
      "\u001b[0;31mModuleNotFoundError\u001b[0m                       Traceback (most recent call last)",
      "\u001b[0;32m<ipython-input-8-0e4f4dbb7946>\u001b[0m in \u001b[0;36m<module>\u001b[0;34m\u001b[0m\n\u001b[1;32m      1\u001b[0m \u001b[0;31m# [Your Work] Import plotly and related sub-modules\u001b[0m\u001b[0;34m\u001b[0m\u001b[0;34m\u001b[0m\u001b[0;34m\u001b[0m\u001b[0m\n\u001b[0;32m----> 2\u001b[0;31m \u001b[0;32mimport\u001b[0m \u001b[0mplotly\u001b[0m\u001b[0;34m\u001b[0m\u001b[0;34m\u001b[0m\u001b[0m\n\u001b[0m\u001b[1;32m      3\u001b[0m \u001b[0;32mimport\u001b[0m \u001b[0mplotly\u001b[0m\u001b[0;34m.\u001b[0m\u001b[0mgraph_objs\u001b[0m \u001b[0;32mas\u001b[0m \u001b[0mgo\u001b[0m\u001b[0;34m\u001b[0m\u001b[0;34m\u001b[0m\u001b[0m\n\u001b[1;32m      4\u001b[0m \u001b[0;32mfrom\u001b[0m \u001b[0mplotly\u001b[0m\u001b[0;34m.\u001b[0m\u001b[0moffline\u001b[0m \u001b[0;32mimport\u001b[0m \u001b[0minit_notebook_mode\u001b[0m \u001b[0;34m,\u001b[0m\u001b[0miplot\u001b[0m\u001b[0;34m\u001b[0m\u001b[0;34m\u001b[0m\u001b[0m\n\u001b[1;32m      5\u001b[0m \u001b[0mprint\u001b[0m\u001b[0;34m(\u001b[0m\u001b[0mplotly\u001b[0m\u001b[0;34m.\u001b[0m\u001b[0m__version__\u001b[0m\u001b[0;34m)\u001b[0m\u001b[0;34m\u001b[0m\u001b[0;34m\u001b[0m\u001b[0m\n",
      "\u001b[0;31mModuleNotFoundError\u001b[0m: No module named 'plotly'"
     ]
    }
   ],
   "source": [
    "# [Your Work] Import plotly and related sub-modules\n",
    "import plotly\n",
    "import plotly.graph_objs as go\n",
    "from plotly.offline import init_notebook_mode ,iplot\n",
    "print(plotly.__version__)"
   ]
  },
  {
   "cell_type": "markdown",
   "metadata": {},
   "source": [
    "#### <a id='p1B3'/> งานที่ 1.B.3: เชื่อมโน้ตบุ๊คกับ plotly\n",
    "ลองค้นดูตัวอย่างการใช้ init_notebook_mode จากตัวอย่างในชั้นเรียนหรืออินเตอร์เน็ต เพื่อศึกษาการใช้ฟังก์ชัน init_notebook_mode ในการเชื่อมต่อกับโน้ตบุ๊ค (แนะนำให้ค้นดูตัวอย่างสัปดาห์ที่ 3, 4 ในโน้ตบุ๊คชื่อทำนองนี้ 'Convolution x 2 + Dense 64 + Dropout x 3 + Norm')"
   ]
  },
  {
   "cell_type": "code",
   "execution_count": 9,
   "metadata": {},
   "outputs": [
    {
     "data": {
      "text/html": [
       "        <script type=\"text/javascript\">\n",
       "        window.PlotlyConfig = {MathJaxConfig: 'local'};\n",
       "        if (window.MathJax) {MathJax.Hub.Config({SVG: {font: \"STIX-Web\"}});}\n",
       "        if (typeof require !== 'undefined') {\n",
       "        require.undef(\"plotly\");\n",
       "        requirejs.config({\n",
       "            paths: {\n",
       "                'plotly': ['https://cdn.plot.ly/plotly-latest.min']\n",
       "            }\n",
       "        });\n",
       "        require(['plotly'], function(Plotly) {\n",
       "            window._Plotly = Plotly;\n",
       "        });\n",
       "        }\n",
       "        </script>\n",
       "        "
      ]
     },
     "metadata": {},
     "output_type": "display_data"
    }
   ],
   "source": [
    "# [Your Work]\n",
    "init_notebook_mode(connected=True)"
   ]
  },
  {
   "cell_type": "markdown",
   "metadata": {},
   "source": [
    "#### <a id='p1B4'/> งานที่ 1.B.4: เตรียม numpy array สำหรับแกน x\n",
    "สืบเนื่องจาก plotly นั้นยืดหยุ่นมาก เราจึงต้องระบุด้วยว่าอยากให้ค่าในแกน x ของเรามีอะไรบ้าง ซึ่งในที่นี้เราต้องการให้เป็น 1, 2, 3, ..., 50 เพราะเราฝึกตัวแบบ 50 รอบ\n",
    "\n",
    "อย่างไรก็ตาม หากเราระบุเลข 50 ลงไปตรง ๆ ตอนสร้างอาเรย์ที่ไล่ค่าขึ้นไปเช่นนั้น เวลาที่เราเปลี่ยนจำนวนรอบการฝึก เราจะต้องมาคอยแก้โค้ดตอนวาดกราฟด้วย ทำให้มีโอกาสผิดพลาดได้ง่าย  เพื่อแก้ปัญหานี้ เราจะสกัดเอาจำนวน epochs ที่ฝึก ด้วยการถามถึงความยาวของลิสต์ที่บันทึกประวัติการฝึก ซึ่งลิสต์นั้นก็คือ h1.history['acc'] แล้วเก็บไว้ในตัวแปรชื่อ num_epochs\n",
    "\n",
    "จากนั้นเราจะสร้างอาเรย์ที่มีค่าเป็น 1, 2, 3, ..., 50 แล้วเก็บไว้ในตัวแปรชื่อ epochs_x ซึ่งทำได้ด้วยฟังก์ชัน linspace ของโมดูล numpy ซึ่งเรามักจะเขียนว่า np.linspace(1, num_epochs)"
   ]
  },
  {
   "cell_type": "code",
   "execution_count": 10,
   "metadata": {},
   "outputs": [],
   "source": [
    "# [Your Work]\n",
    "num_epochs = len(h1.history['acc'])\n",
    "epochs_x = np.linspace(1, num_epochs)"
   ]
  },
  {
   "cell_type": "markdown",
   "metadata": {},
   "source": [
    "#### <a id='p1B5'/> งานที่ 1.B.5: ตรวจสอบความถูกต้องของ epochs_x\n",
    "เมื่อใดก็ตามที่เรากำลังใช้ฟังก์ชันหรือวิธีการที่เราไม่คุ้นเคย เราควรจะระวังตัวเป็นพิเศษ และคอยสังเกตว่าค่าที่อยู่ข้างในตัวแปรสำคัญนั้นตรงตามที่เราคาดหวังไว้หรือไม่ ซี่งในที่นี้เราจะพิมพ์ค่า epochs_x ออกมา\n",
    "\n",
    "ซึ่งวิธีพิมพ์นั้น ไม่ต้องอาศัยฟังก์ชัน print ก็ได้ แต่ให้อ้างถึงตัวแปรที่เราสนใจตรง ๆ ด้วยการเขียนชื่อมันแล้วรันดูผลลได้เลย\n",
    "\n",
    "จงเรียกชื่อตัวแปร epochs_x เพื่อแสดงค่าที่อยู่ข้างใน epochs_x ออกมา พร้อมสังเกตด้วยว่ามันมีค่าตรงตามที่เราต้องการจริงหรือไม่ ถ้าตรงจริง มันจะได้ค่าออกมาเป็น 1., 2., ..., 50. ซึ่งแสดงถึง epochs หมายเลข 1 ถึง 50 ที่เราฝึกเครื่องไปนั่นเอง **ขอย้ำอีกครั้งว่าการค่อย ๆ ตรวจสอบความถูกต้องของข้อมูลทีละส่วนอย่างแข็งขันเป็นเรื่องที่สำคัญมากในวิทยาการข้อมูล**"
   ]
  },
  {
   "cell_type": "code",
   "execution_count": 11,
   "metadata": {},
   "outputs": [
    {
     "name": "stdout",
     "output_type": "stream",
     "text": [
      "[ 1.  2.  3.  4.  5.  6.  7.  8.  9. 10. 11. 12. 13. 14. 15. 16. 17. 18.\n",
      " 19. 20. 21. 22. 23. 24. 25. 26. 27. 28. 29. 30. 31. 32. 33. 34. 35. 36.\n",
      " 37. 38. 39. 40. 41. 42. 43. 44. 45. 46. 47. 48. 49. 50.]\n"
     ]
    }
   ],
   "source": [
    "# [Your Work]\n",
    "print(epochs_x)"
   ]
  },
  {
   "cell_type": "markdown",
   "metadata": {},
   "source": [
    "#### <a id='p1B6'/> งานที่ 1.B.6: เซ็ตค่าสำหรับกราฟความแม่นยำ\n",
    "เช่นเดียวกับ matplotlib เราต้องเซ็ตค่าของกราฟที่เราจะวาดก่อน ซึ่งตัว plotly นั้นจะมีการเซ็ตที่มักจะยาวกว่าของ matplotlib แต่อาจจะดูเป็นระเบียบกว่า เนื่องจากเป็นการเซ็ตค่าของแต่ละเส้นที่ต้องการวาดแยกออกมาเป็นอิสระแต่ละเส้น ในขณะที่ matplotlib จะเน้นไปที่การเซ็ตลงที่ตัว plt โดยตรง\n",
    "\n",
    "กล่าวคือ plotly จะแยกการเซ็ตกราฟแต่ละเส้นออกมาเตรียมไว้ก่อนในตัวแปรของเส้นกราฟ ซึ่งถ้ามี 10 เส้นก็จะมี 10 ตัวแปร แล้วจึงนำเส้นกราฟไปรวมกันตอนวาด แต่ matplotlib จะเน้นที่การเซ็ตค่าลงในกราฟโดยตรง  วิธีของ plotly จะทำให้การวาดกราฟที่ซับซ้อนดูมีระเบียบขึ้น และสามารถนำเส้นกราฟอันเดียวไปใช้อีกรอบในกราฟอื่น ๆ ได้ง่ายเนื่องจากเป็นตัวแปรที่แยกอิสระต่อกัน\n",
    "\n",
    "จงเซ็ตค่าเส้นกราฟความแม่นยำของชุดข้อมูลฝึกโดยตั้งชื่อเส้นว่า train และใช้โหมด 'lines_markers' และเก็บการเซ็ตกราฟเส้นนี้ไว้ในตัวแปร train_acc_trace1  จากนั้นให้ทำแบบเดียวกันกับเส้นกราฟความแม่นยำของชุดข้อมูลทดสอบ แต่ให้ใช้ชื่อเส้นว่า test และเก็บไว้ในตัวแปร test_acc_trace1"
   ]
  },
  {
   "cell_type": "code",
   "execution_count": 12,
   "metadata": {},
   "outputs": [],
   "source": [
    "# [ํYour Work]\n",
    "train_acc_trace1 = go.Scatter(\n",
    "    x = epochs_x,\n",
    "    y = h1.history['acc'],\n",
    "    mode = 'lines+markers',\n",
    "    name = 'train'\n",
    ")\n",
    "\n",
    "test_acc_trace1 = go.Scatter(\n",
    "    x = epochs_x,\n",
    "    y = h1.history['val_acc'],\n",
    "    mode = 'lines+markers',\n",
    "    name = 'test'\n",
    ")\n",
    "#fig = dict(data=[train_acc_trace1,test_acc_trace1])"
   ]
  },
  {
   "cell_type": "markdown",
   "metadata": {},
   "source": [
    "#### <a id='p1B6'/> งานที่ 1.B.6: แพ็คเส้นกราฟเข้าด้วยกันในลิสต์แล้ววาดออกมา\n",
    "หลังจากที่เตรียมการอยู่นาน ในตอนนี้เราพร้อมแล้ว ซึ่งแนวปฏิบัติของ plotly เราจะสร้างลิสต์ที่เก็บเส้นกราฟทั้งหมดไว้ด้วยกัน จากนั้นเราจะเรียกฟังก์ชัน iplot ที่เราอิมพอร์ตเข้ามาบนลิสต์ดังกล่าว  แม้ว่าเราจะสามารถสร้างลิสต์ขึ้นมาในขณะที่ส่งมันไปเป็นพารามิเตอร์ของ iplot ได้เลย แต่ในแบบฝึกหัดนี้ เราจะพักการสร้างลิสต์ลงในตัวแปรก่อน จากนั้นจึงส่งตัวแปรนั้นไปที่ iplot\n",
    "\n",
    "จงสร้างลิสต์ที่ข้างในมี train_acc_trace1 และ test_acc_trace1 แล้วเก็บลิสต์นี้ไว้ในตัวแปรชื่อ acc_data1 จากนั้นให้ส่ง acc_data1 ไปเป็นพารามิเตอร์ของ iplot"
   ]
  },
  {
   "cell_type": "code",
   "execution_count": 13,
   "metadata": {},
   "outputs": [
    {
     "data": {
      "application/vnd.plotly.v1+json": {
       "config": {
        "linkText": "Export to plot.ly",
        "plotlyServerURL": "https://plot.ly",
        "responsive": true,
        "showLink": false
       },
       "data": [
        {
         "mode": "lines+markers",
         "name": "train",
         "type": "scatter",
         "uid": "59f46381-72d0-40f4-8e7d-3ffd7cc47900",
         "x": [
          1,
          2,
          3,
          4,
          5,
          6,
          7,
          8,
          9,
          10,
          11,
          12,
          13,
          14,
          15,
          16,
          17,
          18,
          19,
          20,
          21,
          22,
          23,
          24,
          25,
          26,
          27,
          28,
          29,
          30,
          31,
          32,
          33,
          34,
          35,
          36,
          37,
          38,
          39,
          40,
          41,
          42,
          43,
          44,
          45,
          46,
          47,
          48,
          49,
          50
         ],
         "y": [
          0.3249399960041046,
          0.3843800127506256,
          0.40285998582839966,
          0.4134399890899658,
          0.4199399948120117,
          0.4274199903011322,
          0.4311400055885315,
          0.4350999891757965,
          0.43634000420570374,
          0.4441800117492676,
          0.44374001026153564,
          0.44839999079704285,
          0.4512600004673004,
          0.4515799880027771,
          0.4537000060081482,
          0.4551999866962433,
          0.4593600034713745,
          0.4590800106525421,
          0.46347999572753906,
          0.4640600085258484,
          0.46470001339912415,
          0.46452000737190247,
          0.4654200077056885,
          0.4670200049877167,
          0.46761998534202576,
          0.4679200053215027,
          0.46950000524520874,
          0.47029998898506165,
          0.4712800085544586,
          0.4728200137615204,
          0.4756599962711334,
          0.47534000873565674,
          0.476500004529953,
          0.48100000619888306,
          0.4779999852180481,
          0.4792799949645996,
          0.47953999042510986,
          0.4796200096607208,
          0.4794999957084656,
          0.4817799925804138,
          0.48539999127388,
          0.482699990272522,
          0.4822799861431122,
          0.48212000727653503,
          0.4854600131511688,
          0.4850800037384033,
          0.4837000072002411,
          0.48561999201774597,
          0.48532000184059143,
          0.4867999851703644
         ]
        },
        {
         "mode": "lines+markers",
         "name": "test",
         "type": "scatter",
         "uid": "de3a961c-5157-4539-9abb-76432b4a0e60",
         "x": [
          1,
          2,
          3,
          4,
          5,
          6,
          7,
          8,
          9,
          10,
          11,
          12,
          13,
          14,
          15,
          16,
          17,
          18,
          19,
          20,
          21,
          22,
          23,
          24,
          25,
          26,
          27,
          28,
          29,
          30,
          31,
          32,
          33,
          34,
          35,
          36,
          37,
          38,
          39,
          40,
          41,
          42,
          43,
          44,
          45,
          46,
          47,
          48,
          49,
          50
         ],
         "y": [
          0.37139999866485596,
          0.3995000123977661,
          0.4106000065803528,
          0.42590001225471497,
          0.4058000147342682,
          0.41519999504089355,
          0.39309999346733093,
          0.43720000982284546,
          0.41929998993873596,
          0.43070000410079956,
          0.4318000078201294,
          0.4259999990463257,
          0.43130001425743103,
          0.43380001187324524,
          0.44190001487731934,
          0.44530001282691956,
          0.4334999918937683,
          0.4399999976158142,
          0.42879998683929443,
          0.44589999318122864,
          0.43880000710487366,
          0.4512999951839447,
          0.4471000134944916,
          0.4462999999523163,
          0.4551999866962433,
          0.45239999890327454,
          0.4408999979496002,
          0.4309000074863434,
          0.4465999901294708,
          0.4471000134944916,
          0.446399986743927,
          0.44690001010894775,
          0.4417000114917755,
          0.4584999978542328,
          0.4410000145435333,
          0.4458000063896179,
          0.4496000111103058,
          0.44609999656677246,
          0.4287000000476837,
          0.436599999666214,
          0.45570001006126404,
          0.45570001006126404,
          0.4253000020980835,
          0.44830000400543213,
          0.45170000195503235,
          0.4350999891757965,
          0.44999998807907104,
          0.4472000002861023,
          0.44859999418258667,
          0.4422999918460846
         ]
        }
       ],
       "layout": {
        "autosize": true,
        "xaxis": {
         "autorange": true,
         "range": [
          -2.101150705270973,
          53.101150705270975
         ],
         "type": "linear"
        },
        "yaxis": {
         "autorange": true,
         "range": [
          0.31158261825737443,
          0.5001573629170946
         ],
         "type": "linear"
        }
       }
      },
      "image/png": "[encoded data removed]",
      "text/html": [
       "<div>\n",
       "        \n",
       "        \n",
       "            <div id=\"05ba5384-927c-4ed1-acd9-c59286193945\" class=\"plotly-graph-div\" style=\"height:525px; width:100%;\"></div>\n",
       "            <script type=\"text/javascript\">\n",
       "                require([\"plotly\"], function(Plotly) {\n",
       "                    window.PLOTLYENV=window.PLOTLYENV || {};\n",
       "                    window.PLOTLYENV.BASE_URL='https://plot.ly';\n",
       "                    \n",
       "                if (document.getElementById(\"05ba5384-927c-4ed1-acd9-c59286193945\")) {\n",
       "                    Plotly.newPlot(\n",
       "                        '05ba5384-927c-4ed1-acd9-c59286193945',\n",
       "                        [{\"mode\": \"lines+markers\", \"name\": \"train\", \"type\": \"scatter\", \"uid\": \"dfc3da83-beaa-4ec3-adc4-fea6f024f066\", \"x\": [1.0, 2.0, 3.0, 4.0, 5.0, 6.0, 7.0, 8.0, 9.0, 10.0, 11.0, 12.0, 13.0, 14.0, 15.0, 16.0, 17.0, 18.0, 19.0, 20.0, 21.0, 22.0, 23.0, 24.0, 25.0, 26.0, 27.0, 28.0, 29.0, 30.0, 31.0, 32.0, 33.0, 34.0, 35.0, 36.0, 37.0, 38.0, 39.0, 40.0, 41.0, 42.0, 43.0, 44.0, 45.0, 46.0, 47.0, 48.0, 49.0, 50.0], \"y\": [0.3249399960041046, 0.3843800127506256, 0.40285998582839966, 0.4134399890899658, 0.4199399948120117, 0.4274199903011322, 0.4311400055885315, 0.4350999891757965, 0.43634000420570374, 0.4441800117492676, 0.44374001026153564, 0.44839999079704285, 0.4512600004673004, 0.4515799880027771, 0.4537000060081482, 0.4551999866962433, 0.4593600034713745, 0.4590800106525421, 0.46347999572753906, 0.4640600085258484, 0.46470001339912415, 0.46452000737190247, 0.4654200077056885, 0.4670200049877167, 0.46761998534202576, 0.4679200053215027, 0.46950000524520874, 0.47029998898506165, 0.4712800085544586, 0.4728200137615204, 0.4756599962711334, 0.47534000873565674, 0.476500004529953, 0.48100000619888306, 0.4779999852180481, 0.4792799949645996, 0.47953999042510986, 0.4796200096607208, 0.4794999957084656, 0.4817799925804138, 0.48539999127388, 0.482699990272522, 0.4822799861431122, 0.48212000727653503, 0.4854600131511688, 0.4850800037384033, 0.4837000072002411, 0.48561999201774597, 0.48532000184059143, 0.4867999851703644]}, {\"mode\": \"lines+markers\", \"name\": \"test\", \"type\": \"scatter\", \"uid\": \"aef20e69-87c5-4d11-801c-3a989f3a752d\", \"x\": [1.0, 2.0, 3.0, 4.0, 5.0, 6.0, 7.0, 8.0, 9.0, 10.0, 11.0, 12.0, 13.0, 14.0, 15.0, 16.0, 17.0, 18.0, 19.0, 20.0, 21.0, 22.0, 23.0, 24.0, 25.0, 26.0, 27.0, 28.0, 29.0, 30.0, 31.0, 32.0, 33.0, 34.0, 35.0, 36.0, 37.0, 38.0, 39.0, 40.0, 41.0, 42.0, 43.0, 44.0, 45.0, 46.0, 47.0, 48.0, 49.0, 50.0], \"y\": [0.37139999866485596, 0.3995000123977661, 0.4106000065803528, 0.42590001225471497, 0.4058000147342682, 0.41519999504089355, 0.39309999346733093, 0.43720000982284546, 0.41929998993873596, 0.43070000410079956, 0.4318000078201294, 0.4259999990463257, 0.43130001425743103, 0.43380001187324524, 0.44190001487731934, 0.44530001282691956, 0.4334999918937683, 0.4399999976158142, 0.42879998683929443, 0.44589999318122864, 0.43880000710487366, 0.4512999951839447, 0.4471000134944916, 0.4462999999523163, 0.4551999866962433, 0.45239999890327454, 0.4408999979496002, 0.4309000074863434, 0.4465999901294708, 0.4471000134944916, 0.446399986743927, 0.44690001010894775, 0.4417000114917755, 0.4584999978542328, 0.4410000145435333, 0.4458000063896179, 0.4496000111103058, 0.44609999656677246, 0.4287000000476837, 0.436599999666214, 0.45570001006126404, 0.45570001006126404, 0.4253000020980835, 0.44830000400543213, 0.45170000195503235, 0.4350999891757965, 0.44999998807907104, 0.4472000002861023, 0.44859999418258667, 0.4422999918460846]}],\n",
       "                        {},\n",
       "                        {\"showLink\": false, \"linkText\": \"Export to plot.ly\", \"plotlyServerURL\": \"https://plot.ly\", \"responsive\": true}\n",
       "                    ).then(function(){\n",
       "                            \n",
       "var gd = document.getElementById('05ba5384-927c-4ed1-acd9-c59286193945');\n",
       "var x = new MutationObserver(function (mutations, observer) {{\n",
       "        var display = window.getComputedStyle(gd).display;\n",
       "        if (!display || display === 'none') {{\n",
       "            console.log([gd, 'removed!']);\n",
       "            Plotly.purge(gd);\n",
       "            observer.disconnect();\n",
       "        }}\n",
       "}});\n",
       "\n",
       "// Listen for the removal of the full notebook cells\n",
       "var notebookContainer = gd.closest('#notebook-container');\n",
       "if (notebookContainer) {{\n",
       "    x.observe(notebookContainer, {childList: true});\n",
       "}}\n",
       "\n",
       "// Listen for the clearing of the current output cell\n",
       "var outputEl = gd.closest('.output');\n",
       "if (outputEl) {{\n",
       "    x.observe(outputEl, {childList: true});\n",
       "}}\n",
       "\n",
       "                        })\n",
       "                };\n",
       "                });\n",
       "            </script>\n",
       "        </div>"
      ]
     },
     "metadata": {},
     "output_type": "display_data"
    }
   ],
   "source": [
    "# [ํYour Work]\n",
    "acc_data1 = [train_acc_trace1, test_acc_trace1]\n",
    "plotly.offline.iplot(acc_data1)"
   ]
  },
  {
   "cell_type": "markdown",
   "metadata": {},
   "source": [
    "#### <a id='p1B7'/> งานที่ 1.B.7: ลดบรรทัดลง สร้างลิสต์ตรงวงเล็บของ iplot แล้วส่งเป็นพารามิเตอร์ทันที\n",
    "ในโค้ดส่วนที่แล้ว เราสร้างลิสต์แล้วพักลงตัวแปรก่อน ทำให้โค้ดมีสองบรรทัด แต่ที่จริงเราสามารถยุบรวมให้เหลือบรรทัดเดียวได้ โดยการสร้างลิสต์ในวงเล็บสำหรับการส่งพารามิเตอร์ \n",
    "\n",
    "จงพล็อตกราฟเดิม โดยการสร้างลิสต์ในวงเล็บสำหรับการส่งพารามิเตอร์ (อย่าสร้างตัวแปรขึ้นมา ให้สร้างลิสต์ไว้ในวงเล็บของ iplot โดยตรง) โค้ดของคุณควรจะมีเพียงบรรทัดเดียวและไม่มีการอ้างถึง acc_data1 แต่อย่างใด ซึ่งโค้ดคุณจะอยู่ในรูป iplot( ... ) ทำนองนี้\n",
    "\n",
    "**หมายเหตุ** ปรกติแล้ว สำหรับลิสต์ใดที่เราจะใช้ครั้งเดียวแล้วไม่ใช้อีก เรามักจะใช้วิธีสร้างและใช้ทันทีในบรรทัดเดียวกันแบบงานนี้ เพื่อให้ได้โค้ดที่กระชับและไม่มีตัวแปรมากมายให้เครื่องต้องเก็บไว้ในหน่วยความจำมากกว่าที่จำเป็น"
   ]
  },
  {
   "cell_type": "code",
   "execution_count": 14,
   "metadata": {},
   "outputs": [
    {
     "data": {
      "application/vnd.plotly.v1+json": {
       "config": {
        "linkText": "Export to plot.ly",
        "plotlyServerURL": "https://plot.ly",
        "responsive": true,
        "showLink": false
       },
       "data": [
        {
         "mode": "lines+markers",
         "name": "train",
         "type": "scatter",
         "uid": "94dbb54f-d0b2-4e45-982f-cc279c96eeaa",
         "x": [
          1,
          2,
          3,
          4,
          5,
          6,
          7,
          8,
          9,
          10,
          11,
          12,
          13,
          14,
          15,
          16,
          17,
          18,
          19,
          20,
          21,
          22,
          23,
          24,
          25,
          26,
          27,
          28,
          29,
          30,
          31,
          32,
          33,
          34,
          35,
          36,
          37,
          38,
          39,
          40,
          41,
          42,
          43,
          44,
          45,
          46,
          47,
          48,
          49,
          50
         ],
         "y": [
          0.3249399960041046,
          0.3843800127506256,
          0.40285998582839966,
          0.4134399890899658,
          0.4199399948120117,
          0.4274199903011322,
          0.4311400055885315,
          0.4350999891757965,
          0.43634000420570374,
          0.4441800117492676,
          0.44374001026153564,
          0.44839999079704285,
          0.4512600004673004,
          0.4515799880027771,
          0.4537000060081482,
          0.4551999866962433,
          0.4593600034713745,
          0.4590800106525421,
          0.46347999572753906,
          0.4640600085258484,
          0.46470001339912415,
          0.46452000737190247,
          0.4654200077056885,
          0.4670200049877167,
          0.46761998534202576,
          0.4679200053215027,
          0.46950000524520874,
          0.47029998898506165,
          0.4712800085544586,
          0.4728200137615204,
          0.4756599962711334,
          0.47534000873565674,
          0.476500004529953,
          0.48100000619888306,
          0.4779999852180481,
          0.4792799949645996,
          0.47953999042510986,
          0.4796200096607208,
          0.4794999957084656,
          0.4817799925804138,
          0.48539999127388,
          0.482699990272522,
          0.4822799861431122,
          0.48212000727653503,
          0.4854600131511688,
          0.4850800037384033,
          0.4837000072002411,
          0.48561999201774597,
          0.48532000184059143,
          0.4867999851703644
         ]
        },
        {
         "mode": "lines+markers",
         "name": "test",
         "type": "scatter",
         "uid": "0e1546dc-a25a-4eea-ab52-bbf7eefdc511",
         "x": [
          1,
          2,
          3,
          4,
          5,
          6,
          7,
          8,
          9,
          10,
          11,
          12,
          13,
          14,
          15,
          16,
          17,
          18,
          19,
          20,
          21,
          22,
          23,
          24,
          25,
          26,
          27,
          28,
          29,
          30,
          31,
          32,
          33,
          34,
          35,
          36,
          37,
          38,
          39,
          40,
          41,
          42,
          43,
          44,
          45,
          46,
          47,
          48,
          49,
          50
         ],
         "y": [
          0.37139999866485596,
          0.3995000123977661,
          0.4106000065803528,
          0.42590001225471497,
          0.4058000147342682,
          0.41519999504089355,
          0.39309999346733093,
          0.43720000982284546,
          0.41929998993873596,
          0.43070000410079956,
          0.4318000078201294,
          0.4259999990463257,
          0.43130001425743103,
          0.43380001187324524,
          0.44190001487731934,
          0.44530001282691956,
          0.4334999918937683,
          0.4399999976158142,
          0.42879998683929443,
          0.44589999318122864,
          0.43880000710487366,
          0.4512999951839447,
          0.4471000134944916,
          0.4462999999523163,
          0.4551999866962433,
          0.45239999890327454,
          0.4408999979496002,
          0.4309000074863434,
          0.4465999901294708,
          0.4471000134944916,
          0.446399986743927,
          0.44690001010894775,
          0.4417000114917755,
          0.4584999978542328,
          0.4410000145435333,
          0.4458000063896179,
          0.4496000111103058,
          0.44609999656677246,
          0.4287000000476837,
          0.436599999666214,
          0.45570001006126404,
          0.45570001006126404,
          0.4253000020980835,
          0.44830000400543213,
          0.45170000195503235,
          0.4350999891757965,
          0.44999998807907104,
          0.4472000002861023,
          0.44859999418258667,
          0.4422999918460846
         ]
        }
       ],
       "layout": {
        "autosize": true,
        "xaxis": {
         "autorange": true,
         "range": [
          -2.101150705270973,
          53.101150705270975
         ],
         "type": "linear"
        },
        "yaxis": {
         "autorange": true,
         "range": [
          0.31158261825737443,
          0.5001573629170946
         ],
         "type": "linear"
        }
       }
      },
      "image/png": "[encoded data removed]",
      "text/html": [
       "<div>\n",
       "        \n",
       "        \n",
       "            <div id=\"259d51f5-6adc-4daa-8ecf-049759553ffa\" class=\"plotly-graph-div\" style=\"height:525px; width:100%;\"></div>\n",
       "            <script type=\"text/javascript\">\n",
       "                require([\"plotly\"], function(Plotly) {\n",
       "                    window.PLOTLYENV=window.PLOTLYENV || {};\n",
       "                    window.PLOTLYENV.BASE_URL='https://plot.ly';\n",
       "                    \n",
       "                if (document.getElementById(\"259d51f5-6adc-4daa-8ecf-049759553ffa\")) {\n",
       "                    Plotly.newPlot(\n",
       "                        '259d51f5-6adc-4daa-8ecf-049759553ffa',\n",
       "                        [{\"mode\": \"lines+markers\", \"name\": \"train\", \"type\": \"scatter\", \"uid\": \"6dfee0f9-626f-4189-a0d2-786145b70ac3\", \"x\": [1.0, 2.0, 3.0, 4.0, 5.0, 6.0, 7.0, 8.0, 9.0, 10.0, 11.0, 12.0, 13.0, 14.0, 15.0, 16.0, 17.0, 18.0, 19.0, 20.0, 21.0, 22.0, 23.0, 24.0, 25.0, 26.0, 27.0, 28.0, 29.0, 30.0, 31.0, 32.0, 33.0, 34.0, 35.0, 36.0, 37.0, 38.0, 39.0, 40.0, 41.0, 42.0, 43.0, 44.0, 45.0, 46.0, 47.0, 48.0, 49.0, 50.0], \"y\": [0.3249399960041046, 0.3843800127506256, 0.40285998582839966, 0.4134399890899658, 0.4199399948120117, 0.4274199903011322, 0.4311400055885315, 0.4350999891757965, 0.43634000420570374, 0.4441800117492676, 0.44374001026153564, 0.44839999079704285, 0.4512600004673004, 0.4515799880027771, 0.4537000060081482, 0.4551999866962433, 0.4593600034713745, 0.4590800106525421, 0.46347999572753906, 0.4640600085258484, 0.46470001339912415, 0.46452000737190247, 0.4654200077056885, 0.4670200049877167, 0.46761998534202576, 0.4679200053215027, 0.46950000524520874, 0.47029998898506165, 0.4712800085544586, 0.4728200137615204, 0.4756599962711334, 0.47534000873565674, 0.476500004529953, 0.48100000619888306, 0.4779999852180481, 0.4792799949645996, 0.47953999042510986, 0.4796200096607208, 0.4794999957084656, 0.4817799925804138, 0.48539999127388, 0.482699990272522, 0.4822799861431122, 0.48212000727653503, 0.4854600131511688, 0.4850800037384033, 0.4837000072002411, 0.48561999201774597, 0.48532000184059143, 0.4867999851703644]}, {\"mode\": \"lines+markers\", \"name\": \"test\", \"type\": \"scatter\", \"uid\": \"a667b8a5-60cc-4486-9b3f-7cf73a4647a2\", \"x\": [1.0, 2.0, 3.0, 4.0, 5.0, 6.0, 7.0, 8.0, 9.0, 10.0, 11.0, 12.0, 13.0, 14.0, 15.0, 16.0, 17.0, 18.0, 19.0, 20.0, 21.0, 22.0, 23.0, 24.0, 25.0, 26.0, 27.0, 28.0, 29.0, 30.0, 31.0, 32.0, 33.0, 34.0, 35.0, 36.0, 37.0, 38.0, 39.0, 40.0, 41.0, 42.0, 43.0, 44.0, 45.0, 46.0, 47.0, 48.0, 49.0, 50.0], \"y\": [0.37139999866485596, 0.3995000123977661, 0.4106000065803528, 0.42590001225471497, 0.4058000147342682, 0.41519999504089355, 0.39309999346733093, 0.43720000982284546, 0.41929998993873596, 0.43070000410079956, 0.4318000078201294, 0.4259999990463257, 0.43130001425743103, 0.43380001187324524, 0.44190001487731934, 0.44530001282691956, 0.4334999918937683, 0.4399999976158142, 0.42879998683929443, 0.44589999318122864, 0.43880000710487366, 0.4512999951839447, 0.4471000134944916, 0.4462999999523163, 0.4551999866962433, 0.45239999890327454, 0.4408999979496002, 0.4309000074863434, 0.4465999901294708, 0.4471000134944916, 0.446399986743927, 0.44690001010894775, 0.4417000114917755, 0.4584999978542328, 0.4410000145435333, 0.4458000063896179, 0.4496000111103058, 0.44609999656677246, 0.4287000000476837, 0.436599999666214, 0.45570001006126404, 0.45570001006126404, 0.4253000020980835, 0.44830000400543213, 0.45170000195503235, 0.4350999891757965, 0.44999998807907104, 0.4472000002861023, 0.44859999418258667, 0.4422999918460846]}],\n",
       "                        {},\n",
       "                        {\"showLink\": false, \"linkText\": \"Export to plot.ly\", \"plotlyServerURL\": \"https://plot.ly\", \"responsive\": true}\n",
       "                    ).then(function(){\n",
       "                            \n",
       "var gd = document.getElementById('259d51f5-6adc-4daa-8ecf-049759553ffa');\n",
       "var x = new MutationObserver(function (mutations, observer) {{\n",
       "        var display = window.getComputedStyle(gd).display;\n",
       "        if (!display || display === 'none') {{\n",
       "            console.log([gd, 'removed!']);\n",
       "            Plotly.purge(gd);\n",
       "            observer.disconnect();\n",
       "        }}\n",
       "}});\n",
       "\n",
       "// Listen for the removal of the full notebook cells\n",
       "var notebookContainer = gd.closest('#notebook-container');\n",
       "if (notebookContainer) {{\n",
       "    x.observe(notebookContainer, {childList: true});\n",
       "}}\n",
       "\n",
       "// Listen for the clearing of the current output cell\n",
       "var outputEl = gd.closest('.output');\n",
       "if (outputEl) {{\n",
       "    x.observe(outputEl, {childList: true});\n",
       "}}\n",
       "\n",
       "                        })\n",
       "                };\n",
       "                });\n",
       "            </script>\n",
       "        </div>"
      ]
     },
     "metadata": {},
     "output_type": "display_data"
    }
   ],
   "source": [
    "# [ํYour Work]\n",
    "plotly.offline.iplot([train_acc_trace1, test_acc_trace1])"
   ]
  },
  {
   "cell_type": "markdown",
   "metadata": {},
   "source": [
    "### <a id='p1C'/> งานที่ 1.C: เพิ่มจำนวนโหนดในชั้นซ่อนตัว\n",
    "เราจะทดลองเพิ่มจำนวนโหนดในชั้นซ่อนตัวให้เป็น 500 และเลือกอันที่มีความแม่นยำสูงกว่า (ระหว่างแบบ 200 กับ 500 โหนด) มาให้เป็น baseline  ซึ่งคำว่ามีความแม่นยำสูงกว่านี้ควรมาจากความแม่นยำใน test set ไม่อย่างนั้นแล้วตัวแบบที่มี 'ความจุ' ด้านความจำสูงกว่าจะมีแนวโน้มเป็นฝ่ายชนะใน training set เกือบทุกครั้ง แม้ว่าจะมีประโยชน์น้อยกว่าในทางปฏิบัติก็ตาม"
   ]
  },
  {
   "cell_type": "markdown",
   "metadata": {},
   "source": [
    "#### <a id='p1C1'/> งานที่ 1.C.1: ปรับตัวแบบให้มีโหนดในชั้นซ่อนตัว 500 โหนด\n",
    "จงนำตัวแบบจากข้อ 1.1 มาเพิ่มจำนวนโหนดในชั้นซ่อนตัวให้มี 500 โหนด"
   ]
  },
  {
   "cell_type": "code",
   "execution_count": 15,
   "metadata": {},
   "outputs": [],
   "source": [
    "# [Your Work] Create a model here\n",
    "model = keras.Sequential([\n",
    "    keras.layers.Flatten(input_shape=(32, 32, 3)),\n",
    "    keras.layers.Dense(500, activation=tf.nn.relu),\n",
    "    keras.layers.Dense(10, activation=tf.nn.softmax)\n",
    "])"
   ]
  },
  {
   "cell_type": "markdown",
   "metadata": {},
   "source": [
    "#### <a id='p1C2'/> งานที่ 1.C.2: คอมไพล์ตัวแบบและพิมพ์ summary\n",
    "จงนำตัวแบบที่สร้างใหม่มาคอมไพล์และสั่งพิมพ์สรุปด้วยฟังก์ชัน summary()"
   ]
  },
  {
   "cell_type": "code",
   "execution_count": 16,
   "metadata": {},
   "outputs": [
    {
     "name": "stdout",
     "output_type": "stream",
     "text": [
      "_________________________________________________________________\n",
      "Layer (type)                 Output Shape              Param #   \n",
      "=================================================================\n",
      "flatten_1 (Flatten)          (None, 3072)              0         \n",
      "_________________________________________________________________\n",
      "dense_2 (Dense)              (None, 500)               1536500   \n",
      "_________________________________________________________________\n",
      "dense_3 (Dense)              (None, 10)                5010      \n",
      "=================================================================\n",
      "Total params: 1,541,510\n",
      "Trainable params: 1,541,510\n",
      "Non-trainable params: 0\n",
      "_________________________________________________________________\n"
     ]
    }
   ],
   "source": [
    "# [Your Work] (Just run this one)\n",
    "model.compile(optimizer=keras.optimizers.Adam(), \n",
    "              loss='sparse_categorical_crossentropy',\n",
    "              metrics=['accuracy'])\n",
    "model.summary()"
   ]
  },
  {
   "cell_type": "markdown",
   "metadata": {},
   "source": [
    "#### <a id='p1C3'/> งานที่ 1.C.3: ฝึกตัวแบบอันใหม่\n",
    "เอาล่ะ มาลองฝึกโมเดลด้วยคำสั่ง fit กันอีกรอบ จะได้เห็นว่าการเพิ่มจำนวนโหนดในชั้นซ่อนตัวเช่นนี้จะช่วยให้เราได้ตัวแบบที่ดีขึ้นหรือไม่"
   ]
  },
  {
   "cell_type": "code",
   "execution_count": 17,
   "metadata": {},
   "outputs": [
    {
     "name": "stdout",
     "output_type": "stream",
     "text": [
      "Train on 50000 samples, validate on 10000 samples\n",
      "Epoch 1/50\n",
      "50000/50000 [==============================] - 16s 315us/sample - loss: 1.8932 - acc: 0.3307 - val_loss: 1.7657 - val_acc: 0.3719\n",
      "Epoch 2/50\n",
      "50000/50000 [==============================] - 15s 308us/sample - loss: 1.6947 - acc: 0.3923 - val_loss: 1.7092 - val_acc: 0.3938\n",
      "Epoch 3/50\n",
      "50000/50000 [==============================] - 15s 301us/sample - loss: 1.6260 - acc: 0.4185 - val_loss: 1.6075 - val_acc: 0.4229\n",
      "Epoch 4/50\n",
      "50000/50000 [==============================] - 15s 297us/sample - loss: 1.5878 - acc: 0.4329 - val_loss: 1.5722 - val_acc: 0.4460\n",
      "Epoch 5/50\n",
      "50000/50000 [==============================] - 14s 289us/sample - loss: 1.5579 - acc: 0.4463 - val_loss: 1.5786 - val_acc: 0.4422\n",
      "Epoch 6/50\n",
      "50000/50000 [==============================] - 15s 302us/sample - loss: 1.5320 - acc: 0.4545 - val_loss: 1.5540 - val_acc: 0.4466\n",
      "Epoch 7/50\n",
      "50000/50000 [==============================] - 15s 301us/sample - loss: 1.5215 - acc: 0.4578 - val_loss: 1.5482 - val_acc: 0.4511\n",
      "Epoch 8/50\n",
      "50000/50000 [==============================] - 15s 303us/sample - loss: 1.5017 - acc: 0.4659 - val_loss: 1.5717 - val_acc: 0.4383\n",
      "Epoch 9/50\n",
      "50000/50000 [==============================] - 15s 302us/sample - loss: 1.4902 - acc: 0.4699 - val_loss: 1.5745 - val_acc: 0.4434\n",
      "Epoch 10/50\n",
      "50000/50000 [==============================] - 15s 303us/sample - loss: 1.4784 - acc: 0.4742 - val_loss: 1.5039 - val_acc: 0.4656\n",
      "Epoch 11/50\n",
      "50000/50000 [==============================] - 15s 303us/sample - loss: 1.4676 - acc: 0.4790 - val_loss: 1.5206 - val_acc: 0.4600\n",
      "Epoch 12/50\n",
      "50000/50000 [==============================] - 15s 303us/sample - loss: 1.4590 - acc: 0.4807 - val_loss: 1.5317 - val_acc: 0.4498\n",
      "Epoch 13/50\n",
      "50000/50000 [==============================] - 15s 303us/sample - loss: 1.4486 - acc: 0.4847 - val_loss: 1.5080 - val_acc: 0.4589\n",
      "Epoch 14/50\n",
      "50000/50000 [==============================] - 15s 306us/sample - loss: 1.4468 - acc: 0.4857 - val_loss: 1.4985 - val_acc: 0.4627\n",
      "Epoch 15/50\n",
      "50000/50000 [==============================] - 15s 303us/sample - loss: 1.4333 - acc: 0.4918 - val_loss: 1.4999 - val_acc: 0.4656\n",
      "Epoch 16/50\n",
      "50000/50000 [==============================] - 15s 301us/sample - loss: 1.4285 - acc: 0.4940 - val_loss: 1.5980 - val_acc: 0.4233\n",
      "Epoch 17/50\n",
      "50000/50000 [==============================] - 15s 304us/sample - loss: 1.4205 - acc: 0.4931 - val_loss: 1.5344 - val_acc: 0.4582\n",
      "Epoch 18/50\n",
      "50000/50000 [==============================] - 15s 302us/sample - loss: 1.4168 - acc: 0.4968 - val_loss: 1.4996 - val_acc: 0.4718\n",
      "Epoch 19/50\n",
      "50000/50000 [==============================] - 15s 303us/sample - loss: 1.4093 - acc: 0.4997 - val_loss: 1.4983 - val_acc: 0.4763\n",
      "Epoch 20/50\n",
      "50000/50000 [==============================] - 15s 304us/sample - loss: 1.4028 - acc: 0.4990 - val_loss: 1.4841 - val_acc: 0.4777\n",
      "Epoch 21/50\n",
      "50000/50000 [==============================] - 15s 304us/sample - loss: 1.3957 - acc: 0.5044 - val_loss: 1.4987 - val_acc: 0.4616\n",
      "Epoch 22/50\n",
      "50000/50000 [==============================] - 15s 302us/sample - loss: 1.3926 - acc: 0.5026 - val_loss: 1.4909 - val_acc: 0.4696\n",
      "Epoch 23/50\n",
      "50000/50000 [==============================] - 15s 304us/sample - loss: 1.3870 - acc: 0.5057 - val_loss: 1.5292 - val_acc: 0.4606\n",
      "Epoch 24/50\n",
      "50000/50000 [==============================] - 15s 302us/sample - loss: 1.3828 - acc: 0.5097 - val_loss: 1.4697 - val_acc: 0.4823\n",
      "Epoch 25/50\n",
      "50000/50000 [==============================] - 15s 301us/sample - loss: 1.3779 - acc: 0.5093 - val_loss: 1.4949 - val_acc: 0.4732\n",
      "Epoch 26/50\n",
      "50000/50000 [==============================] - 15s 302us/sample - loss: 1.3774 - acc: 0.5084 - val_loss: 1.5071 - val_acc: 0.4688\n",
      "Epoch 27/50\n",
      "50000/50000 [==============================] - 15s 302us/sample - loss: 1.3722 - acc: 0.5126 - val_loss: 1.4807 - val_acc: 0.4763\n",
      "Epoch 28/50\n",
      "50000/50000 [==============================] - 15s 302us/sample - loss: 1.3662 - acc: 0.5130 - val_loss: 1.4841 - val_acc: 0.4813\n",
      "Epoch 29/50\n",
      "50000/50000 [==============================] - 15s 302us/sample - loss: 1.3626 - acc: 0.5149 - val_loss: 1.5018 - val_acc: 0.4759\n",
      "Epoch 30/50\n",
      "50000/50000 [==============================] - 15s 303us/sample - loss: 1.3634 - acc: 0.5144 - val_loss: 1.4669 - val_acc: 0.4804\n",
      "Epoch 31/50\n",
      "50000/50000 [==============================] - 15s 302us/sample - loss: 1.3573 - acc: 0.5154 - val_loss: 1.4819 - val_acc: 0.4779\n",
      "Epoch 32/50\n",
      "50000/50000 [==============================] - 15s 305us/sample - loss: 1.3519 - acc: 0.5175 - val_loss: 1.4830 - val_acc: 0.4870\n",
      "Epoch 33/50\n",
      "50000/50000 [==============================] - 15s 294us/sample - loss: 1.3499 - acc: 0.5203 - val_loss: 1.5404 - val_acc: 0.4563\n",
      "Epoch 34/50\n",
      "50000/50000 [==============================] - 15s 305us/sample - loss: 1.3480 - acc: 0.5205 - val_loss: 1.4728 - val_acc: 0.4833\n",
      "Epoch 35/50\n",
      "50000/50000 [==============================] - 15s 301us/sample - loss: 1.3441 - acc: 0.5177 - val_loss: 1.5357 - val_acc: 0.4625\n",
      "Epoch 36/50\n",
      "50000/50000 [==============================] - 15s 301us/sample - loss: 1.3425 - acc: 0.5210 - val_loss: 1.5119 - val_acc: 0.4599\n",
      "Epoch 37/50\n",
      "50000/50000 [==============================] - 15s 303us/sample - loss: 1.3391 - acc: 0.5229 - val_loss: 1.4992 - val_acc: 0.4785\n",
      "Epoch 38/50\n",
      "50000/50000 [==============================] - 15s 302us/sample - loss: 1.3326 - acc: 0.5240 - val_loss: 1.5608 - val_acc: 0.4653\n",
      "Epoch 39/50\n",
      "50000/50000 [==============================] - 15s 305us/sample - loss: 1.3288 - acc: 0.5262 - val_loss: 1.5167 - val_acc: 0.4680\n",
      "Epoch 40/50\n",
      "50000/50000 [==============================] - 15s 302us/sample - loss: 1.3273 - acc: 0.5288 - val_loss: 1.4935 - val_acc: 0.4795\n",
      "Epoch 41/50\n",
      "50000/50000 [==============================] - 15s 302us/sample - loss: 1.3235 - acc: 0.5279 - val_loss: 1.5122 - val_acc: 0.4715\n",
      "Epoch 42/50\n",
      "50000/50000 [==============================] - 15s 302us/sample - loss: 1.3223 - acc: 0.5281 - val_loss: 1.4887 - val_acc: 0.4809\n",
      "Epoch 43/50\n",
      "50000/50000 [==============================] - 15s 302us/sample - loss: 1.3224 - acc: 0.5276 - val_loss: 1.5240 - val_acc: 0.4681\n",
      "Epoch 44/50\n",
      "50000/50000 [==============================] - 15s 301us/sample - loss: 1.3162 - acc: 0.5300 - val_loss: 1.5497 - val_acc: 0.4617\n",
      "Epoch 45/50\n",
      "50000/50000 [==============================] - 15s 301us/sample - loss: 1.3166 - acc: 0.5305 - val_loss: 1.5011 - val_acc: 0.4775\n",
      "Epoch 46/50\n",
      "50000/50000 [==============================] - 15s 301us/sample - loss: 1.3130 - acc: 0.5303 - val_loss: 1.5181 - val_acc: 0.4644\n",
      "Epoch 47/50\n",
      "50000/50000 [==============================] - 15s 302us/sample - loss: 1.3110 - acc: 0.5339 - val_loss: 1.4877 - val_acc: 0.4807\n",
      "Epoch 48/50\n",
      "50000/50000 [==============================] - 15s 301us/sample - loss: 1.3117 - acc: 0.5323 - val_loss: 1.5086 - val_acc: 0.4775\n",
      "Epoch 49/50\n",
      "50000/50000 [==============================] - 15s 302us/sample - loss: 1.3046 - acc: 0.5340 - val_loss: 1.5326 - val_acc: 0.4821\n",
      "Epoch 50/50\n",
      "50000/50000 [==============================] - 15s 302us/sample - loss: 1.3045 - acc: 0.5342 - val_loss: 1.5128 - val_acc: 0.4773\n"
     ]
    }
   ],
   "source": [
    "# [Your Work] fit a model with train images and labels for 50 epochs\n",
    "h2 = model.fit(train_images, train_labels, epochs=50 , validation_data=(test_images,test_labels), batch_size=32)"
   ]
  },
  {
   "cell_type": "markdown",
   "metadata": {},
   "source": [
    "#### <a id='p1C4'/> งานที่ 1.C.4: สั่งบันทึกตัวแบบ\n",
    "ให้ใช้เซลล์ด้านล่างนี้เพื่อบันทึกตัวแบบลงในไฟล์ชื่อ 'trained_model_hw3-1_2.hdf5'"
   ]
  },
  {
   "cell_type": "code",
   "execution_count": 18,
   "metadata": {},
   "outputs": [],
   "source": [
    "# [Your Work]\n",
    "model.save('trained_model_hw3-1_2.hdf5')"
   ]
  },
  {
   "cell_type": "markdown",
   "metadata": {},
   "source": [
    "### <a id='p1D'/> งานที่ 1.D: เปรียบเทียบสมรรถนะของตัวแบบด้วย plotly\n",
    "เรามีประวัติการฝึกและทดสอบตัวแบบด้วย test set ในตัวแปร h1 และ h2 แล้ว เราสามารถนำข้อมูลทั้งสองชุดมาวาดลงในกราฟเดียวกันเพื่อให้ง่ายต่อการเปรียบเทียบแบบ side-by-side ได้  วิธีนี้เป็นที่นิยมในงานวิจัยที่เราต้องการเปรียบเทียบว่าตัวแบบสองตัว (หรือมากกว่านั้นก็ได้) มีความแม่นยำแตกต่างกันเพียงใด "
   ]
  },
  {
   "cell_type": "markdown",
   "metadata": {},
   "source": [
    "#### <a id='p1D1'/> งานที่ 1.D.1: สร้างตัวแปรเก็บข้อมูลการฝึกโมเดลจาก h2\n",
    "ก่อนหน้านี้เรามีข้อมูลกราฟของ h1 ในตัวแปรชื่อ train_acc_trace1 และ test_acc_trace1 แล้ว เราจะทำแบบเดียวกันกับการเก็บข้อมูลกราฟของ h2 เพียงแต่เปลี่ยนชื่อเป็นชื่อ train_acc_trace2 และ test_acc_trace2 และเปลี่ยนชื่อ (name) ของเส้นกราฟเป็น train 2 และ test 2 ด้วย"
   ]
  },
  {
   "cell_type": "code",
   "execution_count": 19,
   "metadata": {},
   "outputs": [],
   "source": [
    "# [ํYour Work]\n",
    "# [ํYour Work]\n",
    "train_acc_trace2 = go.Scatter(\n",
    "    x = epochs_x,\n",
    "    y = h2.history['acc'],\n",
    "    mode = 'lines+markers',\n",
    "    name = 'train2'\n",
    ")\n",
    "\n",
    "test_acc_trace2 = go.Scatter(\n",
    "    x = epochs_x,\n",
    "    y = h2.history['val_acc'],\n",
    "    mode = 'lines+markers',\n",
    "    name = 'test2'\n",
    ")\n",
    "#fig = dict(data=[train_acc_trace1,test_acc_trace1])"
   ]
  },
  {
   "cell_type": "markdown",
   "metadata": {},
   "source": [
    "#### <a id='p1D2'/> งานที่ 1.D.2 พล็อตกราฟ 4 เส้นจากสองตัวแบบในผังเดียวกัน\n",
    "ในกรณีนี้ เราอยากเทียบสมรรถนะของตัวแบบทั้งสองควบคู่กันไปทั้งในตอนฝึกและตอนทดสอบ ดังนั้นเราจะพล็อต train_acc_trace1, train_acc_trace2, test_acc_trace1, test_acc_trace2 ไว้ด้วยกันในผังเดียว"
   ]
  },
  {
   "cell_type": "code",
   "execution_count": 20,
   "metadata": {},
   "outputs": [
    {
     "data": {
      "application/vnd.plotly.v1+json": {
       "config": {
        "linkText": "Export to plot.ly",
        "plotlyServerURL": "https://plot.ly",
        "responsive": true,
        "showLink": false
       },
       "data": [
        {
         "mode": "lines+markers",
         "name": "train",
         "type": "scatter",
         "uid": "26335514-bce7-4527-a373-fe58c80b9dc7",
         "x": [
          1,
          2,
          3,
          4,
          5,
          6,
          7,
          8,
          9,
          10,
          11,
          12,
          13,
          14,
          15,
          16,
          17,
          18,
          19,
          20,
          21,
          22,
          23,
          24,
          25,
          26,
          27,
          28,
          29,
          30,
          31,
          32,
          33,
          34,
          35,
          36,
          37,
          38,
          39,
          40,
          41,
          42,
          43,
          44,
          45,
          46,
          47,
          48,
          49,
          50
         ],
         "y": [
          0.3249399960041046,
          0.3843800127506256,
          0.40285998582839966,
          0.4134399890899658,
          0.4199399948120117,
          0.4274199903011322,
          0.4311400055885315,
          0.4350999891757965,
          0.43634000420570374,
          0.4441800117492676,
          0.44374001026153564,
          0.44839999079704285,
          0.4512600004673004,
          0.4515799880027771,
          0.4537000060081482,
          0.4551999866962433,
          0.4593600034713745,
          0.4590800106525421,
          0.46347999572753906,
          0.4640600085258484,
          0.46470001339912415,
          0.46452000737190247,
          0.4654200077056885,
          0.4670200049877167,
          0.46761998534202576,
          0.4679200053215027,
          0.46950000524520874,
          0.47029998898506165,
          0.4712800085544586,
          0.4728200137615204,
          0.4756599962711334,
          0.47534000873565674,
          0.476500004529953,
          0.48100000619888306,
          0.4779999852180481,
          0.4792799949645996,
          0.47953999042510986,
          0.4796200096607208,
          0.4794999957084656,
          0.4817799925804138,
          0.48539999127388,
          0.482699990272522,
          0.4822799861431122,
          0.48212000727653503,
          0.4854600131511688,
          0.4850800037384033,
          0.4837000072002411,
          0.48561999201774597,
          0.48532000184059143,
          0.4867999851703644
         ]
        },
        {
         "mode": "lines+markers",
         "name": "train2",
         "type": "scatter",
         "uid": "922d41ad-3a0a-4503-a0c2-7d73ca2183e4",
         "x": [
          1,
          2,
          3,
          4,
          5,
          6,
          7,
          8,
          9,
          10,
          11,
          12,
          13,
          14,
          15,
          16,
          17,
          18,
          19,
          20,
          21,
          22,
          23,
          24,
          25,
          26,
          27,
          28,
          29,
          30,
          31,
          32,
          33,
          34,
          35,
          36,
          37,
          38,
          39,
          40,
          41,
          42,
          43,
          44,
          45,
          46,
          47,
          48,
          49,
          50
         ],
         "y": [
          0.3307200074195862,
          0.392300009727478,
          0.41850000619888306,
          0.43290001153945923,
          0.4462999999523163,
          0.45451998710632324,
          0.4577600061893463,
          0.4659000039100647,
          0.4699000120162964,
          0.47422000765800476,
          0.47898000478744507,
          0.4807400107383728,
          0.48465999960899353,
          0.4857200086116791,
          0.4918000102043152,
          0.4939799904823303,
          0.49314001202583313,
          0.4967600107192993,
          0.4997200071811676,
          0.4990200102329254,
          0.5044000148773193,
          0.5026000142097473,
          0.5057399868965149,
          0.5097000002861023,
          0.5093399882316589,
          0.508400022983551,
          0.5125799775123596,
          0.5130199790000916,
          0.5149400234222412,
          0.5144400000572205,
          0.5154399871826172,
          0.517520010471344,
          0.5202999711036682,
          0.5204799771308899,
          0.5177000164985657,
          0.5210400223731995,
          0.5229200124740601,
          0.5239999890327454,
          0.5261600017547607,
          0.5288400053977966,
          0.5279200077056885,
          0.5281199812889099,
          0.5275800228118896,
          0.530019998550415,
          0.530460000038147,
          0.5303000211715698,
          0.5338799953460693,
          0.5322999954223633,
          0.5339599847793579,
          0.5341600179672241
         ]
        },
        {
         "mode": "lines+markers",
         "name": "test",
         "type": "scatter",
         "uid": "424215ab-52a8-42ca-94e8-b14f1c2dc484",
         "x": [
          1,
          2,
          3,
          4,
          5,
          6,
          7,
          8,
          9,
          10,
          11,
          12,
          13,
          14,
          15,
          16,
          17,
          18,
          19,
          20,
          21,
          22,
          23,
          24,
          25,
          26,
          27,
          28,
          29,
          30,
          31,
          32,
          33,
          34,
          35,
          36,
          37,
          38,
          39,
          40,
          41,
          42,
          43,
          44,
          45,
          46,
          47,
          48,
          49,
          50
         ],
         "y": [
          0.37139999866485596,
          0.3995000123977661,
          0.4106000065803528,
          0.42590001225471497,
          0.4058000147342682,
          0.41519999504089355,
          0.39309999346733093,
          0.43720000982284546,
          0.41929998993873596,
          0.43070000410079956,
          0.4318000078201294,
          0.4259999990463257,
          0.43130001425743103,
          0.43380001187324524,
          0.44190001487731934,
          0.44530001282691956,
          0.4334999918937683,
          0.4399999976158142,
          0.42879998683929443,
          0.44589999318122864,
          0.43880000710487366,
          0.4512999951839447,
          0.4471000134944916,
          0.4462999999523163,
          0.4551999866962433,
          0.45239999890327454,
          0.4408999979496002,
          0.4309000074863434,
          0.4465999901294708,
          0.4471000134944916,
          0.446399986743927,
          0.44690001010894775,
          0.4417000114917755,
          0.4584999978542328,
          0.4410000145435333,
          0.4458000063896179,
          0.4496000111103058,
          0.44609999656677246,
          0.4287000000476837,
          0.436599999666214,
          0.45570001006126404,
          0.45570001006126404,
          0.4253000020980835,
          0.44830000400543213,
          0.45170000195503235,
          0.4350999891757965,
          0.44999998807907104,
          0.4472000002861023,
          0.44859999418258667,
          0.4422999918460846
         ]
        },
        {
         "mode": "lines+markers",
         "name": "test2",
         "type": "scatter",
         "uid": "b0f5c640-ecbe-473d-ae96-a9cc7808c707",
         "x": [
          1,
          2,
          3,
          4,
          5,
          6,
          7,
          8,
          9,
          10,
          11,
          12,
          13,
          14,
          15,
          16,
          17,
          18,
          19,
          20,
          21,
          22,
          23,
          24,
          25,
          26,
          27,
          28,
          29,
          30,
          31,
          32,
          33,
          34,
          35,
          36,
          37,
          38,
          39,
          40,
          41,
          42,
          43,
          44,
          45,
          46,
          47,
          48,
          49,
          50
         ],
         "y": [
          0.3718999922275543,
          0.3937999904155731,
          0.42289999127388,
          0.44600000977516174,
          0.4422000050544739,
          0.4465999901294708,
          0.4510999917984009,
          0.4383000135421753,
          0.44339999556541443,
          0.46560001373291016,
          0.46000000834465027,
          0.4498000144958496,
          0.45890000462532043,
          0.4627000093460083,
          0.46560001373291016,
          0.42329999804496765,
          0.45820000767707825,
          0.4717999994754791,
          0.4763000011444092,
          0.47769999504089355,
          0.46160000562667847,
          0.46959999203681946,
          0.46059998869895935,
          0.4823000133037567,
          0.4731999933719635,
          0.46880000829696655,
          0.4763000011444092,
          0.4812999963760376,
          0.47589999437332153,
          0.4803999960422516,
          0.4778999984264374,
          0.4869999885559082,
          0.4562999904155731,
          0.48330000042915344,
          0.4625000059604645,
          0.45989999175071716,
          0.47850000858306885,
          0.4652999937534332,
          0.46799999475479126,
          0.4794999957084656,
          0.4715000092983246,
          0.48089998960494995,
          0.46810001134872437,
          0.4616999924182892,
          0.47749999165534973,
          0.4643999934196472,
          0.48069998621940613,
          0.47749999165534973,
          0.4821000099182129,
          0.4772999882698059
         ]
        }
       ],
       "layout": {
        "autosize": true,
        "xaxis": {
         "autorange": true,
         "range": [
          -2.1056338028169015,
          53.105633802816904
         ],
         "type": "linear"
        },
        "yaxis": {
         "autorange": true,
         "range": [
          0.30767426603627435,
          0.5514257479350544
         ],
         "type": "linear"
        }
       }
      },
      "image/png": "[encoded data removed]",
      "text/html": [
       "<div>\n",
       "        \n",
       "        \n",
       "            <div id=\"d4220ac6-a2d3-4529-a63b-648771c0d5ad\" class=\"plotly-graph-div\" style=\"height:525px; width:100%;\"></div>\n",
       "            <script type=\"text/javascript\">\n",
       "                require([\"plotly\"], function(Plotly) {\n",
       "                    window.PLOTLYENV=window.PLOTLYENV || {};\n",
       "                    window.PLOTLYENV.BASE_URL='https://plot.ly';\n",
       "                    \n",
       "                if (document.getElementById(\"d4220ac6-a2d3-4529-a63b-648771c0d5ad\")) {\n",
       "                    Plotly.newPlot(\n",
       "                        'd4220ac6-a2d3-4529-a63b-648771c0d5ad',\n",
       "                        [{\"mode\": \"lines+markers\", \"name\": \"train\", \"type\": \"scatter\", \"uid\": \"11064770-1d62-48ed-a9cd-2dd53795a7fa\", \"x\": [1.0, 2.0, 3.0, 4.0, 5.0, 6.0, 7.0, 8.0, 9.0, 10.0, 11.0, 12.0, 13.0, 14.0, 15.0, 16.0, 17.0, 18.0, 19.0, 20.0, 21.0, 22.0, 23.0, 24.0, 25.0, 26.0, 27.0, 28.0, 29.0, 30.0, 31.0, 32.0, 33.0, 34.0, 35.0, 36.0, 37.0, 38.0, 39.0, 40.0, 41.0, 42.0, 43.0, 44.0, 45.0, 46.0, 47.0, 48.0, 49.0, 50.0], \"y\": [0.3249399960041046, 0.3843800127506256, 0.40285998582839966, 0.4134399890899658, 0.4199399948120117, 0.4274199903011322, 0.4311400055885315, 0.4350999891757965, 0.43634000420570374, 0.4441800117492676, 0.44374001026153564, 0.44839999079704285, 0.4512600004673004, 0.4515799880027771, 0.4537000060081482, 0.4551999866962433, 0.4593600034713745, 0.4590800106525421, 0.46347999572753906, 0.4640600085258484, 0.46470001339912415, 0.46452000737190247, 0.4654200077056885, 0.4670200049877167, 0.46761998534202576, 0.4679200053215027, 0.46950000524520874, 0.47029998898506165, 0.4712800085544586, 0.4728200137615204, 0.4756599962711334, 0.47534000873565674, 0.476500004529953, 0.48100000619888306, 0.4779999852180481, 0.4792799949645996, 0.47953999042510986, 0.4796200096607208, 0.4794999957084656, 0.4817799925804138, 0.48539999127388, 0.482699990272522, 0.4822799861431122, 0.48212000727653503, 0.4854600131511688, 0.4850800037384033, 0.4837000072002411, 0.48561999201774597, 0.48532000184059143, 0.4867999851703644]}, {\"mode\": \"lines+markers\", \"name\": \"train2\", \"type\": \"scatter\", \"uid\": \"98759e02-28eb-4703-8b86-cc077ad1fba8\", \"x\": [1.0, 2.0, 3.0, 4.0, 5.0, 6.0, 7.0, 8.0, 9.0, 10.0, 11.0, 12.0, 13.0, 14.0, 15.0, 16.0, 17.0, 18.0, 19.0, 20.0, 21.0, 22.0, 23.0, 24.0, 25.0, 26.0, 27.0, 28.0, 29.0, 30.0, 31.0, 32.0, 33.0, 34.0, 35.0, 36.0, 37.0, 38.0, 39.0, 40.0, 41.0, 42.0, 43.0, 44.0, 45.0, 46.0, 47.0, 48.0, 49.0, 50.0], \"y\": [0.3307200074195862, 0.392300009727478, 0.41850000619888306, 0.43290001153945923, 0.4462999999523163, 0.45451998710632324, 0.4577600061893463, 0.4659000039100647, 0.4699000120162964, 0.47422000765800476, 0.47898000478744507, 0.4807400107383728, 0.48465999960899353, 0.4857200086116791, 0.4918000102043152, 0.4939799904823303, 0.49314001202583313, 0.4967600107192993, 0.4997200071811676, 0.4990200102329254, 0.5044000148773193, 0.5026000142097473, 0.5057399868965149, 0.5097000002861023, 0.5093399882316589, 0.508400022983551, 0.5125799775123596, 0.5130199790000916, 0.5149400234222412, 0.5144400000572205, 0.5154399871826172, 0.517520010471344, 0.5202999711036682, 0.5204799771308899, 0.5177000164985657, 0.5210400223731995, 0.5229200124740601, 0.5239999890327454, 0.5261600017547607, 0.5288400053977966, 0.5279200077056885, 0.5281199812889099, 0.5275800228118896, 0.530019998550415, 0.530460000038147, 0.5303000211715698, 0.5338799953460693, 0.5322999954223633, 0.5339599847793579, 0.5341600179672241]}, {\"mode\": \"lines+markers\", \"name\": \"test\", \"type\": \"scatter\", \"uid\": \"626b4446-f90e-424e-b77f-740fe949673e\", \"x\": [1.0, 2.0, 3.0, 4.0, 5.0, 6.0, 7.0, 8.0, 9.0, 10.0, 11.0, 12.0, 13.0, 14.0, 15.0, 16.0, 17.0, 18.0, 19.0, 20.0, 21.0, 22.0, 23.0, 24.0, 25.0, 26.0, 27.0, 28.0, 29.0, 30.0, 31.0, 32.0, 33.0, 34.0, 35.0, 36.0, 37.0, 38.0, 39.0, 40.0, 41.0, 42.0, 43.0, 44.0, 45.0, 46.0, 47.0, 48.0, 49.0, 50.0], \"y\": [0.37139999866485596, 0.3995000123977661, 0.4106000065803528, 0.42590001225471497, 0.4058000147342682, 0.41519999504089355, 0.39309999346733093, 0.43720000982284546, 0.41929998993873596, 0.43070000410079956, 0.4318000078201294, 0.4259999990463257, 0.43130001425743103, 0.43380001187324524, 0.44190001487731934, 0.44530001282691956, 0.4334999918937683, 0.4399999976158142, 0.42879998683929443, 0.44589999318122864, 0.43880000710487366, 0.4512999951839447, 0.4471000134944916, 0.4462999999523163, 0.4551999866962433, 0.45239999890327454, 0.4408999979496002, 0.4309000074863434, 0.4465999901294708, 0.4471000134944916, 0.446399986743927, 0.44690001010894775, 0.4417000114917755, 0.4584999978542328, 0.4410000145435333, 0.4458000063896179, 0.4496000111103058, 0.44609999656677246, 0.4287000000476837, 0.436599999666214, 0.45570001006126404, 0.45570001006126404, 0.4253000020980835, 0.44830000400543213, 0.45170000195503235, 0.4350999891757965, 0.44999998807907104, 0.4472000002861023, 0.44859999418258667, 0.4422999918460846]}, {\"mode\": \"lines+markers\", \"name\": \"test2\", \"type\": \"scatter\", \"uid\": \"a9708171-b194-4df3-af1f-f5a61c21a408\", \"x\": [1.0, 2.0, 3.0, 4.0, 5.0, 6.0, 7.0, 8.0, 9.0, 10.0, 11.0, 12.0, 13.0, 14.0, 15.0, 16.0, 17.0, 18.0, 19.0, 20.0, 21.0, 22.0, 23.0, 24.0, 25.0, 26.0, 27.0, 28.0, 29.0, 30.0, 31.0, 32.0, 33.0, 34.0, 35.0, 36.0, 37.0, 38.0, 39.0, 40.0, 41.0, 42.0, 43.0, 44.0, 45.0, 46.0, 47.0, 48.0, 49.0, 50.0], \"y\": [0.3718999922275543, 0.3937999904155731, 0.42289999127388, 0.44600000977516174, 0.4422000050544739, 0.4465999901294708, 0.4510999917984009, 0.4383000135421753, 0.44339999556541443, 0.46560001373291016, 0.46000000834465027, 0.4498000144958496, 0.45890000462532043, 0.4627000093460083, 0.46560001373291016, 0.42329999804496765, 0.45820000767707825, 0.4717999994754791, 0.4763000011444092, 0.47769999504089355, 0.46160000562667847, 0.46959999203681946, 0.46059998869895935, 0.4823000133037567, 0.4731999933719635, 0.46880000829696655, 0.4763000011444092, 0.4812999963760376, 0.47589999437332153, 0.4803999960422516, 0.4778999984264374, 0.4869999885559082, 0.4562999904155731, 0.48330000042915344, 0.4625000059604645, 0.45989999175071716, 0.47850000858306885, 0.4652999937534332, 0.46799999475479126, 0.4794999957084656, 0.4715000092983246, 0.48089998960494995, 0.46810001134872437, 0.4616999924182892, 0.47749999165534973, 0.4643999934196472, 0.48069998621940613, 0.47749999165534973, 0.4821000099182129, 0.4772999882698059]}],\n",
       "                        {},\n",
       "                        {\"showLink\": false, \"linkText\": \"Export to plot.ly\", \"plotlyServerURL\": \"https://plot.ly\", \"responsive\": true}\n",
       "                    ).then(function(){\n",
       "                            \n",
       "var gd = document.getElementById('d4220ac6-a2d3-4529-a63b-648771c0d5ad');\n",
       "var x = new MutationObserver(function (mutations, observer) {{\n",
       "        var display = window.getComputedStyle(gd).display;\n",
       "        if (!display || display === 'none') {{\n",
       "            console.log([gd, 'removed!']);\n",
       "            Plotly.purge(gd);\n",
       "            observer.disconnect();\n",
       "        }}\n",
       "}});\n",
       "\n",
       "// Listen for the removal of the full notebook cells\n",
       "var notebookContainer = gd.closest('#notebook-container');\n",
       "if (notebookContainer) {{\n",
       "    x.observe(notebookContainer, {childList: true});\n",
       "}}\n",
       "\n",
       "// Listen for the clearing of the current output cell\n",
       "var outputEl = gd.closest('.output');\n",
       "if (outputEl) {{\n",
       "    x.observe(outputEl, {childList: true});\n",
       "}}\n",
       "\n",
       "                        })\n",
       "                };\n",
       "                });\n",
       "            </script>\n",
       "        </div>"
      ]
     },
     "metadata": {},
     "output_type": "display_data"
    }
   ],
   "source": [
    "# [Your Work]\n",
    "iplot([train_acc_trace1, train_acc_trace2, test_acc_trace1, test_acc_trace2])"
   ]
  },
  {
   "cell_type": "markdown",
   "metadata": {},
   "source": [
    "### <a id='q1D'/> Quick Quiz 1.D: สมรรถนะของการฝึกและทดสอบในตัวแบบ\n",
    "มีประเด็นที่เราควรสังเกตและตอบออกมาทางพื้นที่ด้านล่างดังนี้\n",
    "1. ในตอนฝึกตัวแบบที่สองซึ่งมีโหนดมากกว่ามีแนวโน้มทำได้ดีกว่าตัวแบบแรกอย่างคงเส้นคงวาหรือไม่\n",
    "2. ในตอนทดสอบตัวแบบที่สองมีแนวโน้มทำได้ดีกว่าตัวแบบแรกอย่างคงเส้นคงวาหรือไม่\n",
    "3. คำตอบในข้อ 1 และ 2 ขัดกันหรือสอดคล้องกัน จงให้เหตุผลสนับสนุนว่าทำไมจึงเป็นเช่นนั้น"
   ]
  },
  {
   "cell_type": "markdown",
   "metadata": {},
   "source": [
    "(พื้นที่สำหรับเติมคำตอบ ดับเบิลคลิกเพื่อเติมคำตอบเช่นเดียวกับการบ้านที่แล้ว)\n"
   ]
  },
  {
   "cell_type": "markdown",
   "metadata": {},
   "source": [
    "## <a id='p2'/> งานที่ 2: การใช้โครงข่ายคอนโวลูชัน\n",
    "แม้เราจะเพิ่มจำนวนโหนดในชั้นซ่อนตัว (hidden layer) ไปแล้ว แต่ความแม่นยำที่ได้ก็ใช่ว่าจะดูดี นั่นอาจเป็นเพราะเราเลือกใช้ชั้นแบบเชื่อมต่อทั้งหมด (fully connected layer หรือ dense layer) ในขณะที่ชั้นแบบคอนโวลูชัน (convolutional layer) อาจจะให้ผลดีที่ดีกว่าเพราะมีความสอดคล้องกับประสาทด้านการมองเห็นของมนุษย์มากกว่า ดังนั้นเราจะมาลองใช้ตัวแบบที่มีชั้นคอนโวลูชันเพื่อศึกษาสมรรถนะของมัน\n",
    "\n",
    "แบบชั้นเดียว\n",
    "แบบสองชั้น\n",
    "ทดลองเปลี่ยนจำนวน feature maps เพื่อสังเกตความเปลี่ยนแปลงเรื่องความแม่นยำ\n",
    "ทดลองเปลี่ยนจำนวนภาพในกลุ่มย่อยเพื่อสังเกตความเปลี่ยนแปลงเรื่องความแม่นยำและเวลาที่ใช้ในการฝึก"
   ]
  },
  {
   "cell_type": "markdown",
   "metadata": {},
   "source": [
    "### <a id='p2A'/> งานที่ 2.A: การสร้างชั้นคอนโวลูชันแบบพื้นฐาน\n",
    "สิ่งที่สำคัญมากในการใช้ชั้นคอนโวลูชันคือการเลือกขนาดของตัวกรอง (filter) และจำนวนฟีทเจอร์แม็พ ซึ่งในที่นี้เราจะเลือกใช้ตัวกรองขนาดเล็กคือ 3x3 และมีจำนวนฟีทเจอร์แม็พ 16 อัน ส่วนฟังก์ชันแอ็คติเวชันยังคงเลือกใช้ relu เช่นเดิม ซึ่งการใช้ชั้นคอนโวลูชันนี้ เรามักจะไม่ใช้เป็นชั้นสุดท้ายที่ให้ผลลัพธ์ แต่เราจะนำชั้นแบบ Dense ที่มีจำนวนโหนดเท่ากับจำนวนคลาสมาเป็นชั้นผลลัพธ์แทน \n",
    "\n",
    "อย่างไรก็ตาม เราไม่สามารถเชื่อมชั้นคอนโวลูชันเข้ากับชั้นแบบ Dense ได้โดยตรง เราจะเอาชั้นแบบ Flatten มาคั่นก่อน กล่าวคือ\n",
    "1. ตัวแบบของเรามีชั้นแรกเป็นแบบ Conv2D, มี activation เป็น relu, มี input_shape เป็น (32, 32, 3), มีขนาดฟิลเตอร์เป็น (3, 3) และมีจำนวนฟีทเจอร์แม็พเป็น 16\n",
    "2. ชั้นที่สองเป็นชั้นปรับรูปร่างให้เป็นเวคเตอร์เดี่ยว (Flatten)\n",
    "3. ชั้นผลลัพธ์ (ชั้นที่สาม) เป็นแบบ Dense มี 10 โหนด และใช้ softmax (หยิบของเดิมมาใช้ได้)"
   ]
  },
  {
   "cell_type": "code",
   "execution_count": 21,
   "metadata": {},
   "outputs": [],
   "source": [
    "# [Your Work] \n",
    "model = keras.Sequential([\n",
    "    keras.layers.Conv2D(16, (3,3), input_shape=(32, 32, 3), activation=tf.nn.relu),\n",
    "    keras.layers.Flatten(),\n",
    "    keras.layers.Dense(10, activation=tf.nn.softmax)\n",
    "])"
   ]
  },
  {
   "cell_type": "markdown",
   "metadata": {},
   "source": [
    "ต่อด้วยการคอมไพล์และพิมพ์สรุปทันทีเช่นเดิม"
   ]
  },
  {
   "cell_type": "code",
   "execution_count": 22,
   "metadata": {},
   "outputs": [
    {
     "name": "stdout",
     "output_type": "stream",
     "text": [
      "_________________________________________________________________\n",
      "Layer (type)                 Output Shape              Param #   \n",
      "=================================================================\n",
      "conv2d (Conv2D)              (None, 30, 30, 16)        448       \n",
      "_________________________________________________________________\n",
      "flatten_2 (Flatten)          (None, 14400)             0         \n",
      "_________________________________________________________________\n",
      "dense_4 (Dense)              (None, 10)                144010    \n",
      "=================================================================\n",
      "Total params: 144,458\n",
      "Trainable params: 144,458\n",
      "Non-trainable params: 0\n",
      "_________________________________________________________________\n"
     ]
    }
   ],
   "source": [
    "# [Your Work] \n",
    "model.compile(optimizer=keras.optimizers.Adam(), \n",
    "              loss='sparse_categorical_crossentropy',\n",
    "              metrics=['accuracy'])\n",
    "model.summary()"
   ]
  },
  {
   "cell_type": "markdown",
   "metadata": {},
   "source": [
    "คราวนี้เราจะฝึกตัวแบบแล้ว แต่เพื่อความรวดเร็วเราจะฝึกเพียงแค่ 20 epoch และเพื่อให้ง่ายต่อการเก็บผลลัพธ์มาเปรียบเทียบ เราจะเก็บประวัติการฝึกไว้ในตัวแปร h3"
   ]
  },
  {
   "cell_type": "code",
   "execution_count": 23,
   "metadata": {},
   "outputs": [
    {
     "name": "stdout",
     "output_type": "stream",
     "text": [
      "Train on 50000 samples, validate on 10000 samples\n",
      "Epoch 1/20\n",
      "50000/50000 [==============================] - 12s 231us/sample - loss: 1.5176 - acc: 0.4669 - val_loss: 1.3718 - val_acc: 0.5174\n",
      "Epoch 2/20\n",
      "50000/50000 [==============================] - 10s 196us/sample - loss: 1.2445 - acc: 0.5699 - val_loss: 1.2777 - val_acc: 0.5454\n",
      "Epoch 3/20\n",
      "50000/50000 [==============================] - 10s 200us/sample - loss: 1.1518 - acc: 0.6011 - val_loss: 1.2452 - val_acc: 0.5685\n",
      "Epoch 4/20\n",
      "50000/50000 [==============================] - 9s 183us/sample - loss: 1.0866 - acc: 0.6229 - val_loss: 1.2219 - val_acc: 0.5766\n",
      "Epoch 5/20\n",
      "50000/50000 [==============================] - 9s 181us/sample - loss: 1.0335 - acc: 0.6443 - val_loss: 1.2478 - val_acc: 0.5725\n",
      "Epoch 6/20\n",
      "50000/50000 [==============================] - 9s 189us/sample - loss: 0.9828 - acc: 0.6616 - val_loss: 1.2692 - val_acc: 0.5653\n",
      "Epoch 7/20\n",
      "50000/50000 [==============================] - 9s 186us/sample - loss: 0.9502 - acc: 0.6712 - val_loss: 1.2550 - val_acc: 0.5626\n",
      "Epoch 8/20\n",
      "50000/50000 [==============================] - 9s 188us/sample - loss: 0.9152 - acc: 0.6837 - val_loss: 1.2704 - val_acc: 0.5719\n",
      "Epoch 9/20\n",
      "50000/50000 [==============================] - 9s 186us/sample - loss: 0.8822 - acc: 0.6947 - val_loss: 1.2830 - val_acc: 0.5752\n",
      "Epoch 10/20\n",
      "50000/50000 [==============================] - 10s 195us/sample - loss: 0.8479 - acc: 0.7062 - val_loss: 1.2806 - val_acc: 0.5685\n",
      "Epoch 11/20\n",
      "50000/50000 [==============================] - 9s 186us/sample - loss: 0.8181 - acc: 0.7183 - val_loss: 1.3588 - val_acc: 0.5523\n",
      "Epoch 12/20\n",
      "50000/50000 [==============================] - 9s 180us/sample - loss: 0.7893 - acc: 0.7293 - val_loss: 1.3330 - val_acc: 0.5696\n",
      "Epoch 13/20\n",
      "50000/50000 [==============================] - 10s 192us/sample - loss: 0.7638 - acc: 0.7362 - val_loss: 1.3404 - val_acc: 0.5686\n",
      "Epoch 14/20\n",
      "50000/50000 [==============================] - 9s 188us/sample - loss: 0.7382 - acc: 0.7471 - val_loss: 1.3910 - val_acc: 0.5613\n",
      "Epoch 15/20\n",
      "50000/50000 [==============================] - 10s 190us/sample - loss: 0.7155 - acc: 0.7533 - val_loss: 1.3854 - val_acc: 0.5668\n",
      "Epoch 16/20\n",
      "50000/50000 [==============================] - 9s 189us/sample - loss: 0.6880 - acc: 0.7627 - val_loss: 1.4398 - val_acc: 0.5557\n",
      "Epoch 17/20\n",
      "50000/50000 [==============================] - 9s 188us/sample - loss: 0.6679 - acc: 0.7703 - val_loss: 1.5101 - val_acc: 0.5466\n",
      "Epoch 18/20\n",
      "50000/50000 [==============================] - 10s 191us/sample - loss: 0.6465 - acc: 0.7798 - val_loss: 1.5050 - val_acc: 0.5498\n",
      "Epoch 19/20\n",
      "50000/50000 [==============================] - 9s 189us/sample - loss: 0.6231 - acc: 0.7860 - val_loss: 1.4819 - val_acc: 0.5579\n",
      "Epoch 20/20\n",
      "50000/50000 [==============================] - 9s 190us/sample - loss: 0.6038 - acc: 0.7932 - val_loss: 1.5516 - val_acc: 0.5530\n"
     ]
    }
   ],
   "source": [
    "# [Your Work] fit a model with train images and labels for 20 epochs\n",
    "h3 = model.fit(train_images, train_labels, epochs=20 , validation_data=(test_images,test_labels), batch_size=32)"
   ]
  },
  {
   "cell_type": "markdown",
   "metadata": {},
   "source": [
    "### <a id='p2B'/> งานที่ 2.B: สร้างตัวแบบที่มีการย่อรูปและซ้อนชั้นคอนโวลูชัน\n",
    "เนื่องจากสายตาของมนุษย์มีการพิจารณาภาพทั้งในระดับหยาบและละเอียด ซึ่งข้อมูลในทั้งสองระดับอาจจะมีความสำคัญทั้งคู่สำหรับการจำแนกวัตถุ ทำให้เราจะย่อฟีทเจอร์แม็พจากการทำคอนโวลูชันในชั้นแรกก่อนด้วยการทำ Max Pooling แล้วจึงเรียกใช้ชั้นคอนโวลูชันอีกอัน นอกจากนี้เราจะทดสอบการใช้พารามิเตอร์ padding='same' ในชั้นคอนโวลูชันอันแรกด้วย\n",
    "\n",
    "สรุปแล้วโครงสร้างของตัวแบบที่เราต้องการคือ\n",
    "1. ตัวแบบของเรามีชั้นแรกยังเหมือนเดิม **เพิ่มเติมคือพารามิเตอร์ padding='same'**\n",
    "2. ชั้นที่สองเป็นชั้น keras.layers.MaxPooling2D (ใช้พารามิเตอร์แบบดีฟอลต์ได้ คือใช้วงเล็บเปล่าในการระบุพารามิเตอร์)\n",
    "3. ชั้นที่สามเป็นชั้นคอนโวลูชัน กำหนดให้พารามิเตอร์เหมือนชั้นแรก ยกเว้นจำนวนฟีทเจอร์แม็พให้เพิ่มเป็น 32 อัน ใช้ padding='same' เช่นกัน\n",
    "4. ชั้นที่สี่เป็นชั้นปรับรูปร่างให้เป็นเวคเตอร์เดี่ยว (Flatten)\n",
    "3. ชั้นผลลัพธ์ (ชั้นที่ห้า) เป็นแบบ Dense มี 10 โหนด และใช้ softmax (หยิบของเดิมมาใช้ได้)\n",
    "\n",
    "**หมายเหตุ 1** เราไม่จำเป็นต้องคั่นชั้นคอนโวลูชันด้วยการย่อรูปเสมอไป การซ้อนชั้นคอนโวลูชันแบบติดกันไป แท้จริงถือเป็นเรื่องปรกติ (พบบ่อยในโครงสร้างที่ซับซ้อนขึ้นเช่น ResNet หรือ U-Net) <br/>\n",
    "**หมายเหตุ 2** เรามักจะเพิ่มหรือคงค่าจำนวนฟีทเจอร์แม็พในชั้นลึก ๆ เพราะทรัพยากรการคำนวณเรามีมากพอที่จะจำข้อมูลที่ระดับหยาบได้ นอกจากนี้การคำนวณลงไปในระดับที่หยาบขึ้น เครื่องมักจะสรุปข้อมูลออกมาได้หลากหลาย การเตรียมที่เก็บข้อมูลไว้เท่าเดิมหรือมากขึ้นจึงสัมพันธ์กันดีทั้งในแง่ของทรัพยากรการคำนวณที่ทำได้และความหลากหลายของข้อมูลที่ต้องบันทึก"
   ]
  },
  {
   "cell_type": "code",
   "execution_count": 24,
   "metadata": {},
   "outputs": [],
   "source": [
    "# [Your Work] ระบุโครงสร้างโมเดลที่เหมาะสมและสอดคล้องกับข้อกำหนด อย่าลืม padding='same'\n",
    "# [Your Work] \n",
    "model = keras.Sequential([\n",
    "    keras.layers.Conv2D(16, (3,3), input_shape=(32, 32, 3), activation=tf.nn.relu, padding='same'),\n",
    "    keras.layers.MaxPooling2D(),\n",
    "    keras.layers.Conv2D(32, (3,3), input_shape=(32, 32, 3), activation=tf.nn.relu, padding='same'),\n",
    "    keras.layers.Flatten(),\n",
    "    keras.layers.Dense(10, activation=tf.nn.softmax)\n",
    "])"
   ]
  },
  {
   "cell_type": "markdown",
   "metadata": {},
   "source": [
    "เราจะยังคอมไพล์โมเดลและพิมพ์สรุปโครงสร้างออกมาเช่นเดิม"
   ]
  },
  {
   "cell_type": "code",
   "execution_count": 25,
   "metadata": {},
   "outputs": [
    {
     "name": "stdout",
     "output_type": "stream",
     "text": [
      "_________________________________________________________________\n",
      "Layer (type)                 Output Shape              Param #   \n",
      "=================================================================\n",
      "conv2d_1 (Conv2D)            (None, 32, 32, 16)        448       \n",
      "_________________________________________________________________\n",
      "max_pooling2d (MaxPooling2D) (None, 16, 16, 16)        0         \n",
      "_________________________________________________________________\n",
      "conv2d_2 (Conv2D)            (None, 16, 16, 32)        4640      \n",
      "_________________________________________________________________\n",
      "flatten_3 (Flatten)          (None, 8192)              0         \n",
      "_________________________________________________________________\n",
      "dense_5 (Dense)              (None, 10)                81930     \n",
      "=================================================================\n",
      "Total params: 87,018\n",
      "Trainable params: 87,018\n",
      "Non-trainable params: 0\n",
      "_________________________________________________________________\n"
     ]
    }
   ],
   "source": [
    "# [Your Work] คอมไพล์และพิมพ์สรุปโมเดล\n",
    "model.compile(optimizer=keras.optimizers.Adam(), \n",
    "              loss='sparse_categorical_crossentropy',\n",
    "              metrics=['accuracy'])\n",
    "model.summary()"
   ]
  },
  {
   "cell_type": "markdown",
   "metadata": {},
   "source": [
    "ฝึกตัวแบบ 20 epochs และเก็บประวัติการฝึกไว้ในตัวแปร h4 เพื่อเตรียมเปรียบเทียบความแม่นยำจากแต่ละตัวแบบ"
   ]
  },
  {
   "cell_type": "code",
   "execution_count": 26,
   "metadata": {},
   "outputs": [
    {
     "name": "stdout",
     "output_type": "stream",
     "text": [
      "Train on 50000 samples, validate on 10000 samples\n",
      "Epoch 1/20\n",
      "50000/50000 [==============================] - 11s 221us/sample - loss: 1.4388 - acc: 0.4912 - val_loss: 1.1947 - val_acc: 0.5820\n",
      "Epoch 2/20\n",
      "50000/50000 [==============================] - 11s 216us/sample - loss: 1.1223 - acc: 0.6080 - val_loss: 1.0543 - val_acc: 0.6305\n",
      "Epoch 3/20\n",
      "50000/50000 [==============================] - 11s 226us/sample - loss: 0.9963 - acc: 0.6548 - val_loss: 1.0410 - val_acc: 0.6423\n",
      "Epoch 4/20\n",
      "50000/50000 [==============================] - 12s 231us/sample - loss: 0.9136 - acc: 0.6828 - val_loss: 1.0084 - val_acc: 0.6455\n",
      "Epoch 5/20\n",
      "50000/50000 [==============================] - 11s 218us/sample - loss: 0.8509 - acc: 0.7041 - val_loss: 0.9667 - val_acc: 0.6680\n",
      "Epoch 6/20\n",
      "50000/50000 [==============================] - 11s 220us/sample - loss: 0.7950 - acc: 0.7259 - val_loss: 1.0282 - val_acc: 0.6487\n",
      "Epoch 7/20\n",
      "50000/50000 [==============================] - 12s 238us/sample - loss: 0.7461 - acc: 0.7424 - val_loss: 0.9816 - val_acc: 0.6693\n",
      "Epoch 8/20\n",
      "50000/50000 [==============================] - 12s 234us/sample - loss: 0.7028 - acc: 0.7578 - val_loss: 1.0314 - val_acc: 0.6540\n",
      "Epoch 9/20\n",
      "50000/50000 [==============================] - 11s 216us/sample - loss: 0.6632 - acc: 0.7687 - val_loss: 0.9955 - val_acc: 0.6732\n",
      "Epoch 10/20\n",
      "50000/50000 [==============================] - 12s 233us/sample - loss: 0.6253 - acc: 0.7826 - val_loss: 1.0335 - val_acc: 0.6613\n",
      "Epoch 11/20\n",
      "50000/50000 [==============================] - 12s 231us/sample - loss: 0.5870 - acc: 0.7961 - val_loss: 1.0803 - val_acc: 0.6565\n",
      "Epoch 12/20\n",
      "50000/50000 [==============================] - 11s 229us/sample - loss: 0.5557 - acc: 0.8067 - val_loss: 1.0840 - val_acc: 0.6606\n",
      "Epoch 13/20\n",
      "50000/50000 [==============================] - 11s 228us/sample - loss: 0.5251 - acc: 0.8172 - val_loss: 1.1401 - val_acc: 0.6600\n",
      "Epoch 14/20\n",
      "50000/50000 [==============================] - 11s 226us/sample - loss: 0.4981 - acc: 0.8269 - val_loss: 1.1898 - val_acc: 0.6551\n",
      "Epoch 15/20\n",
      "50000/50000 [==============================] - 11s 227us/sample - loss: 0.4699 - acc: 0.8350 - val_loss: 1.2649 - val_acc: 0.6425\n",
      "Epoch 16/20\n",
      "50000/50000 [==============================] - 11s 225us/sample - loss: 0.4466 - acc: 0.8429 - val_loss: 1.2764 - val_acc: 0.6447\n",
      "Epoch 17/20\n",
      "50000/50000 [==============================] - 11s 227us/sample - loss: 0.4184 - acc: 0.8530 - val_loss: 1.3171 - val_acc: 0.6454\n",
      "Epoch 18/20\n",
      "50000/50000 [==============================] - 11s 228us/sample - loss: 0.3970 - acc: 0.8610 - val_loss: 1.3822 - val_acc: 0.6334\n",
      "Epoch 19/20\n",
      "50000/50000 [==============================] - 11s 225us/sample - loss: 0.3791 - acc: 0.8672 - val_loss: 1.4083 - val_acc: 0.6414\n",
      "Epoch 20/20\n",
      "50000/50000 [==============================] - 11s 226us/sample - loss: 0.3554 - acc: 0.8753 - val_loss: 1.5168 - val_acc: 0.6313\n"
     ]
    }
   ],
   "source": [
    "# [Your Work] fit a model with train images and labels for 20 epochs\n",
    "h4 = model.fit(train_images, train_labels, epochs=20 , validation_data=(test_images,test_labels), batch_size=32)"
   ]
  },
  {
   "cell_type": "markdown",
   "metadata": {},
   "source": [
    "#### <a id='p2B2'/> งานที่ 2.B.2: พล็อตกราฟเปรียบเทียบสมรรถนะตัวแบบทั้ง 4\n",
    "ตอนนี้เรามีตัวแบบ 4 ตัว เราอยากพล็อตกราฟร่วมกัน ติดแต่ตรงที่ว่าจำนวน epochs ที่ฝึกใช่จะเท่ากัน โดยสองตัวแรก เราฝึกไป 50 epochs แต่สองอันหลังเราฝึกไปเพียง 20 epochs เท่านั้น ทำให้เราต้องเตรียมข้อมูลสำหรับแกน x ใหม่ (แกน x แสดงจำนวน epoch จึงต้องเพิ่มตัวแปรนี้) การเตรียมข้อมูลแกน x นี้ยังใช้ np.linspace เหมือนเดิม โดยเราจะสร้างตัวแปร num_epochs2 จากความยาวของ h3.history['acc'] และตัวแปรที่เก็บจำนวน epochs เราจะเก็บไว้ในตัวแปร epochs_x2\n",
    "\n",
    "จุดที่ต้องการให้เน้นก็คือ เราต้อง print(epochs_x2) ออกมาดูด้วย ถ้าถูกต้อง จะได้ผลเป็น [1 2 3 ... 20] เพราะมี 20 epochs (ถ้าทำมาแล้วไม่ถูก อ่านข้อความข้างล่างเพิ่มเติม)"
   ]
  },
  {
   "cell_type": "code",
   "execution_count": 27,
   "metadata": {},
   "outputs": [
    {
     "name": "stdout",
     "output_type": "stream",
     "text": [
      "[ 1.  2.  3.  4.  5.  6.  7.  8.  9. 10. 11. 12. 13. 14. 15. 16. 17. 18.\n",
      " 19. 20.]\n"
     ]
    }
   ],
   "source": [
    "# [Your Work]\n",
    "num_epochs2 = len(h3.history['acc'])\n",
    "epochs_x2 = np.linspace(1, num_epochs2, 20)\n",
    "print(epochs_x2)"
   ]
  },
  {
   "cell_type": "markdown",
   "metadata": {},
   "source": [
    "ตรวจดูจากข้างบนก่อนว่ามันเป็น [1 2 3 ... 20] คือมีเฉพาะจำนวนเต็มหรือเปล่า ถ้าไม่เป็นเช่นนั้นแสดงยังทำไม่ถูก \n",
    "ขอให้ทดลองใส่พารามิเตอร์ตัวที่สามเข้าไปใน np.linspace ทำให้คำสั่งมีหน้าตาคล้าย ๆ นี้ <br/>\n",
    "epochs_x2 = np.linspace(1, num_epochs2, 20)\n",
    "\n",
    "สาเหตุที่ต้องใส่เลข 20 เข้าไปก็เพราะว่า linspace โดยปรกติจะสร้างค่าลงในอาเรย์ทั้งหมด 50 ค่า (ถ้าเราไม่บอกอะไร) \n",
    "ซึ่งก่อนหน้าเราฝึกตัวแบบ 50 epochs พอดีทำให้เราไม่ต้องระบุจำนวนลงไป แต่ในคราวนี้เราฝึกแค่ 20 จึงต้องระบุเพิ่มเข้าไปด้วย"
   ]
  },
  {
   "cell_type": "markdown",
   "metadata": {},
   "source": [
    "เอาล่ะ มาเตรียมข้อมูลผลการฝึกจาก h3 และ h4 กัน เราจะทำคล้าย ๆ เดิมกับ h1 และ h2 ที่สำคัญคืออย่าลืมเปลี่ยนชื่อและตัวแปรต่าง ๆ \n",
    "และต้องกำหนดค่าในเส้นกราฟว่า <br/> **x = epochs_x2**"
   ]
  },
  {
   "cell_type": "code",
   "execution_count": 28,
   "metadata": {},
   "outputs": [],
   "source": [
    "# [ํYour Work]\n",
    "train_acc_trace3 = go.Scatter(\n",
    "    x = epochs_x2,\n",
    "    y = h3.history['acc'],\n",
    "    mode = 'lines+markers',\n",
    "    name = 'train3'\n",
    ")\n",
    "\n",
    "test_acc_trace3 = go.Scatter(\n",
    "    x = epochs_x2,\n",
    "    y = h3.history['val_acc'],\n",
    "    mode = 'lines+markers',\n",
    "    name = 'test3'\n",
    ")\n",
    "\n",
    "train_acc_trace4 = go.Scatter(\n",
    "    x = epochs_x2,\n",
    "    y = h4.history['acc'],\n",
    "    mode = 'lines+markers',\n",
    "    name = 'tran4'\n",
    ")\n",
    "\n",
    "test_acc_trace4 = go.Scatter(\n",
    "    x = epochs_x2,\n",
    "    y = h4.history['val_acc'],\n",
    "    mode = 'lines+markers',\n",
    "    name = 'test4'\n",
    ")"
   ]
  },
  {
   "cell_type": "markdown",
   "metadata": {},
   "source": [
    "**พล็อตกราฟ 4 ชุด 8 เส้นไว้ด้วยกัน** คราวนี้ก็มาถึงคราวใช้ iplot วาดกราฟทั้งหมดไว้ด้วยกันเพื่อเปรียบเทียบสมรรถนะ"
   ]
  },
  {
   "cell_type": "code",
   "execution_count": 29,
   "metadata": {},
   "outputs": [
    {
     "data": {
      "application/vnd.plotly.v1+json": {
       "config": {
        "linkText": "Export to plot.ly",
        "plotlyServerURL": "https://plot.ly",
        "responsive": true,
        "showLink": false
       },
       "data": [
        {
         "mode": "lines+markers",
         "name": "train",
         "type": "scatter",
         "uid": "05d662ae-7007-4dce-8d75-345d7768c066",
         "x": [
          1,
          2,
          3,
          4,
          5,
          6,
          7,
          8,
          9,
          10,
          11,
          12,
          13,
          14,
          15,
          16,
          17,
          18,
          19,
          20,
          21,
          22,
          23,
          24,
          25,
          26,
          27,
          28,
          29,
          30,
          31,
          32,
          33,
          34,
          35,
          36,
          37,
          38,
          39,
          40,
          41,
          42,
          43,
          44,
          45,
          46,
          47,
          48,
          49,
          50
         ],
         "y": [
          0.3249399960041046,
          0.3843800127506256,
          0.40285998582839966,
          0.4134399890899658,
          0.4199399948120117,
          0.4274199903011322,
          0.4311400055885315,
          0.4350999891757965,
          0.43634000420570374,
          0.4441800117492676,
          0.44374001026153564,
          0.44839999079704285,
          0.4512600004673004,
          0.4515799880027771,
          0.4537000060081482,
          0.4551999866962433,
          0.4593600034713745,
          0.4590800106525421,
          0.46347999572753906,
          0.4640600085258484,
          0.46470001339912415,
          0.46452000737190247,
          0.4654200077056885,
          0.4670200049877167,
          0.46761998534202576,
          0.4679200053215027,
          0.46950000524520874,
          0.47029998898506165,
          0.4712800085544586,
          0.4728200137615204,
          0.4756599962711334,
          0.47534000873565674,
          0.476500004529953,
          0.48100000619888306,
          0.4779999852180481,
          0.4792799949645996,
          0.47953999042510986,
          0.4796200096607208,
          0.4794999957084656,
          0.4817799925804138,
          0.48539999127388,
          0.482699990272522,
          0.4822799861431122,
          0.48212000727653503,
          0.4854600131511688,
          0.4850800037384033,
          0.4837000072002411,
          0.48561999201774597,
          0.48532000184059143,
          0.4867999851703644
         ]
        },
        {
         "mode": "lines+markers",
         "name": "train2",
         "type": "scatter",
         "uid": "1d33fafc-e3c3-4fa7-80b3-de1f21a12176",
         "x": [
          1,
          2,
          3,
          4,
          5,
          6,
          7,
          8,
          9,
          10,
          11,
          12,
          13,
          14,
          15,
          16,
          17,
          18,
          19,
          20,
          21,
          22,
          23,
          24,
          25,
          26,
          27,
          28,
          29,
          30,
          31,
          32,
          33,
          34,
          35,
          36,
          37,
          38,
          39,
          40,
          41,
          42,
          43,
          44,
          45,
          46,
          47,
          48,
          49,
          50
         ],
         "y": [
          0.3307200074195862,
          0.392300009727478,
          0.41850000619888306,
          0.43290001153945923,
          0.4462999999523163,
          0.45451998710632324,
          0.4577600061893463,
          0.4659000039100647,
          0.4699000120162964,
          0.47422000765800476,
          0.47898000478744507,
          0.4807400107383728,
          0.48465999960899353,
          0.4857200086116791,
          0.4918000102043152,
          0.4939799904823303,
          0.49314001202583313,
          0.4967600107192993,
          0.4997200071811676,
          0.4990200102329254,
          0.5044000148773193,
          0.5026000142097473,
          0.5057399868965149,
          0.5097000002861023,
          0.5093399882316589,
          0.508400022983551,
          0.5125799775123596,
          0.5130199790000916,
          0.5149400234222412,
          0.5144400000572205,
          0.5154399871826172,
          0.517520010471344,
          0.5202999711036682,
          0.5204799771308899,
          0.5177000164985657,
          0.5210400223731995,
          0.5229200124740601,
          0.5239999890327454,
          0.5261600017547607,
          0.5288400053977966,
          0.5279200077056885,
          0.5281199812889099,
          0.5275800228118896,
          0.530019998550415,
          0.530460000038147,
          0.5303000211715698,
          0.5338799953460693,
          0.5322999954223633,
          0.5339599847793579,
          0.5341600179672241
         ]
        },
        {
         "mode": "lines+markers",
         "name": "train3",
         "type": "scatter",
         "uid": "a94f045d-cb21-421e-9df2-148a2ef30fbb",
         "x": [
          1,
          2,
          3,
          4,
          5,
          6,
          7,
          8,
          9,
          10,
          11,
          12,
          13,
          14,
          15,
          16,
          17,
          18,
          19,
          20
         ],
         "y": [
          0.4668999910354614,
          0.5698999762535095,
          0.601140022277832,
          0.6228600144386292,
          0.6443399786949158,
          0.6615999937057495,
          0.6711999773979187,
          0.6837000250816345,
          0.6947399973869324,
          0.7061799764633179,
          0.7183200120925903,
          0.7293000221252441,
          0.7361999750137329,
          0.7470999956130981,
          0.7532600164413452,
          0.762719988822937,
          0.7703400254249573,
          0.7797600030899048,
          0.7859600186347961,
          0.793179988861084
         ]
        },
        {
         "mode": "lines+markers",
         "name": "tran4",
         "type": "scatter",
         "uid": "e46cfc31-a49f-4790-bfab-02db53c33c3d",
         "x": [
          1,
          2,
          3,
          4,
          5,
          6,
          7,
          8,
          9,
          10,
          11,
          12,
          13,
          14,
          15,
          16,
          17,
          18,
          19,
          20
         ],
         "y": [
          0.4912000000476837,
          0.6079599857330322,
          0.6547600030899048,
          0.6828200221061707,
          0.7041199803352356,
          0.7259200215339661,
          0.7424399852752686,
          0.7578399777412415,
          0.7687000036239624,
          0.7826399803161621,
          0.7961199879646301,
          0.8067200183868408,
          0.8172399997711182,
          0.8269400000572205,
          0.8350200057029724,
          0.8429200053215027,
          0.8530399799346924,
          0.8610000014305115,
          0.8672199845314026,
          0.8752999901771545
         ]
        },
        {
         "mode": "lines+markers",
         "name": "test",
         "type": "scatter",
         "uid": "f4005810-523e-46e3-9a3d-d814fb908277",
         "x": [
          1,
          2,
          3,
          4,
          5,
          6,
          7,
          8,
          9,
          10,
          11,
          12,
          13,
          14,
          15,
          16,
          17,
          18,
          19,
          20,
          21,
          22,
          23,
          24,
          25,
          26,
          27,
          28,
          29,
          30,
          31,
          32,
          33,
          34,
          35,
          36,
          37,
          38,
          39,
          40,
          41,
          42,
          43,
          44,
          45,
          46,
          47,
          48,
          49,
          50
         ],
         "y": [
          0.37139999866485596,
          0.3995000123977661,
          0.4106000065803528,
          0.42590001225471497,
          0.4058000147342682,
          0.41519999504089355,
          0.39309999346733093,
          0.43720000982284546,
          0.41929998993873596,
          0.43070000410079956,
          0.4318000078201294,
          0.4259999990463257,
          0.43130001425743103,
          0.43380001187324524,
          0.44190001487731934,
          0.44530001282691956,
          0.4334999918937683,
          0.4399999976158142,
          0.42879998683929443,
          0.44589999318122864,
          0.43880000710487366,
          0.4512999951839447,
          0.4471000134944916,
          0.4462999999523163,
          0.4551999866962433,
          0.45239999890327454,
          0.4408999979496002,
          0.4309000074863434,
          0.4465999901294708,
          0.4471000134944916,
          0.446399986743927,
          0.44690001010894775,
          0.4417000114917755,
          0.4584999978542328,
          0.4410000145435333,
          0.4458000063896179,
          0.4496000111103058,
          0.44609999656677246,
          0.4287000000476837,
          0.436599999666214,
          0.45570001006126404,
          0.45570001006126404,
          0.4253000020980835,
          0.44830000400543213,
          0.45170000195503235,
          0.4350999891757965,
          0.44999998807907104,
          0.4472000002861023,
          0.44859999418258667,
          0.4422999918460846
         ]
        },
        {
         "mode": "lines+markers",
         "name": "test2",
         "type": "scatter",
         "uid": "f132f465-95b4-440b-b710-2021cdf2eeb5",
         "x": [
          1,
          2,
          3,
          4,
          5,
          6,
          7,
          8,
          9,
          10,
          11,
          12,
          13,
          14,
          15,
          16,
          17,
          18,
          19,
          20,
          21,
          22,
          23,
          24,
          25,
          26,
          27,
          28,
          29,
          30,
          31,
          32,
          33,
          34,
          35,
          36,
          37,
          38,
          39,
          40,
          41,
          42,
          43,
          44,
          45,
          46,
          47,
          48,
          49,
          50
         ],
         "y": [
          0.3718999922275543,
          0.3937999904155731,
          0.42289999127388,
          0.44600000977516174,
          0.4422000050544739,
          0.4465999901294708,
          0.4510999917984009,
          0.4383000135421753,
          0.44339999556541443,
          0.46560001373291016,
          0.46000000834465027,
          0.4498000144958496,
          0.45890000462532043,
          0.4627000093460083,
          0.46560001373291016,
          0.42329999804496765,
          0.45820000767707825,
          0.4717999994754791,
          0.4763000011444092,
          0.47769999504089355,
          0.46160000562667847,
          0.46959999203681946,
          0.46059998869895935,
          0.4823000133037567,
          0.4731999933719635,
          0.46880000829696655,
          0.4763000011444092,
          0.4812999963760376,
          0.47589999437332153,
          0.4803999960422516,
          0.4778999984264374,
          0.4869999885559082,
          0.4562999904155731,
          0.48330000042915344,
          0.4625000059604645,
          0.45989999175071716,
          0.47850000858306885,
          0.4652999937534332,
          0.46799999475479126,
          0.4794999957084656,
          0.4715000092983246,
          0.48089998960494995,
          0.46810001134872437,
          0.4616999924182892,
          0.47749999165534973,
          0.4643999934196472,
          0.48069998621940613,
          0.47749999165534973,
          0.4821000099182129,
          0.4772999882698059
         ]
        },
        {
         "mode": "lines+markers",
         "name": "test3",
         "type": "scatter",
         "uid": "2ae8e92a-cff1-4be7-86b5-ae891ff7b96a",
         "x": [
          1,
          2,
          3,
          4,
          5,
          6,
          7,
          8,
          9,
          10,
          11,
          12,
          13,
          14,
          15,
          16,
          17,
          18,
          19,
          20
         ],
         "y": [
          0.5174000263214111,
          0.5454000234603882,
          0.5684999823570251,
          0.5766000151634216,
          0.5724999904632568,
          0.5652999877929688,
          0.5626000165939331,
          0.5719000101089478,
          0.5752000212669373,
          0.5684999823570251,
          0.552299976348877,
          0.569599986076355,
          0.5685999989509583,
          0.5612999796867371,
          0.5667999982833862,
          0.5557000041007996,
          0.5465999841690063,
          0.5497999787330627,
          0.5579000115394592,
          0.5529999732971191
         ]
        },
        {
         "mode": "lines+markers",
         "name": "test4",
         "type": "scatter",
         "uid": "cbd778e2-699a-4810-90a3-9a13fb909417",
         "x": [
          1,
          2,
          3,
          4,
          5,
          6,
          7,
          8,
          9,
          10,
          11,
          12,
          13,
          14,
          15,
          16,
          17,
          18,
          19,
          20
         ],
         "y": [
          0.5820000171661377,
          0.6305000185966492,
          0.642300009727478,
          0.6455000042915344,
          0.6679999828338623,
          0.6486999988555908,
          0.6693000197410583,
          0.6539999842643738,
          0.6732000112533569,
          0.661300003528595,
          0.656499981880188,
          0.6606000065803528,
          0.6600000262260437,
          0.6550999879837036,
          0.6424999833106995,
          0.6446999907493591,
          0.6453999876976013,
          0.633400022983551,
          0.6413999795913696,
          0.6312999725341797
         ]
        }
       ],
       "layout": {
        "autosize": true,
        "xaxis": {
         "autorange": true,
         "range": [
          -2.1056338028169015,
          53.105633802816904
         ],
         "type": "linear"
        },
        "yaxis": {
         "autorange": true,
         "range": [
          0.27952193823254223,
          0.9207180479487169
         ],
         "type": "linear"
        }
       }
      },
      "image/png": "[encoded data removed]",
      "text/html": [
       "<div>\n",
       "        \n",
       "        \n",
       "            <div id=\"5c6cbaea-5be0-4594-a094-d2571f4a5b5a\" class=\"plotly-graph-div\" style=\"height:525px; width:100%;\"></div>\n",
       "            <script type=\"text/javascript\">\n",
       "                require([\"plotly\"], function(Plotly) {\n",
       "                    window.PLOTLYENV=window.PLOTLYENV || {};\n",
       "                    window.PLOTLYENV.BASE_URL='https://plot.ly';\n",
       "                    \n",
       "                if (document.getElementById(\"5c6cbaea-5be0-4594-a094-d2571f4a5b5a\")) {\n",
       "                    Plotly.newPlot(\n",
       "                        '5c6cbaea-5be0-4594-a094-d2571f4a5b5a',\n",
       "                        [{\"mode\": \"lines+markers\", \"name\": \"train\", \"type\": \"scatter\", \"uid\": \"b0090e42-72ae-4571-8c1b-7c7cd56d2564\", \"x\": [1.0, 2.0, 3.0, 4.0, 5.0, 6.0, 7.0, 8.0, 9.0, 10.0, 11.0, 12.0, 13.0, 14.0, 15.0, 16.0, 17.0, 18.0, 19.0, 20.0, 21.0, 22.0, 23.0, 24.0, 25.0, 26.0, 27.0, 28.0, 29.0, 30.0, 31.0, 32.0, 33.0, 34.0, 35.0, 36.0, 37.0, 38.0, 39.0, 40.0, 41.0, 42.0, 43.0, 44.0, 45.0, 46.0, 47.0, 48.0, 49.0, 50.0], \"y\": [0.3249399960041046, 0.3843800127506256, 0.40285998582839966, 0.4134399890899658, 0.4199399948120117, 0.4274199903011322, 0.4311400055885315, 0.4350999891757965, 0.43634000420570374, 0.4441800117492676, 0.44374001026153564, 0.44839999079704285, 0.4512600004673004, 0.4515799880027771, 0.4537000060081482, 0.4551999866962433, 0.4593600034713745, 0.4590800106525421, 0.46347999572753906, 0.4640600085258484, 0.46470001339912415, 0.46452000737190247, 0.4654200077056885, 0.4670200049877167, 0.46761998534202576, 0.4679200053215027, 0.46950000524520874, 0.47029998898506165, 0.4712800085544586, 0.4728200137615204, 0.4756599962711334, 0.47534000873565674, 0.476500004529953, 0.48100000619888306, 0.4779999852180481, 0.4792799949645996, 0.47953999042510986, 0.4796200096607208, 0.4794999957084656, 0.4817799925804138, 0.48539999127388, 0.482699990272522, 0.4822799861431122, 0.48212000727653503, 0.4854600131511688, 0.4850800037384033, 0.4837000072002411, 0.48561999201774597, 0.48532000184059143, 0.4867999851703644]}, {\"mode\": \"lines+markers\", \"name\": \"train2\", \"type\": \"scatter\", \"uid\": \"17778fe7-29c5-4772-b56b-1e0b6e4795f1\", \"x\": [1.0, 2.0, 3.0, 4.0, 5.0, 6.0, 7.0, 8.0, 9.0, 10.0, 11.0, 12.0, 13.0, 14.0, 15.0, 16.0, 17.0, 18.0, 19.0, 20.0, 21.0, 22.0, 23.0, 24.0, 25.0, 26.0, 27.0, 28.0, 29.0, 30.0, 31.0, 32.0, 33.0, 34.0, 35.0, 36.0, 37.0, 38.0, 39.0, 40.0, 41.0, 42.0, 43.0, 44.0, 45.0, 46.0, 47.0, 48.0, 49.0, 50.0], \"y\": [0.3307200074195862, 0.392300009727478, 0.41850000619888306, 0.43290001153945923, 0.4462999999523163, 0.45451998710632324, 0.4577600061893463, 0.4659000039100647, 0.4699000120162964, 0.47422000765800476, 0.47898000478744507, 0.4807400107383728, 0.48465999960899353, 0.4857200086116791, 0.4918000102043152, 0.4939799904823303, 0.49314001202583313, 0.4967600107192993, 0.4997200071811676, 0.4990200102329254, 0.5044000148773193, 0.5026000142097473, 0.5057399868965149, 0.5097000002861023, 0.5093399882316589, 0.508400022983551, 0.5125799775123596, 0.5130199790000916, 0.5149400234222412, 0.5144400000572205, 0.5154399871826172, 0.517520010471344, 0.5202999711036682, 0.5204799771308899, 0.5177000164985657, 0.5210400223731995, 0.5229200124740601, 0.5239999890327454, 0.5261600017547607, 0.5288400053977966, 0.5279200077056885, 0.5281199812889099, 0.5275800228118896, 0.530019998550415, 0.530460000038147, 0.5303000211715698, 0.5338799953460693, 0.5322999954223633, 0.5339599847793579, 0.5341600179672241]}, {\"mode\": \"lines+markers\", \"name\": \"train3\", \"type\": \"scatter\", \"uid\": \"4ed68ffb-8666-488b-aa55-46c160c5a4eb\", \"x\": [1.0, 2.0, 3.0, 4.0, 5.0, 6.0, 7.0, 8.0, 9.0, 10.0, 11.0, 12.0, 13.0, 14.0, 15.0, 16.0, 17.0, 18.0, 19.0, 20.0], \"y\": [0.4668999910354614, 0.5698999762535095, 0.601140022277832, 0.6228600144386292, 0.6443399786949158, 0.6615999937057495, 0.6711999773979187, 0.6837000250816345, 0.6947399973869324, 0.7061799764633179, 0.7183200120925903, 0.7293000221252441, 0.7361999750137329, 0.7470999956130981, 0.7532600164413452, 0.762719988822937, 0.7703400254249573, 0.7797600030899048, 0.7859600186347961, 0.793179988861084]}, {\"mode\": \"lines+markers\", \"name\": \"tran4\", \"type\": \"scatter\", \"uid\": \"5213351f-f90c-4023-bcba-193a31c34852\", \"x\": [1.0, 2.0, 3.0, 4.0, 5.0, 6.0, 7.0, 8.0, 9.0, 10.0, 11.0, 12.0, 13.0, 14.0, 15.0, 16.0, 17.0, 18.0, 19.0, 20.0], \"y\": [0.4912000000476837, 0.6079599857330322, 0.6547600030899048, 0.6828200221061707, 0.7041199803352356, 0.7259200215339661, 0.7424399852752686, 0.7578399777412415, 0.7687000036239624, 0.7826399803161621, 0.7961199879646301, 0.8067200183868408, 0.8172399997711182, 0.8269400000572205, 0.8350200057029724, 0.8429200053215027, 0.8530399799346924, 0.8610000014305115, 0.8672199845314026, 0.8752999901771545]}, {\"mode\": \"lines+markers\", \"name\": \"test\", \"type\": \"scatter\", \"uid\": \"d5919c34-f52f-4bfb-81cf-ccedf46742f4\", \"x\": [1.0, 2.0, 3.0, 4.0, 5.0, 6.0, 7.0, 8.0, 9.0, 10.0, 11.0, 12.0, 13.0, 14.0, 15.0, 16.0, 17.0, 18.0, 19.0, 20.0, 21.0, 22.0, 23.0, 24.0, 25.0, 26.0, 27.0, 28.0, 29.0, 30.0, 31.0, 32.0, 33.0, 34.0, 35.0, 36.0, 37.0, 38.0, 39.0, 40.0, 41.0, 42.0, 43.0, 44.0, 45.0, 46.0, 47.0, 48.0, 49.0, 50.0], \"y\": [0.37139999866485596, 0.3995000123977661, 0.4106000065803528, 0.42590001225471497, 0.4058000147342682, 0.41519999504089355, 0.39309999346733093, 0.43720000982284546, 0.41929998993873596, 0.43070000410079956, 0.4318000078201294, 0.4259999990463257, 0.43130001425743103, 0.43380001187324524, 0.44190001487731934, 0.44530001282691956, 0.4334999918937683, 0.4399999976158142, 0.42879998683929443, 0.44589999318122864, 0.43880000710487366, 0.4512999951839447, 0.4471000134944916, 0.4462999999523163, 0.4551999866962433, 0.45239999890327454, 0.4408999979496002, 0.4309000074863434, 0.4465999901294708, 0.4471000134944916, 0.446399986743927, 0.44690001010894775, 0.4417000114917755, 0.4584999978542328, 0.4410000145435333, 0.4458000063896179, 0.4496000111103058, 0.44609999656677246, 0.4287000000476837, 0.436599999666214, 0.45570001006126404, 0.45570001006126404, 0.4253000020980835, 0.44830000400543213, 0.45170000195503235, 0.4350999891757965, 0.44999998807907104, 0.4472000002861023, 0.44859999418258667, 0.4422999918460846]}, {\"mode\": \"lines+markers\", \"name\": \"test2\", \"type\": \"scatter\", \"uid\": \"543659d9-d55e-489f-b16a-249a92f44442\", \"x\": [1.0, 2.0, 3.0, 4.0, 5.0, 6.0, 7.0, 8.0, 9.0, 10.0, 11.0, 12.0, 13.0, 14.0, 15.0, 16.0, 17.0, 18.0, 19.0, 20.0, 21.0, 22.0, 23.0, 24.0, 25.0, 26.0, 27.0, 28.0, 29.0, 30.0, 31.0, 32.0, 33.0, 34.0, 35.0, 36.0, 37.0, 38.0, 39.0, 40.0, 41.0, 42.0, 43.0, 44.0, 45.0, 46.0, 47.0, 48.0, 49.0, 50.0], \"y\": [0.3718999922275543, 0.3937999904155731, 0.42289999127388, 0.44600000977516174, 0.4422000050544739, 0.4465999901294708, 0.4510999917984009, 0.4383000135421753, 0.44339999556541443, 0.46560001373291016, 0.46000000834465027, 0.4498000144958496, 0.45890000462532043, 0.4627000093460083, 0.46560001373291016, 0.42329999804496765, 0.45820000767707825, 0.4717999994754791, 0.4763000011444092, 0.47769999504089355, 0.46160000562667847, 0.46959999203681946, 0.46059998869895935, 0.4823000133037567, 0.4731999933719635, 0.46880000829696655, 0.4763000011444092, 0.4812999963760376, 0.47589999437332153, 0.4803999960422516, 0.4778999984264374, 0.4869999885559082, 0.4562999904155731, 0.48330000042915344, 0.4625000059604645, 0.45989999175071716, 0.47850000858306885, 0.4652999937534332, 0.46799999475479126, 0.4794999957084656, 0.4715000092983246, 0.48089998960494995, 0.46810001134872437, 0.4616999924182892, 0.47749999165534973, 0.4643999934196472, 0.48069998621940613, 0.47749999165534973, 0.4821000099182129, 0.4772999882698059]}, {\"mode\": \"lines+markers\", \"name\": \"test3\", \"type\": \"scatter\", \"uid\": \"6f8b8411-bc32-4fd2-b200-ad394d00cc75\", \"x\": [1.0, 2.0, 3.0, 4.0, 5.0, 6.0, 7.0, 8.0, 9.0, 10.0, 11.0, 12.0, 13.0, 14.0, 15.0, 16.0, 17.0, 18.0, 19.0, 20.0], \"y\": [0.5174000263214111, 0.5454000234603882, 0.5684999823570251, 0.5766000151634216, 0.5724999904632568, 0.5652999877929688, 0.5626000165939331, 0.5719000101089478, 0.5752000212669373, 0.5684999823570251, 0.552299976348877, 0.569599986076355, 0.5685999989509583, 0.5612999796867371, 0.5667999982833862, 0.5557000041007996, 0.5465999841690063, 0.5497999787330627, 0.5579000115394592, 0.5529999732971191]}, {\"mode\": \"lines+markers\", \"name\": \"test4\", \"type\": \"scatter\", \"uid\": \"49c55979-2dca-4677-aabc-d03d8b34eaa8\", \"x\": [1.0, 2.0, 3.0, 4.0, 5.0, 6.0, 7.0, 8.0, 9.0, 10.0, 11.0, 12.0, 13.0, 14.0, 15.0, 16.0, 17.0, 18.0, 19.0, 20.0], \"y\": [0.5820000171661377, 0.6305000185966492, 0.642300009727478, 0.6455000042915344, 0.6679999828338623, 0.6486999988555908, 0.6693000197410583, 0.6539999842643738, 0.6732000112533569, 0.661300003528595, 0.656499981880188, 0.6606000065803528, 0.6600000262260437, 0.6550999879837036, 0.6424999833106995, 0.6446999907493591, 0.6453999876976013, 0.633400022983551, 0.6413999795913696, 0.6312999725341797]}],\n",
       "                        {},\n",
       "                        {\"showLink\": false, \"linkText\": \"Export to plot.ly\", \"plotlyServerURL\": \"https://plot.ly\", \"responsive\": true}\n",
       "                    ).then(function(){\n",
       "                            \n",
       "var gd = document.getElementById('5c6cbaea-5be0-4594-a094-d2571f4a5b5a');\n",
       "var x = new MutationObserver(function (mutations, observer) {{\n",
       "        var display = window.getComputedStyle(gd).display;\n",
       "        if (!display || display === 'none') {{\n",
       "            console.log([gd, 'removed!']);\n",
       "            Plotly.purge(gd);\n",
       "            observer.disconnect();\n",
       "        }}\n",
       "}});\n",
       "\n",
       "// Listen for the removal of the full notebook cells\n",
       "var notebookContainer = gd.closest('#notebook-container');\n",
       "if (notebookContainer) {{\n",
       "    x.observe(notebookContainer, {childList: true});\n",
       "}}\n",
       "\n",
       "// Listen for the clearing of the current output cell\n",
       "var outputEl = gd.closest('.output');\n",
       "if (outputEl) {{\n",
       "    x.observe(outputEl, {childList: true});\n",
       "}}\n",
       "\n",
       "                        })\n",
       "                };\n",
       "                });\n",
       "            </script>\n",
       "        </div>"
      ]
     },
     "metadata": {},
     "output_type": "display_data"
    }
   ],
   "source": [
    "# [Your Work]\n",
    "iplot([train_acc_trace1, train_acc_trace2,train_acc_trace3, train_acc_trace4,\n",
    "       test_acc_trace1, test_acc_trace2,  test_acc_trace3, test_acc_trace4 ])"
   ]
  },
  {
   "cell_type": "markdown",
   "metadata": {},
   "source": [
    "### <a id='q2B'/> Quick Quiz 2.B: อะไรคือเบื้องหลังความสำเร็จของตัวแบบ โมเดลที่ใหญ่มีพารามิเตอร์มากได้เปรียบหรือไม่\n",
    "หากเราอยากต้องคำถามในหัวข้อของควิซนี้ เราต้องลองสำรวจตัวแบบของเราจากคำสั่ง summmary ที่เรารันมาตลอดเสียก่อน\n",
    "\n",
    "ถึงจุดนี้ บางคนอาจจะสงสัยว่าทำไมแบบฝึกหัดบอกให้พิมพ์ของพวกนี้ออกมาบ่อยนัก แน่นอนว่าเหตุผลนั้นมีอยู่หลายประการ ขอสรุปให้ฟังอีครั้งคร่าว ๆ ดังนี้\n",
    "1. เราควรตรวจสอบดูอีกทางว่าตัวแบบของเรามีโครงสร้างที่สัมพันธ์กับสิ่งที่เราต้องการจริงหรือไม่\n",
    "2. ในขณะที่เราฝึกตัวแบบ หากมีข้อผิดพลาดประการใด ระบบจะแจ้งเตือนกลับมาโดยอ้างถึงชื่อของชั้นที่มีปัญหา ซึ่งชื่อดังกล่าวปรากฏอยู่ใน model summary\n",
    "3. การสังเกตจำนวนพารามิเตอร์ทำให้เรารู้ว่าตัวแบบของเราจะใช้หน่วยความจำมากน้อยเพียงใด\n",
    "\n",
    "ซึ่งครั้งนี้อยากให้สังเกตเป็นพิเศษเพื่อเปรียบเทียบความสัมพันธ์ระหว่างความแม่นยำและจำนวนพารามิเตอร์ในตัวแบบ เนื่องจากหลายครั้ง เรามักจะพยายามทำโมเดลให้ใหญ่ ให้ซับซ้อนขึ้น และหวังว่ามันจะมีพลังพอที่จะช่วยแก้ปัญหาของเราได้ดีขึ้นกว่าเดิม\n",
    "\n",
    "เราจะมาวิเคราะห์ประเด็นเรื่องตัวแบบที่ใหญ่ผ่านพารามิเตอร์ในตัวแบบกันเสียก่อน <br/>\n",
    "**คำถามข้อแรก** พารามิเตอร์ในตัวแบบทั้ง 4 มีค่าเท่าใดบ้าง ให้ตอบแบบเรียงลำดับจาก**มากไปน้อย**"
   ]
  },
  {
   "cell_type": "markdown",
   "metadata": {},
   "source": [
    "(พื้นที่สำหรับเติมคำตอบ) <br/><br/>\n",
    "2 1541510  <br/>\n",
    "1 616610  <br/>\n",
    "3 144458  <br/>\n",
    "4 87018 "
   ]
  },
  {
   "cell_type": "markdown",
   "metadata": {},
   "source": [
    "**คำถามข้อสอง** ค่าความแม่นยำของตัวแบบทั้ง 4 ในชุดข้อมูลฝึก (training set) มีค่าเท่าใดบ้าง เรียงตามลำดับความแม่นยำในชุดข้อมูลนี้จาก**มากไปน้อย** (สามารถใช้ค่าความแม่นยำใน epoch สุดท้ายมาตอบ หรือความแม่นยำสูงสุดที่ตัวแบบแต่ละตัวทำได้มาตอบคำถามนี้ และคำถามอื่น ๆ ที่เกี่ยวข้อง)\n",
    "\n",
    "**สาระน่ารู้** ถ้าเส้นกราฟมีมากจนทำให้เราศึกษาเส้นที่เราสนใจลำบาก เราสามารถคลิกไปที่คำอธิบายสัญลักษณ์ (legend) ทางด้านข้างของกราฟเพื่อเลือกสลับการเปิดปิดการแสดงเส้นกราฟแต่ละเส้นได้"
   ]
  },
  {
   "cell_type": "markdown",
   "metadata": {},
   "source": [
    "(พื้นที่สำหรับเติมคำตอบ) <br/><br/>\n",
    "4 0.8753 <br/>\n",
    "3 0.7932 <br/>\n",
    "2 0.5342 <br/>\n",
    "1 0.4868"
   ]
  },
  {
   "cell_type": "markdown",
   "metadata": {},
   "source": [
    "**คำถามข้อสาม** ค่าความแม่นยำของตัวแบบทั้ง 4 ในชุดข้อมูลทดสอบ (test set) มีค่าเท่าใดบ้าง เรียงตามลำดับความแม่นยำในชุดข้อมูลนี้จาก**มากไปน้อย**"
   ]
  },
  {
   "cell_type": "markdown",
   "metadata": {},
   "source": [
    "(พื้นที่สำหรับเติมคำตอบ) <br/><br/>\n",
    "4 0.6313 <br/>\n",
    "3 0.5530 <br/>\n",
    "2 0.4773 <br/>\n",
    "1 0.4423\n"
   ]
  },
  {
   "cell_type": "markdown",
   "metadata": {},
   "source": [
    "**คำถามข้อสี่** ลำดับความแม่นยำของตัวแบบทั้ง 4 ในชุดข้อมูลฝึกและทดสอบเหมือนกันหรือไม่ จงอภิปรายเหตุผลสำหรับข้อสังเกตที่ได้ในประเด็นนี้"
   ]
  },
  {
   "cell_type": "markdown",
   "metadata": {},
   "source": [
    "(พื้นที่สำหรับเติมคำตอบ) <br/><br/>\n",
    "เหมือนกัน เพราะใช้modelเดียวกัน "
   ]
  },
  {
   "cell_type": "markdown",
   "metadata": {},
   "source": [
    "**คำถามข้อห้า** ลำดับตามจำนวนพารามิเตอร์ของตัวแบบทั้ง 4 กับลำดับตามความแม่นยำในชุดข้อมูลทดสอบเหมือนกันหรือไม่ จงอภิปรายเหตุผลสำหรับข้อสังเกตที่ได้ในประเด็นนี้"
   ]
  },
  {
   "cell_type": "markdown",
   "metadata": {},
   "source": [
    "(พื้นที่สำหรับเติมคำตอบ) <br/><br/>\n",
    "ไม่เหมือนกัน เพราะparem เยอะทำให้สับสน"
   ]
  },
  {
   "cell_type": "markdown",
   "metadata": {},
   "source": [
    "**คำถามข้อหก** สรุปแล้วตัวแบบที่ใหญ่มีพารามิเตอร์มากทำให้ได้เปรียบเรื่องความแม่นยำหรือไม่ ถ้าไม่ใช่คุณคิดว่าตัวแบบที่มีพารามิเตอร์น้อยกว่าจะได้เปรียบหรือเปล่า และคุณคิดว่าปัจจัยหลักที่จะทำให้ตัวแบบประสบความสำเร็จในเรื่องของความแม่นยำคืออะไร"
   ]
  },
  {
   "cell_type": "markdown",
   "metadata": {},
   "source": [
    "(พื้นที่สำหรับเติมคำตอบ) <br/><br/>\n",
    "ตัวแบบที่ใหญ่มีพารามิเตอร์มากทำให้ได้เปรียบเรื่องความแม่นยำหรือไม่ ไม่ๆ  <br/>\n",
    "ตัวแบบที่มีพารามิเตอร์น้อยกว่าจะได้เปรียบหรือเปล่า ไม่ๆ <br/>\n",
    "ปัจจัยหลักที่จะทำให้ตัวแบบประสบความสำเร็จในเรื่องของความแม่นยำคืออะไร การลองผิดลองถูก"
   ]
  },
  {
   "cell_type": "markdown",
   "metadata": {},
   "source": [
    "### <a id='p2C'/> งานที่ 2.C: ทดลองเปลี่ยนจำนวนฟีทเจอร์แม็พ\n",
    "จำนวนฟีทเจอร์แม็พเป็นหนึ่งในประเด็นที่สำคัญในตัวแบบคอนโวลูชัน เราจะมาลองปรับจำนวนฟีทเจอร์แม็พในตัวแบบล่าสุด (โมเดลอันที่ 4) เพื่อศึกษาผลกระทบของจำนวนฟีทเจอร์แม็พต่อความแม่นยำของตัวแบบ\n",
    "\n",
    "### <a id='p2C1'/> งานที่ 2.C.1: ปรับตัวแบบที่ 4 ให้มีจำนวนฟีทเจอร์แม็พน้อยลง\n",
    "ขั้นคอนโวลูชันอันแรกให้มี 8 แม็พ ส่วนชั้นที่สองให้มี 16 แม็พ เพื่อความกระชับให้นิยามโครงสร้างแล้วคอมไพล์พร้อมพิมพ์ summary ในเซลล์เดียวกันได้เลย (แต่โดยปรกติเราจะยังทำการฝึกในเซลล์แยก เพราะถ้าเริ่มฝึกในตัวแบบที่ผิดไปแล้ว เราอาจจะหยุดมันได้ยาก เว้นเสียจะสั่งปิดเคอร์เนลล้างค่าตัวแปรทักอย่างทิ้งไป"
   ]
  },
  {
   "cell_type": "code",
   "execution_count": 30,
   "metadata": {},
   "outputs": [
    {
     "name": "stdout",
     "output_type": "stream",
     "text": [
      "_________________________________________________________________\n",
      "Layer (type)                 Output Shape              Param #   \n",
      "=================================================================\n",
      "conv2d_3 (Conv2D)            (None, 32, 32, 8)         224       \n",
      "_________________________________________________________________\n",
      "max_pooling2d_1 (MaxPooling2 (None, 16, 16, 8)         0         \n",
      "_________________________________________________________________\n",
      "conv2d_4 (Conv2D)            (None, 16, 16, 16)        1168      \n",
      "_________________________________________________________________\n",
      "flatten_4 (Flatten)          (None, 4096)              0         \n",
      "_________________________________________________________________\n",
      "dense_6 (Dense)              (None, 10)                40970     \n",
      "=================================================================\n",
      "Total params: 42,362\n",
      "Trainable params: 42,362\n",
      "Non-trainable params: 0\n",
      "_________________________________________________________________\n"
     ]
    }
   ],
   "source": [
    "# [Your Work] ระบุโครงสร้าง คอมไพล์ และพิมพ์ summary\n",
    "model = keras.Sequential([\n",
    "    keras.layers.Conv2D(8, (3,3), input_shape=(32, 32, 3), activation=tf.nn.relu, padding='same'),\n",
    "    keras.layers.MaxPooling2D(),\n",
    "    keras.layers.Conv2D(16, (3,3), input_shape=(32, 32, 3), activation=tf.nn.relu, padding='same'),\n",
    "    keras.layers.Flatten(),\n",
    "    keras.layers.Dense(10, activation=tf.nn.softmax)\n",
    "])\n",
    "\n",
    "model.compile(optimizer=keras.optimizers.Adam(), \n",
    "              loss='sparse_categorical_crossentropy',\n",
    "              metrics=['accuracy'])\n",
    "model.summary()"
   ]
  },
  {
   "cell_type": "markdown",
   "metadata": {},
   "source": [
    "ฝึกตัวแบบ 20 epochs และเก็บประวัติการฝึกไว้ใน h5"
   ]
  },
  {
   "cell_type": "code",
   "execution_count": 33,
   "metadata": {},
   "outputs": [
    {
     "name": "stdout",
     "output_type": "stream",
     "text": [
      "Train on 50000 samples, validate on 10000 samples\n",
      "Epoch 1/20\n",
      "50000/50000 [==============================] - 9s 186us/sample - loss: 1.5556 - acc: 0.4460 - val_loss: 1.3333 - val_acc: 0.5289\n",
      "Epoch 2/20\n",
      "50000/50000 [==============================] - 9s 181us/sample - loss: 1.2799 - acc: 0.5481 - val_loss: 1.2280 - val_acc: 0.5648\n",
      "Epoch 3/20\n",
      "50000/50000 [==============================] - 9s 181us/sample - loss: 1.1670 - acc: 0.5927 - val_loss: 1.1610 - val_acc: 0.5923\n",
      "Epoch 4/20\n",
      "50000/50000 [==============================] - 9s 179us/sample - loss: 1.0847 - acc: 0.6213 - val_loss: 1.1390 - val_acc: 0.5995\n",
      "Epoch 5/20\n",
      "50000/50000 [==============================] - 9s 180us/sample - loss: 1.0273 - acc: 0.6426 - val_loss: 1.0967 - val_acc: 0.6189\n",
      "Epoch 6/20\n",
      "50000/50000 [==============================] - 9s 182us/sample - loss: 0.9848 - acc: 0.6575 - val_loss: 1.0850 - val_acc: 0.6259\n",
      "Epoch 7/20\n",
      "50000/50000 [==============================] - 9s 179us/sample - loss: 0.9439 - acc: 0.6733 - val_loss: 1.0700 - val_acc: 0.6284\n",
      "Epoch 8/20\n",
      "50000/50000 [==============================] - 9s 180us/sample - loss: 0.9163 - acc: 0.6808 - val_loss: 1.0798 - val_acc: 0.6322\n",
      "Epoch 9/20\n",
      "50000/50000 [==============================] - 9s 179us/sample - loss: 0.8871 - acc: 0.6921 - val_loss: 1.0728 - val_acc: 0.6289\n",
      "Epoch 10/20\n",
      "50000/50000 [==============================] - 9s 179us/sample - loss: 0.8637 - acc: 0.7013 - val_loss: 1.1105 - val_acc: 0.6235\n",
      "Epoch 11/20\n",
      "50000/50000 [==============================] - 9s 179us/sample - loss: 0.8388 - acc: 0.7087 - val_loss: 1.0924 - val_acc: 0.6253\n",
      "Epoch 12/20\n",
      "50000/50000 [==============================] - 9s 179us/sample - loss: 0.8205 - acc: 0.7153 - val_loss: 1.1224 - val_acc: 0.6235\n",
      "Epoch 13/20\n",
      "50000/50000 [==============================] - 9s 179us/sample - loss: 0.8017 - acc: 0.7209 - val_loss: 1.0793 - val_acc: 0.6355\n",
      "Epoch 14/20\n",
      "50000/50000 [==============================] - 9s 181us/sample - loss: 0.7837 - acc: 0.7266 - val_loss: 1.1460 - val_acc: 0.6208\n",
      "Epoch 15/20\n",
      "50000/50000 [==============================] - 9s 179us/sample - loss: 0.7673 - acc: 0.7319 - val_loss: 1.1075 - val_acc: 0.6321\n",
      "Epoch 16/20\n",
      "50000/50000 [==============================] - 9s 179us/sample - loss: 0.7560 - acc: 0.7359 - val_loss: 1.1822 - val_acc: 0.6139\n",
      "Epoch 17/20\n",
      "50000/50000 [==============================] - 9s 180us/sample - loss: 0.7425 - acc: 0.7411 - val_loss: 1.1394 - val_acc: 0.6267\n",
      "Epoch 18/20\n",
      "50000/50000 [==============================] - 9s 180us/sample - loss: 0.7321 - acc: 0.7445 - val_loss: 1.1492 - val_acc: 0.6262\n",
      "Epoch 19/20\n",
      "50000/50000 [==============================] - 9s 182us/sample - loss: 0.7206 - acc: 0.7478 - val_loss: 1.1571 - val_acc: 0.6273\n",
      "Epoch 20/20\n",
      "50000/50000 [==============================] - 9s 181us/sample - loss: 0.7062 - acc: 0.7529 - val_loss: 1.1785 - val_acc: 0.6214\n"
     ]
    }
   ],
   "source": [
    "# [Your Work] fit a model with train images and labels for 20 epochs\n",
    "h5 = model.fit(train_images, train_labels, epochs=20 , validation_data=(test_images,test_labels), batch_size=32)"
   ]
  },
  {
   "cell_type": "markdown",
   "metadata": {},
   "source": [
    "### <a id='p2C2'/> งานที่ 2.C.2: ปรับตัวแบบที่ 4 ให้มีจำนวนฟีทเจอร์แม็พที่มากขึ้น\n",
    "คราวนี้เราจะลองปรับตัวแบบที่ 4 ให้มีจำนวนฟีทเจอร์แม็พเพิ่มขึ้นเท่าตัวเป็น 32 และ 64 แม็พในชั้นคอนโวลูชันที่ 1 และ 2 <br/>\n",
    "เช่นเดิมกับงานที่แล้ว เราจะนิยามโครงสร้าง คอมไพล์และพิมพ์สรุปข้อมูลตัวแบบในเซลล์เดียวกัน"
   ]
  },
  {
   "cell_type": "code",
   "execution_count": 34,
   "metadata": {},
   "outputs": [
    {
     "name": "stdout",
     "output_type": "stream",
     "text": [
      "_________________________________________________________________\n",
      "Layer (type)                 Output Shape              Param #   \n",
      "=================================================================\n",
      "conv2d_5 (Conv2D)            (None, 32, 32, 32)        896       \n",
      "_________________________________________________________________\n",
      "max_pooling2d_2 (MaxPooling2 (None, 16, 16, 32)        0         \n",
      "_________________________________________________________________\n",
      "conv2d_6 (Conv2D)            (None, 16, 16, 64)        18496     \n",
      "_________________________________________________________________\n",
      "flatten_5 (Flatten)          (None, 16384)             0         \n",
      "_________________________________________________________________\n",
      "dense_7 (Dense)              (None, 10)                163850    \n",
      "=================================================================\n",
      "Total params: 183,242\n",
      "Trainable params: 183,242\n",
      "Non-trainable params: 0\n",
      "_________________________________________________________________\n"
     ]
    }
   ],
   "source": [
    "# [Your Work] ระบุโครงสร้าง คอมไพล์ และพิมพ์ summary\n",
    "model = keras.Sequential([\n",
    "    keras.layers.Conv2D(32, (3,3), input_shape=(32, 32, 3), activation=tf.nn.relu, padding='same'),\n",
    "    keras.layers.MaxPooling2D(),\n",
    "    keras.layers.Conv2D(64, (3,3), input_shape=(32, 32, 3), activation=tf.nn.relu, padding='same'),\n",
    "    keras.layers.Flatten(),\n",
    "    keras.layers.Dense(10, activation=tf.nn.softmax)\n",
    "])\n",
    "\n",
    "model.compile(optimizer=keras.optimizers.Adam(), \n",
    "              loss='sparse_categorical_crossentropy',\n",
    "              metrics=['accuracy'])\n",
    "model.summary()"
   ]
  },
  {
   "cell_type": "markdown",
   "metadata": {},
   "source": [
    "ฝึกตัวแบบ 20 epochs และเก็บประวัติการฝึกไว้ใน h6"
   ]
  },
  {
   "cell_type": "code",
   "execution_count": 35,
   "metadata": {},
   "outputs": [
    {
     "name": "stdout",
     "output_type": "stream",
     "text": [
      "Train on 50000 samples, validate on 10000 samples\n",
      "Epoch 1/20\n",
      "50000/50000 [==============================] - 17s 336us/sample - loss: 1.3560 - acc: 0.5206 - val_loss: 1.1200 - val_acc: 0.6022\n",
      "Epoch 2/20\n",
      "50000/50000 [==============================] - 16s 330us/sample - loss: 1.0110 - acc: 0.6487 - val_loss: 0.9784 - val_acc: 0.6596\n",
      "Epoch 3/20\n",
      "50000/50000 [==============================] - 16s 330us/sample - loss: 0.8777 - acc: 0.6946 - val_loss: 0.9328 - val_acc: 0.6806\n",
      "Epoch 4/20\n",
      "50000/50000 [==============================] - 16s 327us/sample - loss: 0.7860 - acc: 0.7264 - val_loss: 0.9187 - val_acc: 0.6891\n",
      "Epoch 5/20\n",
      "50000/50000 [==============================] - 16s 330us/sample - loss: 0.7064 - acc: 0.7542 - val_loss: 0.9438 - val_acc: 0.6818\n",
      "Epoch 6/20\n",
      "50000/50000 [==============================] - 16s 330us/sample - loss: 0.6348 - acc: 0.7812 - val_loss: 0.9398 - val_acc: 0.6884\n",
      "Epoch 7/20\n",
      "50000/50000 [==============================] - 17s 332us/sample - loss: 0.5696 - acc: 0.8029 - val_loss: 0.9746 - val_acc: 0.6880\n",
      "Epoch 8/20\n",
      "50000/50000 [==============================] - 17s 332us/sample - loss: 0.5105 - acc: 0.8242 - val_loss: 1.0652 - val_acc: 0.6734\n",
      "Epoch 9/20\n",
      "50000/50000 [==============================] - 16s 329us/sample - loss: 0.4517 - acc: 0.8432 - val_loss: 1.0828 - val_acc: 0.6806\n",
      "Epoch 10/20\n",
      "50000/50000 [==============================] - 16s 328us/sample - loss: 0.4037 - acc: 0.8585 - val_loss: 1.1266 - val_acc: 0.6807\n",
      "Epoch 11/20\n",
      "50000/50000 [==============================] - 17s 331us/sample - loss: 0.3555 - acc: 0.8764 - val_loss: 1.2062 - val_acc: 0.6740\n",
      "Epoch 12/20\n",
      "50000/50000 [==============================] - 16s 330us/sample - loss: 0.3143 - acc: 0.8910 - val_loss: 1.3699 - val_acc: 0.6607\n",
      "Epoch 13/20\n",
      "50000/50000 [==============================] - 16s 327us/sample - loss: 0.2737 - acc: 0.9048 - val_loss: 1.3566 - val_acc: 0.6736\n",
      "Epoch 14/20\n",
      "50000/50000 [==============================] - 16s 330us/sample - loss: 0.2447 - acc: 0.9140 - val_loss: 1.4918 - val_acc: 0.6680\n",
      "Epoch 15/20\n",
      "50000/50000 [==============================] - 16s 330us/sample - loss: 0.2147 - acc: 0.9247 - val_loss: 1.5982 - val_acc: 0.6663\n",
      "Epoch 16/20\n",
      "50000/50000 [==============================] - 17s 332us/sample - loss: 0.1904 - acc: 0.9319 - val_loss: 1.6553 - val_acc: 0.6660\n",
      "Epoch 17/20\n",
      "50000/50000 [==============================] - 17s 332us/sample - loss: 0.1655 - acc: 0.9417 - val_loss: 1.7997 - val_acc: 0.6579\n",
      "Epoch 18/20\n",
      "50000/50000 [==============================] - 17s 331us/sample - loss: 0.1476 - acc: 0.9480 - val_loss: 1.8692 - val_acc: 0.6592\n",
      "Epoch 19/20\n",
      "50000/50000 [==============================] - 17s 331us/sample - loss: 0.1361 - acc: 0.9518 - val_loss: 2.0674 - val_acc: 0.6500\n",
      "Epoch 20/20\n",
      "50000/50000 [==============================] - 17s 331us/sample - loss: 0.1283 - acc: 0.9540 - val_loss: 2.0474 - val_acc: 0.6533\n"
     ]
    }
   ],
   "source": [
    "# [Your Work] fit a model with train images and labels for 20 epochs\n",
    "h6 = model.fit(train_images, train_labels, epochs=20 , validation_data=(test_images,test_labels), batch_size=32)"
   ]
  },
  {
   "cell_type": "markdown",
   "metadata": {},
   "source": [
    "#### <a id='p2C3'/> งานที่ 2.C.3: อ่านค่าความแม่นยำสูงสุดที่ตัวแบบทำได้\n",
    "เนื่องจากตัวแบบที่มีปัญหาโอเวอร์ฟิตอาจจะเทรนไปมาก ๆ แล้วมีความแม่นยำน้อยลง ทำให้ epochs ด้านท้าย ๆ ไม่ได้ให้ผลลัพธ์ที่ใกล้เคียงกับผลลัพธ์ที่ดีที่สุดที่มันทำได้ ดังนั้นจึงเป็นเรื่องดีที่เราจะหาค่าความแม่นยำของตัวแบบใน epoch ที่มันมีความแม่นยำในชุดข้อมูลทดสอบที่ดีที่สุด ซึ่งเราจะค้นหาค่าสูงสุดจาก h4.history['val_acc'] และทำแบบเดียวกันกับ h5, h6 และตรวจดูว่าสามตัวแบบนี้ให้ความแม่นยำที่ดีที่สุดกี่เปอร์เซ็นต์\n",
    "\n",
    "จงใช้คำสั่ง max ในโมดูล numpy เพื่อหาค่าความแม่นยำสูงสุดในชุดข้อมูลทดสอบจากประวัติการฝึกของตัวแบบที่ 4 และเก็บไว้ในตัวแปร max4 จากนั้นทำแบบเดียวกันกับโมเดล 5 และ 6 แล้วเก็บค่าไว้ในตัวแปร max5 และ max6 จากนั้นให้พิมพ์ค่าเหล่านั้นออกมาด้วย print(max4, max5, max6)"
   ]
  },
  {
   "cell_type": "code",
   "execution_count": 36,
   "metadata": {},
   "outputs": [
    {
     "name": "stdout",
     "output_type": "stream",
     "text": [
      "0.6732 0.6355 0.6891\n"
     ]
    }
   ],
   "source": [
    "# [Your Work]\n",
    "max4 = np.max(h4.history['val_acc'])\n",
    "max5 = np.max(h5.history['val_acc'])\n",
    "max6 = np.max(h6.history['val_acc'])\n",
    "print(max4, max5, max6)"
   ]
  },
  {
   "cell_type": "markdown",
   "metadata": {},
   "source": [
    "#### <a id='p2C4'/> งานที่ 2.C.4: พล็อตกราฟความแม่นยำของตัวแบบที่ 4 5 และ 6 ออกมาร่วมกัน\n",
    "เราจะเริ่มจากการเตรียมข้อมูลกราฟความแม่นยำทั้งในชุดข้อมูลฝึกและทดสอบของตัวแบบที่ 5 และ 6 ขึ้นมา ซึ่งทำได้ในลักษณะเดิม (เราจะมีกราฟเพิ่มขึ้น 4 เส้น) ส่วนของตัวแบบ 4 เรามีข้อมูลเส้นกราฟอยู่แล้ว จึงไม่ต้องทำอีก"
   ]
  },
  {
   "cell_type": "code",
   "execution_count": 37,
   "metadata": {},
   "outputs": [],
   "source": [
    "# [ํYour Work]\n",
    "train_acc_trace5 = go.Scatter(\n",
    "    x = epochs_x2,\n",
    "    y = h5.history['acc'],\n",
    "    mode = 'lines+markers',\n",
    "    name = 'train5'\n",
    ")\n",
    "\n",
    "test_acc_trace5 = go.Scatter(\n",
    "    x = epochs_x2,\n",
    "    y = h5.history['val_acc'],\n",
    "    mode = 'lines+markers',\n",
    "    name = 'test5'\n",
    ")\n",
    "\n",
    "train_acc_trace6 = go.Scatter(\n",
    "    x = epochs_x2,\n",
    "    y = h6.history['acc'],\n",
    "    mode = 'lines+markers',\n",
    "    name = 'tran6'\n",
    ")\n",
    "\n",
    "test_acc_trace6 = go.Scatter(\n",
    "    x = epochs_x2,\n",
    "    y = h6.history['val_acc'],\n",
    "    mode = 'lines+markers',\n",
    "    name = 'test6'\n",
    ")"
   ]
  },
  {
   "cell_type": "markdown",
   "metadata": {},
   "source": [
    "**จงใช้คำสั่ง iplot วาดกราฟความแม่นยำของตัวแบบ 4 5 และ 6 ด้วยกัน** ซึ่งจะมีกราฟทั้งหมด 6 เส้น"
   ]
  },
  {
   "cell_type": "code",
   "execution_count": 38,
   "metadata": {},
   "outputs": [
    {
     "data": {
      "application/vnd.plotly.v1+json": {
       "config": {
        "linkText": "Export to plot.ly",
        "plotlyServerURL": "https://plot.ly",
        "responsive": true,
        "showLink": false
       },
       "data": [
        {
         "mode": "lines+markers",
         "name": "tran4",
         "type": "scatter",
         "uid": "d047b80f-0e54-4fc4-8127-6ad86378d60f",
         "visible": "legendonly",
         "x": [
          1,
          2,
          3,
          4,
          5,
          6,
          7,
          8,
          9,
          10,
          11,
          12,
          13,
          14,
          15,
          16,
          17,
          18,
          19,
          20
         ],
         "y": [
          0.4912000000476837,
          0.6079599857330322,
          0.6547600030899048,
          0.6828200221061707,
          0.7041199803352356,
          0.7259200215339661,
          0.7424399852752686,
          0.7578399777412415,
          0.7687000036239624,
          0.7826399803161621,
          0.7961199879646301,
          0.8067200183868408,
          0.8172399997711182,
          0.8269400000572205,
          0.8350200057029724,
          0.8429200053215027,
          0.8530399799346924,
          0.8610000014305115,
          0.8672199845314026,
          0.8752999901771545
         ]
        },
        {
         "mode": "lines+markers",
         "name": "train5",
         "type": "scatter",
         "uid": "f9b5ec6a-f1fd-469d-bb4c-46ea148a3aad",
         "visible": "legendonly",
         "x": [
          1,
          2,
          3,
          4,
          5,
          6,
          7,
          8,
          9,
          10,
          11,
          12,
          13,
          14,
          15,
          16,
          17,
          18,
          19,
          20
         ],
         "y": [
          0.4459800124168396,
          0.5480999946594238,
          0.5926799774169922,
          0.6212599873542786,
          0.6425600051879883,
          0.6574599742889404,
          0.6733400225639343,
          0.6808199882507324,
          0.6921200156211853,
          0.7012799978256226,
          0.7086600065231323,
          0.7153400182723999,
          0.7208799719810486,
          0.7265999913215637,
          0.731939971446991,
          0.7358599901199341,
          0.7411400079727173,
          0.7445399761199951,
          0.747759997844696,
          0.7528600096702576
         ]
        },
        {
         "mode": "lines+markers",
         "name": "tran6",
         "type": "scatter",
         "uid": "4c8e2043-97a9-455d-931b-1654d4952bec",
         "visible": "legendonly",
         "x": [
          1,
          2,
          3,
          4,
          5,
          6,
          7,
          8,
          9,
          10,
          11,
          12,
          13,
          14,
          15,
          16,
          17,
          18,
          19,
          20
         ],
         "y": [
          0.5205600261688232,
          0.6487200260162354,
          0.694599986076355,
          0.7264400124549866,
          0.7542200088500977,
          0.7811599969863892,
          0.8028600215911865,
          0.8242200016975403,
          0.8431800007820129,
          0.8585000038146973,
          0.8764399886131287,
          0.891040027141571,
          0.9048200249671936,
          0.9139599800109863,
          0.9247199892997742,
          0.9318600296974182,
          0.9416999816894531,
          0.9480000138282776,
          0.9518399834632874,
          0.9540200233459473
         ]
        },
        {
         "mode": "lines+markers",
         "name": "test4",
         "type": "scatter",
         "uid": "a7c6efc5-6ec3-409d-bb9f-c9a59f52bb1a",
         "visible": "legendonly",
         "x": [
          1,
          2,
          3,
          4,
          5,
          6,
          7,
          8,
          9,
          10,
          11,
          12,
          13,
          14,
          15,
          16,
          17,
          18,
          19,
          20
         ],
         "y": [
          0.5820000171661377,
          0.6305000185966492,
          0.642300009727478,
          0.6455000042915344,
          0.6679999828338623,
          0.6486999988555908,
          0.6693000197410583,
          0.6539999842643738,
          0.6732000112533569,
          0.661300003528595,
          0.656499981880188,
          0.6606000065803528,
          0.6600000262260437,
          0.6550999879837036,
          0.6424999833106995,
          0.6446999907493591,
          0.6453999876976013,
          0.633400022983551,
          0.6413999795913696,
          0.6312999725341797
         ]
        },
        {
         "mode": "lines+markers",
         "name": "test5",
         "type": "scatter",
         "uid": "d1ebcb5c-9de3-41b2-85dc-99cf3ef7cc7d",
         "visible": true,
         "x": [
          1,
          2,
          3,
          4,
          5,
          6,
          7,
          8,
          9,
          10,
          11,
          12,
          13,
          14,
          15,
          16,
          17,
          18,
          19,
          20
         ],
         "y": [
          0.5289000272750854,
          0.5648000240325928,
          0.5922999978065491,
          0.5995000004768372,
          0.6189000010490417,
          0.6258999705314636,
          0.6284000277519226,
          0.6322000026702881,
          0.6288999915122986,
          0.6234999895095825,
          0.6252999901771545,
          0.6234999895095825,
          0.6355000138282776,
          0.6208000183105469,
          0.632099986076355,
          0.6139000058174133,
          0.6266999840736389,
          0.6262000203132629,
          0.6273000240325928,
          0.621399998664856
         ]
        },
        {
         "mode": "lines+markers",
         "name": "test6",
         "type": "scatter",
         "uid": "bb79a03a-6c24-4ff8-a9d4-4ae5a5b2b220",
         "visible": true,
         "x": [
          1,
          2,
          3,
          4,
          5,
          6,
          7,
          8,
          9,
          10,
          11,
          12,
          13,
          14,
          15,
          16,
          17,
          18,
          19,
          20
         ],
         "y": [
          0.6021999716758728,
          0.659600019454956,
          0.6805999875068665,
          0.6891000270843506,
          0.6818000078201294,
          0.6883999705314636,
          0.6880000233650208,
          0.6733999848365784,
          0.6805999875068665,
          0.6807000041007996,
          0.6740000247955322,
          0.6607000231742859,
          0.6736000180244446,
          0.6679999828338623,
          0.6662999987602234,
          0.6660000085830688,
          0.6578999757766724,
          0.6592000126838684,
          0.6499999761581421,
          0.6532999873161316
         ]
        }
       ],
       "layout": {
        "autosize": true,
        "xaxis": {
         "autorange": true,
         "range": [
          -0.204225352112676,
          21.204225352112676
         ],
         "type": "linear"
        },
        "yaxis": {
         "autorange": true,
         "range": [
          0.5156796389413112,
          0.7023204154181248
         ],
         "type": "linear"
        }
       }
      },
      "image/png": "[encoded data removed]",
      "text/html": [
       "<div>\n",
       "        \n",
       "        \n",
       "            <div id=\"ceb61376-ea2a-40ae-8c1f-d330f54a2f14\" class=\"plotly-graph-div\" style=\"height:525px; width:100%;\"></div>\n",
       "            <script type=\"text/javascript\">\n",
       "                require([\"plotly\"], function(Plotly) {\n",
       "                    window.PLOTLYENV=window.PLOTLYENV || {};\n",
       "                    window.PLOTLYENV.BASE_URL='https://plot.ly';\n",
       "                    \n",
       "                if (document.getElementById(\"ceb61376-ea2a-40ae-8c1f-d330f54a2f14\")) {\n",
       "                    Plotly.newPlot(\n",
       "                        'ceb61376-ea2a-40ae-8c1f-d330f54a2f14',\n",
       "                        [{\"mode\": \"lines+markers\", \"name\": \"tran4\", \"type\": \"scatter\", \"uid\": \"52c3fcfa-c2c6-41bf-a8ec-758cc1810fb8\", \"x\": [1.0, 2.0, 3.0, 4.0, 5.0, 6.0, 7.0, 8.0, 9.0, 10.0, 11.0, 12.0, 13.0, 14.0, 15.0, 16.0, 17.0, 18.0, 19.0, 20.0], \"y\": [0.4912000000476837, 0.6079599857330322, 0.6547600030899048, 0.6828200221061707, 0.7041199803352356, 0.7259200215339661, 0.7424399852752686, 0.7578399777412415, 0.7687000036239624, 0.7826399803161621, 0.7961199879646301, 0.8067200183868408, 0.8172399997711182, 0.8269400000572205, 0.8350200057029724, 0.8429200053215027, 0.8530399799346924, 0.8610000014305115, 0.8672199845314026, 0.8752999901771545]}, {\"mode\": \"lines+markers\", \"name\": \"train5\", \"type\": \"scatter\", \"uid\": \"e89ccca9-bbbc-45eb-b0d8-27fd155ce971\", \"x\": [1.0, 2.0, 3.0, 4.0, 5.0, 6.0, 7.0, 8.0, 9.0, 10.0, 11.0, 12.0, 13.0, 14.0, 15.0, 16.0, 17.0, 18.0, 19.0, 20.0], \"y\": [0.4459800124168396, 0.5480999946594238, 0.5926799774169922, 0.6212599873542786, 0.6425600051879883, 0.6574599742889404, 0.6733400225639343, 0.6808199882507324, 0.6921200156211853, 0.7012799978256226, 0.7086600065231323, 0.7153400182723999, 0.7208799719810486, 0.7265999913215637, 0.731939971446991, 0.7358599901199341, 0.7411400079727173, 0.7445399761199951, 0.747759997844696, 0.7528600096702576]}, {\"mode\": \"lines+markers\", \"name\": \"tran6\", \"type\": \"scatter\", \"uid\": \"c8360dff-a1d7-4594-a86c-86d7888830ac\", \"x\": [1.0, 2.0, 3.0, 4.0, 5.0, 6.0, 7.0, 8.0, 9.0, 10.0, 11.0, 12.0, 13.0, 14.0, 15.0, 16.0, 17.0, 18.0, 19.0, 20.0], \"y\": [0.5205600261688232, 0.6487200260162354, 0.694599986076355, 0.7264400124549866, 0.7542200088500977, 0.7811599969863892, 0.8028600215911865, 0.8242200016975403, 0.8431800007820129, 0.8585000038146973, 0.8764399886131287, 0.891040027141571, 0.9048200249671936, 0.9139599800109863, 0.9247199892997742, 0.9318600296974182, 0.9416999816894531, 0.9480000138282776, 0.9518399834632874, 0.9540200233459473]}, {\"mode\": \"lines+markers\", \"name\": \"test4\", \"type\": \"scatter\", \"uid\": \"04de0035-0a0c-4482-a863-f38465ddae41\", \"x\": [1.0, 2.0, 3.0, 4.0, 5.0, 6.0, 7.0, 8.0, 9.0, 10.0, 11.0, 12.0, 13.0, 14.0, 15.0, 16.0, 17.0, 18.0, 19.0, 20.0], \"y\": [0.5820000171661377, 0.6305000185966492, 0.642300009727478, 0.6455000042915344, 0.6679999828338623, 0.6486999988555908, 0.6693000197410583, 0.6539999842643738, 0.6732000112533569, 0.661300003528595, 0.656499981880188, 0.6606000065803528, 0.6600000262260437, 0.6550999879837036, 0.6424999833106995, 0.6446999907493591, 0.6453999876976013, 0.633400022983551, 0.6413999795913696, 0.6312999725341797]}, {\"mode\": \"lines+markers\", \"name\": \"test5\", \"type\": \"scatter\", \"uid\": \"43587eed-ce14-4112-85fb-386b025214a6\", \"x\": [1.0, 2.0, 3.0, 4.0, 5.0, 6.0, 7.0, 8.0, 9.0, 10.0, 11.0, 12.0, 13.0, 14.0, 15.0, 16.0, 17.0, 18.0, 19.0, 20.0], \"y\": [0.5289000272750854, 0.5648000240325928, 0.5922999978065491, 0.5995000004768372, 0.6189000010490417, 0.6258999705314636, 0.6284000277519226, 0.6322000026702881, 0.6288999915122986, 0.6234999895095825, 0.6252999901771545, 0.6234999895095825, 0.6355000138282776, 0.6208000183105469, 0.632099986076355, 0.6139000058174133, 0.6266999840736389, 0.6262000203132629, 0.6273000240325928, 0.621399998664856]}, {\"mode\": \"lines+markers\", \"name\": \"test6\", \"type\": \"scatter\", \"uid\": \"c78171d8-f397-4ebe-968e-5b10fd2d6b1a\", \"x\": [1.0, 2.0, 3.0, 4.0, 5.0, 6.0, 7.0, 8.0, 9.0, 10.0, 11.0, 12.0, 13.0, 14.0, 15.0, 16.0, 17.0, 18.0, 19.0, 20.0], \"y\": [0.6021999716758728, 0.659600019454956, 0.6805999875068665, 0.6891000270843506, 0.6818000078201294, 0.6883999705314636, 0.6880000233650208, 0.6733999848365784, 0.6805999875068665, 0.6807000041007996, 0.6740000247955322, 0.6607000231742859, 0.6736000180244446, 0.6679999828338623, 0.6662999987602234, 0.6660000085830688, 0.6578999757766724, 0.6592000126838684, 0.6499999761581421, 0.6532999873161316]}],\n",
       "                        {},\n",
       "                        {\"showLink\": false, \"linkText\": \"Export to plot.ly\", \"plotlyServerURL\": \"https://plot.ly\", \"responsive\": true}\n",
       "                    ).then(function(){\n",
       "                            \n",
       "var gd = document.getElementById('ceb61376-ea2a-40ae-8c1f-d330f54a2f14');\n",
       "var x = new MutationObserver(function (mutations, observer) {{\n",
       "        var display = window.getComputedStyle(gd).display;\n",
       "        if (!display || display === 'none') {{\n",
       "            console.log([gd, 'removed!']);\n",
       "            Plotly.purge(gd);\n",
       "            observer.disconnect();\n",
       "        }}\n",
       "}});\n",
       "\n",
       "// Listen for the removal of the full notebook cells\n",
       "var notebookContainer = gd.closest('#notebook-container');\n",
       "if (notebookContainer) {{\n",
       "    x.observe(notebookContainer, {childList: true});\n",
       "}}\n",
       "\n",
       "// Listen for the clearing of the current output cell\n",
       "var outputEl = gd.closest('.output');\n",
       "if (outputEl) {{\n",
       "    x.observe(outputEl, {childList: true});\n",
       "}}\n",
       "\n",
       "                        })\n",
       "                };\n",
       "                });\n",
       "            </script>\n",
       "        </div>"
      ]
     },
     "metadata": {},
     "output_type": "display_data"
    }
   ],
   "source": [
    "# [Your Work]\n",
    "iplot([train_acc_trace4, train_acc_trace5,train_acc_trace6, \n",
    "       test_acc_trace4, test_acc_trace5,  test_acc_trace6])\n"
   ]
  },
  {
   "cell_type": "markdown",
   "metadata": {},
   "source": [
    "### <a id='q2D'/> Quick Quiz 2.C: ตัวแบบที่แม่นยำที่สุดกับตัวแบบที่มีปัญหาโอเวอร์ฟิตติ้งรุนแรงที่สุด\n",
    "**คำถามแรก** จงเรียงลำดับตัวแบบตามความแม่นยำที่ดีที่สุดในชุดข้อมูลทดสอบที่แต่ละตัวแบบทำได้ โดยให้ตอบมาทั้งหมายเลขตัวแบบและค่าความแม่นยำสูงสุดในชุดข้อมูลทดสอบของตัวแบบทั้งสามประกอบกันไปด้วย"
   ]
  },
  {
   "cell_type": "markdown",
   "metadata": {},
   "source": [
    "(พื้นที่สำหรับตอบคำถาม) <br/><br/>\n",
    "6 0.6891<br/>\n",
    "4 0.6732<br/>\n",
    "5 0.6355<br/>"
   ]
  },
  {
   "cell_type": "markdown",
   "metadata": {},
   "source": [
    "**คำถามสอง** ใน epoch สุดท้าย ความแตกต่างระหว่างความแม่นยำในชุดข้อมูลฝึกและความแม่นยำในชุดข้อมูลทดสอบของแต่ละตัวแบบมีค่าเท่าใด จงสดงการคำนวณประกอบสั้น ๆ (เราอ่านค่าความแม่นยำจากกราฟที่วาดด้วย plotly ได้โดยง่าย)"
   ]
  },
  {
   "cell_type": "markdown",
   "metadata": {},
   "source": [
    "(พื้นที่สำหรับตอบคำถาม) <br/><br/>\n",
    "4 0.8753-0.6313 = 0.244<br/>\n",
    "5 0.75286-0.6214 = 0.13146<br/>\n",
    "6 0.96402-0.6533 = 0.31072<br/>"
   ]
  },
  {
   "cell_type": "markdown",
   "metadata": {},
   "source": [
    "**คำถามที่สาม** คุณคิดว่าตัวแบบใดที่มีปัญหาโอเวอร์ฟิตติงรุนแรงที่สุด ให้เหตุผลสั้น ๆ ประกอบ"
   ]
  },
  {
   "cell_type": "markdown",
   "metadata": {},
   "source": [
    "(พื้นที่สำหรับตอบคำถาม) <br/><br/>\n",
    "6 เพราะ acc ต่างกับ var_acc มากที่สุด"
   ]
  },
  {
   "cell_type": "markdown",
   "metadata": {},
   "source": [
    "**คำถามที่สี่** ตัวแบบที่ 5 ซึ่งมีจำนวนฟีทเจอร์แม็พน้อยกว่าแบบที่ 4 โดยเปรียบเทียบแล้วมีความแม่นยำเป็นอย่างไร\n",
    "1. ความแม่นยำในชุดทดสอบที่ดีที่สุดตัวแบบไหนดีกว่า และแตกต่างกันเท่าใด (อย่าลืมว่าเรากำลังเทียบเฉพาะตัวแบบ 4 และ 5 เท่านั้น)\n",
    "2. ณ epoch สุดท้าย ความแม่นยำในชุดทุดสอบ ตัวแบบไหนดีกว่า และแตกต่างกันเท่าใด\n",
    "3. จากคำถามสองประเด็นที่ผ่านมา จงอธิบายสั้น ๆ ว่าความเปลี่ยนแปลงต่าง ๆ เมื่อเทียบจากจุดที่ดีที่สุดที่ทั้งสองตัวแบบทำได้กับตอนสิ้นสุดการเรียนรู้ มีความแตกต่างไปในทิศทางใด ทำไมจึงเป็นเช่นนั้น"
   ]
  },
  {
   "cell_type": "markdown",
   "metadata": {},
   "source": [
    "(พื้นที่สำหรับตอบคำถาม) <br/><br/>\n",
    "1. 4 แตกต่างกัน 0.6732-0.6355 = 0.0377 <br/>\n",
    "2. 4 แตกต่างกัน 0.6313-0.6214 = 0.0099 <br/>\n",
    "3. น้อยลง เพราะmodelใกล้เคียงกัน"
   ]
  },
  {
   "cell_type": "markdown",
   "metadata": {},
   "source": [
    "### <a id='p2D'/> งานที่ 2.D: จำนวนตัวอย่างในกลุ่มย่อยกับผลกระทบต่อความแม่นยำและระยะเวลาที่ใช้ในการฝึก\n",
    "ตัวแบบหมายเลข 5 ที่เรานำมาทดสอบก่อนหน้า เป็นตัวแบบที่มีขนาดเล็ก ใช้หน่วยความจำน้อย ทำให้เราสามารถเพิ่มจำนวนตัวอย่างในแต่ละกลุ่มย่อย (minibatch) ได้โดยที่หน่วยความจำใน GPU ยังมีเพียงพอ เหมาะสำหรับการนำมาศึกษาผลกระทบของจำนวนตัวอย่างในกลุ่มย่อย เนื่องจากเราจะสามารถเพิ่มลดจำนวนตัวอย่างให้มีความแตกต่างกันหลายเท่าได้\n",
    "\n",
    "#### <a id='p2D1'/> งานที่ 2.D.1: กำหนดโครงสร้างของตัวแบบหมายเลข 5 อีกครั้งและฝึกมันด้วยจำนวนตัวอย่างเพียง 8 ตัวอย่างต่อ minibatch\n",
    "เราจะเริ่มจากการสร้างตัวแปร model ใหม่ซึ่งมีโครงสร้างเดียวกันกับตัวแบบหมายเลข 5 สาเหตุที่ต้องสร้างตัวแปรใหม่แม้ว่าตัวแบบล่าสุดก็มีโครงสร้างแบบเดียวกันก็เพราะเราต้องการที่จะล้างผลการฝึกต่าง ๆ ที่มีมาก่อนหน้าทิ้งแล้วเริ่มต้นใหม่จากศูนย์เพื่อให้การเปรียบเทียบต่าง ๆ เป็นไปในรูปแบบเดียวกัน\n",
    "\n",
    "จงนิยามโครงสร้างของตัวแบบ 5 อีกครั้งพร้อมทั้งคอมไพล์และพิมพ์สรุปโครงสร้างออกมา"
   ]
  },
  {
   "cell_type": "code",
   "execution_count": 39,
   "metadata": {},
   "outputs": [
    {
     "name": "stdout",
     "output_type": "stream",
     "text": [
      "_________________________________________________________________\n",
      "Layer (type)                 Output Shape              Param #   \n",
      "=================================================================\n",
      "conv2d_7 (Conv2D)            (None, 32, 32, 8)         224       \n",
      "_________________________________________________________________\n",
      "max_pooling2d_3 (MaxPooling2 (None, 16, 16, 8)         0         \n",
      "_________________________________________________________________\n",
      "conv2d_8 (Conv2D)            (None, 16, 16, 16)        1168      \n",
      "_________________________________________________________________\n",
      "flatten_6 (Flatten)          (None, 4096)              0         \n",
      "_________________________________________________________________\n",
      "dense_8 (Dense)              (None, 10)                40970     \n",
      "=================================================================\n",
      "Total params: 42,362\n",
      "Trainable params: 42,362\n",
      "Non-trainable params: 0\n",
      "_________________________________________________________________\n"
     ]
    }
   ],
   "source": [
    "# [Your Work] ระบุโครงสร้าง คอมไพล์ และพิมพ์ summary\n",
    "model = keras.Sequential([\n",
    "    keras.layers.Conv2D(8, (3,3), input_shape=(32, 32, 3), activation=tf.nn.relu, padding='same'),\n",
    "    keras.layers.MaxPooling2D(),\n",
    "    keras.layers.Conv2D(16, (3,3), input_shape=(32, 32, 3), activation=tf.nn.relu, padding='same'),\n",
    "    keras.layers.Flatten(),\n",
    "    keras.layers.Dense(10, activation=tf.nn.softmax)\n",
    "])\n",
    "\n",
    "\n",
    "model.compile(optimizer=keras.optimizers.Adam(), \n",
    "              loss='sparse_categorical_crossentropy',\n",
    "              metrics=['accuracy'])\n",
    "model.summary()"
   ]
  },
  {
   "cell_type": "markdown",
   "metadata": {},
   "source": [
    "สั่งฝึกตัวแบบที่ได้มา **โดยให้จำนวนตัวอย่างในกลุ่มย่อยเป็น 8** และให้เก็บประวัติผลการฝึกไว้ในตัวแปร h7 (และเราจะอ้างถึงตัวแบบนี้ว่า ตัวแบบ 7 ในลักษณะเดียวกับที่ผ่านมา) ขอให้สังเกตเรื่องความแม่นยำในชุดข้อมูลฝึกและเวลาที่ใช้ในการฝึกตัวแบบด้วย เพราะนี่คือจุดประสงค์การเรียนรู้ของเราในงานนี้"
   ]
  },
  {
   "cell_type": "code",
   "execution_count": 40,
   "metadata": {},
   "outputs": [
    {
     "name": "stdout",
     "output_type": "stream",
     "text": [
      "Train on 50000 samples, validate on 10000 samples\n",
      "Epoch 1/20\n",
      "50000/50000 [==============================] - 25s 492us/sample - loss: 1.4718 - acc: 0.4763 - val_loss: 1.2655 - val_acc: 0.5576\n",
      "Epoch 2/20\n",
      "50000/50000 [==============================] - 24s 488us/sample - loss: 1.1807 - acc: 0.5866 - val_loss: 1.1528 - val_acc: 0.5965\n",
      "Epoch 3/20\n",
      "50000/50000 [==============================] - 24s 490us/sample - loss: 1.0784 - acc: 0.6238 - val_loss: 1.1131 - val_acc: 0.6153\n",
      "Epoch 4/20\n",
      "50000/50000 [==============================] - 24s 489us/sample - loss: 1.0091 - acc: 0.6494 - val_loss: 1.1320 - val_acc: 0.6075\n",
      "Epoch 5/20\n",
      "50000/50000 [==============================] - 24s 484us/sample - loss: 0.9588 - acc: 0.6666 - val_loss: 1.1339 - val_acc: 0.6118\n",
      "Epoch 6/20\n",
      "50000/50000 [==============================] - 24s 490us/sample - loss: 0.9191 - acc: 0.6811 - val_loss: 1.1859 - val_acc: 0.5988\n",
      "Epoch 7/20\n",
      "50000/50000 [==============================] - 24s 488us/sample - loss: 0.8860 - acc: 0.6930 - val_loss: 1.1210 - val_acc: 0.6235\n",
      "Epoch 8/20\n",
      "50000/50000 [==============================] - 24s 490us/sample - loss: 0.8579 - acc: 0.7028 - val_loss: 1.2146 - val_acc: 0.6018\n",
      "Epoch 9/20\n",
      "50000/50000 [==============================] - 25s 496us/sample - loss: 0.8334 - acc: 0.7122 - val_loss: 1.1845 - val_acc: 0.6093\n",
      "Epoch 10/20\n",
      "50000/50000 [==============================] - 25s 490us/sample - loss: 0.8135 - acc: 0.7160 - val_loss: 1.1866 - val_acc: 0.6139\n",
      "Epoch 11/20\n",
      "50000/50000 [==============================] - 24s 489us/sample - loss: 0.7962 - acc: 0.7234 - val_loss: 1.2696 - val_acc: 0.5929\n",
      "Epoch 12/20\n",
      "50000/50000 [==============================] - 24s 490us/sample - loss: 0.7782 - acc: 0.7270 - val_loss: 1.2056 - val_acc: 0.6108\n",
      "Epoch 13/20\n",
      "50000/50000 [==============================] - 24s 487us/sample - loss: 0.7634 - acc: 0.7330 - val_loss: 1.2315 - val_acc: 0.6077\n",
      "Epoch 14/20\n",
      "50000/50000 [==============================] - 25s 491us/sample - loss: 0.7507 - acc: 0.7370 - val_loss: 1.3038 - val_acc: 0.6022\n",
      "Epoch 15/20\n",
      "50000/50000 [==============================] - 25s 498us/sample - loss: 0.7408 - acc: 0.7393 - val_loss: 1.2932 - val_acc: 0.6018\n",
      "Epoch 16/20\n",
      "50000/50000 [==============================] - 25s 490us/sample - loss: 0.7254 - acc: 0.7457 - val_loss: 1.2970 - val_acc: 0.6008\n",
      "Epoch 17/20\n",
      "50000/50000 [==============================] - 24s 488us/sample - loss: 0.7190 - acc: 0.7478 - val_loss: 1.3187 - val_acc: 0.5955\n",
      "Epoch 18/20\n",
      "50000/50000 [==============================] - 25s 499us/sample - loss: 0.7110 - acc: 0.7503 - val_loss: 1.3436 - val_acc: 0.6029\n",
      "Epoch 19/20\n",
      "50000/50000 [==============================] - 25s 494us/sample - loss: 0.7020 - acc: 0.7548 - val_loss: 1.3788 - val_acc: 0.6007\n",
      "Epoch 20/20\n",
      "50000/50000 [==============================] - 25s 491us/sample - loss: 0.6935 - acc: 0.7588 - val_loss: 1.3677 - val_acc: 0.5890\n"
     ]
    }
   ],
   "source": [
    "# [Your Work] fit a model with train images and labels for 20 epochs\n",
    "h7 = model.fit(train_images, train_labels, epochs=20 , validation_data=(test_images,test_labels), batch_size=8)"
   ]
  },
  {
   "cell_type": "markdown",
   "metadata": {},
   "source": [
    "#### <a id='p2D2' /> งานที่ 2.D.2: กำหนดโครงสร้างของตัวแบบหมายเลข 5 อีกครั้งและฝึกมันด้วยจำนวนตัวอย่างเพียง 128 ตัวอย่างต่อกลุ่มย่อย\n",
    "เช่นเดิมกับงานที่แล้ว เราต้องการล้างผลการฝึกของตัวแบบ 7 ออกไปเพื่อที่จะได้เริ่มต้นฝึกตัวแบบในงานนี้จาก 0 เราจะต้องสั่งสร้างตัวแปร model ใหม่ตั้งแต่การนิยามโครงสร้างและทำการคอมไพล์พร้อมทั้งพิมพ์สรุปโครงสร้างตัวแบบ"
   ]
  },
  {
   "cell_type": "code",
   "execution_count": 42,
   "metadata": {},
   "outputs": [
    {
     "name": "stdout",
     "output_type": "stream",
     "text": [
      "_________________________________________________________________\n",
      "Layer (type)                 Output Shape              Param #   \n",
      "=================================================================\n",
      "conv2d_9 (Conv2D)            (None, 32, 32, 8)         224       \n",
      "_________________________________________________________________\n",
      "max_pooling2d_4 (MaxPooling2 (None, 16, 16, 8)         0         \n",
      "_________________________________________________________________\n",
      "conv2d_10 (Conv2D)           (None, 16, 16, 16)        1168      \n",
      "_________________________________________________________________\n",
      "flatten_7 (Flatten)          (None, 4096)              0         \n",
      "_________________________________________________________________\n",
      "dense_9 (Dense)              (None, 10)                40970     \n",
      "=================================================================\n",
      "Total params: 42,362\n",
      "Trainable params: 42,362\n",
      "Non-trainable params: 0\n",
      "_________________________________________________________________\n"
     ]
    }
   ],
   "source": [
    "# [Your Work] ระบุโครงสร้าง คอมไพล์ และพิมพ์ summary\n",
    "model = keras.Sequential([\n",
    "    keras.layers.Conv2D(8, (3,3), input_shape=(32, 32, 3), activation=tf.nn.relu, padding='same'),\n",
    "    keras.layers.MaxPooling2D(),\n",
    "    keras.layers.Conv2D(16, (3,3), input_shape=(32, 32, 3), activation=tf.nn.relu, padding='same'),\n",
    "    keras.layers.Flatten(),\n",
    "    keras.layers.Dense(10, activation=tf.nn.softmax)\n",
    "])\n",
    "\n",
    "\n",
    "model.compile(optimizer=keras.optimizers.Adam(), \n",
    "              loss='sparse_categorical_crossentropy',\n",
    "              metrics=['accuracy'])\n",
    "model.summary()"
   ]
  },
  {
   "cell_type": "markdown",
   "metadata": {},
   "source": [
    "สั่งฝึกตัวแบบ 8 ที่เพิ่งสร้างขึ้นมานี้ **โดยให้จำนวนตัวอย่างในกลุ่มย่อยเป็น 128** และให้เก็บประวัติผลการฝึกไว้ในตัวแปร h8"
   ]
  },
  {
   "cell_type": "code",
   "execution_count": 43,
   "metadata": {},
   "outputs": [
    {
     "name": "stdout",
     "output_type": "stream",
     "text": [
      "Train on 50000 samples, validate on 10000 samples\n",
      "Epoch 1/20\n",
      "50000/50000 [==============================] - 6s 124us/sample - loss: 1.6491 - acc: 0.4181 - val_loss: 1.4398 - val_acc: 0.4921\n",
      "Epoch 2/20\n",
      "50000/50000 [==============================] - 6s 119us/sample - loss: 1.3470 - acc: 0.5276 - val_loss: 1.3112 - val_acc: 0.5348\n",
      "Epoch 3/20\n",
      "50000/50000 [==============================] - 6s 119us/sample - loss: 1.2380 - acc: 0.5683 - val_loss: 1.2160 - val_acc: 0.5699\n",
      "Epoch 4/20\n",
      "50000/50000 [==============================] - 6s 120us/sample - loss: 1.1767 - acc: 0.5916 - val_loss: 1.2123 - val_acc: 0.5734\n",
      "Epoch 5/20\n",
      "50000/50000 [==============================] - 6s 119us/sample - loss: 1.1213 - acc: 0.6097 - val_loss: 1.1684 - val_acc: 0.5896\n",
      "Epoch 6/20\n",
      "50000/50000 [==============================] - 6s 120us/sample - loss: 1.0779 - acc: 0.6247 - val_loss: 1.1652 - val_acc: 0.5935\n",
      "Epoch 7/20\n",
      "50000/50000 [==============================] - 6s 120us/sample - loss: 1.0447 - acc: 0.6360 - val_loss: 1.1291 - val_acc: 0.6002\n",
      "Epoch 8/20\n",
      "50000/50000 [==============================] - 6s 119us/sample - loss: 1.0128 - acc: 0.6507 - val_loss: 1.1014 - val_acc: 0.6142\n",
      "Epoch 9/20\n",
      "50000/50000 [==============================] - 6s 118us/sample - loss: 0.9869 - acc: 0.6589 - val_loss: 1.0697 - val_acc: 0.6274\n",
      "Epoch 10/20\n",
      "50000/50000 [==============================] - 6s 119us/sample - loss: 0.9669 - acc: 0.6663 - val_loss: 1.0821 - val_acc: 0.6281\n",
      "Epoch 11/20\n",
      "50000/50000 [==============================] - 6s 122us/sample - loss: 0.9430 - acc: 0.6743 - val_loss: 1.0574 - val_acc: 0.6355\n",
      "Epoch 12/20\n",
      "50000/50000 [==============================] - 6s 120us/sample - loss: 0.9267 - acc: 0.6798 - val_loss: 1.0796 - val_acc: 0.6283\n",
      "Epoch 13/20\n",
      "50000/50000 [==============================] - 6s 121us/sample - loss: 0.9116 - acc: 0.6838 - val_loss: 1.0555 - val_acc: 0.6349\n",
      "Epoch 14/20\n",
      "50000/50000 [==============================] - 6s 120us/sample - loss: 0.8951 - acc: 0.6906 - val_loss: 1.0833 - val_acc: 0.6295\n",
      "Epoch 15/20\n",
      "50000/50000 [==============================] - 6s 120us/sample - loss: 0.8866 - acc: 0.6938 - val_loss: 1.0421 - val_acc: 0.6428\n",
      "Epoch 16/20\n",
      "50000/50000 [==============================] - 6s 120us/sample - loss: 0.8676 - acc: 0.7007 - val_loss: 1.0706 - val_acc: 0.6357\n",
      "Epoch 17/20\n",
      "50000/50000 [==============================] - 6s 121us/sample - loss: 0.8573 - acc: 0.7038 - val_loss: 1.0437 - val_acc: 0.6385\n",
      "Epoch 18/20\n",
      "50000/50000 [==============================] - 6s 120us/sample - loss: 0.8470 - acc: 0.7107 - val_loss: 1.0467 - val_acc: 0.6477\n",
      "Epoch 19/20\n",
      "50000/50000 [==============================] - 6s 121us/sample - loss: 0.8367 - acc: 0.7114 - val_loss: 1.0726 - val_acc: 0.6347\n",
      "Epoch 20/20\n",
      "50000/50000 [==============================] - 6s 122us/sample - loss: 0.8212 - acc: 0.7184 - val_loss: 1.0608 - val_acc: 0.6396\n"
     ]
    }
   ],
   "source": [
    "# [Your Work] fit a model with train images and labels for 20 epochs\n",
    "h8 = model.fit(train_images, train_labels, epochs=20 , validation_data=(test_images,test_labels), batch_size=128)"
   ]
  },
  {
   "cell_type": "markdown",
   "metadata": {},
   "source": [
    "#### <a id='p2D3'/> งานที่ 2.D.3: วาดกราฟและเปรียบเทียบผลการฝึกตัวแบบ 5, 7 และ 8\n",
    "อันดับแรก เตรียมเส้นกราฟของตัวแบบ 7 และ 8 รวม 4 เส้น"
   ]
  },
  {
   "cell_type": "code",
   "execution_count": 48,
   "metadata": {},
   "outputs": [],
   "source": [
    "# [ํYour Work]\n",
    "train_acc_trace7 = go.Scatter(\n",
    "    x = epochs_x2,\n",
    "    y = h7.history['acc'],\n",
    "    mode = 'lines+markers',\n",
    "    name = 'train7'\n",
    ")\n",
    "\n",
    "test_acc_trace7 = go.Scatter(\n",
    "    x = epochs_x2,\n",
    "    y = h7.history['val_acc'],\n",
    "    mode = 'lines+markers',\n",
    "    name = 'test7'\n",
    ")\n",
    "\n",
    "train_acc_trace8 = go.Scatter(\n",
    "    x = epochs_x2,\n",
    "    y = h8.history['acc'],\n",
    "    mode = 'lines+markers',\n",
    "    name = 'tran8'\n",
    ")\n",
    "\n",
    "test_acc_trace8 = go.Scatter(\n",
    "    x = epochs_x2,\n",
    "    y = h8.history['val_acc'],\n",
    "    mode = 'lines+markers',\n",
    "    name = 'test8'\n",
    ")"
   ]
  },
  {
   "cell_type": "markdown",
   "metadata": {},
   "source": [
    "วาดกราฟประวัติผลการฝึกของตัวแบบ 5, 7 และ 8"
   ]
  },
  {
   "cell_type": "code",
   "execution_count": 49,
   "metadata": {},
   "outputs": [
    {
     "data": {
      "application/vnd.plotly.v1+json": {
       "config": {
        "linkText": "Export to plot.ly",
        "plotlyServerURL": "https://plot.ly",
        "responsive": true,
        "showLink": false
       },
       "data": [
        {
         "mode": "lines+markers",
         "name": "train5",
         "type": "scatter",
         "uid": "66a02230-b0a0-4f97-a15b-e1450a871329",
         "x": [
          1,
          2,
          3,
          4,
          5,
          6,
          7,
          8,
          9,
          10,
          11,
          12,
          13,
          14,
          15,
          16,
          17,
          18,
          19,
          20
         ],
         "y": [
          0.4459800124168396,
          0.5480999946594238,
          0.5926799774169922,
          0.6212599873542786,
          0.6425600051879883,
          0.6574599742889404,
          0.6733400225639343,
          0.6808199882507324,
          0.6921200156211853,
          0.7012799978256226,
          0.7086600065231323,
          0.7153400182723999,
          0.7208799719810486,
          0.7265999913215637,
          0.731939971446991,
          0.7358599901199341,
          0.7411400079727173,
          0.7445399761199951,
          0.747759997844696,
          0.7528600096702576
         ]
        },
        {
         "mode": "lines+markers",
         "name": "train7",
         "type": "scatter",
         "uid": "61aa930f-b9bb-44cd-931e-81554fef3660",
         "x": [
          1,
          2,
          3,
          4,
          5,
          6,
          7,
          8,
          9,
          10,
          11,
          12,
          13,
          14,
          15,
          16,
          17,
          18,
          19,
          20
         ],
         "y": [
          0.4763199985027313,
          0.5866199731826782,
          0.6237599849700928,
          0.6493600010871887,
          0.6666200160980225,
          0.6810799837112427,
          0.6929600238800049,
          0.70278000831604,
          0.7121599912643433,
          0.7160199880599976,
          0.7233800292015076,
          0.7269799709320068,
          0.7330399751663208,
          0.7369999885559082,
          0.7393199801445007,
          0.7456600069999695,
          0.7478200197219849,
          0.7503200173377991,
          0.7548400163650513,
          0.7587599754333496
         ]
        },
        {
         "mode": "lines+markers",
         "name": "tran8",
         "type": "scatter",
         "uid": "0cf6a463-ebad-4e8a-bcff-56f89338e4a1",
         "x": [
          1,
          2,
          3,
          4,
          5,
          6,
          7,
          8,
          9,
          10,
          11,
          12,
          13,
          14,
          15,
          16,
          17,
          18,
          19,
          20
         ],
         "y": [
          0.41811999678611755,
          0.5276399850845337,
          0.568340003490448,
          0.5915600061416626,
          0.6096600294113159,
          0.6246600151062012,
          0.6359800100326538,
          0.6506800055503845,
          0.6588799953460693,
          0.6662799715995789,
          0.6742600202560425,
          0.6798200011253357,
          0.6837800145149231,
          0.6906399726867676,
          0.6938400268554688,
          0.7006999850273132,
          0.703760027885437,
          0.7106999754905701,
          0.7114400267601013,
          0.7183799743652344
         ]
        },
        {
         "mode": "lines+markers",
         "name": "test5",
         "type": "scatter",
         "uid": "8d1fc22b-9e3f-4b43-aeab-7a38efb3a517",
         "x": [
          1,
          2,
          3,
          4,
          5,
          6,
          7,
          8,
          9,
          10,
          11,
          12,
          13,
          14,
          15,
          16,
          17,
          18,
          19,
          20
         ],
         "y": [
          0.5289000272750854,
          0.5648000240325928,
          0.5922999978065491,
          0.5995000004768372,
          0.6189000010490417,
          0.6258999705314636,
          0.6284000277519226,
          0.6322000026702881,
          0.6288999915122986,
          0.6234999895095825,
          0.6252999901771545,
          0.6234999895095825,
          0.6355000138282776,
          0.6208000183105469,
          0.632099986076355,
          0.6139000058174133,
          0.6266999840736389,
          0.6262000203132629,
          0.6273000240325928,
          0.621399998664856
         ]
        },
        {
         "mode": "lines+markers",
         "name": "test7",
         "type": "scatter",
         "uid": "de650555-6087-489d-8327-f5826bdbd0a3",
         "x": [
          1,
          2,
          3,
          4,
          5,
          6,
          7,
          8,
          9,
          10,
          11,
          12,
          13,
          14,
          15,
          16,
          17,
          18,
          19,
          20
         ],
         "y": [
          0.5576000213623047,
          0.5964999794960022,
          0.6152999997138977,
          0.6075000166893005,
          0.6118000149726868,
          0.598800003528595,
          0.6234999895095825,
          0.6018000245094299,
          0.6093000173568726,
          0.6139000058174133,
          0.5928999781608582,
          0.61080002784729,
          0.607699990272522,
          0.6021999716758728,
          0.6018000245094299,
          0.6007999777793884,
          0.5954999923706055,
          0.6029000282287598,
          0.6007000207901001,
          0.5889999866485596
         ]
        },
        {
         "mode": "lines+markers",
         "name": "test8",
         "type": "scatter",
         "uid": "98625589-93cf-4ee3-ba4d-72fb2f55439f",
         "x": [
          1,
          2,
          3,
          4,
          5,
          6,
          7,
          8,
          9,
          10,
          11,
          12,
          13,
          14,
          15,
          16,
          17,
          18,
          19,
          20
         ],
         "y": [
          0.4921000003814697,
          0.5347999930381775,
          0.5698999762535095,
          0.5734000205993652,
          0.5896000266075134,
          0.593500018119812,
          0.6001999974250793,
          0.6141999959945679,
          0.6273999810218811,
          0.6280999779701233,
          0.6355000138282776,
          0.6283000111579895,
          0.6348999738693237,
          0.6294999718666077,
          0.642799973487854,
          0.635699987411499,
          0.6384999752044678,
          0.6477000117301941,
          0.6347000002861023,
          0.6395999789237976
         ]
        }
       ],
       "layout": {
        "autosize": true,
        "dragmode": "pan",
        "xaxis": {
         "autorange": true,
         "range": [
          -0.204225352112676,
          21.204225352112676
         ],
         "type": "linear"
        },
        "yaxis": {
         "autorange": true,
         "range": [
          0.39000893058707414,
          0.7868710416323931
         ],
         "type": "linear"
        }
       }
      },
      "image/png": "[encoded data removed]",
      "text/html": [
       "<div>\n",
       "        \n",
       "        \n",
       "            <div id=\"daaf5c5f-9bde-405c-bda2-ab73f056f7b6\" class=\"plotly-graph-div\" style=\"height:525px; width:100%;\"></div>\n",
       "            <script type=\"text/javascript\">\n",
       "                require([\"plotly\"], function(Plotly) {\n",
       "                    window.PLOTLYENV=window.PLOTLYENV || {};\n",
       "                    window.PLOTLYENV.BASE_URL='https://plot.ly';\n",
       "                    \n",
       "                if (document.getElementById(\"daaf5c5f-9bde-405c-bda2-ab73f056f7b6\")) {\n",
       "                    Plotly.newPlot(\n",
       "                        'daaf5c5f-9bde-405c-bda2-ab73f056f7b6',\n",
       "                        [{\"mode\": \"lines+markers\", \"name\": \"train5\", \"type\": \"scatter\", \"uid\": \"21a28ce2-1683-4224-a1a3-ce8c3bbe490a\", \"x\": [1.0, 2.0, 3.0, 4.0, 5.0, 6.0, 7.0, 8.0, 9.0, 10.0, 11.0, 12.0, 13.0, 14.0, 15.0, 16.0, 17.0, 18.0, 19.0, 20.0], \"y\": [0.4459800124168396, 0.5480999946594238, 0.5926799774169922, 0.6212599873542786, 0.6425600051879883, 0.6574599742889404, 0.6733400225639343, 0.6808199882507324, 0.6921200156211853, 0.7012799978256226, 0.7086600065231323, 0.7153400182723999, 0.7208799719810486, 0.7265999913215637, 0.731939971446991, 0.7358599901199341, 0.7411400079727173, 0.7445399761199951, 0.747759997844696, 0.7528600096702576]}, {\"mode\": \"lines+markers\", \"name\": \"train7\", \"type\": \"scatter\", \"uid\": \"ae4651b0-a68d-49b5-887e-1e7ec4f3e03b\", \"x\": [1.0, 2.0, 3.0, 4.0, 5.0, 6.0, 7.0, 8.0, 9.0, 10.0, 11.0, 12.0, 13.0, 14.0, 15.0, 16.0, 17.0, 18.0, 19.0, 20.0], \"y\": [0.4763199985027313, 0.5866199731826782, 0.6237599849700928, 0.6493600010871887, 0.6666200160980225, 0.6810799837112427, 0.6929600238800049, 0.70278000831604, 0.7121599912643433, 0.7160199880599976, 0.7233800292015076, 0.7269799709320068, 0.7330399751663208, 0.7369999885559082, 0.7393199801445007, 0.7456600069999695, 0.7478200197219849, 0.7503200173377991, 0.7548400163650513, 0.7587599754333496]}, {\"mode\": \"lines+markers\", \"name\": \"tran8\", \"type\": \"scatter\", \"uid\": \"505d5cb8-95e8-4478-a97e-8d441bf604b1\", \"x\": [1.0, 2.0, 3.0, 4.0, 5.0, 6.0, 7.0, 8.0, 9.0, 10.0, 11.0, 12.0, 13.0, 14.0, 15.0, 16.0, 17.0, 18.0, 19.0, 20.0], \"y\": [0.41811999678611755, 0.5276399850845337, 0.568340003490448, 0.5915600061416626, 0.6096600294113159, 0.6246600151062012, 0.6359800100326538, 0.6506800055503845, 0.6588799953460693, 0.6662799715995789, 0.6742600202560425, 0.6798200011253357, 0.6837800145149231, 0.6906399726867676, 0.6938400268554688, 0.7006999850273132, 0.703760027885437, 0.7106999754905701, 0.7114400267601013, 0.7183799743652344]}, {\"mode\": \"lines+markers\", \"name\": \"test5\", \"type\": \"scatter\", \"uid\": \"63d369e6-0235-4004-a0f0-b60e3072975e\", \"x\": [1.0, 2.0, 3.0, 4.0, 5.0, 6.0, 7.0, 8.0, 9.0, 10.0, 11.0, 12.0, 13.0, 14.0, 15.0, 16.0, 17.0, 18.0, 19.0, 20.0], \"y\": [0.5289000272750854, 0.5648000240325928, 0.5922999978065491, 0.5995000004768372, 0.6189000010490417, 0.6258999705314636, 0.6284000277519226, 0.6322000026702881, 0.6288999915122986, 0.6234999895095825, 0.6252999901771545, 0.6234999895095825, 0.6355000138282776, 0.6208000183105469, 0.632099986076355, 0.6139000058174133, 0.6266999840736389, 0.6262000203132629, 0.6273000240325928, 0.621399998664856]}, {\"mode\": \"lines+markers\", \"name\": \"test7\", \"type\": \"scatter\", \"uid\": \"0a87f6a2-d1f6-4bf7-b715-9d98417d0420\", \"x\": [1.0, 2.0, 3.0, 4.0, 5.0, 6.0, 7.0, 8.0, 9.0, 10.0, 11.0, 12.0, 13.0, 14.0, 15.0, 16.0, 17.0, 18.0, 19.0, 20.0], \"y\": [0.5576000213623047, 0.5964999794960022, 0.6152999997138977, 0.6075000166893005, 0.6118000149726868, 0.598800003528595, 0.6234999895095825, 0.6018000245094299, 0.6093000173568726, 0.6139000058174133, 0.5928999781608582, 0.61080002784729, 0.607699990272522, 0.6021999716758728, 0.6018000245094299, 0.6007999777793884, 0.5954999923706055, 0.6029000282287598, 0.6007000207901001, 0.5889999866485596]}, {\"mode\": \"lines+markers\", \"name\": \"test8\", \"type\": \"scatter\", \"uid\": \"18df8562-ecca-462a-bc03-e289474d46ce\", \"x\": [1.0, 2.0, 3.0, 4.0, 5.0, 6.0, 7.0, 8.0, 9.0, 10.0, 11.0, 12.0, 13.0, 14.0, 15.0, 16.0, 17.0, 18.0, 19.0, 20.0], \"y\": [0.4921000003814697, 0.5347999930381775, 0.5698999762535095, 0.5734000205993652, 0.5896000266075134, 0.593500018119812, 0.6001999974250793, 0.6141999959945679, 0.6273999810218811, 0.6280999779701233, 0.6355000138282776, 0.6283000111579895, 0.6348999738693237, 0.6294999718666077, 0.642799973487854, 0.635699987411499, 0.6384999752044678, 0.6477000117301941, 0.6347000002861023, 0.6395999789237976]}],\n",
       "                        {},\n",
       "                        {\"showLink\": false, \"linkText\": \"Export to plot.ly\", \"plotlyServerURL\": \"https://plot.ly\", \"responsive\": true}\n",
       "                    ).then(function(){\n",
       "                            \n",
       "var gd = document.getElementById('daaf5c5f-9bde-405c-bda2-ab73f056f7b6');\n",
       "var x = new MutationObserver(function (mutations, observer) {{\n",
       "        var display = window.getComputedStyle(gd).display;\n",
       "        if (!display || display === 'none') {{\n",
       "            console.log([gd, 'removed!']);\n",
       "            Plotly.purge(gd);\n",
       "            observer.disconnect();\n",
       "        }}\n",
       "}});\n",
       "\n",
       "// Listen for the removal of the full notebook cells\n",
       "var notebookContainer = gd.closest('#notebook-container');\n",
       "if (notebookContainer) {{\n",
       "    x.observe(notebookContainer, {childList: true});\n",
       "}}\n",
       "\n",
       "// Listen for the clearing of the current output cell\n",
       "var outputEl = gd.closest('.output');\n",
       "if (outputEl) {{\n",
       "    x.observe(outputEl, {childList: true});\n",
       "}}\n",
       "\n",
       "                        })\n",
       "                };\n",
       "                });\n",
       "            </script>\n",
       "        </div>"
      ]
     },
     "metadata": {},
     "output_type": "display_data"
    }
   ],
   "source": [
    "# [Your Work]\n",
    "iplot([train_acc_trace5, train_acc_trace7, train_acc_trace8,\n",
    "       test_acc_trace5, test_acc_trace7,  test_acc_trace8 ])"
   ]
  },
  {
   "cell_type": "markdown",
   "metadata": {},
   "source": [
    "### <a id='q2D'/> Quick Quiz 2.D: ผลกระทบที่สำคัญของจำนวนตัวอย่างในกลุ่มย่อย\n",
    "ณ จุดนี้ ผมเชื่อว่าคุณได้กราฟที่มีเรื่องให้คุณสังเกตและพิจารณาในหลายประเด็น และเพื่อไม่ให้คุณพลาดประเด็นสำคัญที่เราต้องการศึกษา ซึ่งก็คือผลกระทบของจำนวนตัวอย่างในแต่ละกลุ่มย่อยต่อความแม่นยำของตัวแบบและเวลาที่ใช้ในการฝึกตัวแบบ เราจะทำการสังเกตและพิจารณาแยกไปตามประเด็นต่าง ๆ ดังนี้\n",
    "**ประเด็นแรก** โดยส่วนใหญ่แล้วความแม่นยำบนชุดข้อมูลฝึกสัมพันธ์กับจำนวนตัวอย่างในแต่ละกลุ่มย่อยอย่างไร จงให้เหตุผลอธิบายเหตุการณ์ที่เกิดขึ้นนี้\n"
   ]
  },
  {
   "cell_type": "markdown",
   "metadata": {},
   "source": [
    "(พื้นที่สำหรับตอบคำถาม) <br/><br/>\n",
    "ใช้เวลาในการฝึกแต่ละการฝึกย่อยน้อยลง เพราะจะเอาค่า batch_size ไปหารกับจำนวนข้อมูลของ train"
   ]
  },
  {
   "cell_type": "markdown",
   "metadata": {},
   "source": [
    "**ประเด็นที่สอง** จากประเด็นแรก แนวโน้มของผลกระทบของจำนวนตัวอย่างในกลุ่มย่อยต่อความแม่นยำบนชุดข้อมูลทดสอบเป็นไปในแนวทางเดียวกันกับผลกระทบต่อชุดข้อมูลฝึกหรือไม่ (ยังไม่ต้องให้เหตุผล)\n"
   ]
  },
  {
   "cell_type": "markdown",
   "metadata": {},
   "source": [
    "(พื้นที่สำหรับตอบคำถาม) <br/><br/>\n",
    "ไม่"
   ]
  },
  {
   "cell_type": "markdown",
   "metadata": {},
   "source": [
    "**ประเด็นที่สาม** ณ epoch สุดท้าย ตัวแบบที่มีความแม่นยำบนชุดข้อมูลฝึกน้อยที่สุด ให้ความแม่นยำบนชุดข้อมูลทดสอบน้อยที่สุดด้วยหรือไม่\n"
   ]
  },
  {
   "cell_type": "markdown",
   "metadata": {},
   "source": [
    "(พื้นที่สำหรับตอบคำถาม) <br/><br/>\n",
    "8 <br/>\n",
    "ไม่น้อย"
   ]
  },
  {
   "cell_type": "markdown",
   "metadata": {},
   "source": [
    "**ประเด็นที่สี่** จงให้เหตุผลอธิบายเหตุการณ์ที่คุณสังเกตได้จากประเด็นที่สามว่าทำไมจึงเป็นเช่นนั้น\n"
   ]
  },
  {
   "cell_type": "markdown",
   "metadata": {},
   "source": [
    "(พื้นที่สำหรับตอบคำถาม) <br/><br/>\n",
    "ข้อมูลที่ใช้ฝึกน้อยลง เพราะหารด้วยbatch size ใหญ่กว่าตัวอื่น"
   ]
  },
  {
   "cell_type": "markdown",
   "metadata": {},
   "source": [
    "**ประเด็นที่ห้า** จงให้เหตุผลเกี่ยวกับแนวโน้มของผลกระทบต่อความแม่นยำบนชุดข้อมูลทดสอบที่ถามไว้ในประเด็นที่สอง (แนะนำให้อธิบายควบคู่ไปกับผลกระทบต่อความแม่นยำในชุดข้อมูลฝึกควบคู่กัน เพื่อที่จะเชื่อมโยงไปถึงประเด็นต่าง ๆ ที่มีความเกี่ยวข้องกันได้อย่างชัดเจน)"
   ]
  },
  {
   "cell_type": "markdown",
   "metadata": {},
   "source": [
    "(พื้นที่สำหรับตอบคำถาม) <br/><br/>"
   ]
  },
  {
   "cell_type": "markdown",
   "metadata": {},
   "source": [
    "**ประเด็นที่หก** เวลาที่ต้องใช้ในการฝึกตัวแบบทั้ง 3 เป็นเท่าไหร่บ้าง ให้ตอบโดยนำค่า median จากสาม epoch สุดท้ายของแต่ละตัวแบบมาเป็นตัวแทนของเวลาของตัวแบบนั้น ๆ โดยตอบในรูปแบบตามที่กำหนดไว้ในพื้นที่สำหรับตอบคำถาม\n"
   ]
  },
  {
   "cell_type": "markdown",
   "metadata": {},
   "source": [
    "(พื้นที่สำหรับตอบคำถาม) <br/><br/>\n",
    "ตัวแบบ 5 จำนวนตัวอย่างในกลุ่มย่อย = 32 เวลาฝึกต่อ epoch = 9 วินาที <br/>\n",
    "ตัวแบบ 7 จำนวนตัวอย่างในกลุ่มย่อย = 8 เวลาฝึกต่อ epoch = 24 วินาที <br/>\n",
    "ตัวแบบ 8 จำนวนตัวอย่างในกลุ่มย่อย = 128 เวลาฝึกต่อ epoch = 6 วินาที <br/>"
   ]
  },
  {
   "cell_type": "markdown",
   "metadata": {},
   "source": [
    "**ประเด็นที่เจ็ด** แนวโน้มของเวลาที่ใช้ในแต่ละ epoch กับจำนวนตัวอย่างในแต่ละกลุ่มย่อยเป็นอย่างไร"
   ]
  },
  {
   "cell_type": "markdown",
   "metadata": {},
   "source": [
    "(พื้นที่สำหรับตอบคำถาม) <br/><br/>\n",
    "batch size มาก เวลาน้อย"
   ]
  },
  {
   "cell_type": "markdown",
   "metadata": {},
   "source": [
    "## <a id='p3'/> งานที่ 3: Batch Normalization\n",
    "ในงานที่ 2 เราได้เห็นปัญหาเกี่ยวกับโอเวอร์ฟิตติ้งตลอดจนผลกระทบของจำนวนตัวอย่างในกลุ่มย่อยต่อความแม่นยำของตัวแบบทั้งในชุดข้อมูลฝึกและทดสอบมาแล้ว ถ้าเราทำการทดลองถูก เราควรจะพบว่าความแม่นยำบนชุดข้อมูลฝึกจะมีแนวโน้มต่ำลง หากจำนวนตัวอย่างในกลุ่มย่อยมีมากขึ้น  ในขณะเดียวกัน เราอาจจะพบว่ามันไม่ได้สัมพันธ์กับความแม่นยำในชุดข้อมูลทดสอบมากนัก ซึ่งเหตุที่มันไม่สัมพันธ์กันนี้ อาจจะทำให้เราคิดไปว่าการกำหนดจำนวนตัวอย่างให้น้อยในแต่ละกลุ่มย่อยเป็นเรื่องที่ไม่ดี เพราะใช้เวลาฝึกนานขึ้นและความแม่นยำในชุดข้อมูลทดสอบก็ไม่ได้ดีขึ้น ซ้ำอาจจะแย่ลงด้วยซ้ำ แต่นั่นอาจจะเป็นความเห็นที่ผิดพลาดในหลาย ๆ กรณี\n",
    "\n",
    "สาเหตุที่มันไม่สัมพันธ์กันกับความแม่นยำในชุดทดสอบนี้มาจากปัญหาโอเวอร์ฟิตติง (ถ้าใครทำแบบควิซที่ผ่านมาแล้วอธิบายปัญหาบางอย่างยังไม่ได้ ลองเอาประเด็นนี้ไปคิดอีกรอบ) นั่นคือหากตัวแบบเราไม่มีปัญหาโอเวอร์ฟิตติง การฝึกที่ให้ความแม่นยำในชุดข้อมูลฝึกที่ดี ก็ควรจะให้ความแม่นยำในชุดข้อมูลทดสอบที่ดีด้วย\n",
    "\n",
    "แต่ก่อนที่เราจะศึกษากลวิธีในการแก้ปัญหาโอเวอร์ฟิตติง เราจะศึกษาวิธีเพิ่มความแม่นยำของตัวแบบในชุดข้อมูลฝึกก่อน (ซึ่งมันควรจะเพิ่มความแม่นยำในชุดข้อมูลทดสอบด้วย ถ้าหากเราไม่มีปัญหาโอเวอร์ฟิตติง) ซึ่งหนึ่งในเทคนิคที่น่าสนใจมากอันหนึ่งก็คือการใช้ Batch Normalization ซึ่งก็คือ การปรับกลุ่ม (ข้อมูล) ให้เป็นมาตรฐาน (เดียวกัน) \n",
    "**หมายเหตุ** เราจะเรียก Batch Normalization ว่าเป็น \"การปรับกลุ่มให้เป็นมาตรฐาน\" ซึ่งคำพูดในวงเล็บคือสิ่งที่เราละไว้ชื่อเรียกนี้คือสิ่งที่สอดรับกับบริบทการใช้งานซึ่งก็คือ การปรับกลุ่มข้อมูลให้เป็นมาตรฐานเดียวกัน"
   ]
  },
  {
   "cell_type": "markdown",
   "metadata": {},
   "source": [
    "### <a id='p3A'/> งานที่ 3.A: การสร้างชั้นปรับกลุ่มให้เป็นมาตรฐาน\n",
    "**ทำความรู้จักกับชั้นปรับกลุ่มให้เป็นมาตรฐาน (Batch-Normalization Layer)** <br/>\n",
    "ชั้นปรับกลุ่มให้เป็นมาตรฐานมีให้อยู่ในไลบรารีสำหรับการเรียนรู้เชิงลึกจำนวนมาก เนื่องจากมันเป็นกระบวนการที่มักจะให้ผลกระทบที่ชัดเจนและเป็นไปในทิศทางที่ดีขึ้น เนื่องจากแนวคิดของมันคล้ายกับความพยายามของเราในการหารค่าสีด้วย 255 คือปรับเลขให้อยู่ในช่วง 0 ถึง 1  เราจึงมักจะไม่ได้ใช้ชั้นปรับกลุ่มให้เป็นมาตรฐานที่ชั้นแรก แต่เราจะไปใช้อยู่ชั้นด้านในของตัวแบบเพื่อทำให้ค่าตัวเลขที่ส่งไประหว่างชั้นต่าง ๆ อยู่ในช่วงค่าที่เหมาะสมด้วย  อย่างไรก็ตาม เป้าหมายในการปรับกลุ่มให้เป็นมาตรฐานไม่ได้พยายามปรับให้ค่าอยู่ในช่วง 0 ถึง 1 แต่ปรับให้ให้กลุ่มข้อมูลมีค่าเฉลี่ยเป็นศูนย์และความแปรปรวนมีค่าเป็นหนึ่ง (zero mean, unit variance)\n",
    "\n",
    "โมดูล Keras เตรียมชั้นนี้ไว้ในคลาสชื่อ keras.layers.BatchNormalization ซึ่งมีพารามิเตอร์ที่เราต้องคิดหนักที่สุดคือ axis และเราต้องจริงจังกับพารามิเตอร์ตัวนี้มาก เพราะมันจะส่งผลกับวิธีจัดการข้อมูลในแต่ละกลุ่มที่เราส่งเข้าไปฝึก\n",
    "\n",
    "โดยทั่วไปแล้ว เราจะพยายามปรับมาตรฐานแยกตามชนิดฟีทเจอร์ ซึ่งในกรณีของภาพสองมิติก็คือการปรับมาตรฐานแยกตามสี (ถ้าเราคิดจะปรับกลุ่มให้เป็นมาตรฐานที่ชั้นข้อมูลเข้า) คือเราจะนำค่าในระนาบสี (color plane) เดียวกันมาคำนวณค่าร่วมกัน เรามักจะไม่ได้เลือกใช้วิธีแตกค่าตามตำแหน่งพิกเซลมาปรับให้เป็นมาตรฐานร่วมกัน\n",
    "\n",
    "ต่างกันอย่างไร เช่น หากค่าในพิกเซลตำแหน่ง (0, 0) ในกลุ่มสีแดงมีค่าอยู่ในช่วง 0 ถึง 10 และตำแหน่ง (0, 0) ของสีเขียวมีค่าอยู่ในช่วง 50 ถึง 100 ถ้าเราปรับแบบแยกตามสี การปรับค่าที่ตำแหน่ง (0, 0) ของกลุ่มสีแดงก็จะเป็นการพยายามปรับช่วงค่า 0 ถึง 10 อยู่มีค่าเฉลี่ยนเป็น 0 และความแปรปรวนเท่ากับ 1 แต่ถ้าเราปรับแบบแยกตามพิกเซล มันก็จะเป็นการพยายามปรับค่า 0 ถึง 100 ให้มีค่าเฉลี่ยเป็น 0 และความแปรปรวนเท่ากับ 1 ซึ่งอาจจะมีปัญหาในกรณีที่ฟีทเจอร์แต่ละชนิดมีความแตกต่างกันมาก\n",
    "\n",
    "ปัญหาต่อมาก็คือ เราจะบอก Keras อย่างไรว่าจะปรับแบบแยกตามฟีทเจอร์ **ซึ่งเราจะตอบปัญหานี้ได้อย่างถูกต้องก็ต่อเมื่อเรารู้ว่าข้อมูลที่อยู่ภายในตัวแบบถูกจัดเรียงอย่างไร** โดยในที่นี้ข้อมูลเข้าของเราอยู่ในรูป (32, 32, 3) คือเป็นแบบ channel last (ระบุตำแหน่งพิกเซลก่อนแล้วจึงระบุหมายเลขแชนเนลสีปิดท้าย) ซึ่งต่อมาแม้เราจะทำคอนโวลูชันเปลี่ยนสีเป็นฟีทเจอร์แม็พ ตำแหน่งพิกเซลก็ยังมาก่อนและปิดท้ายด้วยหมายเลขฟีทเจอร์แม็พ เช่นถ้าขนาดภาพยังคงเดิมและมี 8 ฟีทเจอร์แม็พ เราก็จะได้ขนาดของข้อมูลเข้าสำหรับชั้นถัดไปเป็น (32, 32, 8)\n",
    "\n",
    "ดังนั้นหากเราต้องการปรับแบบแยกตามฟีทเจอร์ เราจะต้องบอก Keras ว่าให้รักษาแกนของฟีทเจอร์ไว้ แล้วยุบแกนอื่น ๆ ทิ้ง เช่นจากข้อมูลที่มีมิติเป็น (32, 32, 8) เราต้องการยุบแกนอื่น ๆ เพื่อให้ได้ขนาดข้อมูลใหม่เป็น (1, 1, 8) คือเก็บแกนสุดท้ายไว้ เราจะระบุพารามิเตอร์ให้เป็น axis=-1 ซึ่งเลข -1 นี้แปลว่าตำแหน่งสุดท้าย \n",
    "\n",
    "**หมายเหตุ 1** ในกรณีที่ข้อมูลเราเป็น (8, 32, 32) เราต้องการยุบให้เป็น (8, 1, 1) เราจะใช้ axis=1 เราไม่ใช้ axis=0 เพราะข้อมูลตัวอย่างที่อยู่ในหน่วยความจำแท้จริงแล้วอยู่ด้วยกันเป็นกลุ่มย่อย (minibatch) เช่น ถ้ากลุ่มย่อยเรามี 128 ตัวอย่าง ข้อมูลที่ Keras เห็นก็คือ (128, 8, 32, 32) ดังนั้นแกนฟีทเจอร์ที่เราจะรักษาไว้คือแกนหมายเลข 1 เพราะแกนหมายเลข 0 คือแกนของตัวอย่าง (อย่างไรก็ตาม ห้ามใช้แกนหมายเลข 0 เป็นค่าพารามิเตอร์)\n",
    "\n",
    "**หมายเหตุ 2** เราสามารถรักษาแกนไว้ได้มากกว่า 1 แกน เช่น ถ้าเรามีข้อมูลเป็น (32, 32, 8) และเราต้องการปรับให้เป็นมาตรฐานโดยยึดตามตำแหน่งพิกเซล เราจะรักษาแกนหมายเลข 1 และ 2 ไว้ (และยุบแกนหมายเลข 3) ด้วยการใช้พารามิเตอร์ axis=[1, 2]\n",
    "\n",
    "ฟังดูใช้ยากมาก แต่ที่จริงหากเราต้องการใช้วิธีที่นิยมคือปรับตามฟีทเจอร์ เราก็จะใช้ axis=-1 เมื่อข้อมูลเป็นแบบ channel last และใช้ axis=1 เมื่อข้อมูลเป็นแบบ channel first\n"
   ]
  },
  {
   "cell_type": "markdown",
   "metadata": {},
   "source": [
    "#### <a id='p3A1'/> งานที่ 3.A.1: สร้างตัวแบบใหม่จากตัวแบบที่ 5 โดยมีการเพิ่มชั้นปรับกลุ่มให้เป็นมาตรฐานเข้าไป\n",
    "จงสร้างตัวแบบอันใหม่จากตัวแบบ 5 โดยใส่ชั้น BatchNormalization ไว้ด้านหลังชั้นคอนโวลูชันทั้งสอง คือมีชั้น BatchNormalization สองอัน อันแรกตามหลังชั้น Conv2D อันแรก ส่วน BatchNormalization อันที่สองตามหลังชั้น Conv2D อันที่สอง โดยให้ใส่พารามิเตอร์เกี่ยวกับ axis ไว้โดยชัดแจ้ง (ถึงแม้ว่าค่า default ของพารามิเตอร์ใน Keras อาจจะถูกต้องอยู่แล้วก็ตาม)\n",
    "\n",
    "เมื่อสร้างตัวแบบเสร็จแล้ว ให้คอมไพล์และพิมพ์สรุป (summary) ออกมาทันที"
   ]
  },
  {
   "cell_type": "code",
   "execution_count": 50,
   "metadata": {},
   "outputs": [
    {
     "name": "stdout",
     "output_type": "stream",
     "text": [
      "_________________________________________________________________\n",
      "Layer (type)                 Output Shape              Param #   \n",
      "=================================================================\n",
      "conv2d_11 (Conv2D)           (None, 32, 32, 8)         224       \n",
      "_________________________________________________________________\n",
      "batch_normalization_v1 (Batc (None, 32, 32, 8)         32        \n",
      "_________________________________________________________________\n",
      "max_pooling2d_5 (MaxPooling2 (None, 16, 16, 8)         0         \n",
      "_________________________________________________________________\n",
      "conv2d_12 (Conv2D)           (None, 16, 16, 16)        1168      \n",
      "_________________________________________________________________\n",
      "batch_normalization_v1_1 (Ba (None, 16, 16, 16)        64        \n",
      "_________________________________________________________________\n",
      "flatten_8 (Flatten)          (None, 4096)              0         \n",
      "_________________________________________________________________\n",
      "dense_10 (Dense)             (None, 10)                40970     \n",
      "=================================================================\n",
      "Total params: 42,458\n",
      "Trainable params: 42,410\n",
      "Non-trainable params: 48\n",
      "_________________________________________________________________\n"
     ]
    }
   ],
   "source": [
    "# [Your Work] ระบุโครงสร้าง คอมไพล์ และพิมพ์ summary\n",
    "model = keras.Sequential([\n",
    "    keras.layers.Conv2D(8, (3,3), input_shape=(32, 32, 3), activation=tf.nn.relu, padding='same'),\n",
    "    keras.layers.BatchNormalization(axis=-1),\n",
    "    keras.layers.MaxPooling2D(),\n",
    "    keras.layers.Conv2D(16, (3,3), input_shape=(32, 32, 3), activation=tf.nn.relu, padding='same'),\n",
    "    keras.layers.BatchNormalization(axis=-1),\n",
    "    keras.layers.Flatten(),\n",
    "    keras.layers.Dense(10, activation=tf.nn.softmax)\n",
    "])\n",
    "model.compile(optimizer=keras.optimizers.Adam(), \n",
    "              loss='sparse_categorical_crossentropy',\n",
    "              metrics=['accuracy'])\n",
    "model.summary()"
   ]
  },
  {
   "cell_type": "markdown",
   "metadata": {},
   "source": [
    "ก่อนหน้านี้ เราพบว่าการฝึกตัวแบบโดยมี 128 ตัวอย่างในกลุ่มย่อยจะมีความแม่นยำในระหว่างการฝึกตัวแบบต่ำ เราจึงสนใจที่จะลองฝึกตัวแบบนี้โดยให้กลุ่มย่อยมี 128 ตัวอย่าง เป็นจำนวน 20 epochs โดยเราจะเรียกตัวแบบนี้ว่าตัวแบบ 9 และจะบันทึกประวัติการฝึกไว้ในตัวแปร h9"
   ]
  },
  {
   "cell_type": "code",
   "execution_count": 51,
   "metadata": {},
   "outputs": [
    {
     "name": "stdout",
     "output_type": "stream",
     "text": [
      "Train on 50000 samples, validate on 10000 samples\n",
      "Epoch 1/20\n",
      "50000/50000 [==============================] - 8s 165us/sample - loss: 1.4932 - acc: 0.4863 - val_loss: 1.7593 - val_acc: 0.3328\n",
      "Epoch 2/20\n",
      "50000/50000 [==============================] - 8s 158us/sample - loss: 1.1267 - acc: 0.6066 - val_loss: 1.2827 - val_acc: 0.5659\n",
      "Epoch 3/20\n",
      "50000/50000 [==============================] - 8s 155us/sample - loss: 1.0081 - acc: 0.6478 - val_loss: 1.1509 - val_acc: 0.6030\n",
      "Epoch 4/20\n",
      "50000/50000 [==============================] - 8s 154us/sample - loss: 0.9316 - acc: 0.6745 - val_loss: 1.4079 - val_acc: 0.5500\n",
      "Epoch 5/20\n",
      "50000/50000 [==============================] - 8s 157us/sample - loss: 0.8804 - acc: 0.6931 - val_loss: 1.2912 - val_acc: 0.5751\n",
      "Epoch 6/20\n",
      "50000/50000 [==============================] - 8s 158us/sample - loss: 0.8380 - acc: 0.7076 - val_loss: 1.1577 - val_acc: 0.6228\n",
      "Epoch 7/20\n",
      "50000/50000 [==============================] - 8s 155us/sample - loss: 0.8092 - acc: 0.7194 - val_loss: 1.1732 - val_acc: 0.6095\n",
      "Epoch 8/20\n",
      "50000/50000 [==============================] - 8s 158us/sample - loss: 0.7840 - acc: 0.7274 - val_loss: 1.1791 - val_acc: 0.6207\n",
      "Epoch 9/20\n",
      "50000/50000 [==============================] - 8s 157us/sample - loss: 0.7590 - acc: 0.7366 - val_loss: 1.2042 - val_acc: 0.6136\n",
      "Epoch 10/20\n",
      "50000/50000 [==============================] - 8s 157us/sample - loss: 0.7344 - acc: 0.7444 - val_loss: 1.2385 - val_acc: 0.6098\n",
      "Epoch 11/20\n",
      "50000/50000 [==============================] - 8s 157us/sample - loss: 0.7184 - acc: 0.7505 - val_loss: 1.1716 - val_acc: 0.6217\n",
      "Epoch 12/20\n",
      "50000/50000 [==============================] - 8s 159us/sample - loss: 0.7000 - acc: 0.7559 - val_loss: 1.2047 - val_acc: 0.6189\n",
      "Epoch 13/20\n",
      "50000/50000 [==============================] - 8s 157us/sample - loss: 0.6821 - acc: 0.7616 - val_loss: 1.2509 - val_acc: 0.6110\n",
      "Epoch 14/20\n",
      "50000/50000 [==============================] - 8s 156us/sample - loss: 0.6691 - acc: 0.7670 - val_loss: 1.2825 - val_acc: 0.6141\n",
      "Epoch 15/20\n",
      "50000/50000 [==============================] - 8s 157us/sample - loss: 0.6574 - acc: 0.7696 - val_loss: 1.2804 - val_acc: 0.6133\n",
      "Epoch 16/20\n",
      "50000/50000 [==============================] - 8s 158us/sample - loss: 0.6433 - acc: 0.7754 - val_loss: 1.2803 - val_acc: 0.6114\n",
      "Epoch 17/20\n",
      "50000/50000 [==============================] - 8s 158us/sample - loss: 0.6355 - acc: 0.7758 - val_loss: 1.3035 - val_acc: 0.6151\n",
      "Epoch 18/20\n",
      "50000/50000 [==============================] - 8s 157us/sample - loss: 0.6229 - acc: 0.7813 - val_loss: 1.3289 - val_acc: 0.6060\n",
      "Epoch 19/20\n",
      "50000/50000 [==============================] - 8s 157us/sample - loss: 0.6121 - acc: 0.7850 - val_loss: 1.3904 - val_acc: 0.6031\n",
      "Epoch 20/20\n",
      "50000/50000 [==============================] - 8s 157us/sample - loss: 0.6082 - acc: 0.7859 - val_loss: 1.3360 - val_acc: 0.6150\n"
     ]
    }
   ],
   "source": [
    "# [Your Work] fit a model with train images and labels for 20 epochs\n",
    "h9 = model.fit(train_images, train_labels, epochs=20 , validation_data=(test_images,test_labels), batch_size=128)"
   ]
  },
  {
   "cell_type": "markdown",
   "metadata": {},
   "source": [
    "เมื่อฝึกตัวแบบ 9 เสร็จแล้ว ลองสังเกตดูว่าความแม่นยำในชุดข้อมูลฝึกและทดสอบเปลี่ยนแปลงไปในทิศทางใด"
   ]
  },
  {
   "cell_type": "markdown",
   "metadata": {},
   "source": [
    "#### <a id='p3A2'/> งานที่ 3.A.2: ลองใช้ชั้นปรับกลุ่มให้เป็นมาตรฐานเมื่อจำนวนตัวอย่างในกลุ่มย่อยมี 32 ตัวอย่าง\n",
    "เราจะสร้างตัวแบบ 10 ขึ้นมาในทำนองเดียวกันกับตัวแบบ 9 ทุกประการ เว้นเสียแต่ตอนฝึก (fit) เราจะกำหนดให้ค่า batch_size เป็น 32 <br/>\n",
    "จงนิยามโครงสร้างตัวอย่าง คอมไพล์ และพิมพ์สรุป โดยใช้โครงสร้างจากตัวแบบ 9 ทุกประการ"
   ]
  },
  {
   "cell_type": "code",
   "execution_count": 52,
   "metadata": {},
   "outputs": [
    {
     "name": "stdout",
     "output_type": "stream",
     "text": [
      "_________________________________________________________________\n",
      "Layer (type)                 Output Shape              Param #   \n",
      "=================================================================\n",
      "conv2d_13 (Conv2D)           (None, 32, 32, 8)         224       \n",
      "_________________________________________________________________\n",
      "batch_normalization_v1_2 (Ba (None, 32, 32, 8)         32        \n",
      "_________________________________________________________________\n",
      "max_pooling2d_6 (MaxPooling2 (None, 16, 16, 8)         0         \n",
      "_________________________________________________________________\n",
      "conv2d_14 (Conv2D)           (None, 16, 16, 16)        1168      \n",
      "_________________________________________________________________\n",
      "batch_normalization_v1_3 (Ba (None, 16, 16, 16)        64        \n",
      "_________________________________________________________________\n",
      "flatten_9 (Flatten)          (None, 4096)              0         \n",
      "_________________________________________________________________\n",
      "dense_11 (Dense)             (None, 10)                40970     \n",
      "=================================================================\n",
      "Total params: 42,458\n",
      "Trainable params: 42,410\n",
      "Non-trainable params: 48\n",
      "_________________________________________________________________\n"
     ]
    }
   ],
   "source": [
    "# [Your Work] ระบุโครงสร้าง คอมไพล์ และพิมพ์ summary\n",
    "model = keras.Sequential([\n",
    "    keras.layers.Conv2D(8, (3,3), input_shape=(32, 32, 3), activation=tf.nn.relu, padding='same'),\n",
    "    keras.layers.BatchNormalization(axis=-1),\n",
    "    keras.layers.MaxPooling2D(),\n",
    "    keras.layers.Conv2D(16, (3,3), input_shape=(32, 32, 3), activation=tf.nn.relu, padding='same'),\n",
    "    keras.layers.BatchNormalization(axis=-1),\n",
    "    keras.layers.Flatten(),\n",
    "    keras.layers.Dense(10, activation=tf.nn.softmax)\n",
    "])\n",
    "\n",
    "model.compile(optimizer=keras.optimizers.Adam(), \n",
    "              loss='sparse_categorical_crossentropy',\n",
    "              metrics=['accuracy'])\n",
    "model.summary()"
   ]
  },
  {
   "cell_type": "markdown",
   "metadata": {},
   "source": [
    "จงฝึกตัวแบบ 10 นี้โดยให้มี 32 ตัวอย่างในแต่ละกลุ่มย่อย และฝึกเป็นจำนวน 20 epochs  ทำนองเดียวกันกับที่ผ่านมา ให้เก็บประวัติการฝึกตัวแบบไว้ในตัวแปร h10"
   ]
  },
  {
   "cell_type": "code",
   "execution_count": 53,
   "metadata": {},
   "outputs": [
    {
     "name": "stdout",
     "output_type": "stream",
     "text": [
      "Train on 50000 samples, validate on 10000 samples\n",
      "Epoch 1/20\n",
      "50000/50000 [==============================] - 12s 247us/sample - loss: 1.5027 - acc: 0.4868 - val_loss: 1.4365 - val_acc: 0.5055\n",
      "Epoch 2/20\n",
      "50000/50000 [==============================] - 12s 240us/sample - loss: 1.1254 - acc: 0.6068 - val_loss: 1.3872 - val_acc: 0.5242\n",
      "Epoch 3/20\n",
      "50000/50000 [==============================] - 12s 241us/sample - loss: 1.0118 - acc: 0.6475 - val_loss: 1.1276 - val_acc: 0.6149\n",
      "Epoch 4/20\n",
      "50000/50000 [==============================] - 12s 240us/sample - loss: 0.9415 - acc: 0.6737 - val_loss: 1.1188 - val_acc: 0.6202\n",
      "Epoch 5/20\n",
      "50000/50000 [==============================] - 12s 239us/sample - loss: 0.8881 - acc: 0.6924 - val_loss: 1.1039 - val_acc: 0.6298\n",
      "Epoch 6/20\n",
      "50000/50000 [==============================] - 12s 239us/sample - loss: 0.8484 - acc: 0.7046 - val_loss: 1.1480 - val_acc: 0.6073\n",
      "Epoch 7/20\n",
      "50000/50000 [==============================] - 12s 241us/sample - loss: 0.8148 - acc: 0.7168 - val_loss: 1.2086 - val_acc: 0.5948\n",
      "Epoch 8/20\n",
      "50000/50000 [==============================] - 12s 239us/sample - loss: 0.7822 - acc: 0.7274 - val_loss: 1.1791 - val_acc: 0.6161\n",
      "Epoch 9/20\n",
      "50000/50000 [==============================] - 12s 244us/sample - loss: 0.7588 - acc: 0.7375 - val_loss: 1.1019 - val_acc: 0.6360\n",
      "Epoch 10/20\n",
      "50000/50000 [==============================] - 12s 240us/sample - loss: 0.7369 - acc: 0.7428 - val_loss: 1.3289 - val_acc: 0.5827\n",
      "Epoch 11/20\n",
      "50000/50000 [==============================] - 12s 240us/sample - loss: 0.7174 - acc: 0.7493 - val_loss: 1.2477 - val_acc: 0.5990\n",
      "Epoch 12/20\n",
      "50000/50000 [==============================] - 12s 240us/sample - loss: 0.7045 - acc: 0.7536 - val_loss: 1.1554 - val_acc: 0.6303\n",
      "Epoch 13/20\n",
      "50000/50000 [==============================] - 12s 242us/sample - loss: 0.6894 - acc: 0.7587 - val_loss: 1.1704 - val_acc: 0.6227\n",
      "Epoch 14/20\n",
      "50000/50000 [==============================] - 12s 239us/sample - loss: 0.6746 - acc: 0.7647 - val_loss: 1.2028 - val_acc: 0.6206\n",
      "Epoch 15/20\n",
      "50000/50000 [==============================] - 12s 241us/sample - loss: 0.6635 - acc: 0.7674 - val_loss: 1.3077 - val_acc: 0.6010\n",
      "Epoch 16/20\n",
      "50000/50000 [==============================] - 12s 240us/sample - loss: 0.6515 - acc: 0.7708 - val_loss: 1.4081 - val_acc: 0.5936\n",
      "Epoch 17/20\n",
      "50000/50000 [==============================] - 12s 241us/sample - loss: 0.6424 - acc: 0.7749 - val_loss: 1.3126 - val_acc: 0.6074\n",
      "Epoch 18/20\n",
      "50000/50000 [==============================] - 12s 240us/sample - loss: 0.6279 - acc: 0.7804 - val_loss: 1.3320 - val_acc: 0.6034\n",
      "Epoch 19/20\n",
      "50000/50000 [==============================] - 12s 242us/sample - loss: 0.6211 - acc: 0.7809 - val_loss: 1.3039 - val_acc: 0.6135\n",
      "Epoch 20/20\n",
      "50000/50000 [==============================] - 12s 242us/sample - loss: 0.6172 - acc: 0.7824 - val_loss: 1.4135 - val_acc: 0.5868\n"
     ]
    }
   ],
   "source": [
    "# [Your Work] fit a model with train images and labels for 20 epochs\n",
    "h10 = model.fit(train_images, train_labels, epochs=20 , validation_data=(test_images,test_labels), batch_size=32)"
   ]
  },
  {
   "cell_type": "markdown",
   "metadata": {},
   "source": [
    "### <a id='p3B'/> งานที่ 3.B: สำรวจและวิเคราะห์ผลกระทบจากการใช้ชั้นปรับกลุ่มให้เป็นมาตรฐาน\n",
    "เราได้สร้างและทดลองใช้งานชั้นปรับกลุ่มให้เป็นมาตรฐานเรียบร้อยแล้ว ในงานนี้เราจะนำประวัติผลการฝึกมาวิเคราะห์เพื่อศึกษาผลกระทบจากการใช้ชั้นชนิดนี้\n",
    "\n",
    "#### <a id='p3B1'/> งานที่ 3.B.1: เตรียมข้อมูลเส้นกราฟประวัติการฝึกตัวแบบ 9 และ 10\n",
    "จงเตรียมข้อมูลเส้นกราฟประวัติการฝึกตัวแบบ 9 และ 10 รวม 4 เส้นในลักษณะเดียวกับที่เคยทำมาก่อนหน้า"
   ]
  },
  {
   "cell_type": "code",
   "execution_count": 54,
   "metadata": {},
   "outputs": [],
   "source": [
    "# [ํYour Work]\n",
    "train_acc_trace9 = go.Scatter(\n",
    "    x = epochs_x2,\n",
    "    y = h9.history['acc'],\n",
    "    mode = 'lines+markers',\n",
    "    name = 'train9'\n",
    ")\n",
    "\n",
    "test_acc_trace9 = go.Scatter(\n",
    "    x = epochs_x2,\n",
    "    y = h9.history['val_acc'],\n",
    "    mode = 'lines+markers',\n",
    "    name = 'test9'\n",
    ")\n",
    "\n",
    "train_acc_trace10 = go.Scatter(\n",
    "    x = epochs_x2,\n",
    "    y = h10.history['acc'],\n",
    "    mode = 'lines+markers',\n",
    "    name = 'tran10'\n",
    ")\n",
    "\n",
    "test_acc_trace10 = go.Scatter(\n",
    "    x = epochs_x2,\n",
    "    y = h10.history['val_acc'],\n",
    "    mode = 'lines+markers',\n",
    "    name = 'test10'\n",
    ")"
   ]
  },
  {
   "cell_type": "markdown",
   "metadata": {},
   "source": [
    "**พล็อตกราฟประวัติการฝึกของตัวแบบ 5, 8, 9 และ 10 และตอบคำถามในควิซที่ตามมา**"
   ]
  },
  {
   "cell_type": "code",
   "execution_count": 55,
   "metadata": {},
   "outputs": [
    {
     "data": {
      "application/vnd.plotly.v1+json": {
       "config": {
        "linkText": "Export to plot.ly",
        "plotlyServerURL": "https://plot.ly",
        "responsive": true,
        "showLink": false
       },
       "data": [
        {
         "mode": "lines+markers",
         "name": "train5",
         "type": "scatter",
         "uid": "018ca1a7-2312-4c29-bbe2-af31968a7fe8",
         "visible": "legendonly",
         "x": [
          1,
          2,
          3,
          4,
          5,
          6,
          7,
          8,
          9,
          10,
          11,
          12,
          13,
          14,
          15,
          16,
          17,
          18,
          19,
          20
         ],
         "y": [
          0.4459800124168396,
          0.5480999946594238,
          0.5926799774169922,
          0.6212599873542786,
          0.6425600051879883,
          0.6574599742889404,
          0.6733400225639343,
          0.6808199882507324,
          0.6921200156211853,
          0.7012799978256226,
          0.7086600065231323,
          0.7153400182723999,
          0.7208799719810486,
          0.7265999913215637,
          0.731939971446991,
          0.7358599901199341,
          0.7411400079727173,
          0.7445399761199951,
          0.747759997844696,
          0.7528600096702576
         ]
        },
        {
         "mode": "lines+markers",
         "name": "tran8",
         "type": "scatter",
         "uid": "e5ccd79f-6eae-4f73-91d7-0bea6f66c668",
         "visible": "legendonly",
         "x": [
          1,
          2,
          3,
          4,
          5,
          6,
          7,
          8,
          9,
          10,
          11,
          12,
          13,
          14,
          15,
          16,
          17,
          18,
          19,
          20
         ],
         "y": [
          0.41811999678611755,
          0.5276399850845337,
          0.568340003490448,
          0.5915600061416626,
          0.6096600294113159,
          0.6246600151062012,
          0.6359800100326538,
          0.6506800055503845,
          0.6588799953460693,
          0.6662799715995789,
          0.6742600202560425,
          0.6798200011253357,
          0.6837800145149231,
          0.6906399726867676,
          0.6938400268554688,
          0.7006999850273132,
          0.703760027885437,
          0.7106999754905701,
          0.7114400267601013,
          0.7183799743652344
         ]
        },
        {
         "mode": "lines+markers",
         "name": "train9",
         "type": "scatter",
         "uid": "5a336318-5a88-4acf-9cf6-4643dce3dbd6",
         "visible": true,
         "x": [
          1,
          2,
          3,
          4,
          5,
          6,
          7,
          8,
          9,
          10,
          11,
          12,
          13,
          14,
          15,
          16,
          17,
          18,
          19,
          20
         ],
         "y": [
          0.48625999689102173,
          0.6065999865531921,
          0.647819995880127,
          0.6744599938392639,
          0.6931399703025818,
          0.7075799703598022,
          0.7193800210952759,
          0.727400004863739,
          0.7365599870681763,
          0.744379997253418,
          0.7504600286483765,
          0.7559400200843811,
          0.7615600228309631,
          0.7670400142669678,
          0.7695800065994263,
          0.7753599882125854,
          0.7758200168609619,
          0.7812600135803223,
          0.7849599719047546,
          0.7858999967575073
         ]
        },
        {
         "mode": "lines+markers",
         "name": "tran10",
         "type": "scatter",
         "uid": "ee54d013-de6a-41e9-8452-42e31b9a4571",
         "visible": true,
         "x": [
          1,
          2,
          3,
          4,
          5,
          6,
          7,
          8,
          9,
          10,
          11,
          12,
          13,
          14,
          15,
          16,
          17,
          18,
          19,
          20
         ],
         "y": [
          0.4867999851703644,
          0.6067600250244141,
          0.6474999785423279,
          0.6736599802970886,
          0.6923999786376953,
          0.7046200037002563,
          0.7167999744415283,
          0.7273600101470947,
          0.7374799847602844,
          0.7427600026130676,
          0.7493199706077576,
          0.7535600066184998,
          0.7587000131607056,
          0.764680027961731,
          0.7674199938774109,
          0.7708200216293335,
          0.7749000191688538,
          0.7803599834442139,
          0.7809000015258789,
          0.7824000120162964
         ]
        },
        {
         "mode": "lines+markers",
         "name": "test5",
         "type": "scatter",
         "uid": "a2c514cb-4c4b-4f2d-a60a-78cdfd759f46",
         "visible": true,
         "x": [
          1,
          2,
          3,
          4,
          5,
          6,
          7,
          8,
          9,
          10,
          11,
          12,
          13,
          14,
          15,
          16,
          17,
          18,
          19,
          20
         ],
         "y": [
          0.5289000272750854,
          0.5648000240325928,
          0.5922999978065491,
          0.5995000004768372,
          0.6189000010490417,
          0.6258999705314636,
          0.6284000277519226,
          0.6322000026702881,
          0.6288999915122986,
          0.6234999895095825,
          0.6252999901771545,
          0.6234999895095825,
          0.6355000138282776,
          0.6208000183105469,
          0.632099986076355,
          0.6139000058174133,
          0.6266999840736389,
          0.6262000203132629,
          0.6273000240325928,
          0.621399998664856
         ]
        },
        {
         "mode": "lines+markers",
         "name": "test8",
         "type": "scatter",
         "uid": "a7d57afc-99b3-45e4-9450-024e85957f8a",
         "visible": true,
         "x": [
          1,
          2,
          3,
          4,
          5,
          6,
          7,
          8,
          9,
          10,
          11,
          12,
          13,
          14,
          15,
          16,
          17,
          18,
          19,
          20
         ],
         "y": [
          0.4921000003814697,
          0.5347999930381775,
          0.5698999762535095,
          0.5734000205993652,
          0.5896000266075134,
          0.593500018119812,
          0.6001999974250793,
          0.6141999959945679,
          0.6273999810218811,
          0.6280999779701233,
          0.6355000138282776,
          0.6283000111579895,
          0.6348999738693237,
          0.6294999718666077,
          0.642799973487854,
          0.635699987411499,
          0.6384999752044678,
          0.6477000117301941,
          0.6347000002861023,
          0.6395999789237976
         ]
        },
        {
         "mode": "lines+markers",
         "name": "test9",
         "type": "scatter",
         "uid": "2152116e-f0b9-4f98-8b9c-8dd29a43083d",
         "visible": true,
         "x": [
          1,
          2,
          3,
          4,
          5,
          6,
          7,
          8,
          9,
          10,
          11,
          12,
          13,
          14,
          15,
          16,
          17,
          18,
          19,
          20
         ],
         "y": [
          0.3328000009059906,
          0.5659000277519226,
          0.6029999852180481,
          0.550000011920929,
          0.5751000046730042,
          0.6227999925613403,
          0.609499990940094,
          0.6207000017166138,
          0.6136000156402588,
          0.6097999811172485,
          0.6216999888420105,
          0.6189000010490417,
          0.6110000014305115,
          0.6140999794006348,
          0.6133000254631042,
          0.6114000082015991,
          0.6151000261306763,
          0.6060000061988831,
          0.6031000018119812,
          0.6150000095367432
         ]
        },
        {
         "mode": "lines+markers",
         "name": "test10",
         "type": "scatter",
         "uid": "f781c24d-f165-4738-a460-6d7d675501a2",
         "visible": true,
         "x": [
          1,
          2,
          3,
          4,
          5,
          6,
          7,
          8,
          9,
          10,
          11,
          12,
          13,
          14,
          15,
          16,
          17,
          18,
          19,
          20
         ],
         "y": [
          0.5055000185966492,
          0.5242000222206116,
          0.6148999929428101,
          0.620199978351593,
          0.629800021648407,
          0.6072999835014343,
          0.5947999954223633,
          0.616100013256073,
          0.6359999775886536,
          0.5827000141143799,
          0.5989999771118164,
          0.630299985408783,
          0.6226999759674072,
          0.6205999851226807,
          0.6010000109672546,
          0.5935999751091003,
          0.6074000000953674,
          0.6033999919891357,
          0.6134999990463257,
          0.5867999792098999
         ]
        }
       ],
       "layout": {
        "autosize": true,
        "xaxis": {
         "autorange": true,
         "range": [
          -0.20523728493098847,
          21.205237284930988
         ],
         "type": "linear"
        },
        "yaxis": {
         "autorange": true,
         "range": [
          0.29540825367552564,
          0.8232917439879723
         ],
         "type": "linear"
        }
       }
      },
      "image/png": "[encoded data removed]",
      "text/html": [
       "<div>\n",
       "        \n",
       "        \n",
       "            <div id=\"2612c27f-25c0-428e-bab3-6c2d0c6fa28b\" class=\"plotly-graph-div\" style=\"height:525px; width:100%;\"></div>\n",
       "            <script type=\"text/javascript\">\n",
       "                require([\"plotly\"], function(Plotly) {\n",
       "                    window.PLOTLYENV=window.PLOTLYENV || {};\n",
       "                    window.PLOTLYENV.BASE_URL='https://plot.ly';\n",
       "                    \n",
       "                if (document.getElementById(\"2612c27f-25c0-428e-bab3-6c2d0c6fa28b\")) {\n",
       "                    Plotly.newPlot(\n",
       "                        '2612c27f-25c0-428e-bab3-6c2d0c6fa28b',\n",
       "                        [{\"mode\": \"lines+markers\", \"name\": \"train5\", \"type\": \"scatter\", \"uid\": \"bbbf2506-5db7-480c-8607-ac760309cf58\", \"x\": [1.0, 2.0, 3.0, 4.0, 5.0, 6.0, 7.0, 8.0, 9.0, 10.0, 11.0, 12.0, 13.0, 14.0, 15.0, 16.0, 17.0, 18.0, 19.0, 20.0], \"y\": [0.4459800124168396, 0.5480999946594238, 0.5926799774169922, 0.6212599873542786, 0.6425600051879883, 0.6574599742889404, 0.6733400225639343, 0.6808199882507324, 0.6921200156211853, 0.7012799978256226, 0.7086600065231323, 0.7153400182723999, 0.7208799719810486, 0.7265999913215637, 0.731939971446991, 0.7358599901199341, 0.7411400079727173, 0.7445399761199951, 0.747759997844696, 0.7528600096702576]}, {\"mode\": \"lines+markers\", \"name\": \"tran8\", \"type\": \"scatter\", \"uid\": \"3b64d79c-60f4-4241-8e8e-71da05e8db98\", \"x\": [1.0, 2.0, 3.0, 4.0, 5.0, 6.0, 7.0, 8.0, 9.0, 10.0, 11.0, 12.0, 13.0, 14.0, 15.0, 16.0, 17.0, 18.0, 19.0, 20.0], \"y\": [0.41811999678611755, 0.5276399850845337, 0.568340003490448, 0.5915600061416626, 0.6096600294113159, 0.6246600151062012, 0.6359800100326538, 0.6506800055503845, 0.6588799953460693, 0.6662799715995789, 0.6742600202560425, 0.6798200011253357, 0.6837800145149231, 0.6906399726867676, 0.6938400268554688, 0.7006999850273132, 0.703760027885437, 0.7106999754905701, 0.7114400267601013, 0.7183799743652344]}, {\"mode\": \"lines+markers\", \"name\": \"train9\", \"type\": \"scatter\", \"uid\": \"9a6f78b7-2188-4086-ab9d-8f5becea0096\", \"x\": [1.0, 2.0, 3.0, 4.0, 5.0, 6.0, 7.0, 8.0, 9.0, 10.0, 11.0, 12.0, 13.0, 14.0, 15.0, 16.0, 17.0, 18.0, 19.0, 20.0], \"y\": [0.48625999689102173, 0.6065999865531921, 0.647819995880127, 0.6744599938392639, 0.6931399703025818, 0.7075799703598022, 0.7193800210952759, 0.727400004863739, 0.7365599870681763, 0.744379997253418, 0.7504600286483765, 0.7559400200843811, 0.7615600228309631, 0.7670400142669678, 0.7695800065994263, 0.7753599882125854, 0.7758200168609619, 0.7812600135803223, 0.7849599719047546, 0.7858999967575073]}, {\"mode\": \"lines+markers\", \"name\": \"tran10\", \"type\": \"scatter\", \"uid\": \"064315ed-a06f-438a-88b7-62d2d856073d\", \"x\": [1.0, 2.0, 3.0, 4.0, 5.0, 6.0, 7.0, 8.0, 9.0, 10.0, 11.0, 12.0, 13.0, 14.0, 15.0, 16.0, 17.0, 18.0, 19.0, 20.0], \"y\": [0.4867999851703644, 0.6067600250244141, 0.6474999785423279, 0.6736599802970886, 0.6923999786376953, 0.7046200037002563, 0.7167999744415283, 0.7273600101470947, 0.7374799847602844, 0.7427600026130676, 0.7493199706077576, 0.7535600066184998, 0.7587000131607056, 0.764680027961731, 0.7674199938774109, 0.7708200216293335, 0.7749000191688538, 0.7803599834442139, 0.7809000015258789, 0.7824000120162964]}, {\"mode\": \"lines+markers\", \"name\": \"test5\", \"type\": \"scatter\", \"uid\": \"53c23abb-b11d-4f1e-9404-5c31935fb175\", \"x\": [1.0, 2.0, 3.0, 4.0, 5.0, 6.0, 7.0, 8.0, 9.0, 10.0, 11.0, 12.0, 13.0, 14.0, 15.0, 16.0, 17.0, 18.0, 19.0, 20.0], \"y\": [0.5289000272750854, 0.5648000240325928, 0.5922999978065491, 0.5995000004768372, 0.6189000010490417, 0.6258999705314636, 0.6284000277519226, 0.6322000026702881, 0.6288999915122986, 0.6234999895095825, 0.6252999901771545, 0.6234999895095825, 0.6355000138282776, 0.6208000183105469, 0.632099986076355, 0.6139000058174133, 0.6266999840736389, 0.6262000203132629, 0.6273000240325928, 0.621399998664856]}, {\"mode\": \"lines+markers\", \"name\": \"test8\", \"type\": \"scatter\", \"uid\": \"254cc049-c65b-49f8-92c8-a26d2b482fcf\", \"x\": [1.0, 2.0, 3.0, 4.0, 5.0, 6.0, 7.0, 8.0, 9.0, 10.0, 11.0, 12.0, 13.0, 14.0, 15.0, 16.0, 17.0, 18.0, 19.0, 20.0], \"y\": [0.4921000003814697, 0.5347999930381775, 0.5698999762535095, 0.5734000205993652, 0.5896000266075134, 0.593500018119812, 0.6001999974250793, 0.6141999959945679, 0.6273999810218811, 0.6280999779701233, 0.6355000138282776, 0.6283000111579895, 0.6348999738693237, 0.6294999718666077, 0.642799973487854, 0.635699987411499, 0.6384999752044678, 0.6477000117301941, 0.6347000002861023, 0.6395999789237976]}, {\"mode\": \"lines+markers\", \"name\": \"test9\", \"type\": \"scatter\", \"uid\": \"d426fc86-0dbc-4e63-9524-ff536b0c40f0\", \"x\": [1.0, 2.0, 3.0, 4.0, 5.0, 6.0, 7.0, 8.0, 9.0, 10.0, 11.0, 12.0, 13.0, 14.0, 15.0, 16.0, 17.0, 18.0, 19.0, 20.0], \"y\": [0.3328000009059906, 0.5659000277519226, 0.6029999852180481, 0.550000011920929, 0.5751000046730042, 0.6227999925613403, 0.609499990940094, 0.6207000017166138, 0.6136000156402588, 0.6097999811172485, 0.6216999888420105, 0.6189000010490417, 0.6110000014305115, 0.6140999794006348, 0.6133000254631042, 0.6114000082015991, 0.6151000261306763, 0.6060000061988831, 0.6031000018119812, 0.6150000095367432]}, {\"mode\": \"lines+markers\", \"name\": \"test10\", \"type\": \"scatter\", \"uid\": \"00ccd6ed-acd4-4e6b-bfcf-a676b99d6992\", \"x\": [1.0, 2.0, 3.0, 4.0, 5.0, 6.0, 7.0, 8.0, 9.0, 10.0, 11.0, 12.0, 13.0, 14.0, 15.0, 16.0, 17.0, 18.0, 19.0, 20.0], \"y\": [0.5055000185966492, 0.5242000222206116, 0.6148999929428101, 0.620199978351593, 0.629800021648407, 0.6072999835014343, 0.5947999954223633, 0.616100013256073, 0.6359999775886536, 0.5827000141143799, 0.5989999771118164, 0.630299985408783, 0.6226999759674072, 0.6205999851226807, 0.6010000109672546, 0.5935999751091003, 0.6074000000953674, 0.6033999919891357, 0.6134999990463257, 0.5867999792098999]}],\n",
       "                        {},\n",
       "                        {\"showLink\": false, \"linkText\": \"Export to plot.ly\", \"plotlyServerURL\": \"https://plot.ly\", \"responsive\": true}\n",
       "                    ).then(function(){\n",
       "                            \n",
       "var gd = document.getElementById('2612c27f-25c0-428e-bab3-6c2d0c6fa28b');\n",
       "var x = new MutationObserver(function (mutations, observer) {{\n",
       "        var display = window.getComputedStyle(gd).display;\n",
       "        if (!display || display === 'none') {{\n",
       "            console.log([gd, 'removed!']);\n",
       "            Plotly.purge(gd);\n",
       "            observer.disconnect();\n",
       "        }}\n",
       "}});\n",
       "\n",
       "// Listen for the removal of the full notebook cells\n",
       "var notebookContainer = gd.closest('#notebook-container');\n",
       "if (notebookContainer) {{\n",
       "    x.observe(notebookContainer, {childList: true});\n",
       "}}\n",
       "\n",
       "// Listen for the clearing of the current output cell\n",
       "var outputEl = gd.closest('.output');\n",
       "if (outputEl) {{\n",
       "    x.observe(outputEl, {childList: true});\n",
       "}}\n",
       "\n",
       "                        })\n",
       "                };\n",
       "                });\n",
       "            </script>\n",
       "        </div>"
      ]
     },
     "metadata": {},
     "output_type": "display_data"
    }
   ],
   "source": [
    "# [Your Work]\n",
    "# [Your Work]\n",
    "iplot([train_acc_trace5, train_acc_trace8,train_acc_trace9, train_acc_trace10,\n",
    "       test_acc_trace5, test_acc_trace8,  test_acc_trace9, test_acc_trace10 ])"
   ]
  },
  {
   "cell_type": "markdown",
   "metadata": {},
   "source": [
    "### <a id='q3B'/> Quick Quiz 3.B: ใช้การปรับกลุ่มให้เป็นมาตรฐานแล้วเป็นอย่างไร\n",
    "จากตัวแบบที่เกี่ยวช้อง ตัวแบบ 5 และ 10 มีจำนวนตัวอย่างในกลุ่มย่อย 32 ตัวอย่าง ต่างกันเพียงเรื่องการใช้ชั้นปรับกลุ่มให้เป็นมาตรฐาน ส่วนตัวแบบ 8 และ 9 มีจำนวนตัวอย่างในกลุ่มย่อย 128 ตัวอย่าง ต่างกันเพียงเรื่องของการใช้ชั้นปรับกลุ่มให้เป็นมาตรฐานเช่นกัน จงตอบคำถามตามประเด็นต่าง ๆ ดังนี้\n",
    "\n",
    "**ประเด็นแรก** การใช้การปรับกลุ่มให้เป็นมาตรฐาน ทำให้ความแม่นยำในชุดข้อมูลฝึกของตัวแบบ 9 เพิ่มขึ้นจากตัวแบบ 8 ถึง 0.05 หรือไม่ (เพิ่ม 0.05 คือค่าตามแกน y ซึ่งหมายถึง 5%)"
   ]
  },
  {
   "cell_type": "markdown",
   "metadata": {},
   "source": [
    "(พื้นที่สำหรับตอบคำถาม) <br/><br/>\n",
    "ใช่"
   ]
  },
  {
   "cell_type": "markdown",
   "metadata": {},
   "source": [
    "**ประเด็นที่สอง** แล้วการปรับกลุ่มให้เป็นมาตรฐานส่งผลต่อความแม่นยำในชุดข้อมูลฝึกของตัวแบบ 10 ให้เพิ่มจากตัวแบบ 5 ถึง 0.05 หรือไม่ ผลกระทบจากการใช้การปรับกลุ่มให้เป็นมาตรฐานในตัวแบบทั้งสอง (ตัวแบบ 9 และ 10) นี้มีน้ำหนักที่แตกต่างกันอย่างมีนัยสำคัญหรือไม่ ทำไมจึงเป็นเช่นนั้น"
   ]
  },
  {
   "cell_type": "markdown",
   "metadata": {},
   "source": [
    "(พื้นที่สำหรับตอบคำถาม) <br/><br/>\n",
    "ไม่ <br/>\n",
    "ไม่ เพราะมีค่าที่ใกล้เคียงกัน"
   ]
  },
  {
   "cell_type": "markdown",
   "metadata": {},
   "source": [
    "**ประเด็นที่สาม** ความแตกต่างของความแม่นยำในชุดข้อมูลฝึกของตัวแบบที่ 5 และ 8 ต่างกันเท่าใด และความแตกต่างระหว่างตัวแบบ 9 กับ 10 ต่างกันเท่าใด(ดูจาก epoch สุดท้าย ซึ่งในคำถามที่ตามมา หากไม่ระบุ epoch ให้ถือผลลัพธ์จาก epoch สุดท้ายเป็นสำคัญ)"
   ]
  },
  {
   "cell_type": "markdown",
   "metadata": {},
   "source": [
    "(พื้นที่สำหรับตอบคำถาม) <br/><br/>\n",
    "0.75286-0.71838=0.03448<br/>\n",
    "0.7859-0.7824=0.0035"
   ]
  },
  {
   "cell_type": "markdown",
   "metadata": {},
   "source": [
    "**ประเด็นที่สี่** จากประเด็นที่สาม การปรับกลุ่มให้เป็นมาตรฐานช่วยลดความแตกต่างของการใช้จำนวนตัวอย่างในกลุ่มย่อยให้น้อยลงหรือไม่ ถ้าลดลง ลดลงร้อยละเท่าใด และถ้าเพิ่มขึ้น เพิ่มขึ้นร้อยละเท่าใด"
   ]
  },
  {
   "cell_type": "markdown",
   "metadata": {},
   "source": [
    "(พื้นที่สำหรับตอบคำถาม) <br/><br/>\n",
    "ลดลง 10%"
   ]
  },
  {
   "cell_type": "markdown",
   "metadata": {},
   "source": [
    "**ประเด็นที่ห้า** แนวโน้มของผลกระทบของการปรับกลุ่มให้เป็นมาตรฐานที่มีต่อความแม่นยำในชุดข้อมูลทดสอบสวนทางกับผลกระทบต่อความแม่นยำในชุดข้อมูลฝึกหรือไม่ "
   ]
  },
  {
   "cell_type": "markdown",
   "metadata": {},
   "source": [
    "(พื้นที่สำหรับตอบคำถาม) <br/><br/>\n",
    "สวนทาง"
   ]
  },
  {
   "cell_type": "markdown",
   "metadata": {},
   "source": [
    "**ประเด็นที่หก** จงวิเคราะห์และให้เหตุผลอธิบายสาเหตุของแนวโน้มของผลกระทบต่อความแม่นยำในข้อมูลฝึกและทดสอบ"
   ]
  },
  {
   "cell_type": "markdown",
   "metadata": {},
   "source": [
    "(พื้นที่สำหรับตอบคำถาม) <br/><br/>\n",
    "ข้อมูล train จำคำตอบได้"
   ]
  },
  {
   "cell_type": "markdown",
   "metadata": {},
   "source": [
    "**ประเด็นที่เจ็ด** การใช้การปรับกลุ่มให้เป็นมาตรฐานในตัวแบบ 9 ส่งผลกระทบต่อเวลาคำนวณให้เพิ่มขึ้นร้อยละเท่าใด และสำหรับตัวแบบ 10 ผลกระทบต่อเวลาคำนวณเพิ่มขึ้นร้อยละเท่าใด ผลกระทบด้านเวลาที่เกิดขึ้นในทั้งสองตัวแบบแตกต่างกันมากหรือไม่ จงวิเคราะห์และอธิบายถึงสาเหตุที่ทำให้มีความแตกต่างกันมากหรือน้อย"
   ]
  },
  {
   "cell_type": "markdown",
   "metadata": {},
   "source": [
    "(พื้นที่สำหรับตอบคำถาม) <br/><br/>\n",
    "66.6% <br/>\n",
    "75%<br/>\n",
    "มาก เพราะ 9 และ 10 ต้องใช้เวลากับ Batch-Normalization Layer ด้วย"
   ]
  },
  {
   "cell_type": "markdown",
   "metadata": {},
   "source": [
    "## <a id='p4'/> งานที่ 4: Dropout\n",
    "เราได้พยายามเพิ่มความแม่นยำมาหลายทาง ล่าสุดในงานที่แล้วเราได้ใช้ Batch Normalization ในความพยายามเพิ่มความแม่นยำ แต่สิ่งที่เกิดขึ้นก็คือตัวแบบของเราติดปัญหาโอเวอร์ฟิตติง ทำให้ความแม่นยำเพิ่มขึ้นเฉพาะกับชุดข้อมูลฝึก และลดลงในชุดข้อมูลทดสอบ \n",
    "\n",
    "ความเป็นไปได้หนึ่งในการแก้ปัญหานี้ก็คือการใช้ Dropout ปิดโหนดบางโหนดแบบสุ่ม ส่งผลให้ตัวแบบอาศัยการจำคำตอบได้น้อยลง และต้องพึ่งพาการหาคำตอบแบบทั่วไปให้มากขึ้น เพราะใช้การจำแบบเจาะจงคำตอบของตัวอย่างที่ใช้เรียนรู้ได้น้อยลง\n",
    "\n",
    "ปัญหาที่สำคัญของการใช้ Dropout ก็คือเราเดาได้ยากว่าจะปิดโหนดไปร้อยละเท่าใด และผลการทดลองอาจจะไม่เสถียรนัก คือความแม่นยำในชุดข้อมูลทดสอบมักจะเปลี่ยนไปมากในแต่ละ epoch  อย่างไรก็ตาม <a id='d4guide'>แนวทางการใช้ Dropout</a> ที่เป็นไปได้ว่าจะให้ผลดีเป็นส่วนใหญ่ก็คือ \n",
    "1. ถ้าความแตกต่างของความแม่นยำที่ได้จากข้อมูลฝึกและทดสอบต่างกันมาก เราอาจจะปิดโหนดได้มากถึงร้อยละ 50 และถ้าความแตกต่างน้อย เราอาจจะปิดเพียงร้อยละ 20\n",
    "2. ควรเน้นใช้ Dropout ที่ชั้นท้าย ๆ (เช่นก่อนถึงชั้น Dense ที่เป็นชั้นผลลัพธ์)\n",
    "3. เราสามารถใช้ชั้น Dropout ได้มากกว่าหนึ่งชั้นก็จริง แต่การใช้มากกว่า 2 ชั้นมักจะยากที่จะให้ผลลัพธ์ที่ดีขึ้น และ \n",
    "4. ถ้าเราใช้ Dropout แล้วมีชั้น Batch Normalization ตามมาในโครงข่าย เราอาจจะพบว่าความแม่นยำที่ได้มักจะต่ำ และความแม่นยำระหว่างการฝึกไม่เสถียร กล่าวคือถ้ามีการใช้ Batch Normalization อยู่มาก เราอาจจะเลือกใช้ Dropout เฉพาะชั้นด้านท้ายเพียงหนึ่งครั้ง อย่างไรก็ตาม มีบางกรณีเหมือนกันที่ใช้ Dropout ก่อนถึง Batch Normalization เพิ่มอีกชั้นแล้วได้ผลที่ดีขึ้น แต่เราไม่ควรคาดหวังว่าเราจะอยู่ในกรณีเช่นนั้น เพราะหลักการทางคณิตศาสตร์ใน Batch Normalization ทำให้การเติม Dropout ก่อนเรียกใช้ Batch Normalization เกิดโทษมากกว่าประโยชน์"
   ]
  },
  {
   "cell_type": "markdown",
   "metadata": {},
   "source": [
    "### <a id='p4A'/> งานที่ 4.A: ทดลองใช้ Dropout กับตัวแบบ 9\n",
    "ตัวแบบ 9 นั้นมีการใช้ Batch Normalization เสริมเข้าไปในตัวแบบ 8 แต่ผลลัพธ์ที่ได้นั้นบางครั้งก็ดีขึ้น บางครั้งก็แย่ลง ทว่าสิ่งที่น่าจะเกิดขึ้นกับทุกคนที่ทำการทดลองก็คือปัญหาโอเวอร์ฟิตดูรุนแรงขึ้น ถึงแม้จะยังไม่หนักมาก แต่ก็พอจะมองเห็นช่องทางการใช้ Dropout มาลดปัญหาโอเวอร์ฟิตนี้ได้\n",
    "\n",
    "จงใส่ชั้น Dropout ไว้หลังชั้น Flatten และตั้งพารามิเตอร์การปิดโหนดให้มีค่าเป็น 20% ซึ่งก็คือ 0.2 จากนั้นคอมไพล์และพิมพ์สรุปตัวแบบออกมา"
   ]
  },
  {
   "cell_type": "code",
   "execution_count": 57,
   "metadata": {},
   "outputs": [
    {
     "name": "stdout",
     "output_type": "stream",
     "text": [
      "WARNING:tensorflow:From /home/wanchai/.local/lib/python3.6/site-packages/tensorflow/python/keras/layers/core.py:143: calling dropout (from tensorflow.python.ops.nn_ops) with keep_prob is deprecated and will be removed in a future version.\n",
      "Instructions for updating:\n",
      "Please use `rate` instead of `keep_prob`. Rate should be set to `rate = 1 - keep_prob`.\n",
      "_________________________________________________________________\n",
      "Layer (type)                 Output Shape              Param #   \n",
      "=================================================================\n",
      "conv2d_15 (Conv2D)           (None, 32, 32, 8)         224       \n",
      "_________________________________________________________________\n",
      "batch_normalization_v1_4 (Ba (None, 32, 32, 8)         32        \n",
      "_________________________________________________________________\n",
      "max_pooling2d_7 (MaxPooling2 (None, 16, 16, 8)         0         \n",
      "_________________________________________________________________\n",
      "conv2d_16 (Conv2D)           (None, 16, 16, 16)        1168      \n",
      "_________________________________________________________________\n",
      "batch_normalization_v1_5 (Ba (None, 16, 16, 16)        64        \n",
      "_________________________________________________________________\n",
      "flatten_10 (Flatten)         (None, 4096)              0         \n",
      "_________________________________________________________________\n",
      "dropout (Dropout)            (None, 4096)              0         \n",
      "_________________________________________________________________\n",
      "dense_12 (Dense)             (None, 10)                40970     \n",
      "=================================================================\n",
      "Total params: 42,458\n",
      "Trainable params: 42,410\n",
      "Non-trainable params: 48\n",
      "_________________________________________________________________\n"
     ]
    }
   ],
   "source": [
    "# [Your Work] ระบุโครงสร้าง คอมไพล์ และพิมพ์ summary\n",
    "model = keras.Sequential([\n",
    "    keras.layers.Conv2D(8, (3,3), input_shape=(32, 32, 3), activation=tf.nn.relu, padding='same'),\n",
    "    keras.layers.BatchNormalization(axis=-1),\n",
    "    keras.layers.MaxPooling2D(),\n",
    "    keras.layers.Conv2D(16, (3,3), input_shape=(32, 32, 3), activation=tf.nn.relu, padding='same'),\n",
    "    keras.layers.BatchNormalization(axis=-1),\n",
    "    keras.layers.Flatten(),\n",
    "    keras.layers.Dropout(0.2),\n",
    "    keras.layers.Dense(10, activation=tf.nn.softmax)\n",
    "])\n",
    "\n",
    "model.compile(optimizer=keras.optimizers.Adam(), \n",
    "              loss='sparse_categorical_crossentropy',\n",
    "              metrics=['accuracy'])\n",
    "model.summary()"
   ]
  },
  {
   "cell_type": "markdown",
   "metadata": {},
   "source": [
    "สั่งฝึกตัวแบบ 11 โดยให้มีจ 128 ตัวอย่างในกลุ่มย่อย ฝึก 20 epochs และเก็บประวัติการฝึกไว้ในตัวแปร h11"
   ]
  },
  {
   "cell_type": "code",
   "execution_count": 58,
   "metadata": {},
   "outputs": [
    {
     "name": "stdout",
     "output_type": "stream",
     "text": [
      "Train on 50000 samples, validate on 10000 samples\n",
      "Epoch 1/20\n",
      "50000/50000 [==============================] - 9s 177us/sample - loss: 1.6474 - acc: 0.4466 - val_loss: 1.6161 - val_acc: 0.4283\n",
      "Epoch 2/20\n",
      "50000/50000 [==============================] - 8s 168us/sample - loss: 1.2684 - acc: 0.5616 - val_loss: 1.2840 - val_acc: 0.5468\n",
      "Epoch 3/20\n",
      "50000/50000 [==============================] - 8s 167us/sample - loss: 1.1520 - acc: 0.5986 - val_loss: 1.4110 - val_acc: 0.5200\n",
      "Epoch 4/20\n",
      "50000/50000 [==============================] - 8s 167us/sample - loss: 1.0783 - acc: 0.6253 - val_loss: 1.3463 - val_acc: 0.5522\n",
      "Epoch 5/20\n",
      "50000/50000 [==============================] - 8s 169us/sample - loss: 1.0349 - acc: 0.6408 - val_loss: 1.1180 - val_acc: 0.6188\n",
      "Epoch 6/20\n",
      "50000/50000 [==============================] - 8s 167us/sample - loss: 0.9923 - acc: 0.6571 - val_loss: 1.2098 - val_acc: 0.5753\n",
      "Epoch 7/20\n",
      "50000/50000 [==============================] - 8s 169us/sample - loss: 0.9716 - acc: 0.6639 - val_loss: 1.0709 - val_acc: 0.6339\n",
      "Epoch 8/20\n",
      "50000/50000 [==============================] - 8s 169us/sample - loss: 0.9433 - acc: 0.6701 - val_loss: 1.0768 - val_acc: 0.6313\n",
      "Epoch 9/20\n",
      "50000/50000 [==============================] - 8s 168us/sample - loss: 0.9309 - acc: 0.6774 - val_loss: 1.1353 - val_acc: 0.6105\n",
      "Epoch 10/20\n",
      "50000/50000 [==============================] - 8s 169us/sample - loss: 0.9105 - acc: 0.6837 - val_loss: 1.1238 - val_acc: 0.6257\n",
      "Epoch 11/20\n",
      "50000/50000 [==============================] - 8s 168us/sample - loss: 0.8994 - acc: 0.6885 - val_loss: 1.2477 - val_acc: 0.5888\n",
      "Epoch 12/20\n",
      "50000/50000 [==============================] - 8s 169us/sample - loss: 0.8841 - acc: 0.6926 - val_loss: 1.0772 - val_acc: 0.6327\n",
      "Epoch 13/20\n",
      "50000/50000 [==============================] - 8s 169us/sample - loss: 0.8756 - acc: 0.6953 - val_loss: 1.1616 - val_acc: 0.6020\n",
      "Epoch 14/20\n",
      "50000/50000 [==============================] - 8s 169us/sample - loss: 0.8664 - acc: 0.6974 - val_loss: 1.0586 - val_acc: 0.6421\n",
      "Epoch 15/20\n",
      "50000/50000 [==============================] - 9s 171us/sample - loss: 0.8609 - acc: 0.7017 - val_loss: 1.0662 - val_acc: 0.6408\n",
      "Epoch 16/20\n",
      "50000/50000 [==============================] - 8s 170us/sample - loss: 0.8486 - acc: 0.7036 - val_loss: 1.0524 - val_acc: 0.6480\n",
      "Epoch 17/20\n",
      "50000/50000 [==============================] - 9s 170us/sample - loss: 0.8467 - acc: 0.7062 - val_loss: 1.1055 - val_acc: 0.6269\n",
      "Epoch 18/20\n",
      "50000/50000 [==============================] - 9s 171us/sample - loss: 0.8356 - acc: 0.7091 - val_loss: 1.0703 - val_acc: 0.6344\n",
      "Epoch 19/20\n",
      "50000/50000 [==============================] - 8s 168us/sample - loss: 0.8261 - acc: 0.7116 - val_loss: 1.0528 - val_acc: 0.6438\n",
      "Epoch 20/20\n",
      "50000/50000 [==============================] - 8s 168us/sample - loss: 0.8210 - acc: 0.7146 - val_loss: 1.0395 - val_acc: 0.6496\n"
     ]
    }
   ],
   "source": [
    "# [Your Work] fit a model with train images and labels for 20 epochs\n",
    "h11 = model.fit(train_images, train_labels, epochs=20 , validation_data=(test_images,test_labels), batch_size=128)"
   ]
  },
  {
   "cell_type": "markdown",
   "metadata": {},
   "source": [
    "พิมพ์ค่าความแม่นยำสูงสุดในชุดข้อมูลทดสอบที่ตัวแบบ 8, 9 และ 11 ทำได้ (ใช้ print(np.max ...))\n",
    "สังเกตดูด้วยว่าความแม่นยำสูงสุดในตัวแบบ 11 ดีขึ้นกว่า 9 ไหมและสามารถชนะหรือใกล้เคียงกับตัวแบบ 8 ไหม"
   ]
  },
  {
   "cell_type": "code",
   "execution_count": 59,
   "metadata": {
    "scrolled": true
   },
   "outputs": [
    {
     "name": "stdout",
     "output_type": "stream",
     "text": [
      "0.71838\n",
      "0.7859\n",
      "0.71458\n"
     ]
    }
   ],
   "source": [
    "# [ํYour Work]\n",
    "print(np.max(h8.history['acc']))\n",
    "print(np.max(h9.history['acc']))\n",
    "print(np.max(h11.history['acc']))"
   ]
  },
  {
   "cell_type": "markdown",
   "metadata": {},
   "source": [
    "เช่นเดิม เตรียมข้อมูลกราฟประวัติการฝึกตัวแบบ 11 และเพื่อความกระชับ ให้วาดกราฟเปรียบเทียบตัวแบบ 8 9 และ 11 ต่อทันทีในเซลล์ของโค้ดข้างล่างนี้"
   ]
  },
  {
   "cell_type": "code",
   "execution_count": 61,
   "metadata": {},
   "outputs": [
    {
     "data": {
      "application/vnd.plotly.v1+json": {
       "config": {
        "linkText": "Export to plot.ly",
        "plotlyServerURL": "https://plot.ly",
        "responsive": true,
        "showLink": false
       },
       "data": [
        {
         "mode": "lines+markers",
         "name": "tran8",
         "type": "scatter",
         "uid": "894ebd7f-cac1-4ac6-9be7-d2474424ec4e",
         "x": [
          1,
          2,
          3,
          4,
          5,
          6,
          7,
          8,
          9,
          10,
          11,
          12,
          13,
          14,
          15,
          16,
          17,
          18,
          19,
          20
         ],
         "y": [
          0.41811999678611755,
          0.5276399850845337,
          0.568340003490448,
          0.5915600061416626,
          0.6096600294113159,
          0.6246600151062012,
          0.6359800100326538,
          0.6506800055503845,
          0.6588799953460693,
          0.6662799715995789,
          0.6742600202560425,
          0.6798200011253357,
          0.6837800145149231,
          0.6906399726867676,
          0.6938400268554688,
          0.7006999850273132,
          0.703760027885437,
          0.7106999754905701,
          0.7114400267601013,
          0.7183799743652344
         ]
        },
        {
         "mode": "lines+markers",
         "name": "train9",
         "type": "scatter",
         "uid": "77a246d1-1aec-4f03-b1b7-519e392b62ad",
         "x": [
          1,
          2,
          3,
          4,
          5,
          6,
          7,
          8,
          9,
          10,
          11,
          12,
          13,
          14,
          15,
          16,
          17,
          18,
          19,
          20
         ],
         "y": [
          0.48625999689102173,
          0.6065999865531921,
          0.647819995880127,
          0.6744599938392639,
          0.6931399703025818,
          0.7075799703598022,
          0.7193800210952759,
          0.727400004863739,
          0.7365599870681763,
          0.744379997253418,
          0.7504600286483765,
          0.7559400200843811,
          0.7615600228309631,
          0.7670400142669678,
          0.7695800065994263,
          0.7753599882125854,
          0.7758200168609619,
          0.7812600135803223,
          0.7849599719047546,
          0.7858999967575073
         ]
        },
        {
         "mode": "lines+markers",
         "name": "test11",
         "type": "scatter",
         "uid": "a39194eb-2775-4f2e-ae57-5529d2e7620a",
         "x": [
          1,
          2,
          3,
          4,
          5,
          6,
          7,
          8,
          9,
          10,
          11,
          12,
          13,
          14,
          15,
          16,
          17,
          18,
          19,
          20
         ],
         "y": [
          0.4466400146484375,
          0.5616400241851807,
          0.598580002784729,
          0.6252999901771545,
          0.6407999992370605,
          0.6571400165557861,
          0.663919985294342,
          0.6701200008392334,
          0.6774200201034546,
          0.6836599707603455,
          0.688539981842041,
          0.6926199793815613,
          0.6953200101852417,
          0.6973599791526794,
          0.70169997215271,
          0.7035599946975708,
          0.7062399983406067,
          0.70906001329422,
          0.7115600109100342,
          0.7145799994468689
         ]
        },
        {
         "mode": "lines+markers",
         "name": "test8",
         "type": "scatter",
         "uid": "47a129c8-fbf0-4b14-a9a2-6553c1d3663c",
         "x": [
          1,
          2,
          3,
          4,
          5,
          6,
          7,
          8,
          9,
          10,
          11,
          12,
          13,
          14,
          15,
          16,
          17,
          18,
          19,
          20
         ],
         "y": [
          0.4921000003814697,
          0.5347999930381775,
          0.5698999762535095,
          0.5734000205993652,
          0.5896000266075134,
          0.593500018119812,
          0.6001999974250793,
          0.6141999959945679,
          0.6273999810218811,
          0.6280999779701233,
          0.6355000138282776,
          0.6283000111579895,
          0.6348999738693237,
          0.6294999718666077,
          0.642799973487854,
          0.635699987411499,
          0.6384999752044678,
          0.6477000117301941,
          0.6347000002861023,
          0.6395999789237976
         ]
        },
        {
         "mode": "lines+markers",
         "name": "test9",
         "type": "scatter",
         "uid": "84de559e-a90b-4d28-bf12-b268a6fe8c01",
         "x": [
          1,
          2,
          3,
          4,
          5,
          6,
          7,
          8,
          9,
          10,
          11,
          12,
          13,
          14,
          15,
          16,
          17,
          18,
          19,
          20
         ],
         "y": [
          0.3328000009059906,
          0.5659000277519226,
          0.6029999852180481,
          0.550000011920929,
          0.5751000046730042,
          0.6227999925613403,
          0.609499990940094,
          0.6207000017166138,
          0.6136000156402588,
          0.6097999811172485,
          0.6216999888420105,
          0.6189000010490417,
          0.6110000014305115,
          0.6140999794006348,
          0.6133000254631042,
          0.6114000082015991,
          0.6151000261306763,
          0.6060000061988831,
          0.6031000018119812,
          0.6150000095367432
         ]
        },
        {
         "mode": "lines+markers",
         "name": "test11",
         "type": "scatter",
         "uid": "3b5be02f-01ce-4ee2-9188-806d805de28f",
         "x": [
          1,
          2,
          3,
          4,
          5,
          6,
          7,
          8,
          9,
          10,
          11,
          12,
          13,
          14,
          15,
          16,
          17,
          18,
          19,
          20
         ],
         "y": [
          0.42829999327659607,
          0.5468000173568726,
          0.5199999809265137,
          0.5522000193595886,
          0.6187999844551086,
          0.5752999782562256,
          0.633899986743927,
          0.6312999725341797,
          0.6104999780654907,
          0.6256999969482422,
          0.5888000130653381,
          0.6327000260353088,
          0.6019999980926514,
          0.6420999765396118,
          0.6407999992370605,
          0.6480000019073486,
          0.6269000172615051,
          0.6344000101089478,
          0.6438000202178955,
          0.6496000289916992
         ]
        }
       ],
       "layout": {
        "autosize": true,
        "xaxis": {
         "autorange": true,
         "range": [
          -0.20472960241190874,
          21.20472960241191
         ],
         "type": "linear"
        },
        "yaxis": {
         "autorange": true,
         "range": [
          0.29540825367552564,
          0.8232917439879723
         ],
         "type": "linear"
        }
       }
      },
      "image/png": "[encoded data removed]",
      "text/html": [
       "<div>\n",
       "        \n",
       "        \n",
       "            <div id=\"40145f72-2398-49ef-b78f-54c4930ad990\" class=\"plotly-graph-div\" style=\"height:525px; width:100%;\"></div>\n",
       "            <script type=\"text/javascript\">\n",
       "                require([\"plotly\"], function(Plotly) {\n",
       "                    window.PLOTLYENV=window.PLOTLYENV || {};\n",
       "                    window.PLOTLYENV.BASE_URL='https://plot.ly';\n",
       "                    \n",
       "                if (document.getElementById(\"40145f72-2398-49ef-b78f-54c4930ad990\")) {\n",
       "                    Plotly.newPlot(\n",
       "                        '40145f72-2398-49ef-b78f-54c4930ad990',\n",
       "                        [{\"mode\": \"lines+markers\", \"name\": \"tran8\", \"type\": \"scatter\", \"uid\": \"65bb746a-550f-42be-afeb-28aab5fe1ded\", \"x\": [1.0, 2.0, 3.0, 4.0, 5.0, 6.0, 7.0, 8.0, 9.0, 10.0, 11.0, 12.0, 13.0, 14.0, 15.0, 16.0, 17.0, 18.0, 19.0, 20.0], \"y\": [0.41811999678611755, 0.5276399850845337, 0.568340003490448, 0.5915600061416626, 0.6096600294113159, 0.6246600151062012, 0.6359800100326538, 0.6506800055503845, 0.6588799953460693, 0.6662799715995789, 0.6742600202560425, 0.6798200011253357, 0.6837800145149231, 0.6906399726867676, 0.6938400268554688, 0.7006999850273132, 0.703760027885437, 0.7106999754905701, 0.7114400267601013, 0.7183799743652344]}, {\"mode\": \"lines+markers\", \"name\": \"train9\", \"type\": \"scatter\", \"uid\": \"8599a494-bde1-4c19-982b-23a8cc5cb635\", \"x\": [1.0, 2.0, 3.0, 4.0, 5.0, 6.0, 7.0, 8.0, 9.0, 10.0, 11.0, 12.0, 13.0, 14.0, 15.0, 16.0, 17.0, 18.0, 19.0, 20.0], \"y\": [0.48625999689102173, 0.6065999865531921, 0.647819995880127, 0.6744599938392639, 0.6931399703025818, 0.7075799703598022, 0.7193800210952759, 0.727400004863739, 0.7365599870681763, 0.744379997253418, 0.7504600286483765, 0.7559400200843811, 0.7615600228309631, 0.7670400142669678, 0.7695800065994263, 0.7753599882125854, 0.7758200168609619, 0.7812600135803223, 0.7849599719047546, 0.7858999967575073]}, {\"mode\": \"lines+markers\", \"name\": \"test11\", \"type\": \"scatter\", \"uid\": \"dabb67b7-4298-42d3-b76d-d57c802f22af\", \"x\": [1.0, 2.0, 3.0, 4.0, 5.0, 6.0, 7.0, 8.0, 9.0, 10.0, 11.0, 12.0, 13.0, 14.0, 15.0, 16.0, 17.0, 18.0, 19.0, 20.0], \"y\": [0.4466400146484375, 0.5616400241851807, 0.598580002784729, 0.6252999901771545, 0.6407999992370605, 0.6571400165557861, 0.663919985294342, 0.6701200008392334, 0.6774200201034546, 0.6836599707603455, 0.688539981842041, 0.6926199793815613, 0.6953200101852417, 0.6973599791526794, 0.70169997215271, 0.7035599946975708, 0.7062399983406067, 0.70906001329422, 0.7115600109100342, 0.7145799994468689]}, {\"mode\": \"lines+markers\", \"name\": \"test8\", \"type\": \"scatter\", \"uid\": \"6fed0740-536a-49c9-a8ab-f7e3e6a7a1bc\", \"x\": [1.0, 2.0, 3.0, 4.0, 5.0, 6.0, 7.0, 8.0, 9.0, 10.0, 11.0, 12.0, 13.0, 14.0, 15.0, 16.0, 17.0, 18.0, 19.0, 20.0], \"y\": [0.4921000003814697, 0.5347999930381775, 0.5698999762535095, 0.5734000205993652, 0.5896000266075134, 0.593500018119812, 0.6001999974250793, 0.6141999959945679, 0.6273999810218811, 0.6280999779701233, 0.6355000138282776, 0.6283000111579895, 0.6348999738693237, 0.6294999718666077, 0.642799973487854, 0.635699987411499, 0.6384999752044678, 0.6477000117301941, 0.6347000002861023, 0.6395999789237976]}, {\"mode\": \"lines+markers\", \"name\": \"test9\", \"type\": \"scatter\", \"uid\": \"f426e5e0-3dc4-410b-97fd-d9bcf7487475\", \"x\": [1.0, 2.0, 3.0, 4.0, 5.0, 6.0, 7.0, 8.0, 9.0, 10.0, 11.0, 12.0, 13.0, 14.0, 15.0, 16.0, 17.0, 18.0, 19.0, 20.0], \"y\": [0.3328000009059906, 0.5659000277519226, 0.6029999852180481, 0.550000011920929, 0.5751000046730042, 0.6227999925613403, 0.609499990940094, 0.6207000017166138, 0.6136000156402588, 0.6097999811172485, 0.6216999888420105, 0.6189000010490417, 0.6110000014305115, 0.6140999794006348, 0.6133000254631042, 0.6114000082015991, 0.6151000261306763, 0.6060000061988831, 0.6031000018119812, 0.6150000095367432]}, {\"mode\": \"lines+markers\", \"name\": \"test11\", \"type\": \"scatter\", \"uid\": \"8b09070c-fce8-4328-85d9-494c900283b8\", \"x\": [1.0, 2.0, 3.0, 4.0, 5.0, 6.0, 7.0, 8.0, 9.0, 10.0, 11.0, 12.0, 13.0, 14.0, 15.0, 16.0, 17.0, 18.0, 19.0, 20.0], \"y\": [0.42829999327659607, 0.5468000173568726, 0.5199999809265137, 0.5522000193595886, 0.6187999844551086, 0.5752999782562256, 0.633899986743927, 0.6312999725341797, 0.6104999780654907, 0.6256999969482422, 0.5888000130653381, 0.6327000260353088, 0.6019999980926514, 0.6420999765396118, 0.6407999992370605, 0.6480000019073486, 0.6269000172615051, 0.6344000101089478, 0.6438000202178955, 0.6496000289916992]}],\n",
       "                        {},\n",
       "                        {\"showLink\": false, \"linkText\": \"Export to plot.ly\", \"plotlyServerURL\": \"https://plot.ly\", \"responsive\": true}\n",
       "                    ).then(function(){\n",
       "                            \n",
       "var gd = document.getElementById('40145f72-2398-49ef-b78f-54c4930ad990');\n",
       "var x = new MutationObserver(function (mutations, observer) {{\n",
       "        var display = window.getComputedStyle(gd).display;\n",
       "        if (!display || display === 'none') {{\n",
       "            console.log([gd, 'removed!']);\n",
       "            Plotly.purge(gd);\n",
       "            observer.disconnect();\n",
       "        }}\n",
       "}});\n",
       "\n",
       "// Listen for the removal of the full notebook cells\n",
       "var notebookContainer = gd.closest('#notebook-container');\n",
       "if (notebookContainer) {{\n",
       "    x.observe(notebookContainer, {childList: true});\n",
       "}}\n",
       "\n",
       "// Listen for the clearing of the current output cell\n",
       "var outputEl = gd.closest('.output');\n",
       "if (outputEl) {{\n",
       "    x.observe(outputEl, {childList: true});\n",
       "}}\n",
       "\n",
       "                        })\n",
       "                };\n",
       "                });\n",
       "            </script>\n",
       "        </div>"
      ]
     },
     "metadata": {},
     "output_type": "display_data"
    }
   ],
   "source": [
    "# [ํYour Work]\n",
    "train_acc_trace11 = go.Scatter(\n",
    "    x = epochs_x2,\n",
    "    y = h11.history['acc'],\n",
    "    mode = 'lines+markers',\n",
    "    name = 'test11'\n",
    ")\n",
    "test_acc_trace11 = go.Scatter(\n",
    "    x = epochs_x2,\n",
    "    y = h11.history['val_acc'],\n",
    "    mode = 'lines+markers',\n",
    "    name = 'test11'\n",
    ")\n",
    "\n",
    "iplot([train_acc_trace8, train_acc_trace9, train_acc_trace11,\n",
    "        test_acc_trace8, test_acc_trace9, test_acc_trace11])"
   ]
  },
  {
   "cell_type": "markdown",
   "metadata": {},
   "source": [
    "### <a id='p4B'/> งานที่ 4.B: ใช้ Dropout ดึงศักยภาพของตัวแบบที่มีปัญหาโอเวอร์ฟิตติงรุนแรง\n",
    "ในบรรดาตัวแบบที่เราฝึกมาทั้งหมด อาจจะกล่าวได้ว่าตัวแบบ 6 มีปัญหาโอเวอร์ฟิตติงมากที่สุด เนื่องจากความแม่นยำของตัวแบบในชุดข้อมูลฝึกมีค่าสูงกว่าความแม่นยำในชุดข้อมูลทดสอบมากที่สุด\n",
    "\n",
    "จงใส่ชั้น Dropout สองชั้น แต่ละชั้นปิดโหนดร้อยละ 25 โดยชั้นแรกต่อจาก Conv2D อันที่หนึ่ง และ Dropout อีกชั้นอยู่ต่อจาก Conv2D อันที่สอง ซึ่งระดับความรุนแรงของปัญหาโอเวอร์ฟิตติงในตัวแบบ 9 ทำให้เราใส่สองช้้นแบบนี้ได้"
   ]
  },
  {
   "cell_type": "code",
   "execution_count": 64,
   "metadata": {},
   "outputs": [
    {
     "name": "stdout",
     "output_type": "stream",
     "text": [
      "_________________________________________________________________\n",
      "Layer (type)                 Output Shape              Param #   \n",
      "=================================================================\n",
      "conv2d_19 (Conv2D)           (None, 32, 32, 8)         224       \n",
      "_________________________________________________________________\n",
      "dropout_3 (Dropout)          (None, 32, 32, 8)         0         \n",
      "_________________________________________________________________\n",
      "max_pooling2d_9 (MaxPooling2 (None, 16, 16, 8)         0         \n",
      "_________________________________________________________________\n",
      "conv2d_20 (Conv2D)           (None, 16, 16, 16)        1168      \n",
      "_________________________________________________________________\n",
      "dropout_4 (Dropout)          (None, 16, 16, 16)        0         \n",
      "_________________________________________________________________\n",
      "flatten_12 (Flatten)         (None, 4096)              0         \n",
      "_________________________________________________________________\n",
      "dense_14 (Dense)             (None, 10)                40970     \n",
      "=================================================================\n",
      "Total params: 42,362\n",
      "Trainable params: 42,362\n",
      "Non-trainable params: 0\n",
      "_________________________________________________________________\n"
     ]
    }
   ],
   "source": [
    "# [Your Work] ระบุโครงสร้าง คอมไพล์ และพิมพ์ summary\n",
    "model = keras.Sequential([\n",
    "    keras.layers.Conv2D(8, (3,3), input_shape=(32, 32, 3), activation=tf.nn.relu, padding='same'),\n",
    "    keras.layers.Dropout(0.25),\n",
    "    keras.layers.MaxPooling2D(),\n",
    "    keras.layers.Conv2D(16, (3,3), input_shape=(32, 32, 3), activation=tf.nn.relu, padding='same'),\n",
    "    keras.layers.Dropout(0.25),\n",
    "    keras.layers.Flatten(),\n",
    "    keras.layers.Dense(10, activation=tf.nn.softmax)\n",
    "])\n",
    "\n",
    "model.compile(optimizer=keras.optimizers.Adam(), \n",
    "              loss='sparse_categorical_crossentropy',\n",
    "              metrics=['accuracy'])\n",
    "model.summary()"
   ]
  },
  {
   "cell_type": "markdown",
   "metadata": {},
   "source": [
    "ลองฝึกตัวแบบ 12 นี้ดู 20 epochs และมี 64 ตัวอย่างต่อกลุ่มย่อย (ที่ใช้ 64 เพราะเราไม่ได้ใช้ Batch Normalization และ GPU ของบางคนอาจจะมีหน่วยความจำน้อยเกินไปที่จะใส่ตัวอย่างมาก ๆ ได้"
   ]
  },
  {
   "cell_type": "code",
   "execution_count": 65,
   "metadata": {},
   "outputs": [
    {
     "name": "stdout",
     "output_type": "stream",
     "text": [
      "Train on 50000 samples, validate on 10000 samples\n",
      "Epoch 1/20\n",
      "50000/50000 [==============================] - 10s 209us/sample - loss: 1.6067 - acc: 0.4283 - val_loss: 1.4175 - val_acc: 0.5136\n",
      "Epoch 2/20\n",
      "50000/50000 [==============================] - 10s 196us/sample - loss: 1.3341 - acc: 0.5287 - val_loss: 1.2952 - val_acc: 0.5514\n",
      "Epoch 3/20\n",
      "50000/50000 [==============================] - 10s 198us/sample - loss: 1.2384 - acc: 0.5629 - val_loss: 1.2181 - val_acc: 0.5827\n",
      "Epoch 4/20\n",
      "50000/50000 [==============================] - 10s 208us/sample - loss: 1.1801 - acc: 0.5853 - val_loss: 1.2000 - val_acc: 0.5908\n",
      "Epoch 5/20\n",
      "50000/50000 [==============================] - 10s 205us/sample - loss: 1.1449 - acc: 0.5966 - val_loss: 1.1647 - val_acc: 0.5935\n",
      "Epoch 6/20\n",
      "50000/50000 [==============================] - 10s 206us/sample - loss: 1.1153 - acc: 0.6074 - val_loss: 1.1649 - val_acc: 0.5883\n",
      "Epoch 7/20\n",
      "50000/50000 [==============================] - 11s 211us/sample - loss: 1.0865 - acc: 0.6171 - val_loss: 1.1221 - val_acc: 0.6140\n",
      "Epoch 8/20\n",
      "50000/50000 [==============================] - 10s 205us/sample - loss: 1.0718 - acc: 0.6246 - val_loss: 1.1085 - val_acc: 0.6168\n",
      "Epoch 9/20\n",
      "50000/50000 [==============================] - 10s 203us/sample - loss: 1.0539 - acc: 0.6309 - val_loss: 1.1233 - val_acc: 0.6098\n",
      "Epoch 10/20\n",
      "50000/50000 [==============================] - 10s 203us/sample - loss: 1.0343 - acc: 0.6379 - val_loss: 1.0764 - val_acc: 0.6280\n",
      "Epoch 11/20\n",
      "50000/50000 [==============================] - 10s 204us/sample - loss: 1.0224 - acc: 0.6386 - val_loss: 1.1272 - val_acc: 0.6058\n",
      "Epoch 12/20\n",
      "50000/50000 [==============================] - 10s 205us/sample - loss: 1.0101 - acc: 0.6439 - val_loss: 1.0744 - val_acc: 0.6260\n",
      "Epoch 13/20\n",
      "50000/50000 [==============================] - 10s 205us/sample - loss: 0.9988 - acc: 0.6504 - val_loss: 1.1776 - val_acc: 0.5908\n",
      "Epoch 14/20\n",
      "50000/50000 [==============================] - 10s 206us/sample - loss: 0.9862 - acc: 0.6565 - val_loss: 1.0493 - val_acc: 0.6384\n",
      "Epoch 15/20\n",
      "50000/50000 [==============================] - 10s 206us/sample - loss: 0.9734 - acc: 0.6588 - val_loss: 1.0772 - val_acc: 0.6264\n",
      "Epoch 16/20\n",
      "50000/50000 [==============================] - 10s 203us/sample - loss: 0.9692 - acc: 0.6596 - val_loss: 1.0531 - val_acc: 0.6343\n",
      "Epoch 17/20\n",
      "50000/50000 [==============================] - 10s 205us/sample - loss: 0.9620 - acc: 0.6633 - val_loss: 1.0597 - val_acc: 0.6333\n",
      "Epoch 18/20\n",
      "50000/50000 [==============================] - 10s 206us/sample - loss: 0.9578 - acc: 0.6649 - val_loss: 1.0601 - val_acc: 0.6328\n",
      "Epoch 19/20\n",
      "50000/50000 [==============================] - 10s 208us/sample - loss: 0.9493 - acc: 0.6669 - val_loss: 1.0377 - val_acc: 0.6367\n",
      "Epoch 20/20\n",
      "50000/50000 [==============================] - 10s 202us/sample - loss: 0.9349 - acc: 0.6738 - val_loss: 1.0363 - val_acc: 0.6426\n"
     ]
    }
   ],
   "source": [
    "# [Your Work] fit a model with train images and labels for 20 epochs\n",
    "h12 = model.fit(train_images, train_labels, epochs=20 , validation_data=(test_images,test_labels), batch_size=64)"
   ]
  },
  {
   "cell_type": "markdown",
   "metadata": {},
   "source": [
    "เราจะลองนำตัวแบบ 6 มาดัดแปลงอีกครั้ง โดยครั้งนี้จะลองใส่ชั้น Dropout เพียงหนึ่งชั้นก่อนหรือหลัง Flatten ก็ได้ (ที่จริงให้ผลเหมือนกัน แต่เรานิยมทำหลัง Flatten มากกว่า) และตั้งอัตราการปิดโหนดไว้ที่ร้อยละ 50"
   ]
  },
  {
   "cell_type": "code",
   "execution_count": 67,
   "metadata": {},
   "outputs": [
    {
     "name": "stdout",
     "output_type": "stream",
     "text": [
      "_________________________________________________________________\n",
      "Layer (type)                 Output Shape              Param #   \n",
      "=================================================================\n",
      "conv2d_21 (Conv2D)           (None, 32, 32, 8)         224       \n",
      "_________________________________________________________________\n",
      "max_pooling2d_10 (MaxPooling (None, 16, 16, 8)         0         \n",
      "_________________________________________________________________\n",
      "conv2d_22 (Conv2D)           (None, 16, 16, 16)        1168      \n",
      "_________________________________________________________________\n",
      "flatten_13 (Flatten)         (None, 4096)              0         \n",
      "_________________________________________________________________\n",
      "dropout_5 (Dropout)          (None, 4096)              0         \n",
      "_________________________________________________________________\n",
      "dense_15 (Dense)             (None, 10)                40970     \n",
      "=================================================================\n",
      "Total params: 42,362\n",
      "Trainable params: 42,362\n",
      "Non-trainable params: 0\n",
      "_________________________________________________________________\n"
     ]
    }
   ],
   "source": [
    "# [Your Work] ระบุโครงสร้าง คอมไพล์ และพิมพ์ summary\n",
    "model = keras.Sequential([\n",
    "    keras.layers.Conv2D(8, (3,3), input_shape=(32, 32, 3), activation=tf.nn.relu, padding='same'),\n",
    "    keras.layers.MaxPooling2D(),\n",
    "    keras.layers.Conv2D(16, (3,3), input_shape=(32, 32, 3), activation=tf.nn.relu, padding='same'),\n",
    "    keras.layers.Flatten(),\n",
    "    keras.layers.Dropout(0.50),\n",
    "    keras.layers.Dense(10, activation=tf.nn.softmax)\n",
    "])\n",
    "\n",
    "model.compile(optimizer=keras.optimizers.Adam(), \n",
    "              loss='sparse_categorical_crossentropy',\n",
    "              metrics=['accuracy'])\n",
    "model.summary()"
   ]
  },
  {
   "cell_type": "markdown",
   "metadata": {},
   "source": [
    "ฝึกตัวแบบ 13 ต่อแบบเดียวกับตัวแบบ 12 และเก็บประวัติการฝึกไว้ในตัวแปร h13"
   ]
  },
  {
   "cell_type": "code",
   "execution_count": 68,
   "metadata": {},
   "outputs": [
    {
     "name": "stdout",
     "output_type": "stream",
     "text": [
      "Train on 50000 samples, validate on 10000 samples\n",
      "Epoch 1/20\n",
      "50000/50000 [==============================] - 8s 168us/sample - loss: 1.6119 - acc: 0.4264 - val_loss: 1.4056 - val_acc: 0.5001\n",
      "Epoch 2/20\n",
      "50000/50000 [==============================] - 8s 157us/sample - loss: 1.3594 - acc: 0.5164 - val_loss: 1.3404 - val_acc: 0.5186\n",
      "Epoch 3/20\n",
      "50000/50000 [==============================] - 8s 157us/sample - loss: 1.2928 - acc: 0.5444 - val_loss: 1.2343 - val_acc: 0.5664\n",
      "Epoch 4/20\n",
      "50000/50000 [==============================] - 8s 157us/sample - loss: 1.2478 - acc: 0.5613 - val_loss: 1.2060 - val_acc: 0.5766\n",
      "Epoch 5/20\n",
      "50000/50000 [==============================] - 8s 160us/sample - loss: 1.2118 - acc: 0.5718 - val_loss: 1.1629 - val_acc: 0.5894\n",
      "Epoch 6/20\n",
      "50000/50000 [==============================] - 8s 157us/sample - loss: 1.1840 - acc: 0.5846 - val_loss: 1.1420 - val_acc: 0.5979\n",
      "Epoch 7/20\n",
      "50000/50000 [==============================] - 8s 159us/sample - loss: 1.1576 - acc: 0.5936 - val_loss: 1.1468 - val_acc: 0.5975\n",
      "Epoch 8/20\n",
      "50000/50000 [==============================] - 8s 159us/sample - loss: 1.1412 - acc: 0.5991 - val_loss: 1.0994 - val_acc: 0.6156\n",
      "Epoch 9/20\n",
      "50000/50000 [==============================] - 8s 158us/sample - loss: 1.1223 - acc: 0.6074 - val_loss: 1.1090 - val_acc: 0.6115\n",
      "Epoch 10/20\n",
      "50000/50000 [==============================] - 8s 159us/sample - loss: 1.1048 - acc: 0.6151 - val_loss: 1.0933 - val_acc: 0.6164\n",
      "Epoch 11/20\n",
      "50000/50000 [==============================] - 8s 159us/sample - loss: 1.0953 - acc: 0.6176 - val_loss: 1.0815 - val_acc: 0.6221\n",
      "Epoch 12/20\n",
      "50000/50000 [==============================] - 8s 157us/sample - loss: 1.0822 - acc: 0.6227 - val_loss: 1.0643 - val_acc: 0.6300\n",
      "Epoch 13/20\n",
      "50000/50000 [==============================] - 8s 158us/sample - loss: 1.0686 - acc: 0.6265 - val_loss: 1.0705 - val_acc: 0.6264\n",
      "Epoch 14/20\n",
      "50000/50000 [==============================] - 8s 156us/sample - loss: 1.0568 - acc: 0.6289 - val_loss: 1.0429 - val_acc: 0.6368\n",
      "Epoch 15/20\n",
      "50000/50000 [==============================] - 8s 158us/sample - loss: 1.0537 - acc: 0.6312 - val_loss: 1.0474 - val_acc: 0.6349\n",
      "Epoch 16/20\n",
      "50000/50000 [==============================] - 8s 159us/sample - loss: 1.0418 - acc: 0.6345 - val_loss: 1.0480 - val_acc: 0.6326\n",
      "Epoch 17/20\n",
      "50000/50000 [==============================] - 8s 156us/sample - loss: 1.0358 - acc: 0.6377 - val_loss: 1.0391 - val_acc: 0.6373\n",
      "Epoch 18/20\n",
      "50000/50000 [==============================] - 8s 158us/sample - loss: 1.0291 - acc: 0.6377 - val_loss: 1.0394 - val_acc: 0.6376\n",
      "Epoch 19/20\n",
      "50000/50000 [==============================] - 8s 158us/sample - loss: 1.0208 - acc: 0.6436 - val_loss: 1.0271 - val_acc: 0.6405\n",
      "Epoch 20/20\n",
      "50000/50000 [==============================] - 8s 158us/sample - loss: 1.0203 - acc: 0.6412 - val_loss: 1.0426 - val_acc: 0.6352\n"
     ]
    }
   ],
   "source": [
    "h13 = model.fit(train_images, train_labels, epochs=20 , validation_data=(test_images,test_labels), batch_size=64)"
   ]
  },
  {
   "cell_type": "markdown",
   "metadata": {},
   "source": [
    "เราจะลองนำตัวแบบ 6 มาดัดแปลงอีกรอบ โดยใส่ Batch Normalization สองชั้นในลักษณะเดียวกันกับที่เราทำมาก่อนหน้ากับตัวแบบอื่น ๆ (แต่จะยังไม่ใส่ Dropout)"
   ]
  },
  {
   "cell_type": "code",
   "execution_count": 69,
   "metadata": {},
   "outputs": [
    {
     "name": "stdout",
     "output_type": "stream",
     "text": [
      "_________________________________________________________________\n",
      "Layer (type)                 Output Shape              Param #   \n",
      "=================================================================\n",
      "conv2d_23 (Conv2D)           (None, 32, 32, 32)        896       \n",
      "_________________________________________________________________\n",
      "batch_normalization_v1_8 (Ba (None, 32, 32, 32)        128       \n",
      "_________________________________________________________________\n",
      "max_pooling2d_11 (MaxPooling (None, 16, 16, 32)        0         \n",
      "_________________________________________________________________\n",
      "conv2d_24 (Conv2D)           (None, 16, 16, 64)        18496     \n",
      "_________________________________________________________________\n",
      "batch_normalization_v1_9 (Ba (None, 16, 16, 64)        256       \n",
      "_________________________________________________________________\n",
      "flatten_14 (Flatten)         (None, 16384)             0         \n",
      "_________________________________________________________________\n",
      "dense_16 (Dense)             (None, 10)                163850    \n",
      "=================================================================\n",
      "Total params: 183,626\n",
      "Trainable params: 183,434\n",
      "Non-trainable params: 192\n",
      "_________________________________________________________________\n"
     ]
    }
   ],
   "source": [
    "# [Your Work] ระบุโครงสร้าง คอมไพล์ และพิมพ์ summary\n",
    "model = keras.Sequential([\n",
    "    keras.layers.Conv2D(32, (3,3), input_shape=(32, 32, 3), activation=tf.nn.relu, padding='same'),\n",
    "    keras.layers.BatchNormalization(axis=-1),\n",
    "    keras.layers.MaxPooling2D(),\n",
    "    keras.layers.Conv2D(64, (3,3), input_shape=(32, 32, 3), activation=tf.nn.relu, padding='same'),\n",
    "    keras.layers.BatchNormalization(axis=-1),\n",
    "    keras.layers.Flatten(),\n",
    "    keras.layers.Dense(10, activation=tf.nn.softmax)\n",
    "])\n",
    "\n",
    "model.compile(optimizer=keras.optimizers.Adam(), \n",
    "              loss='sparse_categorical_crossentropy',\n",
    "              metrics=['accuracy'])\n",
    "model.summary()"
   ]
  },
  {
   "cell_type": "markdown",
   "metadata": {},
   "source": [
    "ฝึกตัวแบบ 14 ต่อแบบเดียวกับตัวแบบ 12 และเก็บประวัติการฝึกไว้ในตัวแปร h14"
   ]
  },
  {
   "cell_type": "code",
   "execution_count": 70,
   "metadata": {},
   "outputs": [
    {
     "name": "stdout",
     "output_type": "stream",
     "text": [
      "Train on 50000 samples, validate on 10000 samples\n",
      "Epoch 1/20\n",
      "50000/50000 [==============================] - 20s 396us/sample - loss: 1.6656 - acc: 0.5272 - val_loss: 1.9933 - val_acc: 0.4604\n",
      "Epoch 2/20\n",
      "50000/50000 [==============================] - 19s 381us/sample - loss: 0.9577 - acc: 0.6820 - val_loss: 1.1728 - val_acc: 0.6168\n",
      "Epoch 3/20\n",
      "50000/50000 [==============================] - 19s 382us/sample - loss: 0.7480 - acc: 0.7449 - val_loss: 1.2331 - val_acc: 0.6249\n",
      "Epoch 4/20\n",
      "50000/50000 [==============================] - 19s 382us/sample - loss: 0.6185 - acc: 0.7874 - val_loss: 1.1729 - val_acc: 0.6458\n",
      "Epoch 5/20\n",
      "50000/50000 [==============================] - 19s 382us/sample - loss: 0.5104 - acc: 0.8240 - val_loss: 1.5403 - val_acc: 0.5957\n",
      "Epoch 6/20\n",
      "50000/50000 [==============================] - 19s 380us/sample - loss: 0.4408 - acc: 0.8454 - val_loss: 1.5069 - val_acc: 0.6346\n",
      "Epoch 7/20\n",
      "50000/50000 [==============================] - 19s 382us/sample - loss: 0.3707 - acc: 0.8686 - val_loss: 2.1824 - val_acc: 0.5525\n",
      "Epoch 8/20\n",
      "50000/50000 [==============================] - 19s 383us/sample - loss: 0.3152 - acc: 0.8887 - val_loss: 2.3833 - val_acc: 0.5786\n",
      "Epoch 9/20\n",
      "50000/50000 [==============================] - 19s 382us/sample - loss: 0.2744 - acc: 0.9031 - val_loss: 1.7899 - val_acc: 0.6447\n",
      "Epoch 10/20\n",
      "50000/50000 [==============================] - 19s 383us/sample - loss: 0.2511 - acc: 0.9113 - val_loss: 1.8444 - val_acc: 0.6357\n",
      "Epoch 11/20\n",
      "50000/50000 [==============================] - 19s 382us/sample - loss: 0.2127 - acc: 0.9238 - val_loss: 1.8403 - val_acc: 0.6298\n",
      "Epoch 12/20\n",
      "50000/50000 [==============================] - 19s 381us/sample - loss: 0.1917 - acc: 0.9315 - val_loss: 2.1909 - val_acc: 0.6202\n",
      "Epoch 13/20\n",
      "50000/50000 [==============================] - 19s 384us/sample - loss: 0.1646 - acc: 0.9414 - val_loss: 2.0968 - val_acc: 0.6311\n",
      "Epoch 14/20\n",
      "50000/50000 [==============================] - 19s 389us/sample - loss: 0.1536 - acc: 0.9456 - val_loss: 2.3970 - val_acc: 0.6062\n",
      "Epoch 15/20\n",
      "50000/50000 [==============================] - 19s 383us/sample - loss: 0.1377 - acc: 0.9504 - val_loss: 2.2242 - val_acc: 0.6174\n",
      "Epoch 16/20\n",
      "50000/50000 [==============================] - 19s 383us/sample - loss: 0.1308 - acc: 0.9537 - val_loss: 2.4819 - val_acc: 0.6266\n",
      "Epoch 17/20\n",
      "50000/50000 [==============================] - 19s 385us/sample - loss: 0.1152 - acc: 0.9594 - val_loss: 2.3151 - val_acc: 0.6388\n",
      "Epoch 18/20\n",
      "50000/50000 [==============================] - 19s 385us/sample - loss: 0.1114 - acc: 0.9608 - val_loss: 2.3666 - val_acc: 0.6415\n",
      "Epoch 19/20\n",
      "50000/50000 [==============================] - 19s 386us/sample - loss: 0.1100 - acc: 0.9613 - val_loss: 2.2823 - val_acc: 0.6550\n",
      "Epoch 20/20\n",
      "50000/50000 [==============================] - 19s 385us/sample - loss: 0.0979 - acc: 0.9662 - val_loss: 3.2848 - val_acc: 0.6032\n"
     ]
    }
   ],
   "source": [
    "# [Your Work] fit a model with train images and labels for 20 epochs\n",
    "h14 = model.fit(train_images, train_labels, epochs=20 , validation_data=(test_images,test_labels), batch_size=64)"
   ]
  },
  {
   "cell_type": "markdown",
   "metadata": {},
   "source": [
    "เรายังจะศึกษาการปรับตัวแบบ 6 ต่อไป แต่ครั้งนี้เราจะนำตัวแบบ 14 มาเพิ่ม Dropout สองชั้น โดยมีอัตราการปิดโหนดของแต่ละชั้นร้อยละ 25 และใส่เข้าไปหลังการทำ Batch Normalization"
   ]
  },
  {
   "cell_type": "code",
   "execution_count": 71,
   "metadata": {},
   "outputs": [
    {
     "name": "stdout",
     "output_type": "stream",
     "text": [
      "_________________________________________________________________\n",
      "Layer (type)                 Output Shape              Param #   \n",
      "=================================================================\n",
      "conv2d_25 (Conv2D)           (None, 32, 32, 32)        896       \n",
      "_________________________________________________________________\n",
      "batch_normalization_v1_10 (B (None, 32, 32, 32)        128       \n",
      "_________________________________________________________________\n",
      "dropout_6 (Dropout)          (None, 32, 32, 32)        0         \n",
      "_________________________________________________________________\n",
      "max_pooling2d_12 (MaxPooling (None, 16, 16, 32)        0         \n",
      "_________________________________________________________________\n",
      "conv2d_26 (Conv2D)           (None, 16, 16, 64)        18496     \n",
      "_________________________________________________________________\n",
      "batch_normalization_v1_11 (B (None, 16, 16, 64)        256       \n",
      "_________________________________________________________________\n",
      "dropout_7 (Dropout)          (None, 16, 16, 64)        0         \n",
      "_________________________________________________________________\n",
      "flatten_15 (Flatten)         (None, 16384)             0         \n",
      "_________________________________________________________________\n",
      "dense_17 (Dense)             (None, 10)                163850    \n",
      "=================================================================\n",
      "Total params: 183,626\n",
      "Trainable params: 183,434\n",
      "Non-trainable params: 192\n",
      "_________________________________________________________________\n"
     ]
    }
   ],
   "source": [
    "# [Your Work] ระบุโครงสร้าง คอมไพล์ และพิมพ์ summary\n",
    "model = keras.Sequential([\n",
    "    keras.layers.Conv2D(32, (3,3), input_shape=(32, 32, 3), activation=tf.nn.relu, padding='same'),\n",
    "    keras.layers.BatchNormalization(axis=-1),\n",
    "    keras.layers.Dropout(0.25),\n",
    "    keras.layers.MaxPooling2D(),\n",
    "    keras.layers.Conv2D(64, (3,3), input_shape=(32, 32, 3), activation=tf.nn.relu, padding='same'),\n",
    "    keras.layers.BatchNormalization(axis=-1),\n",
    "    keras.layers.Dropout(0.25),\n",
    "    keras.layers.Flatten(),\n",
    "    keras.layers.Dense(10, activation=tf.nn.softmax)\n",
    "])\n",
    "\n",
    "model.compile(optimizer=keras.optimizers.Adam(), \n",
    "              loss='sparse_categorical_crossentropy',\n",
    "              metrics=['accuracy'])\n",
    "model.summary()"
   ]
  },
  {
   "cell_type": "markdown",
   "metadata": {},
   "source": [
    "ฝึกตัวแบบ 15 ต่อแบบเดียวกับตัวแบบ 12 และเก็บประวัติการฝึกไว้ในตัวแปร h15"
   ]
  },
  {
   "cell_type": "code",
   "execution_count": 72,
   "metadata": {},
   "outputs": [
    {
     "name": "stdout",
     "output_type": "stream",
     "text": [
      "Train on 50000 samples, validate on 10000 samples\n",
      "Epoch 1/20\n",
      "50000/50000 [==============================] - 28s 569us/sample - loss: 1.8603 - acc: 0.4824 - val_loss: 2.6788 - val_acc: 0.4468\n",
      "Epoch 2/20\n",
      "50000/50000 [==============================] - 28s 557us/sample - loss: 1.1270 - acc: 0.6245 - val_loss: 2.6617 - val_acc: 0.4655\n",
      "Epoch 3/20\n",
      "50000/50000 [==============================] - 28s 555us/sample - loss: 0.9329 - acc: 0.6777 - val_loss: 2.0780 - val_acc: 0.5350\n",
      "Epoch 4/20\n",
      "50000/50000 [==============================] - 28s 556us/sample - loss: 0.8214 - acc: 0.7146 - val_loss: 1.3015 - val_acc: 0.6103\n",
      "Epoch 5/20\n",
      "50000/50000 [==============================] - 28s 555us/sample - loss: 0.7607 - acc: 0.7353 - val_loss: 1.1635 - val_acc: 0.6421\n",
      "Epoch 6/20\n",
      "50000/50000 [==============================] - 28s 556us/sample - loss: 0.7112 - acc: 0.7513 - val_loss: 1.3879 - val_acc: 0.5977\n",
      "Epoch 7/20\n",
      "50000/50000 [==============================] - 28s 552us/sample - loss: 0.6673 - acc: 0.7673 - val_loss: 1.5646 - val_acc: 0.5924\n",
      "Epoch 8/20\n",
      "50000/50000 [==============================] - 28s 553us/sample - loss: 0.6273 - acc: 0.7791 - val_loss: 1.2637 - val_acc: 0.5980\n",
      "Epoch 9/20\n",
      "50000/50000 [==============================] - 28s 552us/sample - loss: 0.5974 - acc: 0.7895 - val_loss: 1.5451 - val_acc: 0.6311\n",
      "Epoch 10/20\n",
      "50000/50000 [==============================] - 28s 556us/sample - loss: 0.5686 - acc: 0.8000 - val_loss: 1.6019 - val_acc: 0.6170\n",
      "Epoch 11/20\n",
      "50000/50000 [==============================] - 28s 555us/sample - loss: 0.5367 - acc: 0.8108 - val_loss: 1.8613 - val_acc: 0.5987\n",
      "Epoch 12/20\n",
      "50000/50000 [==============================] - 28s 555us/sample - loss: 0.5175 - acc: 0.8152 - val_loss: 2.0632 - val_acc: 0.5914\n",
      "Epoch 13/20\n",
      "50000/50000 [==============================] - 28s 557us/sample - loss: 0.4954 - acc: 0.8222 - val_loss: 1.2917 - val_acc: 0.6665\n",
      "Epoch 14/20\n",
      "50000/50000 [==============================] - 28s 555us/sample - loss: 0.4692 - acc: 0.8347 - val_loss: 2.1110 - val_acc: 0.5785\n",
      "Epoch 15/20\n",
      "50000/50000 [==============================] - 28s 556us/sample - loss: 0.4614 - acc: 0.8347 - val_loss: 1.6577 - val_acc: 0.6194\n",
      "Epoch 16/20\n",
      "50000/50000 [==============================] - 28s 554us/sample - loss: 0.4459 - acc: 0.8408 - val_loss: 1.1198 - val_acc: 0.6802\n",
      "Epoch 17/20\n",
      "50000/50000 [==============================] - 28s 555us/sample - loss: 0.4231 - acc: 0.8480 - val_loss: 1.3834 - val_acc: 0.6526\n",
      "Epoch 18/20\n",
      "50000/50000 [==============================] - 28s 556us/sample - loss: 0.4158 - acc: 0.8505 - val_loss: 1.7860 - val_acc: 0.6175\n",
      "Epoch 19/20\n",
      "50000/50000 [==============================] - 28s 555us/sample - loss: 0.3974 - acc: 0.8562 - val_loss: 1.5718 - val_acc: 0.6520\n",
      "Epoch 20/20\n",
      "50000/50000 [==============================] - 28s 555us/sample - loss: 0.3920 - acc: 0.8591 - val_loss: 1.3475 - val_acc: 0.6390\n"
     ]
    }
   ],
   "source": [
    "# [Your Work] fit a model with train images and labels for 20 epochs\n",
    "h15 = model.fit(train_images, train_labels, epochs=20 , validation_data=(test_images,test_labels), batch_size=64)"
   ]
  },
  {
   "cell_type": "markdown",
   "metadata": {},
   "source": [
    "เอาล่ะ เราจะลองสร้างตัวแบบอันสุดท้ายแล้ว ซึ่งความแตกต่างจากตัวแบบที่แล้วก็คือว่า เราจะใส่ชั้น Dropout เพียงชั้นเดียวหลังจากทำ Batch Normalization ครั้งสุดท้าย และกำหนดให้มีอัตราการปิดโหนดที่ร้อยละ 50"
   ]
  },
  {
   "cell_type": "code",
   "execution_count": 73,
   "metadata": {},
   "outputs": [
    {
     "name": "stdout",
     "output_type": "stream",
     "text": [
      "_________________________________________________________________\n",
      "Layer (type)                 Output Shape              Param #   \n",
      "=================================================================\n",
      "conv2d_27 (Conv2D)           (None, 32, 32, 32)        896       \n",
      "_________________________________________________________________\n",
      "batch_normalization_v1_12 (B (None, 32, 32, 32)        128       \n",
      "_________________________________________________________________\n",
      "max_pooling2d_13 (MaxPooling (None, 16, 16, 32)        0         \n",
      "_________________________________________________________________\n",
      "conv2d_28 (Conv2D)           (None, 16, 16, 64)        18496     \n",
      "_________________________________________________________________\n",
      "batch_normalization_v1_13 (B (None, 16, 16, 64)        256       \n",
      "_________________________________________________________________\n",
      "dropout_8 (Dropout)          (None, 16, 16, 64)        0         \n",
      "_________________________________________________________________\n",
      "flatten_16 (Flatten)         (None, 16384)             0         \n",
      "_________________________________________________________________\n",
      "dense_18 (Dense)             (None, 10)                163850    \n",
      "=================================================================\n",
      "Total params: 183,626\n",
      "Trainable params: 183,434\n",
      "Non-trainable params: 192\n",
      "_________________________________________________________________\n"
     ]
    }
   ],
   "source": [
    "# [Your Work] ระบุโครงสร้าง คอมไพล์ และพิมพ์ summary\n",
    "model = keras.Sequential([\n",
    "    keras.layers.Conv2D(32, (3,3), input_shape=(32, 32, 3), activation=tf.nn.relu, padding='same'),\n",
    "    keras.layers.BatchNormalization(axis=-1),\n",
    "    keras.layers.MaxPooling2D(),\n",
    "    keras.layers.Conv2D(64, (3,3), input_shape=(32, 32, 3), activation=tf.nn.relu, padding='same'),\n",
    "    keras.layers.BatchNormalization(axis=-1),\n",
    "    keras.layers.Dropout(0.50),\n",
    "    keras.layers.Flatten(),\n",
    "    keras.layers.Dense(10, activation=tf.nn.softmax)\n",
    "])\n",
    "\n",
    "model.compile(optimizer=keras.optimizers.Adam(), \n",
    "              loss='sparse_categorical_crossentropy',\n",
    "              metrics=['accuracy'])\n",
    "model.summary()"
   ]
  },
  {
   "cell_type": "markdown",
   "metadata": {},
   "source": [
    "ฝึกตัวแบบ 16 ต่อแบบเดียวกับตัวแบบ 12 และเก็บประวัติการฝึกไว้ในตัวแปร h16"
   ]
  },
  {
   "cell_type": "code",
   "execution_count": 74,
   "metadata": {},
   "outputs": [
    {
     "name": "stdout",
     "output_type": "stream",
     "text": [
      "Train on 50000 samples, validate on 10000 samples\n",
      "Epoch 1/20\n",
      "50000/50000 [==============================] - 23s 454us/sample - loss: 2.1539 - acc: 0.4560 - val_loss: 1.2658 - val_acc: 0.5749\n",
      "Epoch 2/20\n",
      "50000/50000 [==============================] - 22s 437us/sample - loss: 1.2453 - acc: 0.5942 - val_loss: 1.2514 - val_acc: 0.5794\n",
      "Epoch 3/20\n",
      "50000/50000 [==============================] - 22s 436us/sample - loss: 0.9907 - acc: 0.6596 - val_loss: 1.0544 - val_acc: 0.6372\n",
      "Epoch 4/20\n",
      "50000/50000 [==============================] - 22s 436us/sample - loss: 0.8913 - acc: 0.6917 - val_loss: 1.0331 - val_acc: 0.6518\n",
      "Epoch 5/20\n",
      "50000/50000 [==============================] - 22s 436us/sample - loss: 0.8387 - acc: 0.7073 - val_loss: 0.9856 - val_acc: 0.6621\n",
      "Epoch 6/20\n",
      "50000/50000 [==============================] - 22s 435us/sample - loss: 0.7949 - acc: 0.7214 - val_loss: 0.8927 - val_acc: 0.6953\n",
      "Epoch 7/20\n",
      "50000/50000 [==============================] - 22s 435us/sample - loss: 0.7597 - acc: 0.7350 - val_loss: 1.1686 - val_acc: 0.6304\n",
      "Epoch 8/20\n",
      "50000/50000 [==============================] - 22s 435us/sample - loss: 0.7331 - acc: 0.7435 - val_loss: 1.0163 - val_acc: 0.6553\n",
      "Epoch 9/20\n",
      "50000/50000 [==============================] - 22s 435us/sample - loss: 0.6984 - acc: 0.7569 - val_loss: 0.9599 - val_acc: 0.6776\n",
      "Epoch 10/20\n",
      "50000/50000 [==============================] - 22s 437us/sample - loss: 0.6783 - acc: 0.7634 - val_loss: 0.8766 - val_acc: 0.7041\n",
      "Epoch 11/20\n",
      "50000/50000 [==============================] - 22s 437us/sample - loss: 0.6560 - acc: 0.7700 - val_loss: 0.8798 - val_acc: 0.7098\n",
      "Epoch 12/20\n",
      "50000/50000 [==============================] - 22s 438us/sample - loss: 0.6294 - acc: 0.7777 - val_loss: 1.0127 - val_acc: 0.6742\n",
      "Epoch 13/20\n",
      "50000/50000 [==============================] - 22s 436us/sample - loss: 0.6155 - acc: 0.7829 - val_loss: 0.8934 - val_acc: 0.7075\n",
      "Epoch 14/20\n",
      "50000/50000 [==============================] - 22s 438us/sample - loss: 0.5973 - acc: 0.7894 - val_loss: 0.8684 - val_acc: 0.7111\n",
      "Epoch 15/20\n",
      "50000/50000 [==============================] - 22s 440us/sample - loss: 0.5800 - acc: 0.7949 - val_loss: 0.8388 - val_acc: 0.7232\n",
      "Epoch 16/20\n",
      "50000/50000 [==============================] - 22s 436us/sample - loss: 0.5644 - acc: 0.8006 - val_loss: 1.9973 - val_acc: 0.5188\n",
      "Epoch 17/20\n",
      "50000/50000 [==============================] - 22s 437us/sample - loss: 0.5509 - acc: 0.8043 - val_loss: 0.9269 - val_acc: 0.6990\n",
      "Epoch 18/20\n",
      "50000/50000 [==============================] - 22s 438us/sample - loss: 0.5416 - acc: 0.8076 - val_loss: 0.9187 - val_acc: 0.7075\n",
      "Epoch 19/20\n",
      "50000/50000 [==============================] - 22s 437us/sample - loss: 0.5300 - acc: 0.8130 - val_loss: 0.9930 - val_acc: 0.6910\n",
      "Epoch 20/20\n",
      "50000/50000 [==============================] - 22s 437us/sample - loss: 0.5194 - acc: 0.8157 - val_loss: 1.0556 - val_acc: 0.6768\n"
     ]
    }
   ],
   "source": [
    "# [Your Work] fit a model with train images and labels for 20 epochs\n",
    "h16 = model.fit(train_images, train_labels, epochs=20 , validation_data=(test_images,test_labels), batch_size=64)"
   ]
  },
  {
   "cell_type": "markdown",
   "metadata": {},
   "source": [
    "### <a id='p4C'/> งานที่ 4.C: วิเคราะห์ผลลัพธ์ที่ได้เพื่อศึกษาผลกระทบต่อการใช้ Dropout ในรูปแบบต่าง ๆ\n",
    "ตอนนี้เรามีข้อมูลเชิงตัวเลขอยู่เต็มไปหมด เพื่อให้เราวิเคราะห์ผลลัพธ์ได้โดยง่าย เราจะมุ่งเน้นหาค่าสถิติที่สำคัญออกมา ซึ่งอันดับแรกเราจะพิมพ์ความแม่นยำสูงสุดในชุดข้อมูลทดสอบที่ตัวแบบ 6, 12, 13, ..., 16 ทำได้ (ใช้ print(np.max ..) เช่นเดียวกับที่เคยทำมาก่อน)"
   ]
  },
  {
   "cell_type": "code",
   "execution_count": 77,
   "metadata": {},
   "outputs": [
    {
     "name": "stdout",
     "output_type": "stream",
     "text": [
      "0.6891\n",
      "0.6426\n",
      "0.6405\n",
      "0.655\n",
      "0.6802\n",
      "0.7232\n"
     ]
    }
   ],
   "source": [
    "# [ํYour Work]\n",
    "print(np.max(h6.history[\"val_acc\"]))\n",
    "print(np.max(h12.history[\"val_acc\"]))\n",
    "print(np.max(h13.history[\"val_acc\"]))\n",
    "print(np.max(h14.history[\"val_acc\"]))\n",
    "print(np.max(h15.history[\"val_acc\"]))\n",
    "print(np.max(h16.history[\"val_acc\"]))"
   ]
  },
  {
   "cell_type": "markdown",
   "metadata": {},
   "source": [
    "จะวาดกราฟทั้งหมดจากตัวแบบ 6 ตัวก็จะได้กราฟ 12 เส้น แบบนี้คงจะทำให้อ่านกราฟลำบาก ดังนั้นเราจะเน้นดึงค่าสถิติที่น่าสนใจออกมาแทน ซึ่งหากเราอยากศึกษาว่าปัญหา โอเวอร์ฟิตติงนั้นลดลงไปเพียงใด เราอาจจะนำความแม่นยำสูงสุดในข้อมูลฝึกลบด้วยความแม่นยำสูงสุดในข้อมูลทดสอบ \n",
    "\n",
    "เมื่อทำแบบนี้กับทั้ง 6 ตัวแบบ เราก็จะทราบได้ว่าช่องว่างของความแม่นยำระหว่างฝึกกับการทดสอบมีมากเพียงใด"
   ]
  },
  {
   "cell_type": "code",
   "execution_count": 78,
   "metadata": {},
   "outputs": [
    {
     "name": "stdout",
     "output_type": "stream",
     "text": [
      "model 6: 0.2649\n",
      "model 12: 0.0312\n",
      "model 13: 0.0031\n",
      "model 14: 0.3112\n",
      "model 15: 0.1789\n",
      "model 16: 0.0925\n"
     ]
    }
   ],
   "source": [
    "print(\"model 6: {:0.4f}\".format(np.max(h6.history['acc']) - np.max(h6.history['val_acc'])))\n",
    "print(\"model 12: {:0.4f}\".format(np.max(h12.history['acc']) - np.max(h12.history['val_acc'])))\n",
    "print(\"model 13: {:0.4f}\".format(np.max(h13.history['acc']) - np.max(h13.history['val_acc'])))\n",
    "print(\"model 14: {:0.4f}\".format(np.max(h14.history['acc']) - np.max(h14.history['val_acc'])))\n",
    "print(\"model 15: {:0.4f}\".format(np.max(h15.history['acc']) - np.max(h15.history['val_acc'])))\n",
    "print(\"model 16: {:0.4f}\".format(np.max(h16.history['acc']) - np.max(h16.history['val_acc'])))"
   ]
  },
  {
   "cell_type": "markdown",
   "metadata": {},
   "source": [
    "เตรียมข้อมูลเส้นกราฟความแม่นยำในชุดข้อมูลทดสอบของตัวแบบ 12 ถึง 16 เสร็จแล้ววาดกราฟความแม่นยำนี้ออกมาพร้อมกับความแม่นยำของตัวแบบ 6"
   ]
  },
  {
   "cell_type": "code",
   "execution_count": 79,
   "metadata": {},
   "outputs": [
    {
     "data": {
      "application/vnd.plotly.v1+json": {
       "config": {
        "linkText": "Export to plot.ly",
        "plotlyServerURL": "https://plot.ly",
        "responsive": true,
        "showLink": false
       },
       "data": [
        {
         "mode": "lines+markers",
         "name": "test12",
         "type": "scatter",
         "uid": "305ebd40-0ee8-4444-801b-7f57b389c131",
         "x": [
          1,
          2,
          3,
          4,
          5,
          6,
          7,
          8,
          9,
          10,
          11,
          12,
          13,
          14,
          15,
          16,
          17,
          18,
          19,
          20
         ],
         "y": [
          0.5135999917984009,
          0.5514000058174133,
          0.5827000141143799,
          0.5907999873161316,
          0.593500018119812,
          0.5882999897003174,
          0.6140000224113464,
          0.6168000102043152,
          0.6097999811172485,
          0.628000020980835,
          0.6057999730110168,
          0.6259999871253967,
          0.5907999873161316,
          0.6384000182151794,
          0.6263999938964844,
          0.6342999935150146,
          0.6333000063896179,
          0.6327999830245972,
          0.6366999745368958,
          0.6425999999046326
         ]
        },
        {
         "mode": "lines+markers",
         "name": "test13",
         "type": "scatter",
         "uid": "f039be51-8553-42d1-a7a1-7c6f67338494",
         "x": [
          1,
          2,
          3,
          4,
          5,
          6,
          7,
          8,
          9,
          10,
          11,
          12,
          13,
          14,
          15,
          16,
          17,
          18,
          19,
          20
         ],
         "y": [
          0.5001000165939331,
          0.5185999870300293,
          0.5663999915122986,
          0.5766000151634216,
          0.5893999934196472,
          0.5978999733924866,
          0.5975000262260437,
          0.6155999898910522,
          0.6115000247955322,
          0.6164000034332275,
          0.6220999956130981,
          0.6299999952316284,
          0.6263999938964844,
          0.6367999911308289,
          0.6348999738693237,
          0.6326000094413757,
          0.6373000144958496,
          0.6376000046730042,
          0.640500009059906,
          0.635200023651123
         ]
        },
        {
         "mode": "lines+markers",
         "name": "test14",
         "type": "scatter",
         "uid": "5cba6270-0209-402a-a91f-d38e230a0e73",
         "x": [
          1,
          2,
          3,
          4,
          5,
          6,
          7,
          8,
          9,
          10,
          11,
          12,
          13,
          14,
          15,
          16,
          17,
          18,
          19,
          20
         ],
         "y": [
          0.4603999853134155,
          0.6168000102043152,
          0.6248999834060669,
          0.645799994468689,
          0.5957000255584717,
          0.6345999836921692,
          0.5525000095367432,
          0.5785999894142151,
          0.6446999907493591,
          0.635699987411499,
          0.629800021648407,
          0.620199978351593,
          0.6310999989509583,
          0.6061999797821045,
          0.6173999905586243,
          0.6266000270843506,
          0.6388000249862671,
          0.6414999961853027,
          0.6549999713897705,
          0.6032000184059143
         ]
        },
        {
         "mode": "lines+markers",
         "name": "test15",
         "type": "scatter",
         "uid": "94036962-bdaa-4bfa-a6e6-203ff57322dc",
         "x": [
          1,
          2,
          3,
          4,
          5,
          6,
          7,
          8,
          9,
          10,
          11,
          12,
          13,
          14,
          15,
          16,
          17,
          18,
          19,
          20
         ],
         "y": [
          0.44679999351501465,
          0.46549999713897705,
          0.5350000262260437,
          0.6103000044822693,
          0.6420999765396118,
          0.5976999998092651,
          0.5924000144004822,
          0.5979999899864197,
          0.6310999989509583,
          0.6169999837875366,
          0.5986999869346619,
          0.5914000272750854,
          0.6664999723434448,
          0.578499972820282,
          0.6194000244140625,
          0.6801999807357788,
          0.6525999903678894,
          0.6175000071525574,
          0.6520000100135803,
          0.6389999985694885
         ]
        },
        {
         "mode": "lines+markers",
         "name": "test16",
         "type": "scatter",
         "uid": "8e6fb182-0599-4683-bbc0-89459c0fa499",
         "x": [
          1,
          2,
          3,
          4,
          5,
          6,
          7,
          8,
          9,
          10,
          11,
          12,
          13,
          14,
          15,
          16,
          17,
          18,
          19,
          20
         ],
         "y": [
          0.5748999714851379,
          0.5794000029563904,
          0.6371999979019165,
          0.6517999768257141,
          0.6621000170707703,
          0.6952999830245972,
          0.6304000020027161,
          0.6553000211715698,
          0.6776000261306763,
          0.7041000127792358,
          0.7098000049591064,
          0.6741999983787537,
          0.7074999809265137,
          0.7110999822616577,
          0.7232000231742859,
          0.5188000202178955,
          0.6990000009536743,
          0.7074999809265137,
          0.6909999847412109,
          0.676800012588501
         ]
        }
       ],
       "layout": {
        "autosize": true,
        "xaxis": {
         "autorange": true,
         "range": [
          -0.20523728493098847,
          21.205237284930988
         ],
         "type": "linear"
        },
        "yaxis": {
         "autorange": true,
         "range": [
          0.42399028232954084,
          0.7460097343597597
         ],
         "type": "linear"
        }
       }
      },
      "image/png": "[encoded data removed]",
      "text/html": [
       "<div>\n",
       "        \n",
       "        \n",
       "            <div id=\"c650f87d-9197-4e3a-a026-4939f6aa448d\" class=\"plotly-graph-div\" style=\"height:525px; width:100%;\"></div>\n",
       "            <script type=\"text/javascript\">\n",
       "                require([\"plotly\"], function(Plotly) {\n",
       "                    window.PLOTLYENV=window.PLOTLYENV || {};\n",
       "                    window.PLOTLYENV.BASE_URL='https://plot.ly';\n",
       "                    \n",
       "                if (document.getElementById(\"c650f87d-9197-4e3a-a026-4939f6aa448d\")) {\n",
       "                    Plotly.newPlot(\n",
       "                        'c650f87d-9197-4e3a-a026-4939f6aa448d',\n",
       "                        [{\"mode\": \"lines+markers\", \"name\": \"test12\", \"type\": \"scatter\", \"uid\": \"70f44612-1513-4114-8fd5-8fc07c4d74a7\", \"x\": [1.0, 2.0, 3.0, 4.0, 5.0, 6.0, 7.0, 8.0, 9.0, 10.0, 11.0, 12.0, 13.0, 14.0, 15.0, 16.0, 17.0, 18.0, 19.0, 20.0], \"y\": [0.5135999917984009, 0.5514000058174133, 0.5827000141143799, 0.5907999873161316, 0.593500018119812, 0.5882999897003174, 0.6140000224113464, 0.6168000102043152, 0.6097999811172485, 0.628000020980835, 0.6057999730110168, 0.6259999871253967, 0.5907999873161316, 0.6384000182151794, 0.6263999938964844, 0.6342999935150146, 0.6333000063896179, 0.6327999830245972, 0.6366999745368958, 0.6425999999046326]}, {\"mode\": \"lines+markers\", \"name\": \"test13\", \"type\": \"scatter\", \"uid\": \"0c0baf8b-0426-4602-afcd-75d1bb337edf\", \"x\": [1.0, 2.0, 3.0, 4.0, 5.0, 6.0, 7.0, 8.0, 9.0, 10.0, 11.0, 12.0, 13.0, 14.0, 15.0, 16.0, 17.0, 18.0, 19.0, 20.0], \"y\": [0.5001000165939331, 0.5185999870300293, 0.5663999915122986, 0.5766000151634216, 0.5893999934196472, 0.5978999733924866, 0.5975000262260437, 0.6155999898910522, 0.6115000247955322, 0.6164000034332275, 0.6220999956130981, 0.6299999952316284, 0.6263999938964844, 0.6367999911308289, 0.6348999738693237, 0.6326000094413757, 0.6373000144958496, 0.6376000046730042, 0.640500009059906, 0.635200023651123]}, {\"mode\": \"lines+markers\", \"name\": \"test14\", \"type\": \"scatter\", \"uid\": \"c27b7865-b850-445f-9205-e87aac7a9d3a\", \"x\": [1.0, 2.0, 3.0, 4.0, 5.0, 6.0, 7.0, 8.0, 9.0, 10.0, 11.0, 12.0, 13.0, 14.0, 15.0, 16.0, 17.0, 18.0, 19.0, 20.0], \"y\": [0.4603999853134155, 0.6168000102043152, 0.6248999834060669, 0.645799994468689, 0.5957000255584717, 0.6345999836921692, 0.5525000095367432, 0.5785999894142151, 0.6446999907493591, 0.635699987411499, 0.629800021648407, 0.620199978351593, 0.6310999989509583, 0.6061999797821045, 0.6173999905586243, 0.6266000270843506, 0.6388000249862671, 0.6414999961853027, 0.6549999713897705, 0.6032000184059143]}, {\"mode\": \"lines+markers\", \"name\": \"test15\", \"type\": \"scatter\", \"uid\": \"ea8bacbb-049e-4b1b-8a3a-9a1fc6bab670\", \"x\": [1.0, 2.0, 3.0, 4.0, 5.0, 6.0, 7.0, 8.0, 9.0, 10.0, 11.0, 12.0, 13.0, 14.0, 15.0, 16.0, 17.0, 18.0, 19.0, 20.0], \"y\": [0.44679999351501465, 0.46549999713897705, 0.5350000262260437, 0.6103000044822693, 0.6420999765396118, 0.5976999998092651, 0.5924000144004822, 0.5979999899864197, 0.6310999989509583, 0.6169999837875366, 0.5986999869346619, 0.5914000272750854, 0.6664999723434448, 0.578499972820282, 0.6194000244140625, 0.6801999807357788, 0.6525999903678894, 0.6175000071525574, 0.6520000100135803, 0.6389999985694885]}, {\"mode\": \"lines+markers\", \"name\": \"test16\", \"type\": \"scatter\", \"uid\": \"8b134f5d-ca32-4f21-b314-4f36637989b9\", \"x\": [1.0, 2.0, 3.0, 4.0, 5.0, 6.0, 7.0, 8.0, 9.0, 10.0, 11.0, 12.0, 13.0, 14.0, 15.0, 16.0, 17.0, 18.0, 19.0, 20.0], \"y\": [0.5748999714851379, 0.5794000029563904, 0.6371999979019165, 0.6517999768257141, 0.6621000170707703, 0.6952999830245972, 0.6304000020027161, 0.6553000211715698, 0.6776000261306763, 0.7041000127792358, 0.7098000049591064, 0.6741999983787537, 0.7074999809265137, 0.7110999822616577, 0.7232000231742859, 0.5188000202178955, 0.6990000009536743, 0.7074999809265137, 0.6909999847412109, 0.676800012588501]}],\n",
       "                        {},\n",
       "                        {\"showLink\": false, \"linkText\": \"Export to plot.ly\", \"plotlyServerURL\": \"https://plot.ly\", \"responsive\": true}\n",
       "                    ).then(function(){\n",
       "                            \n",
       "var gd = document.getElementById('c650f87d-9197-4e3a-a026-4939f6aa448d');\n",
       "var x = new MutationObserver(function (mutations, observer) {{\n",
       "        var display = window.getComputedStyle(gd).display;\n",
       "        if (!display || display === 'none') {{\n",
       "            console.log([gd, 'removed!']);\n",
       "            Plotly.purge(gd);\n",
       "            observer.disconnect();\n",
       "        }}\n",
       "}});\n",
       "\n",
       "// Listen for the removal of the full notebook cells\n",
       "var notebookContainer = gd.closest('#notebook-container');\n",
       "if (notebookContainer) {{\n",
       "    x.observe(notebookContainer, {childList: true});\n",
       "}}\n",
       "\n",
       "// Listen for the clearing of the current output cell\n",
       "var outputEl = gd.closest('.output');\n",
       "if (outputEl) {{\n",
       "    x.observe(outputEl, {childList: true});\n",
       "}}\n",
       "\n",
       "                        })\n",
       "                };\n",
       "                });\n",
       "            </script>\n",
       "        </div>"
      ]
     },
     "metadata": {},
     "output_type": "display_data"
    }
   ],
   "source": [
    "# [ํYour Work]\n",
    "test_acc_trace12 = go.Scatter(\n",
    "    x = epochs_x2,\n",
    "    y = h12.history['val_acc'],\n",
    "    mode = 'lines+markers',\n",
    "    name = 'test12'\n",
    ")\n",
    "\n",
    "test_acc_trace13 = go.Scatter(\n",
    "    x = epochs_x2,\n",
    "    y = h13.history['val_acc'],\n",
    "    mode = 'lines+markers',\n",
    "    name = 'test13'\n",
    ")\n",
    "\n",
    "test_acc_trace14 = go.Scatter(\n",
    "    x = epochs_x2,\n",
    "    y = h14.history['val_acc'],\n",
    "    mode = 'lines+markers',\n",
    "    name = 'test14'\n",
    ")\n",
    "\n",
    "test_acc_trace15 = go.Scatter(\n",
    "    x = epochs_x2,\n",
    "    y = h15.history['val_acc'],\n",
    "    mode = 'lines+markers',\n",
    "    name = 'test15'\n",
    ")\n",
    "\n",
    "test_acc_trace16 = go.Scatter(\n",
    "    x = epochs_x2,\n",
    "    y = h16.history['val_acc'],\n",
    "    mode = 'lines+markers',\n",
    "    name = 'test16'\n",
    ")\n",
    "\n",
    "iplot([test_acc_trace12, test_acc_trace13, test_acc_trace14, test_acc_trace15, test_acc_trace16])"
   ]
  },
  {
   "cell_type": "markdown",
   "metadata": {},
   "source": [
    "### Quick Quiz 4C: อภิปรายผลกระทบจากการใช้ Dropout"
   ]
  },
  {
   "cell_type": "markdown",
   "metadata": {},
   "source": [
    "**ประเด็นแรก** จาก[งาน 4.A](#p4A) คุณคิดว่าแนวโน้มในระยะยาว (คือเกินกว่า 20 epochs ที่เราทดลองอยู่นี้) ความแม่นยำในชุดทดสอบของตัวแบบ 11 จะดีกว่าของตัวแบบ 9 หรือไม่ จงอภิปรายเหตุผลที่คุณเชื่อเช่นนั้นจากการผลทดลองที่ได้  (ผลการทดลองของแต่ละคนอาจจะไม่เหมือนกัน ข้อนี้อย่าลอกแบบไม่คิดมาเป็นอันขาด)"
   ]
  },
  {
   "cell_type": "markdown",
   "metadata": {},
   "source": [
    "(พื้นที่สำหรับตอบคำถาม) <br/><br/>\n",
    "ดีกว่าเพราะ 11 มีการใช้drop out \n"
   ]
  },
  {
   "cell_type": "markdown",
   "metadata": {},
   "source": [
    "**ประเด็นที่สอง** จากผลการทดลองใน[งาน 4.B](#p4B) และผลลัพธ์ที่เห็นใน[งาน 4.C](#p4C) คุณเห็นด้วยหรือเห็นต่างจากจาก[แนวทางการใช้ Dropout 4 ข้อ](#d4guide)ที่ให้ไว้ตอนต้นของงานที่ 4 อย่างไรบ้าง จงอภิปรายเหตุผลโดยอ้างอิงจากการทดลองที่คุณได้รับ"
   ]
  },
  {
   "cell_type": "markdown",
   "metadata": {},
   "source": [
    "(พื้นที่สำหรับตอบคำถาม) <br/><br/>\n",
    "เห็นด้วย เพราะ ค่าtrian และ test มีผลต่างที่น้อย และได้ค่าtest สูง"
   ]
  },
  {
   "cell_type": "markdown",
   "metadata": {},
   "source": [
    "**ประเด็นที่สาม** จากผลการทดลองในงานที่ 4 ทั้งหมด (ทั้ง A, B, C) คุณคิดว่าการใช้ Dropout ร่วมกับ Batch Normalization ให้ผลลัพธ์ที่คงเส้นคงวาหรือไม่ จงอธิบายเหตุผลและข้อสังเกตที่พบในผลลัพธ์ที่สนับสนุนความคิดเห็นของคุณ"
   ]
  },
  {
   "cell_type": "markdown",
   "metadata": {},
   "source": [
    "(พื้นที่สำหรับตอบคำถาม) <br/><br/>\n",
    "ไม่ เพราะจากกราฟ test16 มีค่าที่สูงและต่ำไปมา แต่ก็ได้ผลลัพธ์สุดท้ายสูงกว่าแบบอื่นที่ไม่ใช้ด้วยกัน"
   ]
  },
  {
   "cell_type": "markdown",
   "metadata": {},
   "source": [
    "--เสร็จแล้ว เย้"
   ]
  }
 ],
 "metadata": {
  "kernelspec": {
   "display_name": "Python 3",
   "language": "python",
   "name": "python3"
  },
  "language_info": {
   "codemirror_mode": {
    "name": "ipython",
    "version": 3
   },
   "file_extension": ".py",
   "mimetype": "text/x-python",
   "name": "python",
   "nbconvert_exporter": "python",
   "pygments_lexer": "ipython3",
   "version": "3.6.8"
  }
 },
 "nbformat": 4,
 "nbformat_minor": 4
}
